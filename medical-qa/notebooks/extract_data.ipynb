{
 "cells": [
  {
   "cell_type": "code",
   "execution_count": 1,
   "metadata": {
    "ExecuteTime": {
     "end_time": "2023-10-17T17:52:57.877617800Z",
     "start_time": "2023-10-17T17:52:57.874618300Z"
    },
    "collapsed": true
   },
   "outputs": [],
   "source": [
    "import datasets\n",
    "import pandas as pd\n",
    "import os\n",
    "\n",
    "datasets.logging.set_verbosity_error()\n",
    "datasets.logging.disable_progress_bar()"
   ]
  },
  {
   "cell_type": "code",
   "execution_count": 2,
   "metadata": {
    "ExecuteTime": {
     "end_time": "2023-10-17T17:53:02.253737700Z",
     "start_time": "2023-10-17T17:53:02.239203400Z"
    },
    "collapsed": false
   },
   "outputs": [],
   "source": [
    "def save_medical_dataset_as_csv(dataset, set_type):\n",
    "    dataset_df = dataset.to_pandas()\n",
    "    dataset_df = dataset_df.drop(['document_id', 'is_impossible', 'id'], axis=1)\n",
    "\n",
    "    path = './../data/datasets/medical'\n",
    "    dir_exists = os.path.exists(path)\n",
    "    if not dir_exists:\n",
    "        os.makedirs(path)\n",
    "    dataset_df.to_csv(f'{path}/{set_type}.csv')\n",
    "\n",
    "\n",
    "def load_medical_dataset_and_save_as_csv():\n",
    "    medical_dataset = datasets.load_dataset(\"covid_qa_deepset\")['train']\n",
    "    medical_dataset = medical_dataset.shuffle(seed=42)\n",
    "    train_devtest_dataset = medical_dataset.train_test_split(test_size =0.3, shuffle=False)\n",
    "    dev_test_dataset = train_devtest_dataset['test'].train_test_split(test_size=0.5, shuffle=False)\n",
    "\n",
    "    train_dataset = train_devtest_dataset['train']\n",
    "    dev_dataset = dev_test_dataset['train']\n",
    "    test_dataset = dev_test_dataset['test']\n",
    "\n",
    "    save_medical_dataset_as_csv(train_dataset, set_type='train')\n",
    "    save_medical_dataset_as_csv(dev_dataset, set_type='dev')\n",
    "    save_medical_dataset_as_csv(test_dataset, set_type='test')"
   ]
  },
  {
   "cell_type": "code",
   "execution_count": 3,
   "metadata": {
    "ExecuteTime": {
     "end_time": "2023-10-17T17:53:03.809877100Z",
     "start_time": "2023-10-17T17:53:03.794871Z"
    },
    "collapsed": false
   },
   "outputs": [],
   "source": [
    "def save_squad_dataset_as_csv(dataset, set_type):\n",
    "    dataset_df = dataset.to_pandas()\n",
    "    dataset_df = dataset_df.drop(['id', 'title'], axis=1)\n",
    "\n",
    "    path = './../data/datasets/squad'\n",
    "    dir_exists = os.path.exists(path)\n",
    "    if not dir_exists:\n",
    "        os.makedirs(path)\n",
    "    dataset_df.to_csv(f'{path}/{set_type}.csv')\n",
    "\n",
    "def load_squad_dataset_and_save_as_csv():\n",
    "    squad_dataset = datasets.load_dataset('squad')\n",
    "    train_temp_pd = squad_dataset['train'].to_pandas()\n",
    "    validation_temp_pd = squad_dataset['validation'].to_pandas()\n",
    "    combined_temp_pd = pd.concat((train_temp_pd, validation_temp_pd))\n",
    "    squad_dataset = datasets.Dataset.from_pandas(combined_temp_pd)\n",
    "    squad_dataset = squad_dataset.shuffle(seed=42)\n",
    "    train_devtest_dataset = squad_dataset.train_test_split(test_size =0.3, shuffle=False)\n",
    "    dev_test_dataset = train_devtest_dataset['test'].train_test_split(test_size=0.5, shuffle=False)\n",
    "\n",
    "    train_dataset = train_devtest_dataset['train']\n",
    "    dev_dataset = dev_test_dataset['train']\n",
    "    test_dataset = dev_test_dataset['test']\n",
    "\n",
    "    save_squad_dataset_as_csv(train_dataset, set_type='train')\n",
    "    save_squad_dataset_as_csv(dev_dataset, set_type='dev')\n",
    "    save_squad_dataset_as_csv(test_dataset, set_type='test')"
   ]
  },
  {
   "cell_type": "code",
   "execution_count": 4,
   "metadata": {
    "ExecuteTime": {
     "end_time": "2023-10-17T17:53:17.409162Z",
     "start_time": "2023-10-17T17:53:14.312927800Z"
    },
    "collapsed": false
   },
   "outputs": [],
   "source": [
    "load_medical_dataset_and_save_as_csv()"
   ]
  },
  {
   "cell_type": "code",
   "execution_count": 5,
   "metadata": {
    "ExecuteTime": {
     "end_time": "2023-10-17T17:53:26.914305900Z",
     "start_time": "2023-10-17T17:53:18.786141900Z"
    },
    "collapsed": false
   },
   "outputs": [
    {
     "name": "stderr",
     "output_type": "stream",
     "text": [
      "c:\\Users\\Artur\\.conda\\envs\\nlp_gpu\\lib\\site-packages\\pyarrow\\pandas_compat.py:373: FutureWarning: is_sparse is deprecated and will be removed in a future version. Check `isinstance(dtype, pd.SparseDtype)` instead.\n",
      "  if _pandas_api.is_sparse(col):\n"
     ]
    }
   ],
   "source": [
    "load_squad_dataset_and_save_as_csv()"
   ]
  },
  {
   "cell_type": "code",
   "execution_count": null,
   "metadata": {
    "collapsed": false
   },
   "outputs": [],
   "source": []
  }
 ],
 "metadata": {
  "kernelspec": {
   "display_name": "Python 3",
   "language": "python",
   "name": "python3"
  },
  "language_info": {
   "codemirror_mode": {
    "name": "ipython",
    "version": 3
   },
   "file_extension": ".py",
   "mimetype": "text/x-python",
   "name": "python",
   "nbconvert_exporter": "python",
   "pygments_lexer": "ipython3",
   "version": "3.9.18"
  }
 },
 "nbformat": 4,
 "nbformat_minor": 0
}
