{
 "cells": [
  {
   "cell_type": "code",
   "execution_count": 1,
   "metadata": {
    "collapsed": true,
    "ExecuteTime": {
     "end_time": "2023-10-22T10:46:56.973166500Z",
     "start_time": "2023-10-22T10:46:56.139910800Z"
    }
   },
   "outputs": [],
   "source": [
    "import datasets\n",
    "import pandas as pd\n",
    "import os\n",
    "\n",
    "datasets.logging.set_verbosity_error()\n",
    "datasets.logging.disable_progress_bar()"
   ]
  },
  {
   "cell_type": "code",
   "execution_count": 2,
   "metadata": {
    "collapsed": false,
    "ExecuteTime": {
     "end_time": "2023-10-22T10:46:57.090326500Z",
     "start_time": "2023-10-22T10:46:57.070857700Z"
    }
   },
   "outputs": [],
   "source": [
    "def save_medical_dataset_as_csv(dataset, set_type):\n",
    "    dataset = dataset.remove_columns(['id', 'document_id', 'is_impossible'])\n",
    "    \n",
    "    dataset_df = dataset.to_pandas()\n",
    "\n",
    "    path = './../data/datasets/medical'\n",
    "    dir_exists = os.path.exists(path)\n",
    "    if not dir_exists:\n",
    "        os.makedirs(path)\n",
    "    dataset_df.to_csv(f'{path}/{set_type}.csv')\n",
    "\n",
    "\n",
    "def load_medical_dataset_and_save_as_csv():\n",
    "    medical_dataset = datasets.load_dataset(\"covid_qa_deepset\")['train']\n",
    "    medical_dataset = medical_dataset.shuffle(seed=42)\n",
    "    train_devtest_dataset = medical_dataset.train_test_split(test_size =0.3, shuffle=False)\n",
    "    dev_test_dataset = train_devtest_dataset['test'].train_test_split(test_size=0.5, shuffle=False)\n",
    "\n",
    "    train_dataset = train_devtest_dataset['train']\n",
    "    dev_dataset = dev_test_dataset['train']\n",
    "    test_dataset = dev_test_dataset['test']\n",
    "\n",
    "    save_medical_dataset_as_csv(train_dataset, set_type='train')\n",
    "    save_medical_dataset_as_csv(dev_dataset, set_type='dev')\n",
    "    save_medical_dataset_as_csv(test_dataset, set_type='test')"
   ]
  },
  {
   "cell_type": "code",
   "execution_count": 3,
   "metadata": {
    "collapsed": false,
    "ExecuteTime": {
     "end_time": "2023-10-22T10:46:57.469065Z",
     "start_time": "2023-10-22T10:46:57.441520700Z"
    }
   },
   "outputs": [],
   "source": [
    "def preprocess_squad_dataset_sample(sample):\n",
    "    sample['answer_text'] = sample['answers']['text'][0]\n",
    "    sample['answer_start'] = sample['answers']['answer_start'][0]\n",
    "    \n",
    "    return sample\n",
    "\n",
    "def save_squad_dataset_as_csv(dataset, set_type):\n",
    "    dataset = dataset.map(preprocess_squad_dataset_sample)\n",
    "    dataset = dataset.remove_columns(['id', 'title', 'answers'])\n",
    "    \n",
    "    dataset_df = dataset.to_pandas()\n",
    "\n",
    "    path = './../data/datasets/squad'\n",
    "    dir_exists = os.path.exists(path)\n",
    "    if not dir_exists:\n",
    "        os.makedirs(path)\n",
    "    dataset_df.to_csv(f'{path}/{set_type}.csv')\n",
    "\n",
    "def load_squad_dataset_and_save_as_csv():\n",
    "    squad_dataset = datasets.load_dataset('squad')\n",
    "    train_temp_pd = squad_dataset['train'].to_pandas()\n",
    "    validation_temp_pd = squad_dataset['validation'].to_pandas()\n",
    "    combined_temp_pd = pd.concat((train_temp_pd, validation_temp_pd))\n",
    "    squad_dataset = datasets.Dataset.from_pandas(combined_temp_pd)\n",
    "    squad_dataset = squad_dataset.shuffle(seed=42)\n",
    "    train_devtest_dataset = squad_dataset.train_test_split(test_size =0.3, shuffle=False)\n",
    "    dev_test_dataset = train_devtest_dataset['test'].train_test_split(test_size=0.5, shuffle=False)\n",
    "\n",
    "    train_dataset = train_devtest_dataset['train']\n",
    "    dev_dataset = dev_test_dataset['train']\n",
    "    test_dataset = dev_test_dataset['test']\n",
    "\n",
    "    save_squad_dataset_as_csv(train_dataset, set_type='train')\n",
    "    save_squad_dataset_as_csv(dev_dataset, set_type='dev')\n",
    "    save_squad_dataset_as_csv(test_dataset, set_type='test')"
   ]
  },
  {
   "cell_type": "code",
   "execution_count": 4,
   "metadata": {
    "collapsed": false,
    "ExecuteTime": {
     "end_time": "2023-10-22T10:47:01.128869900Z",
     "start_time": "2023-10-22T10:46:58.189538700Z"
    }
   },
   "outputs": [],
   "source": [
    "load_medical_dataset_and_save_as_csv()"
   ]
  },
  {
   "cell_type": "code",
   "execution_count": 5,
   "metadata": {
    "collapsed": false,
    "ExecuteTime": {
     "end_time": "2023-10-22T10:47:12.597160500Z",
     "start_time": "2023-10-22T10:47:01.131321700Z"
    }
   },
   "outputs": [],
   "source": [
    "load_squad_dataset_and_save_as_csv()"
   ]
  },
  {
   "cell_type": "code",
   "execution_count": null,
   "metadata": {
    "collapsed": false
   },
   "outputs": [],
   "source": []
  }
 ],
 "metadata": {
  "kernelspec": {
   "display_name": "Python 3",
   "language": "python",
   "name": "python3"
  },
  "language_info": {
   "codemirror_mode": {
    "name": "ipython",
    "version": 3
   },
   "file_extension": ".py",
   "mimetype": "text/x-python",
   "name": "python",
   "nbconvert_exporter": "python",
   "pygments_lexer": "ipython3",
   "version": "3.9.18"
  }
 },
 "nbformat": 4,
 "nbformat_minor": 0
}
