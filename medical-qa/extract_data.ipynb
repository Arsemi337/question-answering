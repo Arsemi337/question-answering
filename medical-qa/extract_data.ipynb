{
 "cells": [
  {
   "cell_type": "code",
   "execution_count": 18,
   "metadata": {
    "collapsed": true,
    "ExecuteTime": {
     "end_time": "2023-10-17T17:24:53.477653600Z",
     "start_time": "2023-10-17T17:24:53.463631800Z"
    }
   },
   "outputs": [],
   "source": [
    "import datasets\n",
    "import os\n",
    "\n",
    "datasets.logging.set_verbosity_error()\n",
    "datasets.logging.disable_progress_bar()\n",
    "\n",
    "def save_dataset_as_csv(dataset, set_type):\n",
    "    dataset_df = dataset.to_pandas()\n",
    "    dataset_df = dataset_df.drop(['document_id', 'is_impossible', 'id'], axis=1)\n",
    "\n",
    "    path = './data/datasets'\n",
    "    dir_exists = os.path.exists(path)\n",
    "    if not dir_exists:\n",
    "        os.makedirs(path)\n",
    "    dataset_df.to_csv(f'{path}/{set_type}.csv')\n",
    "\n",
    "\n",
    "def load_medical_dataset_and_save_as_csv():\n",
    "    medical_dataset = datasets.load_dataset(\"covid_qa_deepset\")['train']\n",
    "    medical_dataset = medical_dataset.shuffle(seed=42)\n",
    "    train_devtest_dataset = medical_dataset.train_test_split(test_size =0.3, shuffle=False)\n",
    "    dev_test_dataset = train_devtest_dataset['test'].train_test_split(test_size=0.5, shuffle=False)\n",
    "\n",
    "    train_dataset = train_devtest_dataset['train']\n",
    "    dev_dataset = dev_test_dataset['train']\n",
    "    test_dataset = dev_test_dataset['test']\n",
    "\n",
    "    save_dataset_as_csv(train_dataset, set_type='train')\n",
    "    save_dataset_as_csv(dev_dataset, set_type='dev')\n",
    "    save_dataset_as_csv(test_dataset, set_type='test')"
   ]
  },
  {
   "cell_type": "code",
   "execution_count": 19,
   "outputs": [],
   "source": [
    "load_medical_dataset_and_save_as_csv()"
   ],
   "metadata": {
    "collapsed": false,
    "ExecuteTime": {
     "end_time": "2023-10-17T17:24:57.094577300Z",
     "start_time": "2023-10-17T17:24:54.126149900Z"
    }
   }
  },
  {
   "cell_type": "code",
   "execution_count": null,
   "outputs": [],
   "source": [],
   "metadata": {
    "collapsed": false
   }
  }
 ],
 "metadata": {
  "kernelspec": {
   "display_name": "Python 3",
   "language": "python",
   "name": "python3"
  },
  "language_info": {
   "codemirror_mode": {
    "name": "ipython",
    "version": 2
   },
   "file_extension": ".py",
   "mimetype": "text/x-python",
   "name": "python",
   "nbconvert_exporter": "python",
   "pygments_lexer": "ipython2",
   "version": "2.7.6"
  }
 },
 "nbformat": 4,
 "nbformat_minor": 0
}
