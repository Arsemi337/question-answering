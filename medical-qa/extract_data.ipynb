{
 "cells": [
  {
   "cell_type": "code",
   "execution_count": 3,
   "metadata": {
    "collapsed": true,
    "ExecuteTime": {
     "end_time": "2023-10-09T19:00:18.098366500Z",
     "start_time": "2023-10-09T19:00:16.309648300Z"
    }
   },
   "outputs": [
    {
     "name": "stderr",
     "output_type": "stream",
     "text": [
      "Found cached dataset covid_qa_deepset (C:/Users/Karol/.cache/huggingface/datasets/covid_qa_deepset/covid_qa_deepset/1.0.0/fb886523842e312176f92ec8e01e77a08fa15a694f5741af6fc42796ee9c8c46)\n"
     ]
    },
    {
     "data": {
      "text/plain": "  0%|          | 0/1 [00:00<?, ?it/s]",
      "application/vnd.jupyter.widget-view+json": {
       "version_major": 2,
       "version_minor": 0,
       "model_id": "5c3d81596822445195983dd082962291"
      }
     },
     "metadata": {},
     "output_type": "display_data"
    }
   ],
   "source": [
    "from datasets import load_dataset\n",
    "\n",
    "dataset = load_dataset(\"covid_qa_deepset\")"
   ]
  },
  {
   "cell_type": "code",
   "execution_count": 2,
   "outputs": [
    {
     "data": {
      "text/plain": "DatasetDict({\n    train: Dataset({\n        features: ['document_id', 'context', 'question', 'is_impossible', 'id', 'answers'],\n        num_rows: 2019\n    })\n})"
     },
     "execution_count": 2,
     "metadata": {},
     "output_type": "execute_result"
    }
   ],
   "source": [
    "dataset"
   ],
   "metadata": {
    "collapsed": false,
    "ExecuteTime": {
     "end_time": "2023-10-09T18:59:18.299108700Z",
     "start_time": "2023-10-09T18:59:18.286080600Z"
    }
   }
  },
  {
   "cell_type": "code",
   "execution_count": 6,
   "outputs": [],
   "source": [
    "dataset = dataset['train']"
   ],
   "metadata": {
    "collapsed": false,
    "ExecuteTime": {
     "end_time": "2023-10-09T19:02:55.136180900Z",
     "start_time": "2023-10-09T19:02:55.124671300Z"
    }
   }
  },
  {
   "cell_type": "code",
   "execution_count": 8,
   "outputs": [],
   "source": [
    "pd = dataset.to_pandas()"
   ],
   "metadata": {
    "collapsed": false,
    "ExecuteTime": {
     "end_time": "2023-10-09T19:03:12.625207400Z",
     "start_time": "2023-10-09T19:03:12.591661300Z"
    }
   }
  },
  {
   "cell_type": "code",
   "execution_count": 20,
   "outputs": [],
   "source": [
    "pd = pd.drop(['document_id', 'is_impossible', 'id'], axis=1)"
   ],
   "metadata": {
    "collapsed": false,
    "ExecuteTime": {
     "end_time": "2023-10-09T19:08:33.008013600Z",
     "start_time": "2023-10-09T19:08:32.986115700Z"
    }
   }
  },
  {
   "cell_type": "code",
   "execution_count": 21,
   "outputs": [
    {
     "data": {
      "text/plain": "                                                context  \\\n0     Functional Genetic Variants in DC-SIGNR Are As...   \n1     Functional Genetic Variants in DC-SIGNR Are As...   \n2     Functional Genetic Variants in DC-SIGNR Are As...   \n3     Functional Genetic Variants in DC-SIGNR Are As...   \n4     Functional Genetic Variants in DC-SIGNR Are As...   \n...                                                 ...   \n2014  Ebola Virus Maintenance: If Not (Only) Bats, W...   \n2015  Ebola Virus Maintenance: If Not (Only) Bats, W...   \n2016  Ebola Virus Maintenance: If Not (Only) Bats, W...   \n2017  Ebola Virus Maintenance: If Not (Only) Bats, W...   \n2018  Ebola Virus Maintenance: If Not (Only) Bats, W...   \n\n                                               question  \\\n0     What is the main cause of HIV-1 infection in c...   \n1     What plays the crucial role in the Mother to C...   \n2     How many children were infected by HIV-1 in 20...   \n3     What is the role of C-C Motif Chemokine Ligand...   \n4           What is DC-GENR and where is  it expressed?   \n...                                                 ...   \n2014           What is the structure of the Ebolavirus?   \n2015     When was the West African Ebolavirus outbreak?   \n2016  What animals are considered to be maintenance ...   \n2017              What do circles indicate in Figure 1?   \n2018               What do arrows indicate in Figure 1?   \n\n                                                answers  \n0     {'text': ['Mother-to-child transmission (MTCT)...  \n1     {'text': ['DC-SIGNR plays a crucial role in MT...  \n2     {'text': ['more than 400,000 children were inf...  \n3     {'text': ['High copy numbers of CCL3L1, a pote...  \n4     {'text': ['Dendritic cell-specific ICAM-grabbi...  \n...                                                 ...  \n2014  {'text': ['single-strand RNA filoviruses'], 'a...  \n2015    {'text': ['2013-2016'], 'answer_start': [2546]}  \n2016  {'text': ['African bats'], 'answer_start': [40...  \n2017  {'text': ['a maintenance function play by the ...  \n2018  {'text': ['infectious transmission pathways be...  \n\n[2019 rows x 3 columns]",
      "text/html": "<div>\n<style scoped>\n    .dataframe tbody tr th:only-of-type {\n        vertical-align: middle;\n    }\n\n    .dataframe tbody tr th {\n        vertical-align: top;\n    }\n\n    .dataframe thead th {\n        text-align: right;\n    }\n</style>\n<table border=\"1\" class=\"dataframe\">\n  <thead>\n    <tr style=\"text-align: right;\">\n      <th></th>\n      <th>context</th>\n      <th>question</th>\n      <th>answers</th>\n    </tr>\n  </thead>\n  <tbody>\n    <tr>\n      <th>0</th>\n      <td>Functional Genetic Variants in DC-SIGNR Are As...</td>\n      <td>What is the main cause of HIV-1 infection in c...</td>\n      <td>{'text': ['Mother-to-child transmission (MTCT)...</td>\n    </tr>\n    <tr>\n      <th>1</th>\n      <td>Functional Genetic Variants in DC-SIGNR Are As...</td>\n      <td>What plays the crucial role in the Mother to C...</td>\n      <td>{'text': ['DC-SIGNR plays a crucial role in MT...</td>\n    </tr>\n    <tr>\n      <th>2</th>\n      <td>Functional Genetic Variants in DC-SIGNR Are As...</td>\n      <td>How many children were infected by HIV-1 in 20...</td>\n      <td>{'text': ['more than 400,000 children were inf...</td>\n    </tr>\n    <tr>\n      <th>3</th>\n      <td>Functional Genetic Variants in DC-SIGNR Are As...</td>\n      <td>What is the role of C-C Motif Chemokine Ligand...</td>\n      <td>{'text': ['High copy numbers of CCL3L1, a pote...</td>\n    </tr>\n    <tr>\n      <th>4</th>\n      <td>Functional Genetic Variants in DC-SIGNR Are As...</td>\n      <td>What is DC-GENR and where is  it expressed?</td>\n      <td>{'text': ['Dendritic cell-specific ICAM-grabbi...</td>\n    </tr>\n    <tr>\n      <th>...</th>\n      <td>...</td>\n      <td>...</td>\n      <td>...</td>\n    </tr>\n    <tr>\n      <th>2014</th>\n      <td>Ebola Virus Maintenance: If Not (Only) Bats, W...</td>\n      <td>What is the structure of the Ebolavirus?</td>\n      <td>{'text': ['single-strand RNA filoviruses'], 'a...</td>\n    </tr>\n    <tr>\n      <th>2015</th>\n      <td>Ebola Virus Maintenance: If Not (Only) Bats, W...</td>\n      <td>When was the West African Ebolavirus outbreak?</td>\n      <td>{'text': ['2013-2016'], 'answer_start': [2546]}</td>\n    </tr>\n    <tr>\n      <th>2016</th>\n      <td>Ebola Virus Maintenance: If Not (Only) Bats, W...</td>\n      <td>What animals are considered to be maintenance ...</td>\n      <td>{'text': ['African bats'], 'answer_start': [40...</td>\n    </tr>\n    <tr>\n      <th>2017</th>\n      <td>Ebola Virus Maintenance: If Not (Only) Bats, W...</td>\n      <td>What do circles indicate in Figure 1?</td>\n      <td>{'text': ['a maintenance function play by the ...</td>\n    </tr>\n    <tr>\n      <th>2018</th>\n      <td>Ebola Virus Maintenance: If Not (Only) Bats, W...</td>\n      <td>What do arrows indicate in Figure 1?</td>\n      <td>{'text': ['infectious transmission pathways be...</td>\n    </tr>\n  </tbody>\n</table>\n<p>2019 rows × 3 columns</p>\n</div>"
     },
     "execution_count": 21,
     "metadata": {},
     "output_type": "execute_result"
    }
   ],
   "source": [
    "pd"
   ],
   "metadata": {
    "collapsed": false,
    "ExecuteTime": {
     "end_time": "2023-10-09T19:08:33.780315Z",
     "start_time": "2023-10-09T19:08:33.759811500Z"
    }
   }
  },
  {
   "cell_type": "code",
   "execution_count": null,
   "outputs": [],
   "source": [],
   "metadata": {
    "collapsed": false
   }
  }
 ],
 "metadata": {
  "kernelspec": {
   "display_name": "Python 3",
   "language": "python",
   "name": "python3"
  },
  "language_info": {
   "codemirror_mode": {
    "name": "ipython",
    "version": 2
   },
   "file_extension": ".py",
   "mimetype": "text/x-python",
   "name": "python",
   "nbconvert_exporter": "python",
   "pygments_lexer": "ipython2",
   "version": "2.7.6"
  }
 },
 "nbformat": 4,
 "nbformat_minor": 0
}
