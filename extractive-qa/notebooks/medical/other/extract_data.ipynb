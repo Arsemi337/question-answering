{
 "cells": [
  {
   "cell_type": "code",
   "execution_count": 1,
   "metadata": {
    "collapsed": true,
    "ExecuteTime": {
     "end_time": "2023-12-02T13:23:34.457501500Z",
     "start_time": "2023-12-02T13:23:33.578182800Z"
    }
   },
   "outputs": [],
   "source": [
    "import datasets\n",
    "from question_answering.paths import extractive_qa_paths"
   ]
  },
  {
   "cell_type": "code",
   "execution_count": 2,
   "outputs": [],
   "source": [
    "def preprocess_medical_dataset_sample(sample):\n",
    "    answer_text = sample[\"answers\"][\"text\"][0]\n",
    "    answer_sample = sample[\"answers\"][\"answer_start\"][0]\n",
    "    \n",
    "    sample[\"answer_text\"] = answer_text\n",
    "    sample[\"answer_start\"] = answer_sample\n",
    "\n",
    "    return sample\n",
    "\n",
    "\n",
    "def load_and_save_medical_dataset():\n",
    "    dataset = datasets.load_dataset(\"covid_qa_deepset\")[\"train\"]\n",
    "    \n",
    "    # Initial preprocessing so that data is usable after saving and reading\n",
    "    dataset = dataset.map(preprocess_medical_dataset_sample)\n",
    "    \n",
    "    # Save dataset\n",
    "    path = extractive_qa_paths.medical_dataset_dir\n",
    "    if not path.exists():\n",
    "        path.mkdir(parents=True)\n",
    "        \n",
    "    dataset.to_json(path / \"original_medical.json\")"
   ],
   "metadata": {
    "collapsed": false,
    "ExecuteTime": {
     "end_time": "2023-12-02T13:23:34.480356600Z",
     "start_time": "2023-12-02T13:23:34.454594200Z"
    }
   }
  },
  {
   "cell_type": "code",
   "execution_count": 3,
   "metadata": {
    "collapsed": false,
    "ExecuteTime": {
     "end_time": "2023-12-02T13:23:38.007164200Z",
     "start_time": "2023-12-02T13:23:34.470059100Z"
    }
   },
   "outputs": [
    {
     "data": {
      "text/plain": "Map:   0%|          | 0/2019 [00:00<?, ? examples/s]",
      "application/vnd.jupyter.widget-view+json": {
       "version_major": 2,
       "version_minor": 0,
       "model_id": "b3b5a07649eb42618e51315e3da8f341"
      }
     },
     "metadata": {},
     "output_type": "display_data"
    },
    {
     "data": {
      "text/plain": "Creating json from Arrow format:   0%|          | 0/3 [00:00<?, ?ba/s]",
      "application/vnd.jupyter.widget-view+json": {
       "version_major": 2,
       "version_minor": 0,
       "model_id": "07722092cc544f50969277763dea7cc8"
      }
     },
     "metadata": {},
     "output_type": "display_data"
    }
   ],
   "source": [
    "load_and_save_medical_dataset()"
   ]
  },
  {
   "cell_type": "code",
   "execution_count": null,
   "outputs": [],
   "source": [],
   "metadata": {
    "collapsed": false
   }
  }
 ],
 "metadata": {
  "kernelspec": {
   "display_name": "Python 3",
   "language": "python",
   "name": "python3"
  },
  "language_info": {
   "codemirror_mode": {
    "name": "ipython",
    "version": 3
   },
   "file_extension": ".py",
   "mimetype": "text/x-python",
   "name": "python",
   "nbconvert_exporter": "python",
   "pygments_lexer": "ipython3",
   "version": "3.9.18"
  }
 },
 "nbformat": 4,
 "nbformat_minor": 0
}
