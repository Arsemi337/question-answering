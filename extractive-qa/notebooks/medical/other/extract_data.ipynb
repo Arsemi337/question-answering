{
 "cells": [
  {
   "cell_type": "code",
   "execution_count": 1,
   "metadata": {
    "collapsed": true,
    "ExecuteTime": {
     "end_time": "2023-11-22T12:26:49.262970700Z",
     "start_time": "2023-11-22T12:26:48.471923700Z"
    }
   },
   "outputs": [],
   "source": [
    "import datasets\n",
    "import os\n",
    "from question_answering.paths import extractive_qa_paths\n",
    "\n",
    "datasets.logging.set_verbosity_error()\n",
    "datasets.logging.disable_progress_bar()"
   ]
  },
  {
   "cell_type": "code",
   "execution_count": 2,
   "metadata": {
    "collapsed": false,
    "ExecuteTime": {
     "end_time": "2023-11-15T11:48:52.317876Z",
     "start_time": "2023-11-15T11:48:52.282928500Z"
    }
   },
   "outputs": [],
   "source": [
    "def preprocess_medical_dataset_sample(sample):\n",
    "    sample[\"answer_text\"] = sample[\"answers\"][\"text\"][0]\n",
    "    sample[\"answer_start\"] = sample[\"answers\"][\"answer_start\"][0]\n",
    "\n",
    "    return sample\n",
    "\n",
    "\n",
    "def save_medical_dataset_as_csv(dataset, set_type):\n",
    "    dataset = dataset.map(preprocess_medical_dataset_sample)\n",
    "    dataset = dataset.remove_columns([\"document_id\", \"answers\"])\n",
    "\n",
    "    dataset_df = dataset.to_pandas()\n",
    "    dataset_df = dataset_df.dropna()\n",
    "\n",
    "    path = extractive_qa_paths.medical_dataset_dir\n",
    "    dir_exists = os.path.exists(path)\n",
    "    if not dir_exists:\n",
    "        os.makedirs(path)\n",
    "    dataset_df.to_csv(path / f\"{set_type}.csv\", index=True, index_label=\"index\")\n",
    "\n",
    "\n",
    "def load_medical_dataset_and_save_as_csv():\n",
    "    medical_dataset = datasets.load_dataset(\"covid_qa_deepset\")[\"train\"]\n",
    "    medical_dataset = medical_dataset.shuffle(seed=42)\n",
    "    train_valtest_dataset = medical_dataset.train_test_split(\n",
    "        test_size=0.3, shuffle=False\n",
    "    )\n",
    "    val_test_dataset = train_valtest_dataset[\"test\"].train_test_split(\n",
    "        test_size=0.5, shuffle=False\n",
    "    )\n",
    "\n",
    "    train_dataset = train_valtest_dataset[\"train\"]\n",
    "    val_dataset = val_test_dataset[\"train\"]\n",
    "    test_dataset = val_test_dataset[\"test\"]\n",
    "\n",
    "    save_medical_dataset_as_csv(train_dataset, set_type=\"train\")\n",
    "    save_medical_dataset_as_csv(val_dataset, set_type=\"val\")\n",
    "    save_medical_dataset_as_csv(test_dataset, set_type=\"test\")"
   ]
  },
  {
   "cell_type": "code",
   "execution_count": 4,
   "metadata": {
    "collapsed": false,
    "ExecuteTime": {
     "end_time": "2023-11-15T11:48:58.371359Z",
     "start_time": "2023-11-15T11:48:52.314871200Z"
    }
   },
   "outputs": [],
   "source": [
    "load_medical_dataset_and_save_as_csv()"
   ]
  },
  {
   "cell_type": "code",
   "execution_count": null,
   "metadata": {
    "collapsed": false
   },
   "outputs": [],
   "source": []
  }
 ],
 "metadata": {
  "kernelspec": {
   "display_name": "Python 3",
   "language": "python",
   "name": "python3"
  },
  "language_info": {
   "codemirror_mode": {
    "name": "ipython",
    "version": 3
   },
   "file_extension": ".py",
   "mimetype": "text/x-python",
   "name": "python",
   "nbconvert_exporter": "python",
   "pygments_lexer": "ipython3",
   "version": "3.9.18"
  }
 },
 "nbformat": 4,
 "nbformat_minor": 0
}
