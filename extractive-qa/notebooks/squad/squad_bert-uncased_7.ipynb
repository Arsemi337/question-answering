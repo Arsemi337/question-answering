{
 "cells": [
  {
   "cell_type": "markdown",
   "source": [
    "# Model details\n",
    "***Used base model***: bert-base-uncased\n",
    "***Used dataset***: SQuAD\n",
    "***Batch size***: 4\n",
    "***Early stopping patience***: 2\n",
    "***Early stopping monitor***: val loss\n",
    "***Datasets***: Train: original 80k train samples, Val: remaining 7599 samples, Test: original 10570 samples\n",
    "***Loss function***: Sparse categorical crossentropy\n",
    "***Attempted train epochs***: 10\n",
    "***Initial learning rate***: 2e-5\n",
    "***End learning rate***: 0\n",
    "***Additional info***: Makes use of stride mechanism, the newest evaluation"
   ],
   "metadata": {
    "collapsed": false
   },
   "id": "83cff6ac1d025261"
  },
  {
   "cell_type": "code",
   "execution_count": 3,
   "outputs": [],
   "source": [
    "from transformers import (\n",
    "    AutoTokenizer,\n",
    "    TFAutoModelForQuestionAnswering,\n",
    "    DefaultDataCollator,\n",
    ")\n",
    "import tensorflow as tf\n",
    "from question_answering.constants import constants\n",
    "from question_answering.utils import core_qa_utils\n",
    "from question_answering.utils.extractive_qa import (\n",
    "    model_management,\n",
    "    predictions,\n",
    "    squad_metrics,\n",
    "    pure_metrics,\n",
    "    squad_preprocessing,\n",
    "    medical_preprocessing,\n",
    ")\n",
    "from question_answering.paths import extractive_qa_paths\n",
    "import ipynbname\n",
    "from question_answering.keras_callbacks.time_measure_callback import TimeMeasureCallback\n",
    "import numpy as np\n",
    "from datasets import Dataset"
   ],
   "metadata": {
    "collapsed": false,
    "ExecuteTime": {
     "end_time": "2023-12-03T17:18:47.481168600Z",
     "start_time": "2023-12-03T17:18:40.054362900Z"
    }
   },
   "id": "143ae7b201b745c0"
  },
  {
   "cell_type": "markdown",
   "source": [
    "# Data loading"
   ],
   "metadata": {
    "collapsed": false
   },
   "id": "319fae1ec8d8aeca"
  },
  {
   "cell_type": "code",
   "execution_count": 4,
   "outputs": [],
   "source": [
    "raw_train_dataset, raw_test_dataset = core_qa_utils.load_datasets_from_json(\n",
    "    dataset_path=extractive_qa_paths.squad_dataset_dir,\n",
    "    filenames=[\"original_train.json\", \"original_test.json\"],\n",
    ")"
   ],
   "metadata": {
    "collapsed": false,
    "ExecuteTime": {
     "end_time": "2023-12-03T17:18:48.646908600Z",
     "start_time": "2023-12-03T17:18:48.470078600Z"
    }
   },
   "id": "da69620bc10a6a32"
  },
  {
   "cell_type": "code",
   "execution_count": 5,
   "outputs": [],
   "source": [
    "train_dataset = raw_train_dataset.select(range(80000))\n",
    "val_dataset = raw_train_dataset.select(range(80000, 87599))\n",
    "test_dataset = raw_test_dataset"
   ],
   "metadata": {
    "collapsed": false,
    "ExecuteTime": {
     "end_time": "2023-12-03T17:18:49.182307200Z",
     "start_time": "2023-12-03T17:18:49.159283700Z"
    }
   },
   "id": "ed5d0ed8c5547f57"
  },
  {
   "cell_type": "code",
   "execution_count": 6,
   "outputs": [
    {
     "data": {
      "text/plain": "(Dataset({\n     features: ['id', 'title', 'context', 'question', 'answers', 'answer_text', 'answer_start'],\n     num_rows: 80000\n }),\n Dataset({\n     features: ['id', 'title', 'context', 'question', 'answers', 'answer_text', 'answer_start'],\n     num_rows: 7599\n }),\n Dataset({\n     features: ['id', 'title', 'context', 'question', 'answers', 'answer_text', 'answer_start'],\n     num_rows: 10570\n }))"
     },
     "execution_count": 6,
     "metadata": {},
     "output_type": "execute_result"
    }
   ],
   "source": [
    "train_dataset, val_dataset, test_dataset"
   ],
   "metadata": {
    "collapsed": false,
    "ExecuteTime": {
     "end_time": "2023-12-03T17:18:49.541143600Z",
     "start_time": "2023-12-03T17:18:49.518610800Z"
    }
   },
   "id": "ba17dba501105212"
  },
  {
   "cell_type": "markdown",
   "source": [
    "# Data preprocessing"
   ],
   "metadata": {
    "collapsed": false
   },
   "id": "da3e7b5af4497f6"
  },
  {
   "cell_type": "code",
   "execution_count": 7,
   "outputs": [],
   "source": [
    "model_checkpoint = \"bert-base-uncased\"\n",
    "tokenizer = AutoTokenizer.from_pretrained(model_checkpoint)"
   ],
   "metadata": {
    "collapsed": false,
    "ExecuteTime": {
     "end_time": "2023-12-03T17:18:53.136006200Z",
     "start_time": "2023-12-03T17:18:52.550596800Z"
    }
   },
   "id": "edf9671bd665638c"
  },
  {
   "cell_type": "code",
   "execution_count": 8,
   "outputs": [],
   "source": [
    "max_length = 384\n",
    "stride = 128"
   ],
   "metadata": {
    "collapsed": false,
    "ExecuteTime": {
     "end_time": "2023-12-03T17:18:53.150934400Z",
     "start_time": "2023-12-03T17:18:53.139011400Z"
    }
   },
   "id": "4f6a4517ce584313"
  },
  {
   "cell_type": "code",
   "execution_count": 9,
   "outputs": [
    {
     "data": {
      "text/plain": "Map:   0%|          | 0/80000 [00:00<?, ? examples/s]",
      "application/vnd.jupyter.widget-view+json": {
       "version_major": 2,
       "version_minor": 0,
       "model_id": "ef898018c65447158c77eb36a1373e55"
      }
     },
     "metadata": {},
     "output_type": "display_data"
    },
    {
     "data": {
      "text/plain": "Map:   0%|          | 0/7599 [00:00<?, ? examples/s]",
      "application/vnd.jupyter.widget-view+json": {
       "version_major": 2,
       "version_minor": 0,
       "model_id": "3e9e4db9fd8942eca8a8c26ff7f2cfc3"
      }
     },
     "metadata": {},
     "output_type": "display_data"
    }
   ],
   "source": [
    "tokenized_train_dataset = squad_preprocessing.preprocess_squad_training_dataset(\n",
    "    dataset=train_dataset,\n",
    "    tokenizer=tokenizer,\n",
    "    max_length=max_length,\n",
    "    stride=stride,\n",
    "    remove_columns=train_dataset.column_names\n",
    ")\n",
    "tokenized_val_dataset = squad_preprocessing.preprocess_squad_training_dataset(\n",
    "    dataset=val_dataset,\n",
    "    tokenizer=tokenizer,\n",
    "    max_length=max_length,\n",
    "    stride=stride,\n",
    "    remove_columns=val_dataset.column_names\n",
    ")"
   ],
   "metadata": {
    "collapsed": false,
    "ExecuteTime": {
     "end_time": "2023-12-03T17:19:14.250854900Z",
     "start_time": "2023-12-03T17:18:53.821702700Z"
    }
   },
   "id": "b576c8f7969877ec"
  },
  {
   "cell_type": "code",
   "execution_count": 10,
   "outputs": [
    {
     "data": {
      "text/plain": "Map:   0%|          | 0/10570 [00:00<?, ? examples/s]",
      "application/vnd.jupyter.widget-view+json": {
       "version_major": 2,
       "version_minor": 0,
       "model_id": "348fa2b1a05c4ff8977090143cd45902"
      }
     },
     "metadata": {},
     "output_type": "display_data"
    }
   ],
   "source": [
    "tokenized_test_dataset = squad_preprocessing.preprocess_squad_test_dataset(\n",
    "    dataset=test_dataset,\n",
    "    tokenizer=tokenizer,\n",
    "    max_length=max_length,\n",
    "    stride=stride,\n",
    "    remove_columns=test_dataset.column_names\n",
    ")"
   ],
   "metadata": {
    "collapsed": false,
    "ExecuteTime": {
     "end_time": "2023-12-03T17:19:19.341342100Z",
     "start_time": "2023-12-03T17:19:15.011499400Z"
    }
   },
   "id": "3bc3b458a9df9f2b"
  },
  {
   "cell_type": "markdown",
   "source": [
    "# Training preparation"
   ],
   "metadata": {
    "collapsed": false
   },
   "id": "c3e72dd48e4547a"
  },
  {
   "cell_type": "code",
   "execution_count": 13,
   "outputs": [],
   "source": [
    "# Model parameters\n",
    "full_model_name = \"-\".join(ipynbname.name().split(\"_\"))\n",
    "\n",
    "# Checkpoints\n",
    "checkpoint_filename_template = constants.checkpoint_filename_template\n",
    "checkpoints_path = (\n",
    "        extractive_qa_paths.training_checkpoints_dir\n",
    "        / full_model_name\n",
    "        / checkpoint_filename_template\n",
    ")\n",
    "\n",
    "# Saved models\n",
    "saved_models_path = extractive_qa_paths.saved_models_dir / full_model_name\n",
    "\n",
    "# Evaluation\n",
    "model_evaluation_dir = extractive_qa_paths.model_evaluation_dir / full_model_name\n",
    "figures_dir = model_evaluation_dir / constants.figures_dir_name\n",
    "\n",
    "# Hyperparameters\n",
    "batch_size = 4\n",
    "train_epochs = 10\n",
    "initial_learning_rate = 2e-5\n",
    "end_learning_rate = 0"
   ],
   "metadata": {
    "collapsed": false,
    "ExecuteTime": {
     "end_time": "2023-12-03T17:19:42.071418300Z",
     "start_time": "2023-12-03T17:19:42.038239400Z"
    }
   },
   "id": "75ddc66fb81b1139"
  },
  {
   "cell_type": "code",
   "execution_count": 14,
   "outputs": [],
   "source": [
    "data_collator = DefaultDataCollator(return_tensors=\"tf\")\n",
    "\n",
    "tf_train_dataset = core_qa_utils.convert_to_tf_dataset(\n",
    "    hf_dataset=tokenized_train_dataset,\n",
    "    columns=[\"input_ids\", \"token_type_ids\", \"attention_mask\"],\n",
    "    label_cols=[\"start_positions\", \"end_positions\"],\n",
    "    collator=data_collator,\n",
    "    batch_size=batch_size,\n",
    ")\n",
    "tf_val_dataset = core_qa_utils.convert_to_tf_dataset(\n",
    "    hf_dataset=tokenized_val_dataset,\n",
    "    columns=[\"input_ids\", \"token_type_ids\", \"attention_mask\"],\n",
    "    label_cols=[\"start_positions\", \"end_positions\"],\n",
    "    collator=data_collator,\n",
    "    batch_size=batch_size,\n",
    ")\n",
    "tf_test_dataset = core_qa_utils.convert_to_tf_dataset(\n",
    "    hf_dataset=tokenized_test_dataset,\n",
    "    columns=[\"input_ids\", \"token_type_ids\", \"attention_mask\"],\n",
    "    label_cols=None,\n",
    "    collator=data_collator,\n",
    "    batch_size=batch_size,\n",
    ")"
   ],
   "metadata": {
    "collapsed": false,
    "ExecuteTime": {
     "end_time": "2023-12-03T17:19:43.474981800Z",
     "start_time": "2023-12-03T17:19:42.512175Z"
    }
   },
   "id": "83913e4c39826731"
  },
  {
   "cell_type": "code",
   "execution_count": 15,
   "outputs": [
    {
     "name": "stderr",
     "output_type": "stream",
     "text": [
      "All PyTorch model weights were used when initializing TFBertForQuestionAnswering.\n",
      "\n",
      "Some weights or buffers of the TF 2.0 model TFBertForQuestionAnswering were not initialized from the PyTorch model and are newly initialized: ['qa_outputs.weight', 'qa_outputs.bias']\n",
      "You should probably TRAIN this model on a down-stream task to be able to use it for predictions and inference.\n"
     ]
    }
   ],
   "source": [
    "model = TFAutoModelForQuestionAnswering.from_pretrained(model_checkpoint)"
   ],
   "metadata": {
    "collapsed": false,
    "ExecuteTime": {
     "end_time": "2023-12-03T17:19:48.021863800Z",
     "start_time": "2023-12-03T17:19:44.520085500Z"
    }
   },
   "id": "ba5119d0b3f424bc"
  },
  {
   "cell_type": "code",
   "execution_count": 16,
   "outputs": [],
   "source": [
    "checkpoint_cb = tf.keras.callbacks.ModelCheckpoint(\n",
    "    checkpoints_path, verbose=1, save_weights_only=True\n",
    ")\n",
    "early_stop_cb = tf.keras.callbacks.EarlyStopping(patience=2)\n",
    "time_measure_cb = TimeMeasureCallback()\n",
    "\n",
    "callbacks = [checkpoint_cb, early_stop_cb, time_measure_cb]"
   ],
   "metadata": {
    "collapsed": false,
    "ExecuteTime": {
     "end_time": "2023-12-03T17:19:48.031377700Z",
     "start_time": "2023-12-03T17:19:47.996335900Z"
    }
   },
   "id": "b1ff29b52a5abcd5"
  },
  {
   "cell_type": "code",
   "execution_count": 17,
   "outputs": [],
   "source": [
    "num_train_steps = len(tf_train_dataset) * train_epochs\n",
    "\n",
    "lr_scheduler = tf.keras.optimizers.schedules.PolynomialDecay(\n",
    "    initial_learning_rate=initial_learning_rate,\n",
    "    end_learning_rate=end_learning_rate,\n",
    "    decay_steps=num_train_steps,\n",
    ")\n",
    "\n",
    "optimizer = tf.keras.optimizers.Adam(learning_rate=lr_scheduler)\n",
    "loss = tf.keras.losses.SparseCategoricalCrossentropy(from_logits=True)\n",
    "qa_metrics = [\"accuracy\"]\n",
    "\n",
    "model.compile(optimizer=optimizer, loss=loss, metrics=qa_metrics)"
   ],
   "metadata": {
    "collapsed": false,
    "ExecuteTime": {
     "end_time": "2023-12-03T17:19:48.032380400Z",
     "start_time": "2023-12-03T17:19:48.009851100Z"
    }
   },
   "id": "da49e555f4799d26"
  },
  {
   "cell_type": "code",
   "execution_count": 18,
   "outputs": [
    {
     "name": "stdout",
     "output_type": "stream",
     "text": [
      "INFO:tensorflow:Mixed precision compatibility check (mixed_float16): OK\n",
      "Your GPU will likely run quickly with dtype policy mixed_float16 as it has compute capability of at least 7.0. Your GPU: NVIDIA GeForce RTX 3070 Ti, compute capability 8.6\n"
     ]
    }
   ],
   "source": [
    "tf.keras.mixed_precision.set_global_policy(\"mixed_float16\")"
   ],
   "metadata": {
    "collapsed": false,
    "ExecuteTime": {
     "end_time": "2023-12-03T17:19:48.044894500Z",
     "start_time": "2023-12-03T17:19:48.025866700Z"
    }
   },
   "id": "bb7796ad3f812abd"
  },
  {
   "cell_type": "markdown",
   "source": [
    "# Model training"
   ],
   "metadata": {
    "collapsed": false
   },
   "id": "32514c497310e30f"
  },
  {
   "cell_type": "code",
   "execution_count": null,
   "outputs": [],
   "source": [
    "history = model.fit(\n",
    "    tf_train_dataset,\n",
    "    validation_data=tf_val_dataset,\n",
    "    epochs=train_epochs,\n",
    "    callbacks=callbacks,\n",
    ")"
   ],
   "metadata": {
    "collapsed": false
   },
   "id": "69e9da3716d079d2"
  },
  {
   "cell_type": "code",
   "execution_count": null,
   "outputs": [],
   "source": [
    "history = history.history"
   ],
   "metadata": {
    "collapsed": false
   },
   "id": "dbb40c8885071757"
  },
  {
   "cell_type": "code",
   "execution_count": null,
   "outputs": [],
   "source": [
    "core_qa_utils.save_dict_as_json(\n",
    "    dictionary=history, dir_path=model_evaluation_dir, filename=\"history.json\"\n",
    ")"
   ],
   "metadata": {
    "collapsed": false
   },
   "id": "9c7c36d2bef3b5bb"
  },
  {
   "cell_type": "code",
   "execution_count": null,
   "outputs": [],
   "source": [
    "# Plot training figures\n",
    "core_qa_utils.plot_and_save_fig_from_history(\n",
    "    history,\n",
    "    attributes=[\"start_logits_accuracy\", \"val_start_logits_accuracy\"],\n",
    "    title=\"Model start logits accuracy\",\n",
    "    y_label=\"Accuracy\",\n",
    "    x_label=\"Epoch\",\n",
    "    legend_descriptors=[\"Train\", \"Val\"],\n",
    "    figure_dir_path=figures_dir,\n",
    "    figure_filename=f\"{full_model_name}_start_accuracy.png\",\n",
    ")\n",
    "\n",
    "core_qa_utils.plot_and_save_fig_from_history(\n",
    "    history,\n",
    "    attributes=[\"end_logits_accuracy\", \"val_end_logits_accuracy\"],\n",
    "    title=\"Model end logits accuracy\",\n",
    "    y_label=\"Accuracy\",\n",
    "    x_label=\"Epoch\",\n",
    "    legend_descriptors=[\"Train\", \"Val\"],\n",
    "    figure_dir_path=figures_dir,\n",
    "    figure_filename=f\"{full_model_name}_end_accuracy.png\",\n",
    ")\n",
    "\n",
    "core_qa_utils.plot_and_save_fig_from_history(\n",
    "    history,\n",
    "    attributes=[\"loss\", \"val_loss\"],\n",
    "    title=\"Model loss\",\n",
    "    y_label=\"Loss\",\n",
    "    x_label=\"Epoch\",\n",
    "    legend_descriptors=[\"Train\", \"Val\"],\n",
    "    figure_dir_path=figures_dir,\n",
    "    figure_filename=f\"{full_model_name}_loss.png\",\n",
    ")\n",
    "\n",
    "core_qa_utils.plot_and_save_fig_from_history(\n",
    "    history,\n",
    "    attributes=[\"start_logits_loss\", \"val_start_logits_loss\"],\n",
    "    title=\"Model start logits loss\",\n",
    "    y_label=\"Loss\",\n",
    "    x_label=\"Epoch\",\n",
    "    legend_descriptors=[\"Train\", \"Val\"],\n",
    "    figure_dir_path=figures_dir,\n",
    "    figure_filename=f\"{full_model_name}_start_loss.png\",\n",
    ")\n",
    "\n",
    "core_qa_utils.plot_and_save_fig_from_history(\n",
    "    history,\n",
    "    attributes=[\"end_logits_loss\", \"val_end_logits_loss\"],\n",
    "    title=\"Model end logits loss\",\n",
    "    y_label=\"Loss\",\n",
    "    x_label=\"Epoch\",\n",
    "    legend_descriptors=[\"Train\", \"Val\"],\n",
    "    figure_dir_path=figures_dir,\n",
    "    figure_filename=f\"{full_model_name}_end_loss.png\",\n",
    ")"
   ],
   "metadata": {
    "collapsed": false
   },
   "id": "5ac4e46e59fa49f7"
  },
  {
   "cell_type": "markdown",
   "source": [
    "# Saving model's best version & training data"
   ],
   "metadata": {
    "collapsed": false
   },
   "id": "93a52c999ea30b09"
  },
  {
   "cell_type": "code",
   "execution_count": null,
   "outputs": [],
   "source": [
    "history = core_qa_utils.read_json_as_dict(model_evaluation_dir / \"history.json\")"
   ],
   "metadata": {
    "collapsed": false
   },
   "id": "eac7028fb72e801a"
  },
  {
   "cell_type": "code",
   "execution_count": null,
   "outputs": [],
   "source": [
    "best_epoch = core_qa_utils.get_best_epoch(\n",
    "    history=history, metric=\"val_loss\", metric_evaluator=\"min\"\n",
    ")"
   ],
   "metadata": {
    "collapsed": false
   },
   "id": "312471adf3c11d2d"
  },
  {
   "cell_type": "code",
   "execution_count": null,
   "outputs": [],
   "source": [
    "training_data = {\n",
    "    \"history\": history,\n",
    "    \"attempted_epochs\": train_epochs,\n",
    "    \"best_epoch\": best_epoch,\n",
    "    \"training_time\": time_measure_cb.total_training_time(),\n",
    "    \"gpu\": core_qa_utils.get_gpu_name(),\n",
    "}"
   ],
   "metadata": {
    "collapsed": false
   },
   "id": "f585e5facae05bc6"
  },
  {
   "cell_type": "code",
   "execution_count": null,
   "outputs": [],
   "source": [
    "core_qa_utils.save_dict_as_json(\n",
    "    training_data, dir_path=model_evaluation_dir, filename=\"training_data.json\"\n",
    ")"
   ],
   "metadata": {
    "collapsed": false
   },
   "id": "68b8edd0e5d21ab9"
  },
  {
   "cell_type": "code",
   "execution_count": null,
   "outputs": [],
   "source": [
    "best_model = model_management.load_best_model_from_checkpoints(\n",
    "    model=model, model_name=full_model_name, epoch=best_epoch, remove_checkpoints=True\n",
    ")"
   ],
   "metadata": {
    "collapsed": false
   },
   "id": "74bc75f641ea947b"
  },
  {
   "cell_type": "code",
   "execution_count": null,
   "outputs": [],
   "source": [
    "model_management.save_model(model=best_model, model_name=full_model_name)"
   ],
   "metadata": {
    "collapsed": false
   },
   "id": "dcec2ea8d6fd3e56"
  },
  {
   "cell_type": "markdown",
   "source": [
    "# Getting predictions"
   ],
   "metadata": {
    "collapsed": false
   },
   "id": "d1379f37850fdce5"
  },
  {
   "cell_type": "code",
   "execution_count": 19,
   "outputs": [
    {
     "name": "stderr",
     "output_type": "stream",
     "text": [
      "All PyTorch model weights were used when initializing TFBertForQuestionAnswering.\n",
      "\n",
      "Some weights or buffers of the TF 2.0 model TFBertForQuestionAnswering were not initialized from the PyTorch model and are newly initialized: ['qa_outputs.weight', 'qa_outputs.bias']\n",
      "You should probably TRAIN this model on a down-stream task to be able to use it for predictions and inference.\n"
     ]
    }
   ],
   "source": [
    "loaded_model = model_management.load_model(\n",
    "    model_checkpoint=model_checkpoint, model_name=full_model_name\n",
    ")\n",
    "loaded_model.compile(optimizer=optimizer, loss=loss, metrics=qa_metrics)"
   ],
   "metadata": {
    "collapsed": false,
    "ExecuteTime": {
     "end_time": "2023-12-03T17:19:57.727191700Z",
     "start_time": "2023-12-03T17:19:55.231870200Z"
    }
   },
   "id": "f0219b014b5f9c7e"
  },
  {
   "cell_type": "code",
   "execution_count": 18,
   "outputs": [
    {
     "name": "stdout",
     "output_type": "stream",
     "text": [
      "2696/2696 [==============================] - 121s 43ms/step\n"
     ]
    }
   ],
   "source": [
    "output = loaded_model.predict(tf_test_dataset)"
   ],
   "metadata": {
    "collapsed": false,
    "ExecuteTime": {
     "end_time": "2023-12-03T08:16:25.886357100Z",
     "start_time": "2023-12-03T08:14:23.123066500Z"
    }
   },
   "id": "242fd4d0ca939f9e"
  },
  {
   "cell_type": "code",
   "execution_count": 19,
   "outputs": [],
   "source": [
    "# Get predictions\n",
    "output_start_logits = predictions.get_preds(\n",
    "    output, output_key=\"start_logits\", return_type=\"logits\"\n",
    ")\n",
    "output_end_logits = predictions.get_preds(\n",
    "    output, output_key=\"end_logits\", return_type=\"logits\"\n",
    ")\n",
    "\n",
    "output_start_positions = predictions.get_preds(\n",
    "    output, output_key=\"start_logits\", return_type=\"class\"\n",
    ")\n",
    "output_end_positions = predictions.get_preds(\n",
    "    output, output_key=\"end_logits\", return_type=\"class\"\n",
    ")"
   ],
   "metadata": {
    "collapsed": false,
    "ExecuteTime": {
     "end_time": "2023-12-03T08:16:25.932357800Z",
     "start_time": "2023-12-03T08:16:25.887369100Z"
    }
   },
   "id": "6b4a5f26d09850e6"
  },
  {
   "cell_type": "code",
   "execution_count": 27,
   "outputs": [],
   "source": [
    "def get_predicted_texts_for_multiple_n_best(\n",
    "        start_logits: np.ndarray,\n",
    "        end_logits: np.ndarray,\n",
    "        features: Dataset,\n",
    "        examples: Dataset,\n",
    "        n_best_variants: list[int],\n",
    "):\n",
    "    predicted_texts_for_varying_n_best = []\n",
    "    for n_best_variant in n_best_variants:\n",
    "        predicted_texts = predictions.get_predicted_texts(\n",
    "            start_logits=start_logits,\n",
    "            end_logits=end_logits,\n",
    "            features=features,\n",
    "            examples=examples,\n",
    "            n_best=n_best_variant,\n",
    "        )\n",
    "        predicted_texts_for_varying_n_best.append(predicted_texts)\n",
    "\n",
    "    return predicted_texts_for_varying_n_best"
   ],
   "metadata": {
    "collapsed": false,
    "ExecuteTime": {
     "end_time": "2023-12-03T10:04:49.166823100Z",
     "start_time": "2023-12-03T10:04:49.149222400Z"
    }
   },
   "id": "baf1c360ad0486d8"
  },
  {
   "cell_type": "code",
   "execution_count": 21,
   "outputs": [],
   "source": [
    "n_bests = [\"01\", \"02\", \"03\", \"05\", \"10\", \"20\"]\n",
    "\n",
    "textual_predictions_variants = get_predicted_texts_for_multiple_n_best(\n",
    "    start_logits=output_start_logits,\n",
    "    end_logits=output_end_logits,\n",
    "    features=tokenized_test_dataset,\n",
    "    examples=test_dataset,\n",
    "    n_best_variants=[int(n_best) for n_best in n_bests],\n",
    ")"
   ],
   "metadata": {
    "collapsed": false,
    "ExecuteTime": {
     "end_time": "2023-12-03T08:18:29.106765800Z",
     "start_time": "2023-12-03T08:16:25.964371200Z"
    }
   },
   "id": "bef045792bbbf40c"
  },
  {
   "cell_type": "markdown",
   "source": [
    "# Metrics & evaluation"
   ],
   "metadata": {
    "collapsed": false
   },
   "id": "170bbb1a00e2fd6"
  },
  {
   "cell_type": "markdown",
   "source": [
    "### Accuracies"
   ],
   "metadata": {
    "collapsed": false
   },
   "id": "f53a74579b729d7f"
  },
  {
   "cell_type": "code",
   "execution_count": 22,
   "outputs": [
    {
     "data": {
      "text/plain": "{'start_accuracy': 0.8177856083086054,\n 'end_accuracy': 0.8370734421364985,\n 'full_accuracy': 0.7366468842729971}"
     },
     "execution_count": 22,
     "metadata": {},
     "output_type": "execute_result"
    }
   ],
   "source": [
    "accuracies_metrics = squad_metrics.calculate_squad_accuracies(\n",
    "    start_actual=tokenized_test_dataset[\"start_positions\"],\n",
    "    end_actual=tokenized_test_dataset[\"end_positions\"],\n",
    "    start_preds=output_start_positions,\n",
    "    end_preds=output_end_positions,\n",
    ")\n",
    "accuracies_metrics"
   ],
   "metadata": {
    "collapsed": false,
    "ExecuteTime": {
     "end_time": "2023-12-03T08:18:29.194440900Z",
     "start_time": "2023-12-03T08:18:29.111774Z"
    }
   },
   "id": "146355ea50497b84"
  },
  {
   "cell_type": "markdown",
   "source": [
    "### Precision, recall, F1-score, exact match"
   ],
   "metadata": {
    "collapsed": false
   },
   "id": "987f4514b3173567"
  },
  {
   "cell_type": "code",
   "execution_count": 28,
   "outputs": [],
   "source": [
    "def calculate_all_variants_of_squad_qa_metrics(\n",
    "        answers: list[list[str]],\n",
    "        predicted_texts_variants: list[list[str]],\n",
    "):\n",
    "    metrics = []\n",
    "    for predicted_texts_variant in predicted_texts_variants:\n",
    "        non_normalized_metrics = squad_metrics.calculate_squad_qa_metrics(\n",
    "            answers=answers, predicted_texts=predicted_texts_variant, normalize=False\n",
    "        )\n",
    "        normalized_metrics = squad_metrics.calculate_squad_qa_metrics(\n",
    "            answers=answers, predicted_texts=predicted_texts_variant, normalize=True\n",
    "        )\n",
    "        metrics.append(non_normalized_metrics)\n",
    "        metrics.append(normalized_metrics)\n",
    "\n",
    "    return metrics"
   ],
   "metadata": {
    "collapsed": false,
    "ExecuteTime": {
     "end_time": "2023-12-03T10:04:52.284032200Z",
     "start_time": "2023-12-03T10:04:52.272374600Z"
    }
   },
   "id": "ef2748ea9de601f3"
  },
  {
   "cell_type": "code",
   "execution_count": null,
   "outputs": [],
   "source": [
    "qa_metrics = calculate_all_variants_of_squad_qa_metrics(\n",
    "    answers=test_dataset[\"answer_text\"],\n",
    "    predicted_texts_variants=textual_predictions_variants,\n",
    ")"
   ],
   "metadata": {
    "collapsed": false
   },
   "id": "8307e988fe617ca4"
  },
  {
   "cell_type": "markdown",
   "source": [
    "### Correct predictions by sentence lengths"
   ],
   "metadata": {
    "collapsed": false
   },
   "id": "9a4c7274bbb31ca3"
  },
  {
   "cell_type": "code",
   "execution_count": null,
   "outputs": [],
   "source": [
    "# # Plot correctness of the model by sentence length\n",
    "# core_qa_utils.plot_correct_predictions_by_sentence_length(\n",
    "#     sentences=model_predictions[\"context\"],\n",
    "#     correctly_predicted=model_predictions[\"correctly_predicted_lowercase\"],\n",
    "#     figure_path=figures_dir\n",
    "#                 / f\"{full_model_name}_context_sentence_lengths_to_correct_preds_0_300_50.png\",\n",
    "#     figure_title=\"Correctness by sentence length\",\n",
    "#     divider=50,\n",
    "#     min_threshold=0,\n",
    "#     max_threshold=300,\n",
    "# )\n",
    "#\n",
    "# core_qa_utils.plot_correct_predictions_by_sentence_length(\n",
    "#     sentences=model_predictions[\"context\"],\n",
    "#     correctly_predicted=model_predictions[\"correctly_predicted_lowercase\"],\n",
    "#     figure_path=figures_dir\n",
    "#                 / f\"{full_model_name}_context_sentence_lengths_to_correct_preds_0_400_80.png\",\n",
    "#     figure_title=\"Correctness by sentence length\",\n",
    "#     divider=80,\n",
    "#     min_threshold=0,\n",
    "#     max_threshold=400,\n",
    "# )\n",
    "#\n",
    "# core_qa_utils.plot_correct_predictions_by_sentence_length(\n",
    "#     sentences=model_predictions[\"context\"],\n",
    "#     correctly_predicted=model_predictions[\"correctly_predicted_lowercase\"],\n",
    "#     figure_path=figures_dir\n",
    "#                 / f\"{full_model_name}_context_sentence_lengths_to_correct_preds_0_400_100.png\",\n",
    "#     figure_title=\"Correctness by sentence length\",\n",
    "#     divider=100,\n",
    "#     min_threshold=0,\n",
    "#     max_threshold=400,\n",
    "# )\n",
    "#\n",
    "# core_qa_utils.plot_correct_predictions_by_sentence_length(\n",
    "#     sentences=model_predictions[\"context\"],\n",
    "#     correctly_predicted=model_predictions[\"correctly_predicted_lowercase\"],\n",
    "#     figure_path=figures_dir\n",
    "#                 / f\"{full_model_name}_context_sentence_lengths_to_correct_preds_30_180_30.png\",\n",
    "#     figure_title=\"Correctness by sentence length\",\n",
    "#     divider=30,\n",
    "#     min_threshold=30,\n",
    "#     max_threshold=180,\n",
    "# )"
   ],
   "metadata": {
    "collapsed": false
   },
   "id": "d1f498addb11ec85"
  },
  {
   "cell_type": "markdown",
   "source": [
    "### Saving evaluation data"
   ],
   "metadata": {
    "collapsed": false
   },
   "id": "b3f224f34abb4069"
  },
  {
   "cell_type": "code",
   "execution_count": 26,
   "outputs": [],
   "source": [
    "evaluation_data = {\n",
    "    \"accuracy\": accuracies_metrics,\n",
    "    \"precision\": {\n",
    "        f\"{n_bests[i // 2]}_best_{'normalized' if i % 2 else 'standard'}\": qa_metrics[\n",
    "            i\n",
    "        ][\"precision\"]\n",
    "        for i in range(len(n_bests) * 2)\n",
    "    },\n",
    "    \"recall\": {\n",
    "        f\"{n_bests[i // 2]}_best_{'normalized' if i % 2 else 'standard'}\": qa_metrics[\n",
    "            i\n",
    "        ][\"recall\"]\n",
    "        for i in range(len(n_bests) * 2)\n",
    "    },\n",
    "    \"f1\": {\n",
    "        f\"{n_bests[i // 2]}_best_{'normalized' if i % 2 else 'standard'}\": qa_metrics[\n",
    "            i\n",
    "        ][\"f1\"]\n",
    "        for i in range(len(n_bests) * 2)\n",
    "    },\n",
    "    \"exact_match\": {\n",
    "        f\"{n_bests[i // 2]}_best_{'normalized' if i % 2 else 'standard'}\": qa_metrics[\n",
    "            i\n",
    "        ][\"exact_match\"]\n",
    "        for i in range(len(n_bests) * 2)\n",
    "    },\n",
    "}"
   ],
   "metadata": {
    "collapsed": false,
    "ExecuteTime": {
     "end_time": "2023-12-03T08:21:51.509268500Z",
     "start_time": "2023-12-03T08:21:51.491256900Z"
    }
   },
   "id": "48e7282092beec13"
  },
  {
   "cell_type": "code",
   "execution_count": 27,
   "outputs": [],
   "source": [
    "core_qa_utils.save_dict_as_json(\n",
    "    evaluation_data, dir_path=model_evaluation_dir, filename=\"evaluation_data.json\"\n",
    ")"
   ],
   "metadata": {
    "collapsed": false,
    "ExecuteTime": {
     "end_time": "2023-12-03T08:21:51.998658700Z",
     "start_time": "2023-12-03T08:21:51.954569100Z"
    }
   },
   "id": "544224b9ade1f65"
  },
  {
   "cell_type": "markdown",
   "source": [
    "# Medical dataset evaluation"
   ],
   "metadata": {
    "collapsed": false
   },
   "id": "3ce42b75d20b8ae6"
  },
  {
   "cell_type": "code",
   "execution_count": 20,
   "outputs": [],
   "source": [
    "raw_medical_dataset = core_qa_utils.load_datasets_from_json(\n",
    "    dataset_path=extractive_qa_paths.medical_dataset_dir,\n",
    "    filenames=[\"original_medical.json\"],\n",
    ")[0]"
   ],
   "metadata": {
    "collapsed": false,
    "ExecuteTime": {
     "end_time": "2023-12-03T17:22:57.948856700Z",
     "start_time": "2023-12-03T17:22:57.910213200Z"
    }
   },
   "id": "ed2d361ca25bcbfe"
  },
  {
   "cell_type": "code",
   "execution_count": 59,
   "outputs": [],
   "source": [
    "window_size = 750"
   ],
   "metadata": {
    "collapsed": false,
    "ExecuteTime": {
     "end_time": "2023-12-03T13:36:45.261753800Z",
     "start_time": "2023-12-03T13:36:45.247241200Z"
    }
   },
   "id": "f0da7869352cdab6"
  },
  {
   "cell_type": "code",
   "execution_count": null,
   "outputs": [],
   "source": [
    "spanned_medical_dataset = medical_preprocessing.span_dataset(\n",
    "    dataset=raw_medical_dataset,\n",
    "    window=window_size,\n",
    ")"
   ],
   "metadata": {
    "collapsed": false
   },
   "id": "fb7a681cd24c63fd"
  },
  {
   "cell_type": "code",
   "execution_count": null,
   "outputs": [],
   "source": [
    "tokenized_medical_dataset = medical_preprocessing.preprocess_medical_test_dataset(\n",
    "    dataset=spanned_medical_dataset,\n",
    "    tokenizer=tokenizer,\n",
    "    max_length=max_length,\n",
    "    stride=stride,\n",
    "    remove_columns=spanned_medical_dataset.column_names\n",
    ")"
   ],
   "metadata": {
    "collapsed": false
   },
   "id": "2c75370f2ffd9cbe"
  },
  {
   "cell_type": "code",
   "execution_count": 75,
   "outputs": [],
   "source": [
    "tf_medical_dataset = core_qa_utils.convert_to_tf_dataset(\n",
    "    hf_dataset=tokenized_medical_dataset,\n",
    "    columns=[\"input_ids\", \"token_type_ids\", \"attention_mask\"],\n",
    "    label_cols=None,\n",
    "    collator=data_collator,\n",
    "    batch_size=batch_size,\n",
    ")"
   ],
   "metadata": {
    "collapsed": false,
    "ExecuteTime": {
     "end_time": "2023-12-03T13:40:17.270754700Z",
     "start_time": "2023-12-03T13:40:17.178059500Z"
    }
   },
   "id": "881e5f6c2df56da5"
  },
  {
   "cell_type": "markdown",
   "source": [
    "### Getting predictions"
   ],
   "metadata": {
    "collapsed": false
   },
   "id": "20cedbffbee43b64"
  },
  {
   "cell_type": "code",
   "execution_count": 76,
   "outputs": [
    {
     "name": "stdout",
     "output_type": "stream",
     "text": [
      "708/708 [==============================] - 30s 43ms/step\n"
     ]
    }
   ],
   "source": [
    "medical_output = loaded_model.predict(tf_medical_dataset)"
   ],
   "metadata": {
    "collapsed": false,
    "ExecuteTime": {
     "end_time": "2023-12-03T13:40:48.601921200Z",
     "start_time": "2023-12-03T13:40:17.841102500Z"
    }
   },
   "id": "c45e3ed2be190e09"
  },
  {
   "cell_type": "code",
   "execution_count": 77,
   "outputs": [],
   "source": [
    "# Get predictions\n",
    "medical_output_start_logits = predictions.get_preds(\n",
    "    medical_output, output_key=\"start_logits\", return_type=\"logits\"\n",
    ")\n",
    "medical_output_end_logits = predictions.get_preds(\n",
    "    medical_output, output_key=\"end_logits\", return_type=\"logits\"\n",
    ")\n",
    "\n",
    "medical_output_start_positions = predictions.get_preds(\n",
    "    medical_output, output_key=\"start_logits\", return_type=\"class\"\n",
    ")\n",
    "medical_output_end_positions = predictions.get_preds(\n",
    "    medical_output, output_key=\"end_logits\", return_type=\"class\"\n",
    ")"
   ],
   "metadata": {
    "collapsed": false,
    "ExecuteTime": {
     "end_time": "2023-12-03T13:41:06.073455100Z",
     "start_time": "2023-12-03T13:41:06.000402100Z"
    }
   },
   "id": "632a5181833863a9"
  },
  {
   "cell_type": "code",
   "execution_count": 90,
   "outputs": [],
   "source": [
    "n_bests = [\"01\", \"02\", \"03\", \"05\", \"10\", \"20\"]\n",
    "\n",
    "medical_textual_predictions_variants = get_predicted_texts_for_multiple_n_best(\n",
    "    start_logits=medical_output_start_logits,\n",
    "    end_logits=medical_output_end_logits,\n",
    "    features=tokenized_medical_dataset,\n",
    "    examples=spanned_medical_dataset,\n",
    "    n_best_variants=[int(n_best) for n_best in n_bests],\n",
    ")"
   ],
   "metadata": {
    "collapsed": false,
    "ExecuteTime": {
     "end_time": "2023-12-03T13:49:02.597734500Z",
     "start_time": "2023-12-03T13:48:29.520363800Z"
    }
   },
   "id": "b8061b2913302ee5"
  },
  {
   "cell_type": "markdown",
   "source": [
    "# Metrics & evaluation of medical dataset"
   ],
   "metadata": {
    "collapsed": false
   },
   "id": "1db0bd5f20842aff"
  },
  {
   "cell_type": "markdown",
   "source": [
    "### Accuracies"
   ],
   "metadata": {
    "collapsed": false
   },
   "id": "d967e406a06b244b"
  },
  {
   "cell_type": "code",
   "execution_count": 111,
   "outputs": [
    {
     "data": {
      "text/plain": "{'start_accuracy': 0.4344754503708937,\n 'end_accuracy': 0.3924408336276934,\n 'full_accuracy': 0.3306252207700459}"
     },
     "execution_count": 111,
     "metadata": {},
     "output_type": "execute_result"
    }
   ],
   "source": [
    "medical_accuracies_metrics = pure_metrics.calculate_pure_accuracies(\n",
    "    start_actual=tokenized_medical_dataset[\"start_positions\"],\n",
    "    end_actual=tokenized_medical_dataset[\"end_positions\"],\n",
    "    start_preds=medical_output_start_positions,\n",
    "    end_preds=medical_output_end_positions,\n",
    ")\n",
    "medical_accuracies_metrics"
   ],
   "metadata": {
    "collapsed": false,
    "ExecuteTime": {
     "end_time": "2023-12-03T14:29:51.986607500Z",
     "start_time": "2023-12-03T14:29:51.970584400Z"
    }
   },
   "id": "ecad578a8dfce421"
  },
  {
   "cell_type": "markdown",
   "source": [
    "### Precision, recall, F1-score, exact match"
   ],
   "metadata": {
    "collapsed": false
   },
   "id": "6089e8046c9084c6"
  },
  {
   "cell_type": "code",
   "execution_count": 92,
   "outputs": [],
   "source": [
    "def calculate_all_variants_of_pure_qa_metrics(\n",
    "        answers: list[str],\n",
    "        predicted_texts_variants: list[list[str]],\n",
    "):\n",
    "    metrics = []\n",
    "    for predicted_texts_variant in predicted_texts_variants:\n",
    "        non_normalized_metrics = pure_metrics.calculate_pure_qa_metrics(\n",
    "            answers=answers, predicted_texts=predicted_texts_variant, normalize=False\n",
    "        )\n",
    "        normalized_metrics = pure_metrics.calculate_pure_qa_metrics(\n",
    "            answers=answers, predicted_texts=predicted_texts_variant, normalize=True\n",
    "        )\n",
    "        metrics.append(non_normalized_metrics)\n",
    "        metrics.append(normalized_metrics)\n",
    "\n",
    "    return metrics"
   ],
   "metadata": {
    "collapsed": false,
    "ExecuteTime": {
     "end_time": "2023-12-03T13:49:13.075491200Z",
     "start_time": "2023-12-03T13:49:13.050386200Z"
    }
   },
   "id": "1ce9565052f0fc34"
  },
  {
   "cell_type": "code",
   "execution_count": 95,
   "outputs": [],
   "source": [
    "valid_answers = [sample[\"answer_text\"][0] for sample in spanned_medical_dataset]\n",
    "medical_qa_metrics = calculate_all_variants_of_pure_qa_metrics(\n",
    "    answers=valid_answers,\n",
    "    predicted_texts_variants=medical_textual_predictions_variants,\n",
    ")"
   ],
   "metadata": {
    "collapsed": false,
    "ExecuteTime": {
     "end_time": "2023-12-03T13:49:41.938685900Z",
     "start_time": "2023-12-03T13:49:40.178534700Z"
    }
   },
   "id": "3feb4110c2664c2"
  },
  {
   "cell_type": "code",
   "execution_count": null,
   "outputs": [],
   "source": [
    "# # Plot correctness of the model by sentence length\n",
    "# core_qa_utils.plot_correct_predictions_by_sentence_length(\n",
    "#     sentences=model_predictions[\"context\"],\n",
    "#     correctly_predicted=model_predictions[\"correctly_predicted_lowercase\"],\n",
    "#     figure_path=figures_dir\n",
    "#                 / f\"{full_model_name}_context_sentence_lengths_to_correct_preds_0_300_50.png\",\n",
    "#     figure_title=\"Correctness by sentence length\",\n",
    "#     divider=50,\n",
    "#     min_threshold=0,\n",
    "#     max_threshold=300,\n",
    "# )\n",
    "#\n",
    "# core_qa_utils.plot_correct_predictions_by_sentence_length(\n",
    "#     sentences=model_predictions[\"context\"],\n",
    "#     correctly_predicted=model_predictions[\"correctly_predicted_lowercase\"],\n",
    "#     figure_path=figures_dir\n",
    "#                 / f\"{full_model_name}_context_sentence_lengths_to_correct_preds_0_400_80.png\",\n",
    "#     figure_title=\"Correctness by sentence length\",\n",
    "#     divider=80,\n",
    "#     min_threshold=0,\n",
    "#     max_threshold=400,\n",
    "# )\n",
    "#\n",
    "# core_qa_utils.plot_correct_predictions_by_sentence_length(\n",
    "#     sentences=model_predictions[\"context\"],\n",
    "#     correctly_predicted=model_predictions[\"correctly_predicted_lowercase\"],\n",
    "#     figure_path=figures_dir\n",
    "#                 / f\"{full_model_name}_context_sentence_lengths_to_correct_preds_0_400_100.png\",\n",
    "#     figure_title=\"Correctness by sentence length\",\n",
    "#     divider=100,\n",
    "#     min_threshold=0,\n",
    "#     max_threshold=400,\n",
    "# )\n",
    "#\n",
    "# core_qa_utils.plot_correct_predictions_by_sentence_length(\n",
    "#     sentences=model_predictions[\"context\"],\n",
    "#     correctly_predicted=model_predictions[\"correctly_predicted_lowercase\"],\n",
    "#     figure_path=figures_dir\n",
    "#                 / f\"{full_model_name}_context_sentence_lengths_to_correct_preds_30_180_30.png\",\n",
    "#     figure_title=\"Correctness by sentence length\",\n",
    "#     divider=30,\n",
    "#     min_threshold=30,\n",
    "#     max_threshold=180,\n",
    "# )"
   ],
   "metadata": {
    "collapsed": false
   },
   "id": "4640ee7856015af8"
  },
  {
   "cell_type": "markdown",
   "source": [
    "### Saving evaluation data"
   ],
   "metadata": {
    "collapsed": false
   },
   "id": "f94282dee4ed898a"
  },
  {
   "cell_type": "code",
   "execution_count": 26,
   "outputs": [],
   "source": [
    "medical_evaluation_data = {\n",
    "    \"accuracy\": medical_accuracies_metrics,\n",
    "    \"precision\": {\n",
    "        f\"{n_bests[i // 2]}_best_{'normalized' if i % 2 else 'standard'}\": medical_qa_metrics[\n",
    "            i\n",
    "        ][\"precision\"]\n",
    "        for i in range(len(n_bests) * 2)\n",
    "    },\n",
    "    \"recall\": {\n",
    "        f\"{n_bests[i // 2]}_best_{'normalized' if i % 2 else 'standard'}\": medical_qa_metrics[\n",
    "            i\n",
    "        ][\"recall\"]\n",
    "        for i in range(len(n_bests) * 2)\n",
    "    },\n",
    "    \"f1\": {\n",
    "        f\"{n_bests[i // 2]}_best_{'normalized' if i % 2 else 'standard'}\": medical_qa_metrics[\n",
    "            i\n",
    "        ][\"f1\"]\n",
    "        for i in range(len(n_bests) * 2)\n",
    "    },\n",
    "    \"exact_match\": {\n",
    "        f\"{n_bests[i // 2]}_best_{'normalized' if i % 2 else 'standard'}\": medical_qa_metrics[\n",
    "            i\n",
    "        ][\"exact_match\"]\n",
    "        for i in range(len(n_bests) * 2)\n",
    "    },\n",
    "}"
   ],
   "metadata": {
    "collapsed": false
   },
   "id": "38240f26bc7b736d"
  },
  {
   "cell_type": "code",
   "execution_count": 27,
   "outputs": [],
   "source": [
    "core_qa_utils.save_dict_as_json(\n",
    "    medical_evaluation_data, dir_path=model_evaluation_dir, filename=\"medical_evaluation_data.json\"\n",
    ")"
   ],
   "metadata": {
    "collapsed": false
   },
   "id": "4f27f14061acebbe"
  },
  {
   "cell_type": "markdown",
   "source": [
    "# Saving complete results"
   ],
   "metadata": {
    "collapsed": false
   },
   "id": "c84b432412a8c031"
  },
  {
   "cell_type": "code",
   "execution_count": 28,
   "outputs": [],
   "source": [
    "training_data = core_qa_utils.read_json_as_dict(\n",
    "    model_evaluation_dir / \"training_data.json\"\n",
    ")"
   ],
   "metadata": {
    "collapsed": false,
    "ExecuteTime": {
     "end_time": "2023-12-02T13:11:52.573024400Z",
     "start_time": "2023-12-02T13:11:52.552152200Z"
    }
   },
   "id": "2540bcfcdaecb3b6"
  },
  {
   "cell_type": "code",
   "execution_count": 29,
   "outputs": [],
   "source": [
    "evaluation_data = core_qa_utils.read_json_as_dict(\n",
    "    model_evaluation_dir / \"evaluation_data.json\"\n",
    ")"
   ],
   "metadata": {
    "collapsed": false,
    "ExecuteTime": {
     "end_time": "2023-12-02T13:11:52.761996900Z",
     "start_time": "2023-12-02T13:11:52.732183700Z"
    }
   },
   "id": "eff15265ed0c0a"
  },
  {
   "cell_type": "code",
   "execution_count": null,
   "outputs": [],
   "source": [
    "medical_evaluation_data = core_qa_utils.read_json_as_dict(\n",
    "    model_evaluation_dir / \"medical_evaluation_data.json\"\n",
    ")"
   ],
   "metadata": {
    "collapsed": false
   },
   "id": "c30f281865f15644"
  },
  {
   "cell_type": "code",
   "execution_count": 30,
   "outputs": [],
   "source": [
    "complete_evaluation_data = {\"training\": training_data, \"evaluation\": evaluation_data, \"medical_evaluation\": medical_evaluation_data}"
   ],
   "metadata": {
    "collapsed": false,
    "ExecuteTime": {
     "end_time": "2023-12-02T13:11:53.075365500Z",
     "start_time": "2023-12-02T13:11:53.044286800Z"
    }
   },
   "id": "6b3910609c447d10"
  },
  {
   "cell_type": "code",
   "execution_count": 31,
   "outputs": [],
   "source": [
    "core_qa_utils.save_dict_as_json(\n",
    "    complete_evaluation_data,\n",
    "    dir_path=model_evaluation_dir,\n",
    "    filename=\"complete_evaluation_data.json\",\n",
    ")"
   ],
   "metadata": {
    "collapsed": false,
    "ExecuteTime": {
     "end_time": "2023-12-02T13:11:53.527019500Z",
     "start_time": "2023-12-02T13:11:53.508973200Z"
    }
   },
   "id": "7db76a5c2fea551"
  },
  {
   "cell_type": "code",
   "execution_count": null,
   "outputs": [],
   "source": [],
   "metadata": {
    "collapsed": false
   },
   "id": "10ff60e36548a61b"
  }
 ],
 "metadata": {
  "kernelspec": {
   "display_name": "Python 3",
   "language": "python",
   "name": "python3"
  },
  "language_info": {
   "codemirror_mode": {
    "name": "ipython",
    "version": 2
   },
   "file_extension": ".py",
   "mimetype": "text/x-python",
   "name": "python",
   "nbconvert_exporter": "python",
   "pygments_lexer": "ipython2",
   "version": "2.7.6"
  }
 },
 "nbformat": 4,
 "nbformat_minor": 5
}
