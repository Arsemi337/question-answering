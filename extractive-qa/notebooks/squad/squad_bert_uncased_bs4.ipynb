{
 "cells": [
  {
   "cell_type": "code",
   "execution_count": 1,
   "id": "initial_id",
   "metadata": {
    "collapsed": true,
    "ExecuteTime": {
     "end_time": "2023-11-04T22:59:12.863879300Z",
     "start_time": "2023-11-04T22:59:09.150290100Z"
    }
   },
   "outputs": [],
   "source": [
    "from transformers import (\n",
    "    AutoTokenizer,\n",
    "    TFAutoModelForQuestionAnswering,\n",
    "    DefaultDataCollator,\n",
    "    keras_callbacks,\n",
    ")\n",
    "import tensorflow as tf\n",
    "from huggingface_hub import notebook_login\n",
    "from question_answering.constants import constants\n",
    "from question_answering.utils import core_qa_utils, extractive_qa_utils\n",
    "from question_answering.paths import extractive_qa_paths"
   ]
  },
  {
   "cell_type": "code",
   "execution_count": 2,
   "id": "9b7529904f21909",
   "metadata": {
    "collapsed": false,
    "ExecuteTime": {
     "end_time": "2023-11-04T22:59:13.625681900Z",
     "start_time": "2023-11-04T22:59:12.866880400Z"
    }
   },
   "outputs": [],
   "source": [
    "df_train, df_val, df_test = core_qa_utils.load_train_val_test_datasets(\n",
    "    extractive_qa_paths.squad_dataset_dir\n",
    ")\n",
    "\n",
    "train_dataset, val_dataset, test_dataset = core_qa_utils.convert_dataframes_to_datasets(\n",
    "    [df_train, df_val, df_test]\n",
    ")"
   ]
  },
  {
   "cell_type": "code",
   "execution_count": 3,
   "id": "db291e0a",
   "metadata": {
    "ExecuteTime": {
     "end_time": "2023-11-04T22:59:14.396067800Z",
     "start_time": "2023-11-04T22:59:13.626680600Z"
    }
   },
   "outputs": [],
   "source": [
    "model_checkpoint = \"bert-base-uncased\"\n",
    "tokenizer = AutoTokenizer.from_pretrained(model_checkpoint)"
   ]
  },
  {
   "cell_type": "code",
   "execution_count": 4,
   "id": "0d177b07",
   "metadata": {
    "collapsed": false,
    "ExecuteTime": {
     "end_time": "2023-11-04T23:00:02.768350800Z",
     "start_time": "2023-11-04T22:59:14.403067100Z"
    }
   },
   "outputs": [
    {
     "data": {
      "text/plain": "Map:   0%|          | 0/68716 [00:00<?, ? examples/s]",
      "application/vnd.jupyter.widget-view+json": {
       "version_major": 2,
       "version_minor": 0,
       "model_id": "85db26cf19164bb987620c17301b1652"
      }
     },
     "metadata": {},
     "output_type": "display_data"
    },
    {
     "name": "stderr",
     "output_type": "stream",
     "text": [
      "Token indices sequence length is longer than the specified maximum sequence length for this model (520 > 512). Running this sequence through the model will result in indexing errors\n"
     ]
    },
    {
     "data": {
      "text/plain": "Map:   0%|          | 0/14724 [00:00<?, ? examples/s]",
      "application/vnd.jupyter.widget-view+json": {
       "version_major": 2,
       "version_minor": 0,
       "model_id": "062df5f668c84e989f3c6f621ed8edca"
      }
     },
     "metadata": {},
     "output_type": "display_data"
    },
    {
     "data": {
      "text/plain": "Map:   0%|          | 0/14725 [00:00<?, ? examples/s]",
      "application/vnd.jupyter.widget-view+json": {
       "version_major": 2,
       "version_minor": 0,
       "model_id": "b7226e6fc4c94d67897def0f0a1fd7b4"
      }
     },
     "metadata": {},
     "output_type": "display_data"
    },
    {
     "name": "stdout",
     "output_type": "stream",
     "text": [
      "Max number of tokens in tokenized train dataset:  870\n",
      "Max number of tokens in tokenized val dataset:  866\n",
      "Max number of tokens in tokenized test dataset:  817\n"
     ]
    }
   ],
   "source": [
    "def tokenize_sample(sample, max_tokens=None, padding=False):\n",
    "    question = sample[\"question\"].strip()\n",
    "    context = sample[\"context\"].strip()\n",
    "\n",
    "    return tokenizer(question, context, max_length=max_tokens, padding=padding)\n",
    "\n",
    "\n",
    "tokenized_train_dataset = train_dataset.map(tokenize_sample)\n",
    "tokenized_val_dataset = val_dataset.map(tokenize_sample)\n",
    "tokenized_test_dataset = test_dataset.map(tokenize_sample)\n",
    "\n",
    "print(\n",
    "    \"Max number of tokens in tokenized train dataset: \",\n",
    "    len(max(tokenized_train_dataset[\"input_ids\"], key=len)),\n",
    ")\n",
    "print(\n",
    "    \"Max number of tokens in tokenized val dataset: \",\n",
    "    len(max(tokenized_val_dataset[\"input_ids\"], key=len)),\n",
    ")\n",
    "print(\n",
    "    \"Max number of tokens in tokenized test dataset: \",\n",
    "    len(max(tokenized_test_dataset[\"input_ids\"], key=len)),\n",
    ")"
   ]
  },
  {
   "cell_type": "code",
   "execution_count": 5,
   "id": "10e53325b1b3a28b",
   "metadata": {
    "collapsed": false,
    "ExecuteTime": {
     "end_time": "2023-11-04T23:00:37.631551200Z",
     "start_time": "2023-11-04T23:00:02.771349500Z"
    }
   },
   "outputs": [
    {
     "name": "stderr",
     "output_type": "stream",
     "text": [
      "Parameter 'indices'=<generator object filter_samples_below_number_of_tokens.<locals>.<genexpr> at 0x0000023C5CB32EA0> of the transform datasets.arrow_dataset.Dataset.select couldn't be hashed properly, a random hash was used instead. Make sure your transforms and parameters are serializable with pickle or dill for the dataset fingerprinting and caching to work. If you reuse this transform, the caching mechanism will consider it to be different from the previous calls and recompute everything. This warning is only showed once. Subsequent hashing failures won't be showed.\n"
     ]
    }
   ],
   "source": [
    "max_length = 384\n",
    "\n",
    "\n",
    "def filter_samples_below_number_of_tokens(dataset, max_tokens: int):\n",
    "    indices_to_remove = []\n",
    "\n",
    "    # Find indices of samples where number of tokens exceeds max number of tokens\n",
    "    for index, sample in enumerate(dataset):\n",
    "        tokenized_sample = tokenize_sample(sample)\n",
    "        if len(tokenized_sample[\"input_ids\"]) > max_tokens:\n",
    "            indices_to_remove.append(index)\n",
    "\n",
    "    # Keep only samples with number of tokens less or equal than max number of tokens\n",
    "    dataset_indices = range(len(dataset))\n",
    "    filtered_dataset = dataset.select(\n",
    "        index for index in dataset_indices if index not in set(indices_to_remove)\n",
    "    )\n",
    "\n",
    "    return filtered_dataset\n",
    "\n",
    "\n",
    "filtered_train_dataset = filter_samples_below_number_of_tokens(\n",
    "    train_dataset, max_tokens=max_length\n",
    ")\n",
    "filtered_val_dataset = filter_samples_below_number_of_tokens(\n",
    "    val_dataset, max_tokens=max_length\n",
    ")\n",
    "filtered_test_dataset = filter_samples_below_number_of_tokens(\n",
    "    test_dataset, max_tokens=max_length\n",
    ")"
   ]
  },
  {
   "cell_type": "code",
   "execution_count": 6,
   "id": "c1aebcb2",
   "metadata": {
    "collapsed": false,
    "ExecuteTime": {
     "end_time": "2023-11-04T23:00:37.646573Z",
     "start_time": "2023-11-04T23:00:37.632546100Z"
    }
   },
   "outputs": [
    {
     "name": "stdout",
     "output_type": "stream",
     "text": [
      "Number of samples in tokenized train dataset before filtering:  68716\n",
      "Number of samples in tokenized val dataset before filtering:  14724\n",
      "Number of samples in tokenized test dataset before filtering:  14725\n",
      "\n",
      "---------------\n",
      "\n",
      "Number of samples in tokenized train dataset after filtering:  67964\n",
      "Number of samples in tokenized val dataset after filtering:  14573\n",
      "Number of samples in tokenized test dataset after filtering:  14552\n"
     ]
    }
   ],
   "source": [
    "print(\n",
    "    \"Number of samples in tokenized train dataset before filtering: \",\n",
    "    len(train_dataset),\n",
    ")\n",
    "print(\"Number of samples in tokenized val dataset before filtering: \", len(val_dataset))\n",
    "print(\n",
    "    \"Number of samples in tokenized test dataset before filtering: \", len(test_dataset)\n",
    ")\n",
    "\n",
    "print(\"\\n---------------\\n\")\n",
    "\n",
    "print(\n",
    "    \"Number of samples in tokenized train dataset after filtering: \",\n",
    "    len(filtered_train_dataset),\n",
    ")\n",
    "print(\n",
    "    \"Number of samples in tokenized val dataset after filtering: \",\n",
    "    len(filtered_val_dataset),\n",
    ")\n",
    "print(\n",
    "    \"Number of samples in tokenized test dataset after filtering: \",\n",
    "    len(filtered_test_dataset),\n",
    ")"
   ]
  },
  {
   "cell_type": "code",
   "execution_count": 7,
   "id": "cb6cdd06c7a27f8c",
   "metadata": {
    "collapsed": false,
    "ExecuteTime": {
     "end_time": "2023-11-04T23:00:37.669584300Z",
     "start_time": "2023-11-04T23:00:37.650572700Z"
    }
   },
   "outputs": [],
   "source": [
    "def preprocess_dataset(dataset):\n",
    "    questions = [q.strip() for q in dataset[\"question\"]]\n",
    "    contexts = [c.strip() for c in dataset[\"context\"]]\n",
    "\n",
    "    inputs = tokenizer(\n",
    "        questions,\n",
    "        contexts,\n",
    "        max_length=max_length,\n",
    "        padding=\"max_length\",\n",
    "        return_offsets_mapping=True,\n",
    "    )\n",
    "\n",
    "    offset_mapping = inputs.pop(\"offset_mapping\")\n",
    "\n",
    "    answer_start_indices = dataset[\"answer_start\"]\n",
    "    answer_texts = dataset[\"answer_text\"]\n",
    "    start_positions = []\n",
    "    end_positions = []\n",
    "\n",
    "    for index, offset in enumerate(offset_mapping):\n",
    "        start_char = answer_start_indices[index]\n",
    "        end_char = start_char + len(answer_texts[index])\n",
    "        sequence_ids = inputs.sequence_ids(index)\n",
    "\n",
    "        # Find the start and end token indices of the context\n",
    "        idx = 0\n",
    "        while sequence_ids[idx] != 1:\n",
    "            idx += 1\n",
    "        context_start = idx\n",
    "        while sequence_ids[idx] == 1:\n",
    "            idx += 1\n",
    "        context_end = idx - 1\n",
    "\n",
    "        idx = context_start\n",
    "        while idx <= context_end and offset[idx][0] <= start_char:\n",
    "            idx += 1\n",
    "        start_positions.append(idx - 1)\n",
    "\n",
    "        idx = context_end\n",
    "        while idx >= context_start and offset[idx][1] >= end_char:\n",
    "            idx -= 1\n",
    "        end_positions.append(idx + 1)\n",
    "\n",
    "    inputs[\"start_positions\"] = start_positions\n",
    "    inputs[\"end_positions\"] = end_positions\n",
    "    return inputs"
   ]
  },
  {
   "cell_type": "code",
   "execution_count": 8,
   "id": "3b72cf37",
   "metadata": {
    "ExecuteTime": {
     "end_time": "2023-11-04T23:01:00.524906300Z",
     "start_time": "2023-11-04T23:00:37.664583800Z"
    }
   },
   "outputs": [
    {
     "data": {
      "text/plain": "Map:   0%|          | 0/67964 [00:00<?, ? examples/s]",
      "application/vnd.jupyter.widget-view+json": {
       "version_major": 2,
       "version_minor": 0,
       "model_id": "0029e258a82645ce8662ff88fa7f0438"
      }
     },
     "metadata": {},
     "output_type": "display_data"
    },
    {
     "data": {
      "text/plain": "Map:   0%|          | 0/14573 [00:00<?, ? examples/s]",
      "application/vnd.jupyter.widget-view+json": {
       "version_major": 2,
       "version_minor": 0,
       "model_id": "0be3745ebc91476b9eb665761c1df060"
      }
     },
     "metadata": {},
     "output_type": "display_data"
    },
    {
     "data": {
      "text/plain": "Map:   0%|          | 0/14552 [00:00<?, ? examples/s]",
      "application/vnd.jupyter.widget-view+json": {
       "version_major": 2,
       "version_minor": 0,
       "model_id": "282b287cb2244047aa2dec7f64ce9caa"
      }
     },
     "metadata": {},
     "output_type": "display_data"
    }
   ],
   "source": [
    "tokenized_train_dataset = filtered_train_dataset.map(\n",
    "    preprocess_dataset,\n",
    "    batched=True,\n",
    "    remove_columns=filtered_train_dataset.column_names,\n",
    ")\n",
    "tokenized_val_dataset = filtered_val_dataset.map(\n",
    "    preprocess_dataset,\n",
    "    batched=True,\n",
    "    remove_columns=filtered_val_dataset.column_names,\n",
    ")\n",
    "tokenized_test_dataset = filtered_test_dataset.map(\n",
    "    preprocess_dataset,\n",
    "    batched=True,\n",
    "    remove_columns=filtered_test_dataset.column_names,\n",
    ")"
   ]
  },
  {
   "cell_type": "code",
   "execution_count": 9,
   "id": "9fc093e38a8b9eb4",
   "metadata": {
    "collapsed": false,
    "ExecuteTime": {
     "end_time": "2023-11-04T23:01:10.618513500Z",
     "start_time": "2023-11-04T23:01:00.527907500Z"
    }
   },
   "outputs": [
    {
     "name": "stdout",
     "output_type": "stream",
     "text": [
      "All tokenized train dataset entries have 384 tokens:  True\n",
      "All tokenized val dataset entries have 384 tokens:  True\n",
      "All tokenized test dataset entries have 384 tokens:  True\n"
     ]
    }
   ],
   "source": [
    "print(\n",
    "    f\"All tokenized train dataset entries have {max_length} tokens: \",\n",
    "    all(\n",
    "        [\n",
    "            len(input_ids) == max_length\n",
    "            for input_ids in tokenized_train_dataset[\"input_ids\"]\n",
    "        ]\n",
    "    ),\n",
    ")\n",
    "print(\n",
    "    f\"All tokenized val dataset entries have {max_length} tokens: \",\n",
    "    all(\n",
    "        [\n",
    "            len(input_ids) == max_length\n",
    "            for input_ids in tokenized_val_dataset[\"input_ids\"]\n",
    "        ]\n",
    "    ),\n",
    ")\n",
    "print(\n",
    "    f\"All tokenized test dataset entries have {max_length} tokens: \",\n",
    "    all(\n",
    "        [\n",
    "            len(input_ids) == max_length\n",
    "            for input_ids in tokenized_test_dataset[\"input_ids\"]\n",
    "        ]\n",
    "    ),\n",
    ")"
   ]
  },
  {
   "cell_type": "code",
   "execution_count": 10,
   "id": "72e1f89c3dcff7b",
   "metadata": {
    "collapsed": false,
    "ExecuteTime": {
     "end_time": "2023-11-04T23:01:10.641521200Z",
     "start_time": "2023-11-04T23:01:10.620512200Z"
    }
   },
   "outputs": [],
   "source": [
    "# Model parameters\n",
    "full_model_name = \"squad-bert-uncased-bs4\"\n",
    "\n",
    "# Checkpoints\n",
    "checkpoint_filename_template = constants.checkpoint_filename_template\n",
    "checkpoints_path = (\n",
    "    extractive_qa_paths.training_checkpoints_dir\n",
    "    / full_model_name\n",
    "    / checkpoint_filename_template\n",
    ")\n",
    "\n",
    "# Hub\n",
    "hub_path = extractive_qa_paths.hub_models_location / full_model_name\n",
    "\n",
    "# Saved models\n",
    "saved_models_path = extractive_qa_paths.saved_models_dir / full_model_name\n",
    "\n",
    "# Figures\n",
    "figures_dir = extractive_qa_paths.figures_dir / full_model_name\n",
    "\n",
    "# Hyperparameters\n",
    "batch_size = 4\n",
    "train_epochs = 10"
   ]
  },
  {
   "cell_type": "code",
   "execution_count": 11,
   "id": "9d5bedb4",
   "metadata": {
    "ExecuteTime": {
     "end_time": "2023-11-04T23:01:17.156607100Z",
     "start_time": "2023-11-04T23:01:10.635522100Z"
    }
   },
   "outputs": [
    {
     "name": "stderr",
     "output_type": "stream",
     "text": [
      "All PyTorch model weights were used when initializing TFBertForQuestionAnswering.\n",
      "\n",
      "Some weights or buffers of the TF 2.0 model TFBertForQuestionAnswering were not initialized from the PyTorch model and are newly initialized: ['qa_outputs.weight', 'qa_outputs.bias']\n",
      "You should probably TRAIN this model on a down-stream task to be able to use it for predictions and inference.\n"
     ]
    }
   ],
   "source": [
    "# Load model for fine-tuning\n",
    "model = TFAutoModelForQuestionAnswering.from_pretrained(model_checkpoint)"
   ]
  },
  {
   "cell_type": "code",
   "execution_count": 12,
   "id": "5a9266b102c3f216",
   "metadata": {
    "collapsed": false,
    "ExecuteTime": {
     "end_time": "2023-11-04T23:01:17.394633800Z",
     "start_time": "2023-11-04T23:01:17.158607100Z"
    }
   },
   "outputs": [],
   "source": [
    "# Dataset preparation\n",
    "data_collator = DefaultDataCollator(return_tensors=\"tf\")\n",
    "\n",
    "tf_train_dataset = core_qa_utils.convert_to_tf_dataset(\n",
    "    hf_dataset=tokenized_train_dataset,\n",
    "    columns=[\"input_ids\", \"token_type_ids\", \"attention_mask\"],\n",
    "    label_cols=[\"start_positions\", \"end_positions\"],\n",
    "    collator=data_collator,\n",
    "    batch_size=batch_size,\n",
    ")\n",
    "\n",
    "tf_val_dataset = core_qa_utils.convert_to_tf_dataset(\n",
    "    hf_dataset=tokenized_val_dataset,\n",
    "    columns=[\"input_ids\", \"token_type_ids\", \"attention_mask\"],\n",
    "    label_cols=[\"start_positions\", \"end_positions\"],\n",
    "    collator=data_collator,\n",
    "    batch_size=batch_size,\n",
    ")\n",
    "\n",
    "tf_test_dataset = core_qa_utils.convert_to_tf_dataset(\n",
    "    hf_dataset=tokenized_test_dataset,\n",
    "    columns=[\"input_ids\", \"token_type_ids\", \"attention_mask\"],\n",
    "    label_cols=[\"start_positions\", \"end_positions\"],\n",
    "    collator=data_collator,\n",
    "    batch_size=batch_size,\n",
    ")"
   ]
  },
  {
   "cell_type": "code",
   "execution_count": 13,
   "id": "c73e96cd",
   "metadata": {
    "ExecuteTime": {
     "end_time": "2023-11-04T23:01:17.410071900Z",
     "start_time": "2023-11-04T23:01:17.395632900Z"
    }
   },
   "outputs": [],
   "source": [
    "# Login to hugging face hub in order to store the model there\n",
    "# notebook_login()"
   ]
  },
  {
   "cell_type": "code",
   "execution_count": 14,
   "id": "a10641c9",
   "metadata": {
    "ExecuteTime": {
     "end_time": "2023-11-04T23:01:17.427434500Z",
     "start_time": "2023-11-04T23:01:17.414073Z"
    }
   },
   "outputs": [],
   "source": [
    "# Callbacks\n",
    "checkpoint_cb = tf.keras.callbacks.ModelCheckpoint(\n",
    "    checkpoints_path, verbose=1, save_weights_only=True\n",
    ")\n",
    "early_stop_cb = tf.keras.callbacks.EarlyStopping(patience=1)\n",
    "# push_to_hub = keras_callbacks.PushToHubCallback(\n",
    "#     output_dir=full_model_name, tokenizer=tokenizer\n",
    "# )\n",
    "\n",
    "callbacks = [\n",
    "    checkpoint_cb,\n",
    "    early_stop_cb,\n",
    "    # push_to_hub\n",
    "]"
   ]
  },
  {
   "cell_type": "code",
   "execution_count": 15,
   "id": "f4ec7915adf3b24c",
   "metadata": {
    "collapsed": false,
    "ExecuteTime": {
     "end_time": "2023-11-04T23:01:17.465587100Z",
     "start_time": "2023-11-04T23:01:17.428434300Z"
    }
   },
   "outputs": [
    {
     "name": "stdout",
     "output_type": "stream",
     "text": [
      "INFO:tensorflow:Mixed precision compatibility check (mixed_float16): OK\n",
      "Your GPU will likely run quickly with dtype policy mixed_float16 as it has compute capability of at least 7.0. Your GPU: NVIDIA GeForce RTX 3070 Ti, compute capability 8.6\n"
     ]
    }
   ],
   "source": [
    "# Compile\n",
    "num_train_steps = len(tf_train_dataset) * train_epochs\n",
    "\n",
    "lr_scheduler = tf.keras.optimizers.schedules.PolynomialDecay(\n",
    "    initial_learning_rate=2e-5, end_learning_rate=0.0, decay_steps=num_train_steps\n",
    ")\n",
    "\n",
    "optimizer = tf.keras.optimizers.Adam(learning_rate=lr_scheduler)\n",
    "\n",
    "# Train in mixed-precision float16\n",
    "tf.keras.mixed_precision.set_global_policy(\"mixed_float16\")\n",
    "\n",
    "# Compile\n",
    "loss = tf.keras.losses.SparseCategoricalCrossentropy(from_logits=True)\n",
    "metrics = [\"accuracy\"]\n",
    "model.compile(optimizer=optimizer, loss=loss, metrics=metrics)"
   ]
  },
  {
   "cell_type": "code",
   "execution_count": 16,
   "id": "46ed3bc04bffb6bd",
   "metadata": {
    "collapsed": false,
    "ExecuteTime": {
     "end_time": "2023-11-04T23:01:17.498852600Z",
     "start_time": "2023-11-04T23:01:17.459591300Z"
    }
   },
   "outputs": [
    {
     "name": "stdout",
     "output_type": "stream",
     "text": [
      "Model: \"tf_bert_for_question_answering\"\n",
      "_________________________________________________________________\n",
      " Layer (type)                Output Shape              Param #   \n",
      "=================================================================\n",
      " bert (TFBertMainLayer)      multiple                  108891648 \n",
      "                                                                 \n",
      " qa_outputs (Dense)          multiple                  1538      \n",
      "                                                                 \n",
      "=================================================================\n",
      "Total params: 108,893,186\n",
      "Trainable params: 108,893,186\n",
      "Non-trainable params: 0\n",
      "_________________________________________________________________\n"
     ]
    }
   ],
   "source": [
    "model.summary()"
   ]
  },
  {
   "cell_type": "code",
   "execution_count": 17,
   "id": "943d016bd9af345c",
   "metadata": {
    "collapsed": false,
    "ExecuteTime": {
     "end_time": "2023-11-05T00:32:26.422033Z",
     "start_time": "2023-11-04T23:01:17.492847700Z"
    }
   },
   "outputs": [
    {
     "name": "stdout",
     "output_type": "stream",
     "text": [
      "Epoch 1/10\n",
      "16991/16991 [==============================] - ETA: 0s - loss: 2.5971 - end_logits_loss: 1.2530 - start_logits_loss: 1.3441 - end_logits_accuracy: 0.6570 - start_logits_accuracy: 0.6185\n",
      "Epoch 1: saving model to D:\\dev\\projects\\question-answering\\extractive-qa\\training-checkpoints\\squad-bert-uncased-bs4\\cp-01.ckpt\n",
      "16991/16991 [==============================] - 2734s 160ms/step - loss: 2.5971 - end_logits_loss: 1.2530 - start_logits_loss: 1.3441 - end_logits_accuracy: 0.6570 - start_logits_accuracy: 0.6185 - val_loss: 1.9598 - val_end_logits_loss: 0.9413 - val_start_logits_loss: 1.0184 - val_end_logits_accuracy: 0.7367 - val_start_logits_accuracy: 0.6976\n",
      "Epoch 2/10\n",
      "16991/16991 [==============================] - ETA: 0s - loss: 1.5106 - end_logits_loss: 0.7193 - start_logits_loss: 0.7913 - end_logits_accuracy: 0.7846 - start_logits_accuracy: 0.7485\n",
      "Epoch 2: saving model to D:\\dev\\projects\\question-answering\\extractive-qa\\training-checkpoints\\squad-bert-uncased-bs4\\cp-02.ckpt\n",
      "16991/16991 [==============================] - 2735s 161ms/step - loss: 1.5106 - end_logits_loss: 0.7193 - start_logits_loss: 0.7913 - end_logits_accuracy: 0.7846 - start_logits_accuracy: 0.7485 - val_loss: 2.0788 - val_end_logits_loss: 0.9916 - val_start_logits_loss: 1.0871 - val_end_logits_accuracy: 0.7366 - val_start_logits_accuracy: 0.6984\n"
     ]
    }
   ],
   "source": [
    "# Fit the model on the new data\n",
    "history = model.fit(\n",
    "    tf_train_dataset,\n",
    "    validation_data=tf_val_dataset,\n",
    "    epochs=train_epochs,\n",
    "    callbacks=callbacks,\n",
    ")"
   ]
  },
  {
   "cell_type": "code",
   "execution_count": 18,
   "id": "72a57f5bd9b9438f",
   "metadata": {
    "collapsed": false,
    "ExecuteTime": {
     "end_time": "2023-11-05T00:32:27.948375400Z",
     "start_time": "2023-11-05T00:32:26.418035300Z"
    }
   },
   "outputs": [],
   "source": [
    "# Get best version of the model\n",
    "best_model = core_qa_utils.get_best_model_from_checkpoints(\n",
    "    model, history, model_name=full_model_name, remove_checkpoints=False\n",
    ")"
   ]
  },
  {
   "cell_type": "code",
   "execution_count": 19,
   "id": "f9673d7d1c09aece",
   "metadata": {
    "collapsed": false,
    "ExecuteTime": {
     "end_time": "2023-11-05T00:32:30.215779500Z",
     "start_time": "2023-11-05T00:32:27.949375300Z"
    }
   },
   "outputs": [],
   "source": [
    "# Save best model's weights\n",
    "extractive_qa_utils.save_model(best_model, model_name=full_model_name)"
   ]
  },
  {
   "cell_type": "code",
   "execution_count": 20,
   "id": "814c2fb7f961d268",
   "metadata": {
    "collapsed": false,
    "ExecuteTime": {
     "end_time": "2023-11-05T00:32:31.904049800Z",
     "start_time": "2023-11-05T00:32:30.216779500Z"
    }
   },
   "outputs": [],
   "source": [
    "# Load best model\n",
    "loaded_best_model = extractive_qa_utils.load_weights_into_model(\n",
    "    best_model, model_name=full_model_name\n",
    ")"
   ]
  },
  {
   "cell_type": "code",
   "execution_count": 21,
   "id": "5fcf4fbd43971926",
   "metadata": {
    "collapsed": false,
    "ExecuteTime": {
     "end_time": "2023-11-05T00:36:03.117696100Z",
     "start_time": "2023-11-05T00:32:31.905049100Z"
    }
   },
   "outputs": [
    {
     "name": "stdout",
     "output_type": "stream",
     "text": [
      "3638/3638 [==============================] - 211s 58ms/step - loss: 2.0011 - end_logits_loss: 0.9575 - start_logits_loss: 1.0436 - end_logits_accuracy: 0.7330 - start_logits_accuracy: 0.6921\n"
     ]
    }
   ],
   "source": [
    "# Get predictions from best_model\n",
    "best_model_preds = best_model.evaluate(tf_test_dataset)"
   ]
  },
  {
   "cell_type": "code",
   "execution_count": 22,
   "id": "5158f184f24da9bb",
   "metadata": {
    "collapsed": false,
    "ExecuteTime": {
     "end_time": "2023-11-05T00:39:34.225561Z",
     "start_time": "2023-11-05T00:36:03.111694800Z"
    }
   },
   "outputs": [
    {
     "name": "stdout",
     "output_type": "stream",
     "text": [
      "3638/3638 [==============================] - 211s 58ms/step - loss: 2.0011 - end_logits_loss: 0.9575 - start_logits_loss: 1.0436 - end_logits_accuracy: 0.7330 - start_logits_accuracy: 0.6921\n"
     ]
    }
   ],
   "source": [
    "loaded_best_model_preds = loaded_best_model.evaluate(tf_test_dataset)"
   ]
  },
  {
   "cell_type": "code",
   "execution_count": 23,
   "id": "48a8c08d0e3f253a",
   "metadata": {
    "collapsed": false,
    "ExecuteTime": {
     "end_time": "2023-11-05T00:39:34.227562600Z",
     "start_time": "2023-11-05T00:39:34.210562200Z"
    }
   },
   "outputs": [
    {
     "data": {
      "text/plain": "[2.0010883808135986,\n 0.9574692249298096,\n 1.0436187982559204,\n 0.732957661151886,\n 0.6921385526657104]"
     },
     "execution_count": 23,
     "metadata": {},
     "output_type": "execute_result"
    }
   ],
   "source": [
    "best_model_preds"
   ]
  },
  {
   "cell_type": "code",
   "execution_count": 24,
   "id": "7f3cdb076ee266cc",
   "metadata": {
    "collapsed": false,
    "ExecuteTime": {
     "end_time": "2023-11-05T00:39:34.287159900Z",
     "start_time": "2023-11-05T00:39:34.226560200Z"
    }
   },
   "outputs": [
    {
     "data": {
      "text/plain": "[2.0010883808135986,\n 0.9574692249298096,\n 1.0436187982559204,\n 0.732957661151886,\n 0.6921385526657104]"
     },
     "execution_count": 24,
     "metadata": {},
     "output_type": "execute_result"
    }
   ],
   "source": [
    "loaded_best_model_preds"
   ]
  },
  {
   "cell_type": "code",
   "execution_count": 25,
   "id": "ab81310e",
   "metadata": {
    "ExecuteTime": {
     "end_time": "2023-11-05T00:39:37.712161700Z",
     "start_time": "2023-11-05T00:39:34.242560600Z"
    }
   },
   "outputs": [
    {
     "name": "stderr",
     "output_type": "stream",
     "text": [
      "All PyTorch model weights were used when initializing TFBertForQuestionAnswering.\n",
      "\n",
      "Some weights or buffers of the TF 2.0 model TFBertForQuestionAnswering were not initialized from the PyTorch model and are newly initialized: ['qa_outputs.weight', 'qa_outputs.bias']\n",
      "You should probably TRAIN this model on a down-stream task to be able to use it for predictions and inference.\n"
     ]
    }
   ],
   "source": [
    "loaded_model = extractive_qa_utils.load_model(\n",
    "    model_checkpoint=model_checkpoint, model_name=full_model_name\n",
    ")"
   ]
  },
  {
   "cell_type": "code",
   "execution_count": 26,
   "id": "4f558471",
   "metadata": {
    "ExecuteTime": {
     "end_time": "2023-11-05T00:42:10.304821600Z",
     "start_time": "2023-11-05T00:39:37.714163Z"
    }
   },
   "outputs": [
    {
     "name": "stdout",
     "output_type": "stream",
     "text": [
      "3638/3638 [==============================] - 151s 41ms/step\n"
     ]
    }
   ],
   "source": [
    "loaded_model_preds = loaded_model.predict(tf_test_dataset)"
   ]
  },
  {
   "cell_type": "code",
   "execution_count": 27,
   "id": "290f9a17",
   "metadata": {
    "ExecuteTime": {
     "end_time": "2023-11-05T00:42:10.361819900Z",
     "start_time": "2023-11-05T00:42:10.305824800Z"
    }
   },
   "outputs": [],
   "source": [
    "loaded_model.compile(optimizer=optimizer, loss=loss, metrics=metrics)"
   ]
  },
  {
   "cell_type": "code",
   "execution_count": 28,
   "id": "70836820",
   "metadata": {
    "ExecuteTime": {
     "end_time": "2023-11-05T00:44:48.128217200Z",
     "start_time": "2023-11-05T00:42:10.338821400Z"
    }
   },
   "outputs": [
    {
     "name": "stdout",
     "output_type": "stream",
     "text": [
      "3638/3638 [==============================] - 158s 42ms/step - loss: 2.0011 - end_logits_loss: 0.9575 - start_logits_loss: 1.0436 - end_logits_accuracy: 0.7330 - start_logits_accuracy: 0.6922\n"
     ]
    }
   ],
   "source": [
    "loaded_model_evaluation = loaded_model.evaluate(tf_test_dataset)"
   ]
  },
  {
   "cell_type": "code",
   "execution_count": 29,
   "id": "cc068cb6",
   "metadata": {
    "ExecuteTime": {
     "end_time": "2023-11-05T00:44:48.992758600Z",
     "start_time": "2023-11-05T00:44:48.133214700Z"
    }
   },
   "outputs": [
    {
     "data": {
      "text/plain": "<Figure size 640x480 with 1 Axes>",
      "image/png": "[encoded data removed]"
     },
     "metadata": {},
     "output_type": "display_data"
    },
    {
     "data": {
      "text/plain": "<Figure size 640x480 with 1 Axes>",
      "image/png": "[encoded data removed]"
     },
     "metadata": {},
     "output_type": "display_data"
    },
    {
     "data": {
      "text/plain": "<Figure size 640x480 with 1 Axes>",
      "image/png": "[encoded data removed]"
     },
     "metadata": {},
     "output_type": "display_data"
    },
    {
     "data": {
      "text/plain": "<Figure size 640x480 with 1 Axes>",
      "image/png": "[encoded data removed]"
     },
     "metadata": {},
     "output_type": "display_data"
    },
    {
     "data": {
      "text/plain": "<Figure size 640x480 with 1 Axes>",
      "image/png": "[encoded data removed]"
     },
     "metadata": {},
     "output_type": "display_data"
    }
   ],
   "source": [
    "core_qa_utils.plot_and_save_fig_from_history(\n",
    "    history,\n",
    "    attributes=[\"start_logits_accuracy\", \"val_start_logits_accuracy\"],\n",
    "    title=\"Model start logits accuracy\",\n",
    "    y_label=\"Accuracy\",\n",
    "    x_label=\"Epoch\",\n",
    "    legend_descriptors=[\"Train\", \"Val\"],\n",
    "    figure_dir_path=figures_dir,\n",
    "    figure_filename=f\"{full_model_name}_start_accuracy.png\",\n",
    ")\n",
    "\n",
    "core_qa_utils.plot_and_save_fig_from_history(\n",
    "    history,\n",
    "    attributes=[\"end_logits_accuracy\", \"val_end_logits_accuracy\"],\n",
    "    title=\"Model end logits accuracy\",\n",
    "    y_label=\"Accuracy\",\n",
    "    x_label=\"Epoch\",\n",
    "    legend_descriptors=[\"Train\", \"Val\"],\n",
    "    figure_dir_path=figures_dir,\n",
    "    figure_filename=f\"{full_model_name}_end_accuracy.png\",\n",
    ")\n",
    "\n",
    "core_qa_utils.plot_and_save_fig_from_history(\n",
    "    history,\n",
    "    attributes=[\"loss\", \"val_loss\"],\n",
    "    title=\"Model loss\",\n",
    "    y_label=\"Loss\",\n",
    "    x_label=\"Epoch\",\n",
    "    legend_descriptors=[\"Train\", \"Val\"],\n",
    "    figure_dir_path=figures_dir,\n",
    "    figure_filename=f\"{full_model_name}_loss.png\",\n",
    ")\n",
    "\n",
    "core_qa_utils.plot_and_save_fig_from_history(\n",
    "    history,\n",
    "    attributes=[\"start_logits_loss\", \"val_start_logits_loss\"],\n",
    "    title=\"Model start logits loss\",\n",
    "    y_label=\"Loss\",\n",
    "    x_label=\"Epoch\",\n",
    "    legend_descriptors=[\"Train\", \"Val\"],\n",
    "    figure_dir_path=figures_dir,\n",
    "    figure_filename=f\"{full_model_name}_start_loss.png\",\n",
    ")\n",
    "\n",
    "core_qa_utils.plot_and_save_fig_from_history(\n",
    "    history,\n",
    "    attributes=[\"end_logits_loss\", \"val_end_logits_loss\"],\n",
    "    title=\"Model end logits loss\",\n",
    "    y_label=\"Loss\",\n",
    "    x_label=\"Epoch\",\n",
    "    legend_descriptors=[\"Train\", \"Val\"],\n",
    "    figure_dir_path=figures_dir,\n",
    "    figure_filename=f\"{full_model_name}_end_loss.png\",\n",
    ")"
   ]
  },
  {
   "cell_type": "code",
   "execution_count": 30,
   "id": "8b891316",
   "metadata": {
    "ExecuteTime": {
     "end_time": "2023-11-05T00:44:49.043761900Z",
     "start_time": "2023-11-05T00:44:48.983762300Z"
    }
   },
   "outputs": [],
   "source": [
    "start_preds = extractive_qa_utils.get_class_preds(\n",
    "    predictions=loaded_model_preds, output_key=\"start_logits\"\n",
    ")\n",
    "end_preds = extractive_qa_utils.get_class_preds(\n",
    "    predictions=loaded_model_preds, output_key=\"end_logits\"\n",
    ")"
   ]
  },
  {
   "cell_type": "code",
   "execution_count": 31,
   "id": "06a24da4",
   "metadata": {
    "ExecuteTime": {
     "end_time": "2023-11-05T00:44:49.138760900Z",
     "start_time": "2023-11-05T00:44:49.031760800Z"
    }
   },
   "outputs": [
    {
     "name": "stdout",
     "output_type": "stream",
     "text": [
      "Start positions precision score:  0.6922072567344695\n",
      "Start positions recall score:  0.6922072567344695\n",
      "Start positions F1 score:  0.6922072567344695\n"
     ]
    }
   ],
   "source": [
    "(\n",
    "    start_precision,\n",
    "    start_recall,\n",
    "    start_f1,\n",
    ") = extractive_qa_utils.get_classification_evaluation_metrics(\n",
    "    class_actual=tokenized_test_dataset[\"start_positions\"],\n",
    "    class_preds=start_preds,\n",
    "    average=\"micro\",\n",
    ")\n",
    "\n",
    "print(f\"Start positions precision score: \", start_precision)\n",
    "print(f\"Start positions recall score: \", start_recall)\n",
    "print(f\"Start positions F1 score: \", start_f1)"
   ]
  },
  {
   "cell_type": "code",
   "execution_count": 32,
   "id": "965931db",
   "metadata": {
    "ExecuteTime": {
     "end_time": "2023-11-05T00:44:49.144760800Z",
     "start_time": "2023-11-05T00:44:49.076761200Z"
    }
   },
   "outputs": [
    {
     "name": "stdout",
     "output_type": "stream",
     "text": [
      "End positions precision score:  0.7330263881253436\n",
      "End positions recall score:  0.7330263881253436\n",
      "End positions F1 score:  0.7330263881253436\n"
     ]
    }
   ],
   "source": [
    "(\n",
    "    end_precision,\n",
    "    end_recall,\n",
    "    end_f1,\n",
    ") = extractive_qa_utils.get_classification_evaluation_metrics(\n",
    "    class_actual=tokenized_test_dataset[\"end_positions\"],\n",
    "    class_preds=end_preds,\n",
    "    average=\"micro\",\n",
    ")\n",
    "\n",
    "print(f\"End positions precision score: \", end_precision)\n",
    "print(f\"End positions recall score: \", end_recall)\n",
    "print(f\"End positions F1 score: \", end_f1)"
   ]
  },
  {
   "cell_type": "code",
   "execution_count": 33,
   "id": "cd01a3b0",
   "metadata": {
    "ExecuteTime": {
     "end_time": "2023-11-05T00:44:51.427323300Z",
     "start_time": "2023-11-05T00:44:49.125759100Z"
    }
   },
   "outputs": [
    {
     "data": {
      "text/plain": "Map:   0%|          | 0/14552 [00:00<?, ? examples/s]",
      "application/vnd.jupyter.widget-view+json": {
       "version_major": 2,
       "version_minor": 0,
       "model_id": "2e49c6682d134f9e914ea32c854b763e"
      }
     },
     "metadata": {},
     "output_type": "display_data"
    }
   ],
   "source": [
    "model_predicted_answers = tokenized_test_dataset.map(\n",
    "    lambda row: extractive_qa_utils.extract_answer_tokens(row),\n",
    "    remove_columns=[\n",
    "        \"input_ids\",\n",
    "        \"token_type_ids\",\n",
    "        \"attention_mask\",\n",
    "        \"start_positions\",\n",
    "        \"end_positions\",\n",
    "    ],\n",
    ")"
   ]
  },
  {
   "cell_type": "code",
   "execution_count": 34,
   "id": "82f984b2",
   "metadata": {
    "ExecuteTime": {
     "end_time": "2023-11-05T00:44:52.176265Z",
     "start_time": "2023-11-05T00:44:51.429285800Z"
    }
   },
   "outputs": [
    {
     "data": {
      "text/plain": "Map:   0%|          | 0/14552 [00:00<?, ? examples/s]",
      "application/vnd.jupyter.widget-view+json": {
       "version_major": 2,
       "version_minor": 0,
       "model_id": "1e1b17874cb24dab8489f68d927b8a86"
      }
     },
     "metadata": {},
     "output_type": "display_data"
    }
   ],
   "source": [
    "model_predicted_answers = model_predicted_answers.map(\n",
    "    lambda row: {\n",
    "        \"answer_text\": extractive_qa_utils.decode_answer_tokens(row, tokenizer)\n",
    "    }\n",
    ")"
   ]
  },
  {
   "cell_type": "code",
   "execution_count": 35,
   "metadata": {
    "ExecuteTime": {
     "end_time": "2023-11-05T00:44:55.487501300Z",
     "start_time": "2023-11-05T00:44:52.179264700Z"
    }
   },
   "outputs": [
    {
     "data": {
      "text/plain": "Downloading builder script:   0%|          | 0.00/5.67k [00:00<?, ?B/s]",
      "application/vnd.jupyter.widget-view+json": {
       "version_major": 2,
       "version_minor": 0,
       "model_id": "9b3462d636b84e5f977b7c338c1496fe"
      }
     },
     "metadata": {},
     "output_type": "display_data"
    },
    {
     "name": "stdout",
     "output_type": "stream",
     "text": [
      "Exact match for original dataset:  0.4169186366135239\n",
      "Exact match case insensitive:  0.8523914238592634\n",
      "Exact match case insensitive and punctuation ignoring:  0.8530786146234195\n"
     ]
    }
   ],
   "source": [
    "(\n",
    "    exact_match_original,\n",
    "    exact_match_lowercase,\n",
    "    exact_match_lowercase_no_punctuation,\n",
    ") = extractive_qa_utils.calculate_pure_exact_match(\n",
    "    filtered_test_dataset, model_predicted_answers\n",
    ")\n",
    "\n",
    "print(f\"Exact match for original dataset: \", exact_match_original[\"exact_match\"])\n",
    "print(f\"Exact match case insensitive: \", exact_match_lowercase[\"exact_match\"])\n",
    "print(\n",
    "    f\"Exact match case insensitive and punctuation ignoring: \",\n",
    "    exact_match_lowercase_no_punctuation[\"exact_match\"],\n",
    ")"
   ],
   "id": "29d0a5decfa3bb91"
  },
  {
   "cell_type": "code",
   "execution_count": 36,
   "metadata": {
    "ExecuteTime": {
     "end_time": "2023-11-05T00:45:02.549618Z",
     "start_time": "2023-11-05T00:44:55.473505Z"
    }
   },
   "outputs": [
    {
     "data": {
      "text/plain": "Downloading builder script:   0%|          | 0.00/4.53k [00:00<?, ?B/s]",
      "application/vnd.jupyter.widget-view+json": {
       "version_major": 2,
       "version_minor": 0,
       "model_id": "424897a398424b9ea40e6b4b26967502"
      }
     },
     "metadata": {},
     "output_type": "display_data"
    },
    {
     "data": {
      "text/plain": "Downloading extra modules:   0%|          | 0.00/3.32k [00:00<?, ?B/s]",
      "application/vnd.jupyter.widget-view+json": {
       "version_major": 2,
       "version_minor": 0,
       "model_id": "72ef71b555984c9ca01577cefdc12dbd"
      }
     },
     "metadata": {},
     "output_type": "display_data"
    },
    {
     "data": {
      "text/plain": "Flattening the indices:   0%|          | 0/14552 [00:00<?, ? examples/s]",
      "application/vnd.jupyter.widget-view+json": {
       "version_major": 2,
       "version_minor": 0,
       "model_id": "890610e7c1e24dc3a75ff2e3ca7e8f82"
      }
     },
     "metadata": {},
     "output_type": "display_data"
    },
    {
     "name": "stdout",
     "output_type": "stream",
     "text": [
      "SQuAD exact match:  88.3177570093458\n",
      "SQuAD F1:  92.50495563005454\n"
     ]
    }
   ],
   "source": [
    "results = extractive_qa_utils.calculate_squad_exact_match(\n",
    "    filtered_test_dataset, model_predicted_answers\n",
    ")\n",
    "\n",
    "print(f\"SQuAD exact match: \", results[\"exact_match\"])\n",
    "print(f\"SQuAD F1: \", results[\"f1\"])"
   ],
   "id": "41640aecc0ad3076"
  },
  {
   "cell_type": "code",
   "execution_count": 36,
   "outputs": [],
   "source": [],
   "metadata": {
    "collapsed": false,
    "ExecuteTime": {
     "end_time": "2023-11-05T00:45:02.567228400Z",
     "start_time": "2023-11-05T00:45:02.537618100Z"
    }
   },
   "id": "1d6a8e12146bdfb8"
  }
 ],
 "metadata": {
  "kernelspec": {
   "name": "question_answering",
   "language": "python",
   "display_name": "question_answering"
  },
  "language_info": {
   "codemirror_mode": {
    "name": "ipython",
    "version": 3
   },
   "file_extension": ".py",
   "mimetype": "text/x-python",
   "name": "python",
   "nbconvert_exporter": "python",
   "pygments_lexer": "ipython3",
   "version": "3.10.13"
  }
 },
 "nbformat": 4,
 "nbformat_minor": 5
}
