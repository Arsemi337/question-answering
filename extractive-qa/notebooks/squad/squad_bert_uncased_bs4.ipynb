{
 "cells": [
  {
   "cell_type": "code",
   "execution_count": 1,
   "id": "initial_id",
   "metadata": {
    "collapsed": true,
    "ExecuteTime": {
     "end_time": "2023-11-05T15:57:57.043293500Z",
     "start_time": "2023-11-05T15:57:52.883657500Z"
    }
   },
   "outputs": [],
   "source": [
    "from transformers import (\n",
    "    AutoTokenizer,\n",
    "    TFAutoModelForQuestionAnswering,\n",
    "    DefaultDataCollator,\n",
    "    keras_callbacks,\n",
    ")\n",
    "import tensorflow as tf\n",
    "from huggingface_hub import notebook_login\n",
    "from question_answering.constants import constants\n",
    "from question_answering.utils import core_qa_utils, extractive_qa_utils\n",
    "from question_answering.paths import extractive_qa_paths"
   ]
  },
  {
   "cell_type": "code",
   "execution_count": 2,
   "id": "9b7529904f21909",
   "metadata": {
    "collapsed": false,
    "ExecuteTime": {
     "end_time": "2023-11-05T15:57:57.868336200Z",
     "start_time": "2023-11-05T15:57:57.045294400Z"
    }
   },
   "outputs": [],
   "source": [
    "df_train, df_val, df_test = core_qa_utils.load_train_val_test_datasets(\n",
    "    extractive_qa_paths.squad_dataset_dir\n",
    ")\n",
    "\n",
    "train_dataset, val_dataset, test_dataset = core_qa_utils.convert_dataframes_to_datasets(\n",
    "    [df_train, df_val, df_test]\n",
    ")"
   ]
  },
  {
   "cell_type": "code",
   "execution_count": 3,
   "id": "db291e0a",
   "metadata": {
    "ExecuteTime": {
     "end_time": "2023-11-05T15:57:58.636010600Z",
     "start_time": "2023-11-05T15:57:57.869337800Z"
    }
   },
   "outputs": [],
   "source": [
    "model_checkpoint = \"bert-base-uncased\"\n",
    "tokenizer = AutoTokenizer.from_pretrained(model_checkpoint)"
   ]
  },
  {
   "cell_type": "code",
   "execution_count": 4,
   "id": "0d177b07",
   "metadata": {
    "collapsed": false,
    "ExecuteTime": {
     "end_time": "2023-11-05T15:58:52.571044500Z",
     "start_time": "2023-11-05T15:57:58.643528600Z"
    }
   },
   "outputs": [
    {
     "data": {
      "text/plain": "Map:   0%|          | 0/68716 [00:00<?, ? examples/s]",
      "application/vnd.jupyter.widget-view+json": {
       "version_major": 2,
       "version_minor": 0,
       "model_id": "6602739260bb42b3b8ea49d964e66b7f"
      }
     },
     "metadata": {},
     "output_type": "display_data"
    },
    {
     "name": "stderr",
     "output_type": "stream",
     "text": [
      "Token indices sequence length is longer than the specified maximum sequence length for this model (520 > 512). Running this sequence through the model will result in indexing errors\n"
     ]
    },
    {
     "data": {
      "text/plain": "Map:   0%|          | 0/14724 [00:00<?, ? examples/s]",
      "application/vnd.jupyter.widget-view+json": {
       "version_major": 2,
       "version_minor": 0,
       "model_id": "a70108ba3a9d4b749f796150043e4c66"
      }
     },
     "metadata": {},
     "output_type": "display_data"
    },
    {
     "data": {
      "text/plain": "Map:   0%|          | 0/14725 [00:00<?, ? examples/s]",
      "application/vnd.jupyter.widget-view+json": {
       "version_major": 2,
       "version_minor": 0,
       "model_id": "3c0c0a7f3fca4bbe90b372b7e3edf7d8"
      }
     },
     "metadata": {},
     "output_type": "display_data"
    },
    {
     "name": "stdout",
     "output_type": "stream",
     "text": [
      "Max number of tokens in tokenized train dataset:  870\n",
      "Max number of tokens in tokenized val dataset:  866\n",
      "Max number of tokens in tokenized test dataset:  817\n"
     ]
    }
   ],
   "source": [
    "def tokenize_sample(sample, max_tokens=None, padding=False):\n",
    "    question = sample[\"question\"].strip()\n",
    "    context = sample[\"context\"].strip()\n",
    "\n",
    "    return tokenizer(question, context, max_length=max_tokens, padding=padding)\n",
    "\n",
    "\n",
    "tokenized_train_dataset = train_dataset.map(tokenize_sample)\n",
    "tokenized_val_dataset = val_dataset.map(tokenize_sample)\n",
    "tokenized_test_dataset = test_dataset.map(tokenize_sample)\n",
    "\n",
    "print(\n",
    "    \"Max number of tokens in tokenized train dataset: \",\n",
    "    len(max(tokenized_train_dataset[\"input_ids\"], key=len)),\n",
    ")\n",
    "print(\n",
    "    \"Max number of tokens in tokenized val dataset: \",\n",
    "    len(max(tokenized_val_dataset[\"input_ids\"], key=len)),\n",
    ")\n",
    "print(\n",
    "    \"Max number of tokens in tokenized test dataset: \",\n",
    "    len(max(tokenized_test_dataset[\"input_ids\"], key=len)),\n",
    ")"
   ]
  },
  {
   "cell_type": "code",
   "execution_count": 5,
   "id": "10e53325b1b3a28b",
   "metadata": {
    "collapsed": false,
    "ExecuteTime": {
     "end_time": "2023-11-05T15:59:32.387540Z",
     "start_time": "2023-11-05T15:58:52.572950700Z"
    }
   },
   "outputs": [
    {
     "name": "stderr",
     "output_type": "stream",
     "text": [
      "Parameter 'indices'=<generator object filter_samples_below_number_of_tokens.<locals>.<genexpr> at 0x000002561767ED50> of the transform datasets.arrow_dataset.Dataset.select couldn't be hashed properly, a random hash was used instead. Make sure your transforms and parameters are serializable with pickle or dill for the dataset fingerprinting and caching to work. If you reuse this transform, the caching mechanism will consider it to be different from the previous calls and recompute everything. This warning is only showed once. Subsequent hashing failures won't be showed.\n"
     ]
    }
   ],
   "source": [
    "max_length = 384\n",
    "\n",
    "\n",
    "def filter_samples_below_number_of_tokens(dataset, max_tokens: int):\n",
    "    indices_to_remove = []\n",
    "\n",
    "    # Find indices of samples where number of tokens exceeds max number of tokens\n",
    "    for index, sample in enumerate(dataset):\n",
    "        tokenized_sample = tokenize_sample(sample)\n",
    "        if len(tokenized_sample[\"input_ids\"]) > max_tokens:\n",
    "            indices_to_remove.append(index)\n",
    "\n",
    "    # Keep only samples with number of tokens less or equal than max number of tokens\n",
    "    dataset_indices = range(len(dataset))\n",
    "    filtered_dataset = dataset.select(\n",
    "        index for index in dataset_indices if index not in set(indices_to_remove)\n",
    "    )\n",
    "\n",
    "    return filtered_dataset\n",
    "\n",
    "\n",
    "filtered_train_dataset = filter_samples_below_number_of_tokens(\n",
    "    train_dataset, max_tokens=max_length\n",
    ")\n",
    "filtered_val_dataset = filter_samples_below_number_of_tokens(\n",
    "    val_dataset, max_tokens=max_length\n",
    ")\n",
    "filtered_test_dataset = filter_samples_below_number_of_tokens(\n",
    "    test_dataset, max_tokens=max_length\n",
    ")"
   ]
  },
  {
   "cell_type": "code",
   "execution_count": 6,
   "id": "c1aebcb2",
   "metadata": {
    "collapsed": false,
    "ExecuteTime": {
     "end_time": "2023-11-05T15:52:05.682284200Z",
     "start_time": "2023-11-05T15:52:05.656707Z"
    }
   },
   "outputs": [
    {
     "name": "stdout",
     "output_type": "stream",
     "text": [
      "Number of samples in tokenized train dataset before filtering:  68716\n",
      "Number of samples in tokenized val dataset before filtering:  14724\n",
      "Number of samples in tokenized test dataset before filtering:  14725\n",
      "\n",
      "---------------\n",
      "\n",
      "Number of samples in tokenized train dataset after filtering:  67964\n",
      "Number of samples in tokenized val dataset after filtering:  14573\n",
      "Number of samples in tokenized test dataset after filtering:  14552\n"
     ]
    }
   ],
   "source": [
    "print(\n",
    "    \"Number of samples in tokenized train dataset before filtering: \",\n",
    "    len(train_dataset),\n",
    ")\n",
    "print(\"Number of samples in tokenized val dataset before filtering: \", len(val_dataset))\n",
    "print(\n",
    "    \"Number of samples in tokenized test dataset before filtering: \", len(test_dataset)\n",
    ")\n",
    "\n",
    "print(\"\\n---------------\\n\")\n",
    "\n",
    "print(\n",
    "    \"Number of samples in tokenized train dataset after filtering: \",\n",
    "    len(filtered_train_dataset),\n",
    ")\n",
    "print(\n",
    "    \"Number of samples in tokenized val dataset after filtering: \",\n",
    "    len(filtered_val_dataset),\n",
    ")\n",
    "print(\n",
    "    \"Number of samples in tokenized test dataset after filtering: \",\n",
    "    len(filtered_test_dataset),\n",
    ")"
   ]
  },
  {
   "cell_type": "code",
   "execution_count": 6,
   "id": "cb6cdd06c7a27f8c",
   "metadata": {
    "collapsed": false,
    "ExecuteTime": {
     "end_time": "2023-11-05T15:59:32.404098Z",
     "start_time": "2023-11-05T15:59:32.392143200Z"
    }
   },
   "outputs": [],
   "source": [
    "def preprocess_dataset(dataset):\n",
    "    questions = [q.strip() for q in dataset[\"question\"]]\n",
    "    contexts = [c.strip() for c in dataset[\"context\"]]\n",
    "\n",
    "    inputs = tokenizer(\n",
    "        questions,\n",
    "        contexts,\n",
    "        max_length=max_length,\n",
    "        padding=\"max_length\",\n",
    "        return_offsets_mapping=True,\n",
    "    )\n",
    "\n",
    "    offset_mapping = inputs.pop(\"offset_mapping\")\n",
    "\n",
    "    answer_start_indices = dataset[\"answer_start\"]\n",
    "    answer_texts = dataset[\"answer_text\"]\n",
    "    start_positions = []\n",
    "    end_positions = []\n",
    "\n",
    "    for index, offset in enumerate(offset_mapping):\n",
    "        start_char = answer_start_indices[index]\n",
    "        end_char = start_char + len(answer_texts[index])\n",
    "        sequence_ids = inputs.sequence_ids(index)\n",
    "\n",
    "        # Find the start and end token indices of the context\n",
    "        idx = 0\n",
    "        while sequence_ids[idx] != 1:\n",
    "            idx += 1\n",
    "        context_start = idx\n",
    "        while sequence_ids[idx] == 1:\n",
    "            idx += 1\n",
    "        context_end = idx - 1\n",
    "\n",
    "        idx = context_start\n",
    "        while idx <= context_end and offset[idx][0] <= start_char:\n",
    "            idx += 1\n",
    "        start_positions.append(idx - 1)\n",
    "\n",
    "        idx = context_end\n",
    "        while idx >= context_start and offset[idx][1] >= end_char:\n",
    "            idx -= 1\n",
    "        end_positions.append(idx + 1)\n",
    "\n",
    "    inputs[\"start_positions\"] = start_positions\n",
    "    inputs[\"end_positions\"] = end_positions\n",
    "    return inputs"
   ]
  },
  {
   "cell_type": "code",
   "execution_count": 7,
   "id": "3b72cf37",
   "metadata": {
    "ExecuteTime": {
     "end_time": "2023-11-05T15:59:57.493352700Z",
     "start_time": "2023-11-05T15:59:32.406105100Z"
    }
   },
   "outputs": [
    {
     "data": {
      "text/plain": "Map:   0%|          | 0/67964 [00:00<?, ? examples/s]",
      "application/vnd.jupyter.widget-view+json": {
       "version_major": 2,
       "version_minor": 0,
       "model_id": "f4d2cdb78a9542598274d909a9400ec1"
      }
     },
     "metadata": {},
     "output_type": "display_data"
    },
    {
     "data": {
      "text/plain": "Map:   0%|          | 0/14573 [00:00<?, ? examples/s]",
      "application/vnd.jupyter.widget-view+json": {
       "version_major": 2,
       "version_minor": 0,
       "model_id": "3c75a70542134401b8068917ee41d054"
      }
     },
     "metadata": {},
     "output_type": "display_data"
    },
    {
     "data": {
      "text/plain": "Map:   0%|          | 0/14552 [00:00<?, ? examples/s]",
      "application/vnd.jupyter.widget-view+json": {
       "version_major": 2,
       "version_minor": 0,
       "model_id": "fd59bbae54f64004b321f1418148cf2c"
      }
     },
     "metadata": {},
     "output_type": "display_data"
    }
   ],
   "source": [
    "tokenized_train_dataset = filtered_train_dataset.map(\n",
    "    preprocess_dataset,\n",
    "    batched=True,\n",
    "    remove_columns=[\"index\"],\n",
    ")\n",
    "tokenized_val_dataset = filtered_val_dataset.map(\n",
    "    preprocess_dataset,\n",
    "    batched=True,\n",
    "    remove_columns=[\"index\"],\n",
    ")\n",
    "tokenized_test_dataset = filtered_test_dataset.map(\n",
    "    preprocess_dataset,\n",
    "    batched=True,\n",
    "    remove_columns=[\"index\"],\n",
    ")"
   ]
  },
  {
   "cell_type": "code",
   "execution_count": 9,
   "id": "9fc093e38a8b9eb4",
   "metadata": {
    "collapsed": false,
    "ExecuteTime": {
     "end_time": "2023-11-05T15:52:41.950037800Z",
     "start_time": "2023-11-05T15:52:31.062957400Z"
    }
   },
   "outputs": [
    {
     "name": "stdout",
     "output_type": "stream",
     "text": [
      "All tokenized train dataset entries have 384 tokens:  True\n",
      "All tokenized val dataset entries have 384 tokens:  True\n",
      "All tokenized test dataset entries have 384 tokens:  True\n"
     ]
    }
   ],
   "source": [
    "print(\n",
    "    f\"All tokenized train dataset entries have {max_length} tokens: \",\n",
    "    all(\n",
    "        [\n",
    "            len(input_ids) == max_length\n",
    "            for input_ids in tokenized_train_dataset[\"input_ids\"]\n",
    "        ]\n",
    "    ),\n",
    ")\n",
    "print(\n",
    "    f\"All tokenized val dataset entries have {max_length} tokens: \",\n",
    "    all(\n",
    "        [\n",
    "            len(input_ids) == max_length\n",
    "            for input_ids in tokenized_val_dataset[\"input_ids\"]\n",
    "        ]\n",
    "    ),\n",
    ")\n",
    "print(\n",
    "    f\"All tokenized test dataset entries have {max_length} tokens: \",\n",
    "    all(\n",
    "        [\n",
    "            len(input_ids) == max_length\n",
    "            for input_ids in tokenized_test_dataset[\"input_ids\"]\n",
    "        ]\n",
    "    ),\n",
    ")"
   ]
  },
  {
   "cell_type": "code",
   "execution_count": 8,
   "id": "72e1f89c3dcff7b",
   "metadata": {
    "collapsed": false,
    "ExecuteTime": {
     "end_time": "2023-11-05T15:59:57.512925700Z",
     "start_time": "2023-11-05T15:59:57.496352200Z"
    }
   },
   "outputs": [],
   "source": [
    "# Model parameters\n",
    "full_model_name = \"squad-bert-uncased-bs4\"\n",
    "\n",
    "# Checkpoints\n",
    "checkpoint_filename_template = constants.checkpoint_filename_template\n",
    "checkpoints_path = (\n",
    "    extractive_qa_paths.training_checkpoints_dir\n",
    "    / full_model_name\n",
    "    / checkpoint_filename_template\n",
    ")\n",
    "\n",
    "# Hub\n",
    "hub_path = extractive_qa_paths.hub_models_location / full_model_name\n",
    "\n",
    "# Saved models\n",
    "saved_models_path = extractive_qa_paths.saved_models_dir / full_model_name\n",
    "\n",
    "# Evaluation\n",
    "model_evaluation_dir = extractive_qa_paths.model_evaluation_dir / full_model_name\n",
    "figures_dir = model_evaluation_dir / constants.figures_dir_name\n",
    "\n",
    "# Hyperparameters\n",
    "batch_size = 4\n",
    "train_epochs = 10\n",
    "initial_learning_rate = 2e-5\n",
    "end_learning_rate = 0"
   ]
  },
  {
   "cell_type": "code",
   "execution_count": 9,
   "id": "9d5bedb4",
   "metadata": {
    "ExecuteTime": {
     "end_time": "2023-11-05T16:00:00.351386200Z",
     "start_time": "2023-11-05T15:59:57.510919900Z"
    }
   },
   "outputs": [
    {
     "name": "stderr",
     "output_type": "stream",
     "text": [
      "All PyTorch model weights were used when initializing TFBertForQuestionAnswering.\n",
      "\n",
      "Some weights or buffers of the TF 2.0 model TFBertForQuestionAnswering were not initialized from the PyTorch model and are newly initialized: ['qa_outputs.weight', 'qa_outputs.bias']\n",
      "You should probably TRAIN this model on a down-stream task to be able to use it for predictions and inference.\n"
     ]
    }
   ],
   "source": [
    "# Load model for fine-tuning\n",
    "model = TFAutoModelForQuestionAnswering.from_pretrained(model_checkpoint)"
   ]
  },
  {
   "cell_type": "code",
   "execution_count": 10,
   "id": "5a9266b102c3f216",
   "metadata": {
    "collapsed": false,
    "ExecuteTime": {
     "end_time": "2023-11-05T16:00:00.572264100Z",
     "start_time": "2023-11-05T16:00:00.325306200Z"
    }
   },
   "outputs": [],
   "source": [
    "# Dataset preparation\n",
    "data_collator = DefaultDataCollator(return_tensors=\"tf\")\n",
    "\n",
    "tf_train_dataset = core_qa_utils.convert_to_tf_dataset(\n",
    "    hf_dataset=tokenized_train_dataset,\n",
    "    columns=[\"input_ids\", \"token_type_ids\", \"attention_mask\"],\n",
    "    label_cols=[\"start_positions\", \"end_positions\"],\n",
    "    collator=data_collator,\n",
    "    batch_size=batch_size,\n",
    ")\n",
    "\n",
    "tf_val_dataset = core_qa_utils.convert_to_tf_dataset(\n",
    "    hf_dataset=tokenized_val_dataset,\n",
    "    columns=[\"input_ids\", \"token_type_ids\", \"attention_mask\"],\n",
    "    label_cols=[\"start_positions\", \"end_positions\"],\n",
    "    collator=data_collator,\n",
    "    batch_size=batch_size,\n",
    ")\n",
    "\n",
    "tf_test_dataset = core_qa_utils.convert_to_tf_dataset(\n",
    "    hf_dataset=tokenized_test_dataset,\n",
    "    columns=[\"input_ids\", \"token_type_ids\", \"attention_mask\"],\n",
    "    label_cols=[\"start_positions\", \"end_positions\"],\n",
    "    collator=data_collator,\n",
    "    batch_size=batch_size,\n",
    ")"
   ]
  },
  {
   "cell_type": "code",
   "execution_count": 11,
   "id": "c73e96cd",
   "metadata": {
    "ExecuteTime": {
     "end_time": "2023-11-05T16:00:00.588774800Z",
     "start_time": "2023-11-05T16:00:00.575277400Z"
    }
   },
   "outputs": [],
   "source": [
    "# Login to hugging face hub in order to store the model there\n",
    "# notebook_login()"
   ]
  },
  {
   "cell_type": "code",
   "execution_count": 12,
   "id": "a10641c9",
   "metadata": {
    "ExecuteTime": {
     "end_time": "2023-11-05T16:00:00.619953600Z",
     "start_time": "2023-11-05T16:00:00.589776Z"
    }
   },
   "outputs": [],
   "source": [
    "# Callbacks\n",
    "checkpoint_cb = tf.keras.callbacks.ModelCheckpoint(\n",
    "    checkpoints_path, verbose=1, save_weights_only=True\n",
    ")\n",
    "early_stop_cb = tf.keras.callbacks.EarlyStopping(patience=1)\n",
    "# push_to_hub = keras_callbacks.PushToHubCallback(\n",
    "#     output_dir=full_model_name, tokenizer=tokenizer\n",
    "# )\n",
    "\n",
    "callbacks = [\n",
    "    checkpoint_cb,\n",
    "    early_stop_cb,\n",
    "    # push_to_hub\n",
    "]"
   ]
  },
  {
   "cell_type": "code",
   "execution_count": 13,
   "id": "f4ec7915adf3b24c",
   "metadata": {
    "collapsed": false,
    "ExecuteTime": {
     "end_time": "2023-11-05T16:00:00.635633100Z",
     "start_time": "2023-11-05T16:00:00.606913Z"
    }
   },
   "outputs": [
    {
     "name": "stdout",
     "output_type": "stream",
     "text": [
      "INFO:tensorflow:Mixed precision compatibility check (mixed_float16): OK\n",
      "Your GPU will likely run quickly with dtype policy mixed_float16 as it has compute capability of at least 7.0. Your GPU: NVIDIA GeForce RTX 3070 Ti, compute capability 8.6\n"
     ]
    }
   ],
   "source": [
    "# Compile\n",
    "num_train_steps = len(tf_train_dataset) * train_epochs\n",
    "\n",
    "lr_scheduler = tf.keras.optimizers.schedules.PolynomialDecay(\n",
    "    initial_learning_rate=initial_learning_rate, end_learning_rate=end_learning_rate, decay_steps=num_train_steps\n",
    ")\n",
    "\n",
    "optimizer = tf.keras.optimizers.Adam(learning_rate=lr_scheduler)\n",
    "\n",
    "# Train in mixed-precision float16\n",
    "tf.keras.mixed_precision.set_global_policy(\"mixed_float16\")\n",
    "\n",
    "# Compile\n",
    "loss = tf.keras.losses.SparseCategoricalCrossentropy(from_logits=True)\n",
    "metrics = [\"accuracy\"]\n",
    "model.compile(optimizer=optimizer, loss=loss, metrics=metrics)"
   ]
  },
  {
   "cell_type": "code",
   "execution_count": 16,
   "id": "46ed3bc04bffb6bd",
   "metadata": {
    "collapsed": false,
    "ExecuteTime": {
     "end_time": "2023-11-05T15:52:45.352950700Z",
     "start_time": "2023-11-05T15:52:45.298026600Z"
    }
   },
   "outputs": [
    {
     "name": "stdout",
     "output_type": "stream",
     "text": [
      "Model: \"tf_bert_for_question_answering\"\n",
      "_________________________________________________________________\n",
      " Layer (type)                Output Shape              Param #   \n",
      "=================================================================\n",
      " bert (TFBertMainLayer)      multiple                  108891648 \n",
      "                                                                 \n",
      " qa_outputs (Dense)          multiple                  1538      \n",
      "                                                                 \n",
      "=================================================================\n",
      "Total params: 108,893,186\n",
      "Trainable params: 108,893,186\n",
      "Non-trainable params: 0\n",
      "_________________________________________________________________\n"
     ]
    }
   ],
   "source": [
    "model.summary()"
   ]
  },
  {
   "cell_type": "code",
   "execution_count": 17,
   "id": "943d016bd9af345c",
   "metadata": {
    "collapsed": false,
    "ExecuteTime": {
     "end_time": "2023-11-05T15:19:09.289138600Z",
     "start_time": "2023-11-05T13:46:22.301271300Z"
    }
   },
   "outputs": [
    {
     "name": "stdout",
     "output_type": "stream",
     "text": [
      "Epoch 1/10\n",
      "16991/16991 [==============================] - ETA: 0s - loss: 2.5755 - end_logits_loss: 1.2346 - start_logits_loss: 1.3409 - end_logits_accuracy: 0.6584 - start_logits_accuracy: 0.6196\n",
      "Epoch 1: saving model to D:\\dev\\projects\\question-answering\\extractive-qa\\training-checkpoints\\squad-bert-uncased-bs4\\cp-01.ckpt\n",
      "16991/16991 [==============================] - 2784s 163ms/step - loss: 2.5755 - end_logits_loss: 1.2346 - start_logits_loss: 1.3409 - end_logits_accuracy: 0.6584 - start_logits_accuracy: 0.6196 - val_loss: 1.9699 - val_end_logits_loss: 0.9450 - val_start_logits_loss: 1.0249 - val_end_logits_accuracy: 0.7349 - val_start_logits_accuracy: 0.6937\n",
      "Epoch 2/10\n",
      "16991/16991 [==============================] - ETA: 0s - loss: 1.5102 - end_logits_loss: 0.7153 - start_logits_loss: 0.7949 - end_logits_accuracy: 0.7840 - start_logits_accuracy: 0.7470\n",
      "Epoch 2: saving model to D:\\dev\\projects\\question-answering\\extractive-qa\\training-checkpoints\\squad-bert-uncased-bs4\\cp-02.ckpt\n",
      "16991/16991 [==============================] - 2783s 164ms/step - loss: 1.5102 - end_logits_loss: 0.7153 - start_logits_loss: 0.7949 - end_logits_accuracy: 0.7840 - start_logits_accuracy: 0.7470 - val_loss: 2.0495 - val_end_logits_loss: 0.9860 - val_start_logits_loss: 1.0635 - val_end_logits_accuracy: 0.7443 - val_start_logits_accuracy: 0.7049\n"
     ]
    }
   ],
   "source": [
    "# Fit the model on the new data\n",
    "history = model.fit(\n",
    "    tf_train_dataset,\n",
    "    validation_data=tf_val_dataset,\n",
    "    epochs=train_epochs,\n",
    "    callbacks=callbacks,\n",
    ")"
   ]
  },
  {
   "cell_type": "code",
   "execution_count": 18,
   "outputs": [
    {
     "data": {
      "text/plain": "<Figure size 640x480 with 1 Axes>",
      "image/png": "[encoded data removed]"
     },
     "metadata": {},
     "output_type": "display_data"
    },
    {
     "data": {
      "text/plain": "<Figure size 640x480 with 1 Axes>",
      "image/png": "[encoded data removed]"
     },
     "metadata": {},
     "output_type": "display_data"
    },
    {
     "data": {
      "text/plain": "<Figure size 640x480 with 1 Axes>",
      "image/png": "[encoded data removed]"
     },
     "metadata": {},
     "output_type": "display_data"
    },
    {
     "data": {
      "text/plain": "<Figure size 640x480 with 1 Axes>",
      "image/png": "[encoded data removed]"
     },
     "metadata": {},
     "output_type": "display_data"
    },
    {
     "data": {
      "text/plain": "<Figure size 640x480 with 1 Axes>",
      "image/png": "[encoded data removed]"
     },
     "metadata": {},
     "output_type": "display_data"
    }
   ],
   "source": [
    "# Plot training figures\n",
    "core_qa_utils.plot_and_save_fig_from_history(\n",
    "    history,\n",
    "    attributes=[\"start_logits_accuracy\", \"val_start_logits_accuracy\"],\n",
    "    title=\"Model start logits accuracy\",\n",
    "    y_label=\"Accuracy\",\n",
    "    x_label=\"Epoch\",\n",
    "    legend_descriptors=[\"Train\", \"Val\"],\n",
    "    figure_dir_path=figures_dir,\n",
    "    figure_filename=f\"{full_model_name}_start_accuracy.png\",\n",
    ")\n",
    "\n",
    "core_qa_utils.plot_and_save_fig_from_history(\n",
    "    history,\n",
    "    attributes=[\"end_logits_accuracy\", \"val_end_logits_accuracy\"],\n",
    "    title=\"Model end logits accuracy\",\n",
    "    y_label=\"Accuracy\",\n",
    "    x_label=\"Epoch\",\n",
    "    legend_descriptors=[\"Train\", \"Val\"],\n",
    "    figure_dir_path=figures_dir,\n",
    "    figure_filename=f\"{full_model_name}_end_accuracy.png\",\n",
    ")\n",
    "\n",
    "core_qa_utils.plot_and_save_fig_from_history(\n",
    "    history,\n",
    "    attributes=[\"loss\", \"val_loss\"],\n",
    "    title=\"Model loss\",\n",
    "    y_label=\"Loss\",\n",
    "    x_label=\"Epoch\",\n",
    "    legend_descriptors=[\"Train\", \"Val\"],\n",
    "    figure_dir_path=figures_dir,\n",
    "    figure_filename=f\"{full_model_name}_loss.png\",\n",
    ")\n",
    "\n",
    "core_qa_utils.plot_and_save_fig_from_history(\n",
    "    history,\n",
    "    attributes=[\"start_logits_loss\", \"val_start_logits_loss\"],\n",
    "    title=\"Model start logits loss\",\n",
    "    y_label=\"Loss\",\n",
    "    x_label=\"Epoch\",\n",
    "    legend_descriptors=[\"Train\", \"Val\"],\n",
    "    figure_dir_path=figures_dir,\n",
    "    figure_filename=f\"{full_model_name}_start_loss.png\",\n",
    ")\n",
    "\n",
    "core_qa_utils.plot_and_save_fig_from_history(\n",
    "    history,\n",
    "    attributes=[\"end_logits_loss\", \"val_end_logits_loss\"],\n",
    "    title=\"Model end logits loss\",\n",
    "    y_label=\"Loss\",\n",
    "    x_label=\"Epoch\",\n",
    "    legend_descriptors=[\"Train\", \"Val\"],\n",
    "    figure_dir_path=figures_dir,\n",
    "    figure_filename=f\"{full_model_name}_end_loss.png\",\n",
    ")"
   ],
   "metadata": {
    "collapsed": false,
    "ExecuteTime": {
     "end_time": "2023-11-05T15:19:10.149895Z",
     "start_time": "2023-11-05T15:19:09.277135100Z"
    }
   },
   "id": "536cdd58ed56d0d9"
  },
  {
   "cell_type": "code",
   "execution_count": 19,
   "id": "72a57f5bd9b9438f",
   "metadata": {
    "collapsed": false,
    "ExecuteTime": {
     "end_time": "2023-11-05T15:19:11.852316200Z",
     "start_time": "2023-11-05T15:19:10.143896700Z"
    }
   },
   "outputs": [],
   "source": [
    "# Get best version of the model\n",
    "best_model = core_qa_utils.get_best_model_from_checkpoints(\n",
    "    model, history, model_name=full_model_name, remove_checkpoints=True\n",
    ")"
   ]
  },
  {
   "cell_type": "code",
   "execution_count": 20,
   "id": "f9673d7d1c09aece",
   "metadata": {
    "collapsed": false,
    "ExecuteTime": {
     "end_time": "2023-11-05T15:19:14.064473400Z",
     "start_time": "2023-11-05T15:19:11.854315900Z"
    }
   },
   "outputs": [],
   "source": [
    "# Save best model's weights\n",
    "extractive_qa_utils.save_model(best_model, model_name=full_model_name)"
   ]
  },
  {
   "cell_type": "code",
   "execution_count": 14,
   "id": "814c2fb7f961d268",
   "metadata": {
    "collapsed": false,
    "ExecuteTime": {
     "end_time": "2023-11-05T16:00:02.733920500Z",
     "start_time": "2023-11-05T16:00:00.634633300Z"
    }
   },
   "outputs": [
    {
     "name": "stderr",
     "output_type": "stream",
     "text": [
      "All PyTorch model weights were used when initializing TFBertForQuestionAnswering.\n",
      "\n",
      "Some weights or buffers of the TF 2.0 model TFBertForQuestionAnswering were not initialized from the PyTorch model and are newly initialized: ['qa_outputs.weight', 'qa_outputs.bias']\n",
      "You should probably TRAIN this model on a down-stream task to be able to use it for predictions and inference.\n"
     ]
    }
   ],
   "source": [
    "# Load best model\n",
    "loaded_model = extractive_qa_utils.load_model(\n",
    "    model_checkpoint, model_name=full_model_name\n",
    ")\n",
    "loaded_model.compile(optimizer=optimizer, loss=loss, metrics=metrics)"
   ]
  },
  {
   "cell_type": "code",
   "execution_count": 18,
   "id": "5fcf4fbd43971926",
   "metadata": {
    "collapsed": false,
    "ExecuteTime": {
     "end_time": "2023-11-05T15:38:37.529240100Z",
     "start_time": "2023-11-05T15:35:45.345802500Z"
    }
   },
   "outputs": [
    {
     "name": "stdout",
     "output_type": "stream",
     "text": [
      "3638/3638 [==============================] - 172s 46ms/step - loss: 2.0034 - end_logits_loss: 0.9539 - start_logits_loss: 1.0495 - end_logits_accuracy: 0.7317 - start_logits_accuracy: 0.6875\n"
     ]
    }
   ],
   "source": [
    "# Get predictions from the best model\n",
    "loaded_model_evaluation = loaded_model.evaluate(tf_test_dataset)"
   ]
  },
  {
   "cell_type": "code",
   "execution_count": 15,
   "outputs": [
    {
     "name": "stdout",
     "output_type": "stream",
     "text": [
      "3638/3638 [==============================] - 163s 43ms/step\n"
     ]
    }
   ],
   "source": [
    "loaded_model_preds = loaded_model.predict(tf_test_dataset)"
   ],
   "metadata": {
    "collapsed": false,
    "ExecuteTime": {
     "end_time": "2023-11-05T16:02:47.481378400Z",
     "start_time": "2023-11-05T16:00:02.734919800Z"
    }
   },
   "id": "94b8593563a05dd7"
  },
  {
   "cell_type": "code",
   "execution_count": 16,
   "id": "8b891316",
   "metadata": {
    "ExecuteTime": {
     "end_time": "2023-11-05T16:02:47.542721500Z",
     "start_time": "2023-11-05T16:02:47.487378300Z"
    }
   },
   "outputs": [],
   "source": [
    "# Convert predictions to start and end position indices\n",
    "start_preds = extractive_qa_utils.get_class_preds(\n",
    "    predictions=loaded_model_preds, output_key=\"start_logits\"\n",
    ")\n",
    "end_preds = extractive_qa_utils.get_class_preds(\n",
    "    predictions=loaded_model_preds, output_key=\"end_logits\"\n",
    ")"
   ]
  },
  {
   "cell_type": "code",
   "execution_count": 17,
   "outputs": [
    {
     "data": {
      "text/plain": "Map:   0%|          | 0/14552 [00:00<?, ? examples/s]",
      "application/vnd.jupyter.widget-view+json": {
       "version_major": 2,
       "version_minor": 0,
       "model_id": "b5860d03d4894b678aa8926d96eb761e"
      }
     },
     "metadata": {},
     "output_type": "display_data"
    },
    {
     "data": {
      "text/plain": "Map:   0%|          | 0/14552 [00:00<?, ? examples/s]",
      "application/vnd.jupyter.widget-view+json": {
       "version_major": 2,
       "version_minor": 0,
       "model_id": "8f05efa54ab54739b93d8592cdb5b858"
      }
     },
     "metadata": {},
     "output_type": "display_data"
    },
    {
     "data": {
      "text/plain": "Map:   0%|          | 0/14552 [00:00<?, ? examples/s]",
      "application/vnd.jupyter.widget-view+json": {
       "version_major": 2,
       "version_minor": 0,
       "model_id": "ba08f38d728e4300aae82e6cdc366ec5"
      }
     },
     "metadata": {},
     "output_type": "display_data"
    }
   ],
   "source": [
    "# Convert predictions to actual texts and mark samples as correctly predicted\n",
    "model_predictions = tokenized_test_dataset.map(\n",
    "    lambda row: extractive_qa_utils.extract_answer_tokens(row),\n",
    "    remove_columns=[\n",
    "        \"input_ids\",\n",
    "        \"token_type_ids\",\n",
    "        \"attention_mask\",\n",
    "    ],\n",
    ")\n",
    "\n",
    "model_predictions = model_predictions.map(lambda row: extractive_qa_utils.decode_answer_tokens(row, tokenizer), remove_columns=[\"answer_tokens\", \"answer_start\"])\n",
    "\n",
    "model_predictions = model_predictions.map(lambda row: extractive_qa_utils.mark_correct_predictions(row))"
   ],
   "metadata": {
    "collapsed": false,
    "ExecuteTime": {
     "end_time": "2023-11-05T16:02:53.271097300Z",
     "start_time": "2023-11-05T16:02:47.545721600Z"
    }
   },
   "id": "6f7d0d58d901ee52"
  },
  {
   "cell_type": "code",
   "execution_count": 22,
   "id": "06a24da4",
   "metadata": {
    "ExecuteTime": {
     "end_time": "2023-11-05T15:41:24.107929400Z",
     "start_time": "2023-11-05T15:41:24.057633800Z"
    }
   },
   "outputs": [
    {
     "name": "stdout",
     "output_type": "stream",
     "text": [
      "Start positions precision score:  0.6875343595382079\n",
      "Start positions recall score:  0.6875343595382079\n",
      "Start positions F1 score:  0.6875343595382079\n"
     ]
    }
   ],
   "source": [
    "# Calculate start positions classification metrics\n",
    "(\n",
    "    start_precision,\n",
    "    start_recall,\n",
    "    start_f1,\n",
    ") = extractive_qa_utils.get_classification_evaluation_metrics(\n",
    "    class_actual=tokenized_test_dataset[\"start_positions\"],\n",
    "    class_preds=start_preds,\n",
    "    average=\"micro\",\n",
    ")\n",
    "\n",
    "print(f\"Start positions precision score: \", start_precision)\n",
    "print(f\"Start positions recall score: \", start_recall)\n",
    "print(f\"Start positions F1 score: \", start_f1)"
   ]
  },
  {
   "cell_type": "code",
   "execution_count": 23,
   "id": "965931db",
   "metadata": {
    "ExecuteTime": {
     "end_time": "2023-11-05T15:41:24.163145200Z",
     "start_time": "2023-11-05T15:41:24.101419700Z"
    }
   },
   "outputs": [
    {
     "name": "stdout",
     "output_type": "stream",
     "text": [
      "End positions precision score:  0.7317207256734469\n",
      "End positions recall score:  0.7317207256734469\n",
      "End positions F1 score:  0.7317207256734468\n"
     ]
    }
   ],
   "source": [
    "# Calculate end positions classification metrics\n",
    "(\n",
    "    end_precision,\n",
    "    end_recall,\n",
    "    end_f1,\n",
    ") = extractive_qa_utils.get_classification_evaluation_metrics(\n",
    "    class_actual=tokenized_test_dataset[\"end_positions\"],\n",
    "    class_preds=end_preds,\n",
    "    average=\"micro\",\n",
    ")\n",
    "\n",
    "print(f\"End positions precision score: \", end_precision)\n",
    "print(f\"End positions recall score: \", end_recall)\n",
    "print(f\"End positions F1 score: \", end_f1)"
   ]
  },
  {
   "cell_type": "code",
   "execution_count": 24,
   "metadata": {
    "ExecuteTime": {
     "end_time": "2023-11-05T15:41:26.325112900Z",
     "start_time": "2023-11-05T15:41:24.167229100Z"
    }
   },
   "outputs": [
    {
     "name": "stdout",
     "output_type": "stream",
     "text": [
      "Exact match for original dataset:  0.4169186366135239\n",
      "Exact match case insensitive:  0.8523914238592634\n",
      "Exact match case insensitive and punctuation ignoring:  0.8530786146234195\n"
     ]
    }
   ],
   "source": [
    "# Calculate exact match for the test set\n",
    "(\n",
    "    exact_match_original,\n",
    "    exact_match_lowercase,\n",
    "    exact_match_lowercase_no_punctuation,\n",
    ") = extractive_qa_utils.calculate_pure_exact_match(\n",
    "    actual=model_predictions['answer_text'],\n",
    "    predicted=model_predictions[\"predicted_answer_text\"]\n",
    ")\n",
    "\n",
    "print(f\"Exact match for original dataset: \", exact_match_original[\"exact_match\"])\n",
    "print(f\"Exact match case insensitive: \", exact_match_lowercase[\"exact_match\"])\n",
    "print(\n",
    "    f\"Exact match case insensitive and punctuation ignoring: \",\n",
    "    exact_match_lowercase_no_punctuation[\"exact_match\"],\n",
    ")"
   ],
   "id": "29d0a5decfa3bb91"
  },
  {
   "cell_type": "code",
   "execution_count": 25,
   "metadata": {
    "ExecuteTime": {
     "end_time": "2023-11-05T15:41:31.584356500Z",
     "start_time": "2023-11-05T15:41:26.325112900Z"
    }
   },
   "outputs": [
    {
     "name": "stdout",
     "output_type": "stream",
     "text": [
      "SQuAD exact match:  88.3177570093458\n",
      "SQuAD F1:  92.50495563005454\n"
     ]
    }
   ],
   "source": [
    "# Calculate squad exact match for the test set\n",
    "squad_exact_match_results = extractive_qa_utils.calculate_squad_exact_match(model_predictions)\n",
    "\n",
    "print(f\"SQuAD exact match: \", squad_exact_match_results[\"exact_match\"])\n",
    "print(f\"SQuAD F1: \", squad_exact_match_results[\"f1\"])"
   ],
   "id": "41640aecc0ad3076"
  },
  {
   "cell_type": "code",
   "execution_count": 36,
   "outputs": [],
   "source": [
    "# Save all relevant training and evaluation metrics to a json file.\n",
    "evaluation_data = {\n",
    "    \"training\": history.history,\n",
    "    \"test_set\": {\n",
    "        \"loss\": loaded_model_evaluation[0],\n",
    "        \"end_logits_loss\": loaded_model_evaluation[1],\n",
    "        \"start_logits_loss\": loaded_model_evaluation[2],\n",
    "        \"end_logits_accuracy\": loaded_model_evaluation[3],\n",
    "        \"start_logits_accuracy\": loaded_model_evaluation[4],\n",
    "        \"start_positions\": {\n",
    "            \"precision\": start_precision,\n",
    "            \"recall\": start_recall,\n",
    "            \"f1\": start_f1\n",
    "        },\n",
    "        \"end_positions\": {\n",
    "            \"precision\": end_precision,\n",
    "            \"recall\": end_recall,\n",
    "            \"f1\": end_f1\n",
    "        },\n",
    "        \"exact_match\": {\n",
    "            \"case_sensitive\": exact_match_original[\"exact_match\"],\n",
    "            \"case_insensitive\": exact_match_lowercase[\"exact_match\"],\n",
    "            \"case_insensitive_and_no_punctuation\": exact_match_lowercase[\"exact_match\"],\n",
    "            \"squad\": squad_exact_match_results[\"exact_match\"],\n",
    "            \"squad_f1\": squad_exact_match_results[\"f1\"]\n",
    "        },\n",
    "    }\n",
    "}\n",
    "\n",
    "core_qa_utils.save_dict_as_json(evaluation_data, dir_path=model_evaluation_dir, filename=\"evaluation_data.json\")"
   ],
   "metadata": {
    "collapsed": false,
    "ExecuteTime": {
     "end_time": "2023-11-05T15:29:01.532551300Z",
     "start_time": "2023-11-05T15:29:01.514002400Z"
    }
   },
   "id": "6f86a9715349ac81"
  },
  {
   "cell_type": "code",
   "execution_count": 19,
   "outputs": [],
   "source": [
    "# Save test dataset evaluation\n",
    "final_evaluation_df = model_predictions.to_pandas()\n",
    "final_evaluation_df.to_csv(model_evaluation_dir / \"test_set_evaluation.csv\", index=True, index_label=\"index\")"
   ],
   "metadata": {
    "collapsed": false,
    "ExecuteTime": {
     "end_time": "2023-11-05T16:03:20.239108800Z",
     "start_time": "2023-11-05T16:03:20.022736400Z"
    }
   },
   "id": "1d6a8e12146bdfb8"
  },
  {
   "cell_type": "code",
   "execution_count": 20,
   "outputs": [
    {
     "data": {
      "text/plain": "                             id  \\\n0      5733a8ffd058e614000b5f9f   \n1      572a776bfed8de19000d5c47   \n2      572ee763cb0c0d14000f1667   \n3      572702a3dd62a815002e9794   \n4      572933831d0469140077915c   \n...                         ...   \n14547  570fe1765ab6b81900391090   \n14548  572eca2903f9891900756a2b   \n14549  5733f37ed058e614000b664f   \n14550  56f906719b226e1400dd1259   \n14551  573031aa04bcaa1900d77335   \n\n                                                 context  \\\n0      Despite the calamity and huge death toll, Lisb...   \n1      In 1960, non-Hispanic whites represented 80% o...   \n2      The Qing dynasty (1644–1911) was founded after...   \n3      With the opening of the Dorothy and Michael Hi...   \n4      The concept of biological race has declined si...   \n...                                                  ...   \n14547  The release of Apple's iPad tablet computer ha...   \n14548  By this point Frederick was increasingly conce...   \n14549  The armed forces have three branches: Navy, Ar...   \n14550  A large percentage of experts on the modern Mi...   \n14551  In some cases this is done in a more extreme m...   \n\n                                                question  \\\n0      Did Lisbon suffer any epidemics from the calam...   \n1       What was the largest ethnic group in 1970 Miami?   \n2          Why did the last Ming Emperor commit suicide?   \n3      Which museum was among those that loaned more ...   \n4      How many books out of 33, from 1975 to 1984, r...   \n...                                                  ...   \n14547  Which division of Dell were unsuccessful in de...   \n14548  How did Frederick respond to the Russian occup...   \n14549  How many branches make up the Portuguese armed...   \n14550  What includes such languages as Sumerian and A...   \n14551                What is at the base of the antenna?   \n\n                                             answer_text  start_positions  \\\n0                           Lisbon suffered no epidemics               24   \n1                                               Hispanic               47   \n2      Beijing was captured by Li Zicheng's peasant r...               52   \n3                                           Tate Britain               57   \n4                                               thirteen               99   \n...                                                  ...              ...   \n14547                                           mobility               48   \n14548                             marched to counter it.               29   \n14549                                              three               16   \n14550                             Near Eastern Languages              114   \n14551                                       loading coil               88   \n\n       end_positions                              predicted_answer_text  \\\n0                 28                       lisbon suffered no epidemics   \n1                 47                                           hispanic   \n2                 63  beijing was captured by li zicheng's peasant r...   \n3                 58                                       tate britain   \n4                 99                                           thirteen   \n...              ...                                                ...   \n14547             48                                           mobility   \n14548             33                             marched to counter it.   \n14549             16                                              three   \n14550            116                             near eastern languages   \n14551             89                                       loading coil   \n\n       correctly_predicted  correctly_predicted_lowercase  \n0                        0                              1  \n1                        0                              1  \n2                        0                              1  \n3                        0                              1  \n4                        1                              1  \n...                    ...                            ...  \n14547                    1                              1  \n14548                    1                              1  \n14549                    1                              1  \n14550                    0                              1  \n14551                    1                              1  \n\n[14552 rows x 9 columns]",
      "text/html": "<div>\n<style scoped>\n    .dataframe tbody tr th:only-of-type {\n        vertical-align: middle;\n    }\n\n    .dataframe tbody tr th {\n        vertical-align: top;\n    }\n\n    .dataframe thead th {\n        text-align: right;\n    }\n</style>\n<table border=\"1\" class=\"dataframe\">\n  <thead>\n    <tr style=\"text-align: right;\">\n      <th></th>\n      <th>id</th>\n      <th>context</th>\n      <th>question</th>\n      <th>answer_text</th>\n      <th>start_positions</th>\n      <th>end_positions</th>\n      <th>predicted_answer_text</th>\n      <th>correctly_predicted</th>\n      <th>correctly_predicted_lowercase</th>\n    </tr>\n  </thead>\n  <tbody>\n    <tr>\n      <th>0</th>\n      <td>5733a8ffd058e614000b5f9f</td>\n      <td>Despite the calamity and huge death toll, Lisb...</td>\n      <td>Did Lisbon suffer any epidemics from the calam...</td>\n      <td>Lisbon suffered no epidemics</td>\n      <td>24</td>\n      <td>28</td>\n      <td>lisbon suffered no epidemics</td>\n      <td>0</td>\n      <td>1</td>\n    </tr>\n    <tr>\n      <th>1</th>\n      <td>572a776bfed8de19000d5c47</td>\n      <td>In 1960, non-Hispanic whites represented 80% o...</td>\n      <td>What was the largest ethnic group in 1970 Miami?</td>\n      <td>Hispanic</td>\n      <td>47</td>\n      <td>47</td>\n      <td>hispanic</td>\n      <td>0</td>\n      <td>1</td>\n    </tr>\n    <tr>\n      <th>2</th>\n      <td>572ee763cb0c0d14000f1667</td>\n      <td>The Qing dynasty (1644–1911) was founded after...</td>\n      <td>Why did the last Ming Emperor commit suicide?</td>\n      <td>Beijing was captured by Li Zicheng's peasant r...</td>\n      <td>52</td>\n      <td>63</td>\n      <td>beijing was captured by li zicheng's peasant r...</td>\n      <td>0</td>\n      <td>1</td>\n    </tr>\n    <tr>\n      <th>3</th>\n      <td>572702a3dd62a815002e9794</td>\n      <td>With the opening of the Dorothy and Michael Hi...</td>\n      <td>Which museum was among those that loaned more ...</td>\n      <td>Tate Britain</td>\n      <td>57</td>\n      <td>58</td>\n      <td>tate britain</td>\n      <td>0</td>\n      <td>1</td>\n    </tr>\n    <tr>\n      <th>4</th>\n      <td>572933831d0469140077915c</td>\n      <td>The concept of biological race has declined si...</td>\n      <td>How many books out of 33, from 1975 to 1984, r...</td>\n      <td>thirteen</td>\n      <td>99</td>\n      <td>99</td>\n      <td>thirteen</td>\n      <td>1</td>\n      <td>1</td>\n    </tr>\n    <tr>\n      <th>...</th>\n      <td>...</td>\n      <td>...</td>\n      <td>...</td>\n      <td>...</td>\n      <td>...</td>\n      <td>...</td>\n      <td>...</td>\n      <td>...</td>\n      <td>...</td>\n    </tr>\n    <tr>\n      <th>14547</th>\n      <td>570fe1765ab6b81900391090</td>\n      <td>The release of Apple's iPad tablet computer ha...</td>\n      <td>Which division of Dell were unsuccessful in de...</td>\n      <td>mobility</td>\n      <td>48</td>\n      <td>48</td>\n      <td>mobility</td>\n      <td>1</td>\n      <td>1</td>\n    </tr>\n    <tr>\n      <th>14548</th>\n      <td>572eca2903f9891900756a2b</td>\n      <td>By this point Frederick was increasingly conce...</td>\n      <td>How did Frederick respond to the Russian occup...</td>\n      <td>marched to counter it.</td>\n      <td>29</td>\n      <td>33</td>\n      <td>marched to counter it.</td>\n      <td>1</td>\n      <td>1</td>\n    </tr>\n    <tr>\n      <th>14549</th>\n      <td>5733f37ed058e614000b664f</td>\n      <td>The armed forces have three branches: Navy, Ar...</td>\n      <td>How many branches make up the Portuguese armed...</td>\n      <td>three</td>\n      <td>16</td>\n      <td>16</td>\n      <td>three</td>\n      <td>1</td>\n      <td>1</td>\n    </tr>\n    <tr>\n      <th>14550</th>\n      <td>56f906719b226e1400dd1259</td>\n      <td>A large percentage of experts on the modern Mi...</td>\n      <td>What includes such languages as Sumerian and A...</td>\n      <td>Near Eastern Languages</td>\n      <td>114</td>\n      <td>116</td>\n      <td>near eastern languages</td>\n      <td>0</td>\n      <td>1</td>\n    </tr>\n    <tr>\n      <th>14551</th>\n      <td>573031aa04bcaa1900d77335</td>\n      <td>In some cases this is done in a more extreme m...</td>\n      <td>What is at the base of the antenna?</td>\n      <td>loading coil</td>\n      <td>88</td>\n      <td>89</td>\n      <td>loading coil</td>\n      <td>1</td>\n      <td>1</td>\n    </tr>\n  </tbody>\n</table>\n<p>14552 rows × 9 columns</p>\n</div>"
     },
     "execution_count": 20,
     "metadata": {},
     "output_type": "execute_result"
    }
   ],
   "source": [
    "final_evaluation_df"
   ],
   "metadata": {
    "collapsed": false,
    "ExecuteTime": {
     "end_time": "2023-11-05T16:09:25.550092900Z",
     "start_time": "2023-11-05T16:09:25.480115700Z"
    }
   },
   "id": "d9804add7c929f4e"
  },
  {
   "cell_type": "code",
   "execution_count": null,
   "outputs": [],
   "source": [],
   "metadata": {
    "collapsed": false
   },
   "id": "2d9cdb3a4f83553f"
  }
 ],
 "metadata": {
  "kernelspec": {
   "name": "question_answering",
   "language": "python",
   "display_name": "question_answering"
  },
  "language_info": {
   "codemirror_mode": {
    "name": "ipython",
    "version": 3
   },
   "file_extension": ".py",
   "mimetype": "text/x-python",
   "name": "python",
   "nbconvert_exporter": "python",
   "pygments_lexer": "ipython3",
   "version": "3.10.13"
  }
 },
 "nbformat": 4,
 "nbformat_minor": 5
}
