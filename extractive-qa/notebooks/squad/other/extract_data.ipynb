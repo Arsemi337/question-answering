{
 "cells": [
  {
   "cell_type": "code",
   "execution_count": 9,
   "metadata": {
    "collapsed": true,
    "ExecuteTime": {
     "end_time": "2023-11-22T12:46:46.992191900Z",
     "start_time": "2023-11-22T12:46:46.973043300Z"
    }
   },
   "outputs": [],
   "source": [
    "import datasets\n",
    "import pandas as pd\n",
    "import os\n",
    "from question_answering.paths import extractive_qa_paths\n",
    "\n",
    "datasets.logging.set_verbosity_error()\n",
    "datasets.logging.disable_progress_bar()"
   ]
  },
  {
   "cell_type": "code",
   "execution_count": 10,
   "metadata": {
    "collapsed": false,
    "ExecuteTime": {
     "end_time": "2023-11-22T12:46:47.350860500Z",
     "start_time": "2023-11-22T12:46:47.337914400Z"
    }
   },
   "outputs": [],
   "source": [
    "def preprocess_squad_dataset_sample(sample, keep_multiple_answers: bool):\n",
    "    answer_texts = sample[\"answers\"][\"text\"]\n",
    "    answer_starts = sample[\"answers\"][\"answer_start\"]\n",
    "    \n",
    "    if keep_multiple_answers:\n",
    "        sample[\"answer_text\"] = answer_texts\n",
    "        sample[\"answer_start\"] = answer_starts\n",
    "    else:\n",
    "        sample[\"answer_text\"] = answer_texts[0]\n",
    "        sample[\"answer_start\"] = answer_starts[0]\n",
    "\n",
    "    return sample\n",
    "\n",
    "\n",
    "def save_squad_dataset_as_csv(dataset, set_type, keep_multiple_answers: bool = False):\n",
    "    dataset = dataset.map(\n",
    "        lambda sample: preprocess_squad_dataset_sample(sample, keep_multiple_answers=keep_multiple_answers)\n",
    "    )\n",
    "    dataset = dataset.remove_columns([\"title\", \"answers\"])\n",
    "\n",
    "    dataset_df = dataset.to_pandas()\n",
    "    dataset_df = dataset_df.dropna()\n",
    "\n",
    "    path = extractive_qa_paths.squad_dataset_dir\n",
    "    dir_exists = os.path.exists(path)\n",
    "    if not dir_exists:\n",
    "        os.makedirs(path)\n",
    "    dataset_df.to_csv(path / f\"{set_type}.csv\", index=True, index_label=\"index\")\n",
    "\n",
    "\n",
    "def load_squad_dataset_and_save_as_csv():\n",
    "    squad_dataset = datasets.load_dataset(\"squad\")\n",
    "    train_temp_pd = squad_dataset[\"train\"].to_pandas()\n",
    "    validation_temp_pd = squad_dataset[\"validation\"].to_pandas()\n",
    "\n",
    "    # Create orig train and orig eval csvs with shuffling\n",
    "    orig_train_dataset = datasets.Dataset.from_pandas(train_temp_pd, preserve_index=False).shuffle(seed=42)\n",
    "    orig_val_dataset = datasets.Dataset.from_pandas(validation_temp_pd, preserve_index=False).shuffle(seed=42)\n",
    "    save_squad_dataset_as_csv(orig_train_dataset, set_type=\"orig_train\", keep_multiple_answers=True)\n",
    "    save_squad_dataset_as_csv(orig_val_dataset, set_type=\"orig_val\", keep_multiple_answers=True)\n",
    "\n",
    "    # Create csvs with random split 70:15:15 and one answer per sample\n",
    "    combined_temp_pd = pd.concat((train_temp_pd, validation_temp_pd))\n",
    "    squad_dataset = datasets.Dataset.from_pandas(combined_temp_pd, preserve_index=False)\n",
    "    squad_dataset = squad_dataset.shuffle(seed=42)\n",
    "    train_valtest_dataset = squad_dataset.train_test_split(test_size=0.3, shuffle=False)\n",
    "    val_test_dataset = train_valtest_dataset[\"test\"].train_test_split(\n",
    "        test_size=0.5, shuffle=False\n",
    "    )\n",
    "\n",
    "    train_dataset = train_valtest_dataset[\"train\"]\n",
    "    val_dataset = val_test_dataset[\"train\"]\n",
    "    test_dataset = val_test_dataset[\"test\"]\n",
    "\n",
    "    save_squad_dataset_as_csv(train_dataset, set_type=\"train\")\n",
    "    save_squad_dataset_as_csv(val_dataset, set_type=\"val\")\n",
    "    save_squad_dataset_as_csv(test_dataset, set_type=\"test\")"
   ]
  },
  {
   "cell_type": "code",
   "execution_count": 11,
   "metadata": {
    "collapsed": false,
    "ExecuteTime": {
     "end_time": "2023-11-22T12:47:10.973149500Z",
     "start_time": "2023-11-22T12:46:48.090364800Z"
    }
   },
   "outputs": [],
   "source": [
    "load_squad_dataset_and_save_as_csv()"
   ]
  },
  {
   "cell_type": "code",
   "execution_count": null,
   "metadata": {
    "collapsed": false
   },
   "outputs": [],
   "source": []
  }
 ],
 "metadata": {
  "kernelspec": {
   "display_name": "Python 3",
   "language": "python",
   "name": "python3"
  },
  "language_info": {
   "codemirror_mode": {
    "name": "ipython",
    "version": 3
   },
   "file_extension": ".py",
   "mimetype": "text/x-python",
   "name": "python",
   "nbconvert_exporter": "python",
   "pygments_lexer": "ipython3",
   "version": "3.9.18"
  }
 },
 "nbformat": 4,
 "nbformat_minor": 0
}
