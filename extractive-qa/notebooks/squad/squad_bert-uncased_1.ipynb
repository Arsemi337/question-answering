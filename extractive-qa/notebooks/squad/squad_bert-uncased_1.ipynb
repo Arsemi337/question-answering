{
 "cells": [
  {
   "cell_type": "code",
   "execution_count": 1,
   "id": "initial_id",
   "metadata": {
    "ExecuteTime": {
     "end_time": "2023-10-30T16:55:32.667104500Z",
     "start_time": "2023-10-30T16:55:28.974930100Z"
    },
    "collapsed": true
   },
   "outputs": [],
   "source": [
    "from transformers import (\n",
    "    AutoTokenizer,\n",
    "    TFAutoModelForQuestionAnswering,\n",
    "    DefaultDataCollator,\n",
    ")\n",
    "import tensorflow as tf\n",
    "from question_answering.constants import constants\n",
    "from question_answering.utils import core_qa_utils, extractive_qa_utils\n",
    "from question_answering.paths import extractive_qa_paths"
   ]
  },
  {
   "cell_type": "code",
   "execution_count": 2,
   "id": "9b7529904f21909",
   "metadata": {
    "ExecuteTime": {
     "end_time": "2023-10-30T16:55:33.767177200Z",
     "start_time": "2023-10-30T16:55:32.671101800Z"
    },
    "collapsed": false
   },
   "outputs": [],
   "source": [
    "df_train, df_val, df_test = core_qa_utils.load_train_val_test_datasets(\n",
    "    extractive_qa_paths.squad_dataset_dir\n",
    ")\n",
    "\n",
    "train_dataset, val_dataset, test_dataset = core_qa_utils.convert_dataframes_to_datasets(\n",
    "    [df_train, df_val, df_test]\n",
    ")"
   ]
  },
  {
   "cell_type": "code",
   "execution_count": 3,
   "id": "db291e0a",
   "metadata": {
    "ExecuteTime": {
     "end_time": "2023-10-30T16:55:34.310328600Z",
     "start_time": "2023-10-30T16:55:33.761176600Z"
    }
   },
   "outputs": [],
   "source": [
    "model_checkpoint = \"bert-base-uncased\"\n",
    "tokenizer = AutoTokenizer.from_pretrained(model_checkpoint)"
   ]
  },
  {
   "cell_type": "code",
   "execution_count": 5,
   "id": "10e53325b1b3a28b",
   "metadata": {
    "ExecuteTime": {
     "end_time": "2023-10-30T16:57:03.091160600Z",
     "start_time": "2023-10-30T16:56:26.167624100Z"
    },
    "collapsed": false
   },
   "outputs": [
    {
     "name": "stderr",
     "output_type": "stream",
     "text": [
      "Parameter 'indices'=<generator object filter_samples_below_number_of_tokens.<locals>.<genexpr> at 0x0000014E0938CC80> of the transform datasets.arrow_dataset.Dataset.select couldn't be hashed properly, a random hash was used instead. Make sure your transforms and parameters are serializable with pickle or dill for the dataset fingerprinting and caching to work. If you reuse this transform, the caching mechanism will consider it to be different from the previous calls and recompute everything. This warning is only showed once. Subsequent hashing failures won't be showed.\n"
     ]
    }
   ],
   "source": [
    "max_length = 384\n",
    "\n",
    "\n",
    "def tokenize_sample(sample, max_tokens=None, padding=False):\n",
    "    question = sample[\"question\"].strip()\n",
    "    context = sample[\"context\"].strip()\n",
    "\n",
    "    return tokenizer(question, context, max_length=max_tokens, padding=padding)\n",
    "\n",
    "\n",
    "def filter_samples_below_number_of_tokens(dataset, max_tokens: int):\n",
    "    indices_to_remove = []\n",
    "\n",
    "    # Find indices of samples where number of tokens exceeds max number of tokens\n",
    "    for index, sample in enumerate(dataset):\n",
    "        tokenized_sample = tokenize_sample(sample)\n",
    "        if len(tokenized_sample[\"input_ids\"]) > max_tokens:\n",
    "            indices_to_remove.append(index)\n",
    "\n",
    "    # Keep only samples with number of tokens less or equal than max number of tokens\n",
    "    dataset_indices = range(len(dataset))\n",
    "    filtered_dataset = dataset.select(\n",
    "        index for index in dataset_indices if index not in set(indices_to_remove)\n",
    "    )\n",
    "\n",
    "    return filtered_dataset\n",
    "\n",
    "\n",
    "filtered_train_dataset = filter_samples_below_number_of_tokens(\n",
    "    train_dataset, max_tokens=max_length\n",
    ")\n",
    "filtered_val_dataset = filter_samples_below_number_of_tokens(\n",
    "    val_dataset, max_tokens=max_length\n",
    ")\n",
    "filtered_test_dataset = filter_samples_below_number_of_tokens(\n",
    "    test_dataset, max_tokens=max_length\n",
    ")"
   ]
  },
  {
   "cell_type": "code",
   "execution_count": 6,
   "id": "c1aebcb2",
   "metadata": {
    "ExecuteTime": {
     "end_time": "2023-10-30T16:57:03.108191900Z",
     "start_time": "2023-10-30T16:57:03.093160900Z"
    },
    "collapsed": false
   },
   "outputs": [
    {
     "name": "stdout",
     "output_type": "stream",
     "text": [
      "Number of samples in tokenized train dataset before filtering:  68716\n",
      "Number of samples in tokenized val dataset before filtering:  14724\n",
      "Number of samples in tokenized test dataset before filtering:  14725\n",
      "\n",
      "---------------\n",
      "\n",
      "Number of samples in tokenized train dataset after filtering:  67964\n",
      "Number of samples in tokenized val dataset after filtering:  14573\n",
      "Number of samples in tokenized test dataset after filtering:  14552\n"
     ]
    }
   ],
   "source": [
    "print(\n",
    "    \"Number of samples in tokenized train dataset before filtering: \",\n",
    "    len(train_dataset),\n",
    ")\n",
    "print(\"Number of samples in tokenized val dataset before filtering: \", len(val_dataset))\n",
    "print(\n",
    "    \"Number of samples in tokenized test dataset before filtering: \", len(test_dataset)\n",
    ")\n",
    "\n",
    "print(\"\\n---------------\\n\")\n",
    "\n",
    "print(\n",
    "    \"Number of samples in tokenized train dataset after filtering: \",\n",
    "    len(filtered_train_dataset),\n",
    ")\n",
    "print(\n",
    "    \"Number of samples in tokenized val dataset after filtering: \",\n",
    "    len(filtered_val_dataset),\n",
    ")\n",
    "print(\n",
    "    \"Number of samples in tokenized test dataset after filtering: \",\n",
    "    len(filtered_test_dataset),\n",
    ")"
   ]
  },
  {
   "cell_type": "code",
   "execution_count": 7,
   "id": "cb6cdd06c7a27f8c",
   "metadata": {
    "ExecuteTime": {
     "end_time": "2023-10-30T16:57:03.154193300Z",
     "start_time": "2023-10-30T16:57:03.109193100Z"
    },
    "collapsed": false
   },
   "outputs": [],
   "source": [
    "def preprocess_dataset(dataset):\n",
    "    questions = [q.strip() for q in dataset[\"question\"]]\n",
    "    contexts = [c.strip() for c in dataset[\"context\"]]\n",
    "\n",
    "    inputs = tokenizer(\n",
    "        questions,\n",
    "        contexts,\n",
    "        max_length=max_length,\n",
    "        padding=\"max_length\",\n",
    "        return_offsets_mapping=True,\n",
    "    )\n",
    "\n",
    "    offset_mapping = inputs.pop(\"offset_mapping\")\n",
    "\n",
    "    answer_start_indices = dataset[\"answer_start\"]\n",
    "    answer_texts = dataset[\"answer_text\"]\n",
    "    start_positions = []\n",
    "    end_positions = []\n",
    "\n",
    "    for index, offset in enumerate(offset_mapping):\n",
    "        start_char = answer_start_indices[index]\n",
    "        end_char = start_char + len(answer_texts[index])\n",
    "        sequence_ids = inputs.sequence_ids(index)\n",
    "\n",
    "        # Find the start and end token indices of the context\n",
    "        idx = 0\n",
    "        while sequence_ids[idx] != 1:\n",
    "            idx += 1\n",
    "        context_start = idx\n",
    "        while sequence_ids[idx] == 1:\n",
    "            idx += 1\n",
    "        context_end = idx - 1\n",
    "\n",
    "        idx = context_start\n",
    "        while idx <= context_end and offset[idx][0] <= start_char:\n",
    "            idx += 1\n",
    "        start_positions.append(idx - 1)\n",
    "\n",
    "        idx = context_end\n",
    "        while idx >= context_start and offset[idx][1] >= end_char:\n",
    "            idx -= 1\n",
    "        end_positions.append(idx + 1)\n",
    "\n",
    "    inputs[\"start_positions\"] = start_positions\n",
    "    inputs[\"end_positions\"] = end_positions\n",
    "    return inputs"
   ]
  },
  {
   "cell_type": "code",
   "execution_count": 8,
   "id": "3b72cf37",
   "metadata": {
    "ExecuteTime": {
     "end_time": "2023-10-30T16:57:26.949334800Z",
     "start_time": "2023-10-30T16:57:03.125194800Z"
    }
   },
   "outputs": [
    {
     "data": {
      "application/vnd.jupyter.widget-view+json": {
       "model_id": "c0696a72a55c46d8a5451738d2005dcf",
       "version_major": 2,
       "version_minor": 0
      },
      "text/plain": [
       "Map:   0%|          | 0/67964 [00:00<?, ? examples/s]"
      ]
     },
     "metadata": {},
     "output_type": "display_data"
    },
    {
     "data": {
      "application/vnd.jupyter.widget-view+json": {
       "model_id": "80f237b0f3664856964b879e15b329c5",
       "version_major": 2,
       "version_minor": 0
      },
      "text/plain": [
       "Map:   0%|          | 0/14573 [00:00<?, ? examples/s]"
      ]
     },
     "metadata": {},
     "output_type": "display_data"
    },
    {
     "data": {
      "application/vnd.jupyter.widget-view+json": {
       "model_id": "a893bacc37964b509d36d361dbd7af1f",
       "version_major": 2,
       "version_minor": 0
      },
      "text/plain": [
       "Map:   0%|          | 0/14552 [00:00<?, ? examples/s]"
      ]
     },
     "metadata": {},
     "output_type": "display_data"
    }
   ],
   "source": [
    "tokenized_train_dataset = filtered_train_dataset.map(\n",
    "    preprocess_dataset,\n",
    "    batched=True,\n",
    "    remove_columns=filtered_train_dataset.column_names,\n",
    ")\n",
    "tokenized_val_dataset = filtered_val_dataset.map(\n",
    "    preprocess_dataset,\n",
    "    batched=True,\n",
    "    remove_columns=filtered_val_dataset.column_names,\n",
    ")\n",
    "tokenized_test_dataset = filtered_test_dataset.map(\n",
    "    preprocess_dataset,\n",
    "    batched=True,\n",
    "    remove_columns=filtered_test_dataset.column_names,\n",
    ")"
   ]
  },
  {
   "cell_type": "code",
   "execution_count": 9,
   "id": "9fc093e38a8b9eb4",
   "metadata": {
    "ExecuteTime": {
     "end_time": "2023-10-30T16:57:37.472560500Z",
     "start_time": "2023-10-30T16:57:26.950336Z"
    },
    "collapsed": false
   },
   "outputs": [
    {
     "name": "stdout",
     "output_type": "stream",
     "text": [
      "All tokenized train dataset entries have 384 tokens:  True\n",
      "All tokenized val dataset entries have 384 tokens:  True\n",
      "All tokenized test dataset entries have 384 tokens:  True\n"
     ]
    }
   ],
   "source": [
    "print(\n",
    "    f\"All tokenized train dataset entries have {max_length} tokens: \",\n",
    "    all(\n",
    "        [\n",
    "            len(input_ids) == max_length\n",
    "            for input_ids in tokenized_train_dataset[\"input_ids\"]\n",
    "        ]\n",
    "    ),\n",
    ")\n",
    "print(\n",
    "    f\"All tokenized val dataset entries have {max_length} tokens: \",\n",
    "    all(\n",
    "        [\n",
    "            len(input_ids) == max_length\n",
    "            for input_ids in tokenized_val_dataset[\"input_ids\"]\n",
    "        ]\n",
    "    ),\n",
    ")\n",
    "print(\n",
    "    f\"All tokenized test dataset entries have {max_length} tokens: \",\n",
    "    all(\n",
    "        [\n",
    "            len(input_ids) == max_length\n",
    "            for input_ids in tokenized_test_dataset[\"input_ids\"]\n",
    "        ]\n",
    "    ),\n",
    ")"
   ]
  },
  {
   "cell_type": "code",
   "execution_count": 10,
   "id": "72e1f89c3dcff7b",
   "metadata": {
    "ExecuteTime": {
     "end_time": "2023-10-30T16:57:37.485628Z",
     "start_time": "2023-10-30T16:57:37.474562Z"
    },
    "collapsed": false
   },
   "outputs": [],
   "source": [
    "# Model parameters\n",
    "training_number = 1\n",
    "\n",
    "model_name = \"squad-bert-uncased\"\n",
    "full_model_name = f\"{model_name}-{training_number}\"\n",
    "\n",
    "# Checkpoints\n",
    "checkpoint_filename_template = constants.checkpoint_filename_template\n",
    "checkpoints_path = (\n",
    "    extractive_qa_paths.training_checkpoints_dir\n",
    "    / full_model_name\n",
    "    / checkpoint_filename_template\n",
    ")\n",
    "\n",
    "# Saved models\n",
    "saved_models_path = extractive_qa_paths.saved_models_dir / full_model_name\n",
    "\n",
    "# Figures\n",
    "figures_dir = extractive_qa_paths.figures_dir / full_model_name\n",
    "\n",
    "# Hyperparameters\n",
    "batch_size = 8\n",
    "train_epochs = 10"
   ]
  },
  {
   "cell_type": "code",
   "execution_count": 11,
   "id": "9d5bedb4",
   "metadata": {
    "ExecuteTime": {
     "end_time": "2023-10-30T16:57:39.968658400Z",
     "start_time": "2023-10-30T16:57:37.487627800Z"
    }
   },
   "outputs": [
    {
     "name": "stderr",
     "output_type": "stream",
     "text": [
      "All PyTorch model weights were used when initializing TFBertForQuestionAnswering.\n",
      "\n",
      "Some weights or buffers of the TF 2.0 model TFBertForQuestionAnswering were not initialized from the PyTorch model and are newly initialized: ['qa_outputs.weight', 'qa_outputs.bias']\n",
      "You should probably TRAIN this model on a down-stream task to be able to use it for predictions and inference.\n"
     ]
    }
   ],
   "source": [
    "# Load model for fine-tuning\n",
    "model = TFAutoModelForQuestionAnswering.from_pretrained(model_checkpoint)"
   ]
  },
  {
   "cell_type": "code",
   "execution_count": 12,
   "id": "5a9266b102c3f216",
   "metadata": {
    "ExecuteTime": {
     "end_time": "2023-10-30T16:57:40.175069100Z",
     "start_time": "2023-10-30T16:57:39.942660400Z"
    },
    "collapsed": false
   },
   "outputs": [],
   "source": [
    "# Dataset preparation\n",
    "data_collator = DefaultDataCollator(return_tensors=\"tf\")\n",
    "\n",
    "tf_train_dataset = core_qa_utils.convert_to_tf_dataset(\n",
    "    hf_dataset=tokenized_train_dataset,\n",
    "    columns=[\"input_ids\", \"token_type_ids\", \"attention_mask\"],\n",
    "    label_cols=[\"start_positions\", \"end_positions\"],\n",
    "    collator=data_collator,\n",
    "    batch_size=batch_size,\n",
    ")\n",
    "\n",
    "tf_val_dataset = core_qa_utils.convert_to_tf_dataset(\n",
    "    hf_dataset=tokenized_val_dataset,\n",
    "    columns=[\"input_ids\", \"token_type_ids\", \"attention_mask\"],\n",
    "    label_cols=[\"start_positions\", \"end_positions\"],\n",
    "    collator=data_collator,\n",
    "    batch_size=batch_size,\n",
    ")\n",
    "\n",
    "tf_test_dataset = core_qa_utils.convert_to_tf_dataset(\n",
    "    hf_dataset=tokenized_test_dataset,\n",
    "    columns=[\"input_ids\", \"token_type_ids\", \"attention_mask\"],\n",
    "    label_cols=[\"start_positions\", \"end_positions\"],\n",
    "    collator=data_collator,\n",
    "    batch_size=batch_size,\n",
    ")"
   ]
  },
  {
   "cell_type": "code",
   "execution_count": 14,
   "id": "a10641c9",
   "metadata": {
    "ExecuteTime": {
     "end_time": "2023-10-30T16:57:40.216080600Z",
     "start_time": "2023-10-30T16:57:40.191069200Z"
    }
   },
   "outputs": [],
   "source": [
    "# Callbacks\n",
    "checkpoint_cb = tf.keras.callbacks.ModelCheckpoint(\n",
    "    checkpoints_path, verbose=1, save_weights_only=True\n",
    ")\n",
    "early_stop_cb = tf.keras.callbacks.EarlyStopping(patience=1)\n",
    "\n",
    "callbacks = [\n",
    "    checkpoint_cb,\n",
    "    early_stop_cb,\n",
    "]"
   ]
  },
  {
   "cell_type": "code",
   "execution_count": 15,
   "id": "f4ec7915adf3b24c",
   "metadata": {
    "ExecuteTime": {
     "end_time": "2023-10-30T16:57:40.223080500Z",
     "start_time": "2023-10-30T16:57:40.208081400Z"
    },
    "collapsed": false
   },
   "outputs": [
    {
     "name": "stdout",
     "output_type": "stream",
     "text": [
      "INFO:tensorflow:Mixed precision compatibility check (mixed_float16): OK\n",
      "Your GPU will likely run quickly with dtype policy mixed_float16 as it has compute capability of at least 7.0. Your GPU: NVIDIA GeForce RTX 4070, compute capability 8.9\n"
     ]
    }
   ],
   "source": [
    "# Compile\n",
    "num_train_steps = len(tf_train_dataset) * train_epochs\n",
    "\n",
    "lr_scheduler = tf.keras.optimizers.schedules.PolynomialDecay(\n",
    "    initial_learning_rate=2e-5, end_learning_rate=0.0, decay_steps=num_train_steps\n",
    ")\n",
    "\n",
    "optimizer = tf.keras.optimizers.Adam(learning_rate=lr_scheduler)\n",
    "\n",
    "# Train in mixed-precision float16\n",
    "tf.keras.mixed_precision.set_global_policy(\"mixed_float16\")\n",
    "\n",
    "# Compile\n",
    "loss = tf.keras.losses.SparseCategoricalCrossentropy(from_logits=True)\n",
    "metrics = [\"accuracy\"]\n",
    "model.compile(optimizer=optimizer, loss=loss, metrics=metrics)"
   ]
  },
  {
   "cell_type": "code",
   "execution_count": 16,
   "id": "46ed3bc04bffb6bd",
   "metadata": {
    "ExecuteTime": {
     "end_time": "2023-10-30T16:57:40.278080100Z",
     "start_time": "2023-10-30T16:57:40.224080200Z"
    },
    "collapsed": false
   },
   "outputs": [
    {
     "name": "stdout",
     "output_type": "stream",
     "text": [
      "Model: \"tf_bert_for_question_answering\"\n",
      "_________________________________________________________________\n",
      " Layer (type)                Output Shape              Param #   \n",
      "=================================================================\n",
      " bert (TFBertMainLayer)      multiple                  108891648 \n",
      "                                                                 \n",
      " qa_outputs (Dense)          multiple                  1538      \n",
      "                                                                 \n",
      "=================================================================\n",
      "Total params: 108,893,186\n",
      "Trainable params: 108,893,186\n",
      "Non-trainable params: 0\n",
      "_________________________________________________________________\n"
     ]
    }
   ],
   "source": [
    "model.summary()"
   ]
  },
  {
   "cell_type": "code",
   "execution_count": null,
   "id": "943d016bd9af345c",
   "metadata": {
    "ExecuteTime": {
     "end_time": "2023-10-30T16:58:02.542718600Z",
     "start_time": "2023-10-30T16:57:40.257080200Z"
    },
    "collapsed": false
   },
   "outputs": [],
   "source": [
    "# Fit the model on the new data\n",
    "history = model.fit(\n",
    "    tf_train_dataset,\n",
    "    validation_data=tf_val_dataset,\n",
    "    epochs=train_epochs,\n",
    "    callbacks=callbacks,\n",
    ")"
   ]
  },
  {
   "cell_type": "code",
   "execution_count": null,
   "id": "72a57f5bd9b9438f",
   "metadata": {
    "ExecuteTime": {
     "start_time": "2023-10-30T16:48:06.639280Z"
    },
    "collapsed": false
   },
   "outputs": [],
   "source": [
    "# Get best version of the model\n",
    "best_model = core_qa_utils.get_best_model_from_checkpoints(\n",
    "    model, history, model_name=full_model_name, remove_checkpoints=False\n",
    ")"
   ]
  },
  {
   "cell_type": "code",
   "execution_count": null,
   "id": "f9673d7d1c09aece",
   "metadata": {
    "ExecuteTime": {
     "start_time": "2023-10-30T16:48:06.641280600Z"
    },
    "collapsed": false
   },
   "outputs": [],
   "source": [
    "# Save best model's weights\n",
    "extractive_qa_utils.save_model(best_model, model_name=full_model_name)"
   ]
  },
  {
   "cell_type": "code",
   "execution_count": null,
   "id": "814c2fb7f961d268",
   "metadata": {
    "ExecuteTime": {
     "start_time": "2023-10-30T16:48:06.644323900Z"
    },
    "collapsed": false
   },
   "outputs": [],
   "source": [
    "# Load best model\n",
    "loaded_best_model = extractive_qa_utils.load_weights_into_model(\n",
    "    best_model, model_name=full_model_name\n",
    ")"
   ]
  },
  {
   "cell_type": "code",
   "execution_count": null,
   "id": "5fcf4fbd43971926",
   "metadata": {
    "ExecuteTime": {
     "start_time": "2023-10-30T16:48:06.646324500Z"
    },
    "collapsed": false
   },
   "outputs": [],
   "source": [
    "# Get predictions from best_model\n",
    "best_model_preds = best_model.evaluate(tf_test_dataset)"
   ]
  },
  {
   "cell_type": "code",
   "execution_count": null,
   "id": "5158f184f24da9bb",
   "metadata": {
    "ExecuteTime": {
     "end_time": "2023-10-30T16:48:06.652581400Z",
     "start_time": "2023-10-30T16:48:06.648323500Z"
    },
    "collapsed": false
   },
   "outputs": [],
   "source": [
    "loaded_best_model_preds = loaded_best_model.evaluate(tf_test_dataset)"
   ]
  },
  {
   "cell_type": "code",
   "execution_count": null,
   "id": "48a8c08d0e3f253a",
   "metadata": {
    "ExecuteTime": {
     "start_time": "2023-10-30T16:48:06.650323600Z"
    },
    "collapsed": false
   },
   "outputs": [],
   "source": [
    "best_model_preds"
   ]
  },
  {
   "cell_type": "code",
   "execution_count": null,
   "id": "7f3cdb076ee266cc",
   "metadata": {
    "ExecuteTime": {
     "start_time": "2023-10-30T16:48:06.651323Z"
    },
    "collapsed": false
   },
   "outputs": [],
   "source": [
    "loaded_best_model_preds"
   ]
  },
  {
   "cell_type": "code",
   "execution_count": 17,
   "id": "ab81310e",
   "metadata": {},
   "outputs": [
    {
     "name": "stderr",
     "output_type": "stream",
     "text": [
      "All PyTorch model weights were used when initializing TFBertForQuestionAnswering.\n",
      "\n",
      "Some weights or buffers of the TF 2.0 model TFBertForQuestionAnswering were not initialized from the PyTorch model and are newly initialized: ['qa_outputs.weight', 'qa_outputs.bias']\n",
      "You should probably TRAIN this model on a down-stream task to be able to use it for predictions and inference.\n"
     ]
    }
   ],
   "source": [
    "loaded_model = extractive_qa_utils.load_model(\n",
    "    model_checkpoint=model_checkpoint, model_name=full_model_name\n",
    ")"
   ]
  },
  {
   "cell_type": "code",
   "execution_count": 18,
   "id": "4f558471",
   "metadata": {},
   "outputs": [
    {
     "name": "stdout",
     "output_type": "stream",
     "text": [
      "1819/1819 [==============================] - 103s 53ms/step\n"
     ]
    }
   ],
   "source": [
    "loaded_model_preds = loaded_model.predict(tf_test_dataset)"
   ]
  },
  {
   "cell_type": "code",
   "execution_count": null,
   "id": "290f9a17",
   "metadata": {},
   "outputs": [],
   "source": [
    "loaded_model.compile(optimizer=optimizer, loss=loss, metrics=metrics)"
   ]
  },
  {
   "cell_type": "code",
   "execution_count": null,
   "id": "70836820",
   "metadata": {},
   "outputs": [],
   "source": [
    "loaded_model_evaluation = loaded_model.evaluate(tf_test_dataset)"
   ]
  },
  {
   "cell_type": "code",
   "execution_count": null,
   "id": "cc068cb6",
   "metadata": {},
   "outputs": [],
   "source": [
    "core_qa_utils.plot_and_save_fig_from_history(\n",
    "    history,\n",
    "    attributes=[\"start_logits_accuracy\", \"val_start_logits_accuracy\"],\n",
    "    title=\"Model start logits accuracy\",\n",
    "    y_label=\"Accuracy\",\n",
    "    x_label=\"Epoch\",\n",
    "    legend_descriptors=[\"Train\", \"Val\"],\n",
    "    figure_dir_path=figures_dir,\n",
    "    figure_filename=f\"{full_model_name}_start_accuracy.png\",\n",
    ")\n",
    "\n",
    "core_qa_utils.plot_and_save_fig_from_history(\n",
    "    history,\n",
    "    attributes=[\"end_logits_accuracy\", \"val_end_logits_accuracy\"],\n",
    "    title=\"Model end logits accuracy\",\n",
    "    y_label=\"Accuracy\",\n",
    "    x_label=\"Epoch\",\n",
    "    legend_descriptors=[\"Train\", \"Val\"],\n",
    "    figure_dir_path=figures_dir,\n",
    "    figure_filename=f\"{full_model_name}_end_accuracy.png\",\n",
    ")\n",
    "\n",
    "core_qa_utils.plot_and_save_fig_from_history(\n",
    "    history,\n",
    "    attributes=[\"loss\", \"val_loss\"],\n",
    "    title=\"Model loss\",\n",
    "    y_label=\"Loss\",\n",
    "    x_label=\"Epoch\",\n",
    "    legend_descriptors=[\"Train\", \"Val\"],\n",
    "    figure_dir_path=figures_dir,\n",
    "    figure_filename=f\"{full_model_name}_loss.png\",\n",
    ")\n",
    "\n",
    "core_qa_utils.plot_and_save_fig_from_history(\n",
    "    history,\n",
    "    attributes=[\"start_logits_loss\", \"val_start_logits_loss\"],\n",
    "    title=\"Model start logits loss\",\n",
    "    y_label=\"Loss\",\n",
    "    x_label=\"Epoch\",\n",
    "    legend_descriptors=[\"Train\", \"Val\"],\n",
    "    figure_dir_path=figures_dir,\n",
    "    figure_filename=f\"{full_model_name}_start_loss.png\",\n",
    ")\n",
    "\n",
    "core_qa_utils.plot_and_save_fig_from_history(\n",
    "    history,\n",
    "    attributes=[\"end_logits_loss\", \"val_end_logits_loss\"],\n",
    "    title=\"Model end logits loss\",\n",
    "    y_label=\"Loss\",\n",
    "    x_label=\"Epoch\",\n",
    "    legend_descriptors=[\"Train\", \"Val\"],\n",
    "    figure_dir_path=figures_dir,\n",
    "    figure_filename=f\"{full_model_name}_end_loss.png\",\n",
    ")"
   ]
  },
  {
   "cell_type": "code",
   "execution_count": 19,
   "id": "8b891316",
   "metadata": {},
   "outputs": [],
   "source": [
    "start_preds = extractive_qa_utils.get_class_preds(\n",
    "    predictions=loaded_model_preds, output_key=\"start_logits\"\n",
    ")\n",
    "end_preds = extractive_qa_utils.get_class_preds(\n",
    "    predictions=loaded_model_preds, output_key=\"end_logits\"\n",
    ")"
   ]
  },
  {
   "cell_type": "code",
   "execution_count": 20,
   "id": "06a24da4",
   "metadata": {},
   "outputs": [
    {
     "name": "stdout",
     "output_type": "stream",
     "text": [
      "Start positions precision score:  0.6926195711929631\n",
      "Start positions recall score:  0.6926195711929631\n",
      "Start positions F1 score:  0.6926195711929631\n"
     ]
    }
   ],
   "source": [
    "(\n",
    "    start_precision,\n",
    "    start_recall,\n",
    "    start_f1,\n",
    ") = extractive_qa_utils.get_classification_evaluation_metrics(\n",
    "    class_actual=tokenized_test_dataset[\"start_positions\"],\n",
    "    class_preds=start_preds,\n",
    "    average=\"micro\",\n",
    ")\n",
    "\n",
    "print(f\"Start positions precision score: \", start_precision)\n",
    "print(f\"Start positions recall score: \", start_recall)\n",
    "print(f\"Start positions F1 score: \", start_f1)"
   ]
  },
  {
   "cell_type": "code",
   "execution_count": 21,
   "id": "965931db",
   "metadata": {},
   "outputs": [
    {
     "name": "stdout",
     "output_type": "stream",
     "text": [
      "End positions precision score:  0.7335074216602528\n",
      "End positions recall score:  0.7335074216602528\n",
      "End positions F1 score:  0.7335074216602528\n"
     ]
    }
   ],
   "source": [
    "(\n",
    "    end_precision,\n",
    "    end_recall,\n",
    "    end_f1,\n",
    ") = extractive_qa_utils.get_classification_evaluation_metrics(\n",
    "    class_actual=tokenized_test_dataset[\"end_positions\"],\n",
    "    class_preds=end_preds,\n",
    "    average=\"micro\",\n",
    ")\n",
    "\n",
    "print(f\"End positions precision score: \", end_precision)\n",
    "print(f\"End positions recall score: \", end_recall)\n",
    "print(f\"End positions F1 score: \", end_f1)"
   ]
  },
  {
   "cell_type": "code",
   "execution_count": 23,
   "id": "cd01a3b0",
   "metadata": {},
   "outputs": [
    {
     "data": {
      "application/vnd.jupyter.widget-view+json": {
       "model_id": "b7147ebf2e314f93a323c0f2df338c89",
       "version_major": 2,
       "version_minor": 0
      },
      "text/plain": [
       "Map:   0%|          | 0/14552 [00:00<?, ? examples/s]"
      ]
     },
     "metadata": {},
     "output_type": "display_data"
    }
   ],
   "source": [
    "model_predicted_answers = tokenized_test_dataset.map(\n",
    "    lambda row: extractive_qa_utils.extract_answer_tokens(row),\n",
    "    remove_columns=[\n",
    "        \"input_ids\",\n",
    "        \"token_type_ids\",\n",
    "        \"attention_mask\",\n",
    "        \"start_positions\",\n",
    "        \"end_positions\",\n",
    "    ],\n",
    ")"
   ]
  },
  {
   "cell_type": "code",
   "execution_count": 24,
   "id": "82f984b2",
   "metadata": {},
   "outputs": [
    {
     "data": {
      "application/vnd.jupyter.widget-view+json": {
       "model_id": "7e02f7896ce4480cab2f6aa4ee78ba04",
       "version_major": 2,
       "version_minor": 0
      },
      "text/plain": [
       "Map:   0%|          | 0/14552 [00:00<?, ? examples/s]"
      ]
     },
     "metadata": {},
     "output_type": "display_data"
    }
   ],
   "source": [
    "model_predicted_answers = model_predicted_answers.map(\n",
    "    lambda row: {\n",
    "        \"answer_text\": extractive_qa_utils.decode_answer_tokens(row, tokenizer)\n",
    "    }\n",
    ")"
   ]
  },
  {
   "cell_type": "code",
   "execution_count": 26,
   "metadata": {},
   "outputs": [
    {
     "name": "stdout",
     "output_type": "stream",
     "text": [
      "Exact match for original dataset:  0.4169186366135239\n",
      "Exact match case insensitive:  0.8523914238592634\n",
      "Exact match case insensitive and punctuation ignoring:  0.8530786146234195\n"
     ]
    }
   ],
   "source": [
    "(\n",
    "    exact_match_original,\n",
    "    exact_match_lowercase,\n",
    "    exact_match_lowercase_no_punctuation,\n",
    ") = extractive_qa_utils.calculate_pure_exact_match(\n",
    "    filtered_test_dataset, model_predicted_answers\n",
    ")\n",
    "\n",
    "print(f\"Exact match for original dataset: \", exact_match_original[\"exact_match\"])\n",
    "print(f\"Exact match case insensitive: \", exact_match_lowercase[\"exact_match\"])\n",
    "print(\n",
    "    f\"Exact match case insensitive and punctuation ignoring: \",\n",
    "    exact_match_lowercase_no_punctuation[\"exact_match\"],\n",
    ")"
   ],
   "id": "29d0a5decfa3bb91"
  },
  {
   "cell_type": "code",
   "execution_count": 27,
   "metadata": {},
   "outputs": [
    {
     "data": {
      "application/vnd.jupyter.widget-view+json": {
       "model_id": "5b252f5bca0444458be7da40050118b8",
       "version_major": 2,
       "version_minor": 0
      },
      "text/plain": [
       "Flattening the indices:   0%|          | 0/14552 [00:00<?, ? examples/s]"
      ]
     },
     "metadata": {},
     "output_type": "display_data"
    },
    {
     "name": "stdout",
     "output_type": "stream",
     "text": [
      "SQuAD exact match:  88.3177570093458\n",
      "SQuAD F1:  92.50495563005454\n"
     ]
    }
   ],
   "source": [
    "results = extractive_qa_utils.calculate_squad_exact_match(\n",
    "    filtered_test_dataset, model_predicted_answers\n",
    ")\n",
    "\n",
    "print(f\"SQuAD exact match: \", results[\"exact_match\"])\n",
    "print(f\"SQuAD F1: \", results[\"f1\"])"
   ],
   "id": "41640aecc0ad3076"
  }
 ],
 "metadata": {
  "kernelspec": {
   "display_name": "question_answering",
   "language": "python",
   "name": "python3"
  },
  "language_info": {
   "codemirror_mode": {
    "name": "ipython",
    "version": 3
   },
   "file_extension": ".py",
   "mimetype": "text/x-python",
   "name": "python",
   "nbconvert_exporter": "python",
   "pygments_lexer": "ipython3",
   "version": "3.10.13"
  }
 },
 "nbformat": 4,
 "nbformat_minor": 5
}
