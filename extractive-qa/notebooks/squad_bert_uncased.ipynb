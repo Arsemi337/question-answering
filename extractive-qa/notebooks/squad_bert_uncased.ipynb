{
 "cells": [
  {
   "cell_type": "code",
   "execution_count": 1,
   "id": "initial_id",
   "metadata": {
    "ExecuteTime": {
     "end_time": "2023-10-30T16:55:32.667104500Z",
     "start_time": "2023-10-30T16:55:28.974930100Z"
    },
    "collapsed": true
   },
   "outputs": [],
   "source": [
    "from transformers import (\n",
    "    AutoTokenizer,\n",
    "    TFAutoModelForQuestionAnswering,\n",
    "    DefaultDataCollator,\n",
    "    keras_callbacks,\n",
    ")\n",
    "import tensorflow as tf\n",
    "from huggingface_hub import notebook_login\n",
    "from question_answering.constants import constants\n",
    "from question_answering.utils import core_qa_utils, extractive_qa_utils\n",
    "from question_answering.paths import extractive_qa_paths"
   ]
  },
  {
   "cell_type": "code",
   "execution_count": 2,
   "id": "9b7529904f21909",
   "metadata": {
    "ExecuteTime": {
     "end_time": "2023-10-30T16:55:33.767177200Z",
     "start_time": "2023-10-30T16:55:32.671101800Z"
    },
    "collapsed": false
   },
   "outputs": [],
   "source": [
    "df_train, df_val, df_test = core_qa_utils.load_train_val_test_datasets(\n",
    "    extractive_qa_paths.squad_dataset_dir\n",
    ")\n",
    "\n",
    "train_dataset, val_dataset, test_dataset = core_qa_utils.convert_dataframes_to_datasets(\n",
    "    [df_train, df_val, df_test]\n",
    ")"
   ]
  },
  {
   "cell_type": "code",
   "execution_count": 3,
   "id": "db291e0a",
   "metadata": {
    "ExecuteTime": {
     "end_time": "2023-10-30T16:55:34.310328600Z",
     "start_time": "2023-10-30T16:55:33.761176600Z"
    }
   },
   "outputs": [],
   "source": [
    "model_checkpoint = \"bert-base-uncased\"\n",
    "tokenizer = AutoTokenizer.from_pretrained(model_checkpoint)"
   ]
  },
  {
   "cell_type": "code",
   "execution_count": 4,
   "id": "0d177b07",
   "metadata": {
    "ExecuteTime": {
     "end_time": "2023-10-30T16:56:26.168622800Z",
     "start_time": "2023-10-30T16:55:34.313329300Z"
    },
    "collapsed": false
   },
   "outputs": [
    {
     "data": {
      "application/vnd.jupyter.widget-view+json": {
       "model_id": "c1b1ac1f781342cbb567cea98500c2a1",
       "version_major": 2,
       "version_minor": 0
      },
      "text/plain": [
       "Map:   0%|          | 0/68716 [00:00<?, ? examples/s]"
      ]
     },
     "metadata": {},
     "output_type": "display_data"
    },
    {
     "name": "stderr",
     "output_type": "stream",
     "text": [
      "Token indices sequence length is longer than the specified maximum sequence length for this model (520 > 512). Running this sequence through the model will result in indexing errors\n"
     ]
    },
    {
     "data": {
      "application/vnd.jupyter.widget-view+json": {
       "model_id": "caf08cbe837f42acbac3b00df98318da",
       "version_major": 2,
       "version_minor": 0
      },
      "text/plain": [
       "Map:   0%|          | 0/14724 [00:00<?, ? examples/s]"
      ]
     },
     "metadata": {},
     "output_type": "display_data"
    },
    {
     "data": {
      "application/vnd.jupyter.widget-view+json": {
       "model_id": "de79d71ac916417a85a677d45a5e3f83",
       "version_major": 2,
       "version_minor": 0
      },
      "text/plain": [
       "Map:   0%|          | 0/14725 [00:00<?, ? examples/s]"
      ]
     },
     "metadata": {},
     "output_type": "display_data"
    },
    {
     "name": "stdout",
     "output_type": "stream",
     "text": [
      "Max number of tokens in tokenized train dataset:  870\n",
      "Max number of tokens in tokenized val dataset:  866\n",
      "Max number of tokens in tokenized test dataset:  817\n"
     ]
    }
   ],
   "source": [
    "def tokenize_sample(sample, max_tokens=None, padding=False):\n",
    "    question = sample[\"question\"].strip()\n",
    "    context = sample[\"context\"].strip()\n",
    "\n",
    "    return tokenizer(question, context, max_length=max_tokens, padding=padding)\n",
    "\n",
    "\n",
    "tokenized_train_dataset = train_dataset.map(tokenize_sample)\n",
    "tokenized_val_dataset = val_dataset.map(tokenize_sample)\n",
    "tokenized_test_dataset = test_dataset.map(tokenize_sample)\n",
    "\n",
    "print(\n",
    "    \"Max number of tokens in tokenized train dataset: \",\n",
    "    len(max(tokenized_train_dataset[\"input_ids\"], key=len)),\n",
    ")\n",
    "print(\n",
    "    \"Max number of tokens in tokenized val dataset: \",\n",
    "    len(max(tokenized_val_dataset[\"input_ids\"], key=len)),\n",
    ")\n",
    "print(\n",
    "    \"Max number of tokens in tokenized test dataset: \",\n",
    "    len(max(tokenized_test_dataset[\"input_ids\"], key=len)),\n",
    ")"
   ]
  },
  {
   "cell_type": "code",
   "execution_count": 5,
   "id": "10e53325b1b3a28b",
   "metadata": {
    "ExecuteTime": {
     "end_time": "2023-10-30T16:57:03.091160600Z",
     "start_time": "2023-10-30T16:56:26.167624100Z"
    },
    "collapsed": false
   },
   "outputs": [
    {
     "name": "stderr",
     "output_type": "stream",
     "text": [
      "Parameter 'indices'=<generator object filter_samples_below_number_of_tokens.<locals>.<genexpr> at 0x000001DA1D8DBDF0> of the transform datasets.arrow_dataset.Dataset.select couldn't be hashed properly, a random hash was used instead. Make sure your transforms and parameters are serializable with pickle or dill for the dataset fingerprinting and caching to work. If you reuse this transform, the caching mechanism will consider it to be different from the previous calls and recompute everything. This warning is only showed once. Subsequent hashing failures won't be showed.\n"
     ]
    }
   ],
   "source": [
    "max_length = 384\n",
    "\n",
    "\n",
    "def filter_samples_below_number_of_tokens(dataset, max_tokens: int):\n",
    "    indices_to_remove = []\n",
    "\n",
    "    # Find indices of samples where number of tokens exceeds max number of tokens\n",
    "    for index, sample in enumerate(dataset):\n",
    "        tokenized_sample = tokenize_sample(sample)\n",
    "        if len(tokenized_sample[\"input_ids\"]) > max_tokens:\n",
    "            indices_to_remove.append(index)\n",
    "\n",
    "    # Keep only samples with number of tokens less or equal than max number of tokens\n",
    "    dataset_indices = range(len(dataset))\n",
    "    filtered_dataset = dataset.select(\n",
    "        index for index in dataset_indices if index not in set(indices_to_remove)\n",
    "    )\n",
    "\n",
    "    return filtered_dataset\n",
    "\n",
    "\n",
    "filtered_train_dataset = filter_samples_below_number_of_tokens(\n",
    "    train_dataset, max_tokens=max_length\n",
    ")\n",
    "filtered_val_dataset = filter_samples_below_number_of_tokens(\n",
    "    val_dataset, max_tokens=max_length\n",
    ")\n",
    "filtered_test_dataset = filter_samples_below_number_of_tokens(\n",
    "    test_dataset, max_tokens=max_length\n",
    ")"
   ]
  },
  {
   "cell_type": "code",
   "execution_count": 6,
   "id": "c1aebcb2",
   "metadata": {
    "ExecuteTime": {
     "end_time": "2023-10-30T16:57:03.108191900Z",
     "start_time": "2023-10-30T16:57:03.093160900Z"
    },
    "collapsed": false
   },
   "outputs": [
    {
     "name": "stdout",
     "output_type": "stream",
     "text": [
      "Number of samples in tokenized train dataset before filtering:  68716\n",
      "Number of samples in tokenized val dataset before filtering:  14724\n",
      "Number of samples in tokenized test dataset before filtering:  14725\n",
      "\n",
      "---------------\n",
      "\n",
      "Number of samples in tokenized train dataset after filtering:  67964\n",
      "Number of samples in tokenized val dataset after filtering:  14573\n",
      "Number of samples in tokenized test dataset after filtering:  14552\n"
     ]
    }
   ],
   "source": [
    "print(\n",
    "    \"Number of samples in tokenized train dataset before filtering: \",\n",
    "    len(train_dataset),\n",
    ")\n",
    "print(\"Number of samples in tokenized val dataset before filtering: \", len(val_dataset))\n",
    "print(\n",
    "    \"Number of samples in tokenized test dataset before filtering: \", len(test_dataset)\n",
    ")\n",
    "\n",
    "print(\"\\n---------------\\n\")\n",
    "\n",
    "print(\n",
    "    \"Number of samples in tokenized train dataset after filtering: \",\n",
    "    len(filtered_train_dataset),\n",
    ")\n",
    "print(\n",
    "    \"Number of samples in tokenized val dataset after filtering: \",\n",
    "    len(filtered_val_dataset),\n",
    ")\n",
    "print(\n",
    "    \"Number of samples in tokenized test dataset after filtering: \",\n",
    "    len(filtered_test_dataset),\n",
    ")"
   ]
  },
  {
   "cell_type": "code",
   "execution_count": 7,
   "id": "cb6cdd06c7a27f8c",
   "metadata": {
    "ExecuteTime": {
     "end_time": "2023-10-30T16:57:03.154193300Z",
     "start_time": "2023-10-30T16:57:03.109193100Z"
    },
    "collapsed": false
   },
   "outputs": [],
   "source": [
    "def preprocess_dataset(dataset):\n",
    "    questions = [q.strip() for q in dataset[\"question\"]]\n",
    "    contexts = [c.strip() for c in dataset[\"context\"]]\n",
    "\n",
    "    inputs = tokenizer(\n",
    "        questions,\n",
    "        contexts,\n",
    "        max_length=max_length,\n",
    "        padding=\"max_length\",\n",
    "        return_offsets_mapping=True,\n",
    "    )\n",
    "\n",
    "    offset_mapping = inputs.pop(\"offset_mapping\")\n",
    "\n",
    "    answer_start_indices = dataset[\"answer_start\"]\n",
    "    answer_texts = dataset[\"answer_text\"]\n",
    "    start_positions = []\n",
    "    end_positions = []\n",
    "\n",
    "    for index, offset in enumerate(offset_mapping):\n",
    "        start_char = answer_start_indices[index]\n",
    "        end_char = start_char + len(answer_texts[index])\n",
    "        sequence_ids = inputs.sequence_ids(index)\n",
    "\n",
    "        # Find the start and end token indices of the context\n",
    "        idx = 0\n",
    "        while sequence_ids[idx] != 1:\n",
    "            idx += 1\n",
    "        context_start = idx\n",
    "        while sequence_ids[idx] == 1:\n",
    "            idx += 1\n",
    "        context_end = idx - 1\n",
    "\n",
    "        idx = context_start\n",
    "        while idx <= context_end and offset[idx][0] <= start_char:\n",
    "            idx += 1\n",
    "        start_positions.append(idx - 1)\n",
    "\n",
    "        idx = context_end\n",
    "        while idx >= context_start and offset[idx][1] >= end_char:\n",
    "            idx -= 1\n",
    "        end_positions.append(idx + 1)\n",
    "\n",
    "    inputs[\"start_positions\"] = start_positions\n",
    "    inputs[\"end_positions\"] = end_positions\n",
    "    return inputs"
   ]
  },
  {
   "cell_type": "code",
   "execution_count": 8,
   "id": "3b72cf37",
   "metadata": {
    "ExecuteTime": {
     "end_time": "2023-10-30T16:57:26.949334800Z",
     "start_time": "2023-10-30T16:57:03.125194800Z"
    }
   },
   "outputs": [
    {
     "data": {
      "application/vnd.jupyter.widget-view+json": {
       "model_id": "068b514bce97404f9808b3717fd1e3a7",
       "version_major": 2,
       "version_minor": 0
      },
      "text/plain": [
       "Map:   0%|          | 0/67964 [00:00<?, ? examples/s]"
      ]
     },
     "metadata": {},
     "output_type": "display_data"
    },
    {
     "data": {
      "application/vnd.jupyter.widget-view+json": {
       "model_id": "eb9d25bba6164cf9b6c7911cb2fa4bdb",
       "version_major": 2,
       "version_minor": 0
      },
      "text/plain": [
       "Map:   0%|          | 0/14573 [00:00<?, ? examples/s]"
      ]
     },
     "metadata": {},
     "output_type": "display_data"
    },
    {
     "data": {
      "application/vnd.jupyter.widget-view+json": {
       "model_id": "7f21550172bd4fd8849616717090595b",
       "version_major": 2,
       "version_minor": 0
      },
      "text/plain": [
       "Map:   0%|          | 0/14552 [00:00<?, ? examples/s]"
      ]
     },
     "metadata": {},
     "output_type": "display_data"
    }
   ],
   "source": [
    "tokenized_train_dataset = filtered_train_dataset.map(\n",
    "    preprocess_dataset,\n",
    "    batched=True,\n",
    "    remove_columns=filtered_train_dataset.column_names,\n",
    ")\n",
    "tokenized_val_dataset = filtered_val_dataset.map(\n",
    "    preprocess_dataset,\n",
    "    batched=True,\n",
    "    remove_columns=filtered_val_dataset.column_names,\n",
    ")\n",
    "tokenized_test_dataset = filtered_test_dataset.map(\n",
    "    preprocess_dataset,\n",
    "    batched=True,\n",
    "    remove_columns=filtered_test_dataset.column_names,\n",
    ")"
   ]
  },
  {
   "cell_type": "code",
   "execution_count": 9,
   "id": "9fc093e38a8b9eb4",
   "metadata": {
    "ExecuteTime": {
     "end_time": "2023-10-30T16:57:37.472560500Z",
     "start_time": "2023-10-30T16:57:26.950336Z"
    },
    "collapsed": false
   },
   "outputs": [
    {
     "name": "stdout",
     "output_type": "stream",
     "text": [
      "All tokenized train dataset entries have 384 tokens:  True\n",
      "All tokenized val dataset entries have 384 tokens:  True\n",
      "All tokenized test dataset entries have 384 tokens:  True\n"
     ]
    }
   ],
   "source": [
    "print(\n",
    "    f\"All tokenized train dataset entries have {max_length} tokens: \",\n",
    "    all(\n",
    "        [\n",
    "            len(input_ids) == max_length\n",
    "            for input_ids in tokenized_train_dataset[\"input_ids\"]\n",
    "        ]\n",
    "    ),\n",
    ")\n",
    "print(\n",
    "    f\"All tokenized val dataset entries have {max_length} tokens: \",\n",
    "    all(\n",
    "        [\n",
    "            len(input_ids) == max_length\n",
    "            for input_ids in tokenized_val_dataset[\"input_ids\"]\n",
    "        ]\n",
    "    ),\n",
    ")\n",
    "print(\n",
    "    f\"All tokenized test dataset entries have {max_length} tokens: \",\n",
    "    all(\n",
    "        [\n",
    "            len(input_ids) == max_length\n",
    "            for input_ids in tokenized_test_dataset[\"input_ids\"]\n",
    "        ]\n",
    "    ),\n",
    ")"
   ]
  },
  {
   "cell_type": "code",
   "execution_count": 10,
   "id": "72e1f89c3dcff7b",
   "metadata": {
    "ExecuteTime": {
     "end_time": "2023-10-30T16:57:37.485628Z",
     "start_time": "2023-10-30T16:57:37.474562Z"
    },
    "collapsed": false
   },
   "outputs": [],
   "source": [
    "# Model parameters\n",
    "training_number = 1\n",
    "\n",
    "model_name = \"squad-bert-uncased\"\n",
    "full_model_name = f\"{model_name}-{training_number}\"\n",
    "\n",
    "# Checkpoints\n",
    "checkpoint_filename_template = constants.checkpoint_filename_template\n",
    "checkpoints_path = (\n",
    "    extractive_qa_paths.training_checkpoints_dir\n",
    "    / full_model_name\n",
    "    / checkpoint_filename_template\n",
    ")\n",
    "\n",
    "# Hub\n",
    "hub_path = extractive_qa_paths.hub_models_location / full_model_name\n",
    "\n",
    "# Saved models\n",
    "saved_models_path = extractive_qa_paths.saved_models_dir / full_model_name\n",
    "\n",
    "# Figures\n",
    "figures_dir = extractive_qa_paths.figures_dir / full_model_name\n",
    "\n",
    "# Hyperparameters\n",
    "batch_size = 8\n",
    "train_epochs = 10"
   ]
  },
  {
   "cell_type": "code",
   "execution_count": 11,
   "id": "9d5bedb4",
   "metadata": {
    "ExecuteTime": {
     "end_time": "2023-10-30T16:57:39.968658400Z",
     "start_time": "2023-10-30T16:57:37.487627800Z"
    }
   },
   "outputs": [
    {
     "name": "stderr",
     "output_type": "stream",
     "text": [
      "All PyTorch model weights were used when initializing TFBertForQuestionAnswering.\n",
      "\n",
      "Some weights or buffers of the TF 2.0 model TFBertForQuestionAnswering were not initialized from the PyTorch model and are newly initialized: ['qa_outputs.weight', 'qa_outputs.bias']\n",
      "You should probably TRAIN this model on a down-stream task to be able to use it for predictions and inference.\n"
     ]
    }
   ],
   "source": [
    "# Load model for fine-tuning\n",
    "model = TFAutoModelForQuestionAnswering.from_pretrained(model_checkpoint)"
   ]
  },
  {
   "cell_type": "code",
   "execution_count": 12,
   "id": "5a9266b102c3f216",
   "metadata": {
    "ExecuteTime": {
     "end_time": "2023-10-30T16:57:40.175069100Z",
     "start_time": "2023-10-30T16:57:39.942660400Z"
    },
    "collapsed": false
   },
   "outputs": [],
   "source": [
    "# Dataset preparation\n",
    "data_collator = DefaultDataCollator(return_tensors=\"tf\")\n",
    "\n",
    "tf_train_dataset = core_qa_utils.convert_to_tf_dataset(\n",
    "    hf_dataset=tokenized_train_dataset,\n",
    "    columns=[\"input_ids\", \"token_type_ids\", \"attention_mask\"],\n",
    "    label_cols=[\"start_positions\", \"end_positions\"],\n",
    "    collator=data_collator,\n",
    "    batch_size=batch_size,\n",
    ")\n",
    "\n",
    "tf_val_dataset = core_qa_utils.convert_to_tf_dataset(\n",
    "    hf_dataset=tokenized_val_dataset,\n",
    "    columns=[\"input_ids\", \"token_type_ids\", \"attention_mask\"],\n",
    "    label_cols=[\"start_positions\", \"end_positions\"],\n",
    "    collator=data_collator,\n",
    "    batch_size=batch_size,\n",
    ")\n",
    "\n",
    "tf_test_dataset = core_qa_utils.convert_to_tf_dataset(\n",
    "    hf_dataset=tokenized_test_dataset,\n",
    "    columns=[\"input_ids\", \"token_type_ids\", \"attention_mask\"],\n",
    "    label_cols=[\"start_positions\", \"end_positions\"],\n",
    "    collator=data_collator,\n",
    "    batch_size=batch_size,\n",
    ")"
   ]
  },
  {
   "cell_type": "code",
   "execution_count": 13,
   "id": "c73e96cd",
   "metadata": {
    "ExecuteTime": {
     "end_time": "2023-10-30T16:57:40.191069200Z",
     "start_time": "2023-10-30T16:57:40.177071300Z"
    }
   },
   "outputs": [],
   "source": [
    "# Login to hugging face hub in order to store the model there\n",
    "# notebook_login()"
   ]
  },
  {
   "cell_type": "code",
   "execution_count": 14,
   "id": "a10641c9",
   "metadata": {
    "ExecuteTime": {
     "end_time": "2023-10-30T16:57:40.216080600Z",
     "start_time": "2023-10-30T16:57:40.191069200Z"
    }
   },
   "outputs": [],
   "source": [
    "# Callbacks\n",
    "checkpoint_cb = tf.keras.callbacks.ModelCheckpoint(\n",
    "    checkpoints_path, verbose=1, save_weights_only=True\n",
    ")\n",
    "early_stop_cb = tf.keras.callbacks.EarlyStopping(patience=1)\n",
    "# push_to_hub = keras_callbacks.PushToHubCallback(\n",
    "#     output_dir=full_model_name, tokenizer=tokenizer\n",
    "# )\n",
    "\n",
    "callbacks = [\n",
    "    checkpoint_cb, \n",
    "    early_stop_cb, \n",
    "    # push_to_hub\n",
    "]"
   ]
  },
  {
   "cell_type": "code",
   "execution_count": 15,
   "id": "f4ec7915adf3b24c",
   "metadata": {
    "ExecuteTime": {
     "end_time": "2023-10-30T16:57:40.223080500Z",
     "start_time": "2023-10-30T16:57:40.208081400Z"
    },
    "collapsed": false
   },
   "outputs": [
    {
     "name": "stdout",
     "output_type": "stream",
     "text": [
      "INFO:tensorflow:Mixed precision compatibility check (mixed_float16): OK\n",
      "Your GPU will likely run quickly with dtype policy mixed_float16 as it has compute capability of at least 7.0. Your GPU: NVIDIA GeForce RTX 4070, compute capability 8.9\n"
     ]
    }
   ],
   "source": [
    "# Compile\n",
    "num_train_steps = len(tf_train_dataset) * train_epochs\n",
    "\n",
    "lr_scheduler = tf.keras.optimizers.schedules.PolynomialDecay(\n",
    "    initial_learning_rate=2e-5, end_learning_rate=0.0, decay_steps=num_train_steps\n",
    ")\n",
    "\n",
    "optimizer = tf.keras.optimizers.Adam(learning_rate=lr_scheduler)\n",
    "\n",
    "# Train in mixed-precision float16\n",
    "tf.keras.mixed_precision.set_global_policy(\"mixed_float16\")\n",
    "\n",
    "# Compile\n",
    "loss = tf.keras.losses.SparseCategoricalCrossentropy(from_logits=True)\n",
    "metrics = [\"accuracy\"]\n",
    "model.compile(optimizer=optimizer, loss=loss, metrics=metrics)"
   ]
  },
  {
   "cell_type": "code",
   "execution_count": 16,
   "id": "46ed3bc04bffb6bd",
   "metadata": {
    "ExecuteTime": {
     "end_time": "2023-10-30T16:57:40.278080100Z",
     "start_time": "2023-10-30T16:57:40.224080200Z"
    },
    "collapsed": false
   },
   "outputs": [
    {
     "name": "stdout",
     "output_type": "stream",
     "text": [
      "Model: \"tf_bert_for_question_answering\"\n",
      "_________________________________________________________________\n",
      " Layer (type)                Output Shape              Param #   \n",
      "=================================================================\n",
      " bert (TFBertMainLayer)      multiple                  108891648 \n",
      "                                                                 \n",
      " qa_outputs (Dense)          multiple                  1538      \n",
      "                                                                 \n",
      "=================================================================\n",
      "Total params: 108,893,186\n",
      "Trainable params: 108,893,186\n",
      "Non-trainable params: 0\n",
      "_________________________________________________________________\n"
     ]
    }
   ],
   "source": [
    "model.summary()"
   ]
  },
  {
   "cell_type": "code",
   "execution_count": 17,
   "id": "943d016bd9af345c",
   "metadata": {
    "ExecuteTime": {
     "end_time": "2023-10-30T16:58:02.542718600Z",
     "start_time": "2023-10-30T16:57:40.257080200Z"
    },
    "collapsed": false
   },
   "outputs": [
    {
     "name": "stdout",
     "output_type": "stream",
     "text": [
      "Epoch 1/10\n",
      "8496/8496 [==============================] - ETA: 0s - loss: 2.6096 - end_logits_loss: 1.2598 - start_logits_loss: 1.3498 - end_logits_accuracy: 0.6570 - start_logits_accuracy: 0.6163\n",
      "Epoch 1: saving model to e:\\STUDIA\\IPS\\question-answering\\extractive-qa\\training-checkpoints\\squad-bert-uncased-1\\cp-01.ckpt\n",
      "8496/8496 [==============================] - 2098s 245ms/step - loss: 2.6096 - end_logits_loss: 1.2598 - start_logits_loss: 1.3498 - end_logits_accuracy: 0.6570 - start_logits_accuracy: 0.6163 - val_loss: 1.9858 - val_end_logits_loss: 0.9554 - val_start_logits_loss: 1.0304 - val_end_logits_accuracy: 0.7340 - val_start_logits_accuracy: 0.7016\n",
      "Epoch 2/10\n",
      "8496/8496 [==============================] - ETA: 0s - loss: 1.5540 - end_logits_loss: 0.7389 - start_logits_loss: 0.8151 - end_logits_accuracy: 0.7780 - start_logits_accuracy: 0.7425\n",
      "Epoch 2: saving model to e:\\STUDIA\\IPS\\question-answering\\extractive-qa\\training-checkpoints\\squad-bert-uncased-1\\cp-02.ckpt\n",
      "8496/8496 [==============================] - 2787s 328ms/step - loss: 1.5540 - end_logits_loss: 0.7389 - start_logits_loss: 0.8151 - end_logits_accuracy: 0.7780 - start_logits_accuracy: 0.7425 - val_loss: 2.0831 - val_end_logits_loss: 0.9962 - val_start_logits_loss: 1.0868 - val_end_logits_accuracy: 0.7425 - val_start_logits_accuracy: 0.7033\n"
     ]
    }
   ],
   "source": [
    "# Fit the model on the new data\n",
    "history = model.fit(\n",
    "    tf_train_dataset,\n",
    "    validation_data=tf_val_dataset,\n",
    "    epochs=train_epochs,\n",
    "    callbacks=callbacks,\n",
    ")"
   ]
  },
  {
   "cell_type": "code",
   "execution_count": 18,
   "id": "72a57f5bd9b9438f",
   "metadata": {
    "ExecuteTime": {
     "start_time": "2023-10-30T16:48:06.639280Z"
    },
    "collapsed": false
   },
   "outputs": [],
   "source": [
    "# Get best version of the model\n",
    "best_model = core_qa_utils.get_best_model_from_checkpoints(\n",
    "    model, history, model_name=full_model_name, remove_checkpoints=False\n",
    ")"
   ]
  },
  {
   "cell_type": "code",
   "execution_count": 19,
   "id": "f9673d7d1c09aece",
   "metadata": {
    "ExecuteTime": {
     "start_time": "2023-10-30T16:48:06.641280600Z"
    },
    "collapsed": false
   },
   "outputs": [],
   "source": [
    "# Save best model's weights\n",
    "extractive_qa_utils.save_model(best_model, model_name=full_model_name)"
   ]
  },
  {
   "cell_type": "code",
   "execution_count": 20,
   "id": "814c2fb7f961d268",
   "metadata": {
    "ExecuteTime": {
     "start_time": "2023-10-30T16:48:06.644323900Z"
    },
    "collapsed": false
   },
   "outputs": [],
   "source": [
    "# Load best model\n",
    "loaded_best_model = extractive_qa_utils.load_weights_into_model(\n",
    "    best_model, model_name=full_model_name\n",
    ")"
   ]
  },
  {
   "cell_type": "code",
   "execution_count": 21,
   "id": "5fcf4fbd43971926",
   "metadata": {
    "ExecuteTime": {
     "start_time": "2023-10-30T16:48:06.646324500Z"
    },
    "collapsed": false
   },
   "outputs": [
    {
     "name": "stdout",
     "output_type": "stream",
     "text": [
      "1819/1819 [==============================] - 262s 144ms/step - loss: 2.0131 - end_logits_loss: 0.9623 - start_logits_loss: 1.0508 - end_logits_accuracy: 0.7308 - start_logits_accuracy: 0.6905\n"
     ]
    }
   ],
   "source": [
    "# Get predictions from best_model\n",
    "best_model_preds = best_model.evaluate(tf_test_dataset)"
   ]
  },
  {
   "cell_type": "code",
   "execution_count": 22,
   "id": "5158f184f24da9bb",
   "metadata": {
    "ExecuteTime": {
     "end_time": "2023-10-30T16:48:06.652581400Z",
     "start_time": "2023-10-30T16:48:06.648323500Z"
    },
    "collapsed": false
   },
   "outputs": [
    {
     "name": "stdout",
     "output_type": "stream",
     "text": [
      "1819/1819 [==============================] - 262s 144ms/step - loss: 2.0131 - end_logits_loss: 0.9623 - start_logits_loss: 1.0508 - end_logits_accuracy: 0.7308 - start_logits_accuracy: 0.6905\n"
     ]
    }
   ],
   "source": [
    "loaded_best_model_preds = loaded_best_model.evaluate(tf_test_dataset)"
   ]
  },
  {
   "cell_type": "code",
   "execution_count": 23,
   "id": "48a8c08d0e3f253a",
   "metadata": {
    "ExecuteTime": {
     "start_time": "2023-10-30T16:48:06.650323600Z"
    },
    "collapsed": false
   },
   "outputs": [
    {
     "data": {
      "text/plain": [
       "[2.0130584239959717,\n",
       " 0.9622660279273987,\n",
       " 1.0507932901382446,\n",
       " 0.7307586669921875,\n",
       " 0.6904892921447754]"
      ]
     },
     "execution_count": 23,
     "metadata": {},
     "output_type": "execute_result"
    }
   ],
   "source": [
    "best_model_preds"
   ]
  },
  {
   "cell_type": "code",
   "execution_count": 24,
   "id": "7f3cdb076ee266cc",
   "metadata": {
    "ExecuteTime": {
     "start_time": "2023-10-30T16:48:06.651323Z"
    },
    "collapsed": false
   },
   "outputs": [
    {
     "data": {
      "text/plain": [
       "[2.013058662414551,\n",
       " 0.9622660279273987,\n",
       " 1.0507932901382446,\n",
       " 0.7307586669921875,\n",
       " 0.6904892921447754]"
      ]
     },
     "execution_count": 24,
     "metadata": {},
     "output_type": "execute_result"
    }
   ],
   "source": [
    "loaded_best_model_preds"
   ]
  },
  {
   "cell_type": "code",
   "execution_count": 17,
   "id": "ab81310e",
   "metadata": {},
   "outputs": [
    {
     "name": "stderr",
     "output_type": "stream",
     "text": [
      "All PyTorch model weights were used when initializing TFBertForQuestionAnswering.\n",
      "\n",
      "Some weights or buffers of the TF 2.0 model TFBertForQuestionAnswering were not initialized from the PyTorch model and are newly initialized: ['qa_outputs.weight', 'qa_outputs.bias']\n",
      "You should probably TRAIN this model on a down-stream task to be able to use it for predictions and inference.\n"
     ]
    }
   ],
   "source": [
    "loaded_model = extractive_qa_utils.load_model(model_checkpoint=model_checkpoint, model_name=full_model_name)"
   ]
  },
  {
   "cell_type": "code",
   "execution_count": 39,
   "id": "4f558471",
   "metadata": {},
   "outputs": [
    {
     "ename": "NameError",
     "evalue": "name 'loaded_model' is not defined",
     "output_type": "error",
     "traceback": [
      "\u001b[1;31m---------------------------------------------------------------------------\u001b[0m",
      "\u001b[1;31mNameError\u001b[0m                                 Traceback (most recent call last)",
      "\u001b[1;32me:\\STUDIA\\IPS\\question-answering\\extractive-qa\\notebooks\\squad_bert_uncased.ipynb Cell 26\u001b[0m line \u001b[0;36m1\n\u001b[1;32m----> <a href='vscode-notebook-cell:/e%3A/STUDIA/IPS/question-answering/extractive-qa/notebooks/squad_bert_uncased.ipynb#X34sZmlsZQ%3D%3D?line=0'>1</a>\u001b[0m loaded_model_preds \u001b[39m=\u001b[39m loaded_model\u001b[39m.\u001b[39mpredict(tf_test_dataset)\n",
      "\u001b[1;31mNameError\u001b[0m: name 'loaded_model' is not defined"
     ]
    }
   ],
   "source": [
    "loaded_model_preds = loaded_model.predict(tf_test_dataset)"
   ]
  },
  {
   "cell_type": "code",
   "execution_count": 19,
   "id": "1412138f",
   "metadata": {},
   "outputs": [
    {
     "data": {
      "text/plain": [
       "TFQuestionAnsweringModelOutput(loss=None, start_logits=array([[-6.855, -4.04 , -6.355, ..., -7.93 , -7.957, -7.984],\n",
       "       [-7.074, -5.15 , -6.82 , ..., -7.934, -7.95 , -7.95 ],\n",
       "       [-6.984, -4.03 , -5.293, ..., -7.81 , -7.805, -7.74 ],\n",
       "       ...,\n",
       "       [-5.895, -5.18 , -6.   , ..., -7.96 , -8.01 , -8.01 ],\n",
       "       [-7.227, -5.824, -7.12 , ..., -7.77 , -7.766, -7.74 ],\n",
       "       [-6.812, -5.73 , -6.984, ..., -7.84 , -7.816, -7.816]],\n",
       "      dtype=float16), end_logits=array([[-5.367, -5.79 , -7.24 , ..., -8.16 , -8.14 , -8.12 ],\n",
       "       [-5.6  , -5.254, -6.83 , ..., -8.15 , -8.11 , -8.12 ],\n",
       "       [-6.37 , -4.715, -7.758, ..., -8.24 , -8.25 , -8.29 ],\n",
       "       ...,\n",
       "       [-3.973, -6.137, -5.758, ..., -8.086, -8.016, -8.02 ],\n",
       "       [-6.01 , -5.715, -7.746, ..., -8.32 , -8.31 , -8.336],\n",
       "       [-6.688, -6.46 , -7.145, ..., -8.11 , -8.11 , -8.13 ]],\n",
       "      dtype=float16), hidden_states=None, attentions=None)"
      ]
     },
     "execution_count": 19,
     "metadata": {},
     "output_type": "execute_result"
    }
   ],
   "source": [
    "loaded_model_preds"
   ]
  },
  {
   "cell_type": "code",
   "execution_count": 21,
   "id": "290f9a17",
   "metadata": {},
   "outputs": [],
   "source": [
    "loaded_model.compile(optimizer=optimizer, loss=loss, metrics=metrics)"
   ]
  },
  {
   "cell_type": "code",
   "execution_count": 23,
   "id": "70836820",
   "metadata": {},
   "outputs": [
    {
     "name": "stdout",
     "output_type": "stream",
     "text": [
      "1819/1819 [==============================] - 99s 54ms/step - loss: 2.0131 - end_logits_loss: 0.9623 - start_logits_loss: 1.0508 - end_logits_accuracy: 0.7309 - start_logits_accuracy: 0.6906\n"
     ]
    }
   ],
   "source": [
    "loaded_model_evaluation = loaded_model.evaluate(tf_test_dataset)"
   ]
  },
  {
   "cell_type": "code",
   "execution_count": 24,
   "id": "57d5c149",
   "metadata": {},
   "outputs": [
    {
     "data": {
      "text/plain": [
       "[2.0131354331970215,\n",
       " 0.9623449444770813,\n",
       " 1.050808310508728,\n",
       " 0.7308961153030396,\n",
       " 0.6906267404556274]"
      ]
     },
     "execution_count": 24,
     "metadata": {},
     "output_type": "execute_result"
    }
   ],
   "source": [
    "loaded_model_evaluation"
   ]
  },
  {
   "cell_type": "code",
   "execution_count": 22,
   "id": "9069652d",
   "metadata": {},
   "outputs": [
    {
     "data": {
      "text/plain": [
       "{'loss': [2.609588146209717, 1.5540210008621216],\n",
       " 'end_logits_loss': [1.2598363161087036, 0.738911509513855],\n",
       " 'start_logits_loss': [1.3497529029846191, 0.8151091933250427],\n",
       " 'end_logits_accuracy': [0.6570096015930176, 0.7779706716537476],\n",
       " 'start_logits_accuracy': [0.6163115501403809, 0.742540180683136],\n",
       " 'val_loss': [1.985767126083374, 2.083064317703247],\n",
       " 'val_end_logits_loss': [0.9554057717323303, 0.9962221384048462],\n",
       " 'val_start_logits_loss': [1.0303596258163452, 1.0868394374847412],\n",
       " 'val_end_logits_accuracy': [0.734028697013855, 0.7425375580787659],\n",
       " 'val_start_logits_accuracy': [0.7016400098800659, 0.70328688621521]}"
      ]
     },
     "execution_count": 22,
     "metadata": {},
     "output_type": "execute_result"
    }
   ],
   "source": [
    "history.history"
   ]
  },
  {
   "cell_type": "code",
   "execution_count": 26,
   "id": "e4a7f8fb",
   "metadata": {},
   "outputs": [
    {
     "data": {
      "text/plain": [
       "WindowsPath('e:/STUDIA/IPS/question-answering/extractive-qa/figures/squad-bert-uncased-1')"
      ]
     },
     "execution_count": 26,
     "metadata": {},
     "output_type": "execute_result"
    }
   ],
   "source": [
    "figures_dir"
   ]
  },
  {
   "cell_type": "code",
   "execution_count": 33,
   "id": "92b358e6",
   "metadata": {},
   "outputs": [],
   "source": [
    "from pathlib import Path\n",
    "import matplotlib.pyplot as plt\n",
    "import os\n",
    "\n",
    "def _create_dirs_if_not_exists(directory: Path):\n",
    "    if not directory.is_dir():\n",
    "        directory.mkdir()\n",
    "\n",
    "def plot_and_save_fig_from_history(\n",
    "    history,\n",
    "    attributes,\n",
    "    title,\n",
    "    y_label,\n",
    "    x_label,\n",
    "    legend_descriptors,\n",
    "    figure_dir_path,\n",
    "    figure_filename,\n",
    "):\n",
    "    for attribute in attributes:\n",
    "        plt.plot(history.history[attribute])\n",
    "    plt.title(title)\n",
    "    plt.ylabel(y_label)\n",
    "    plt.xlabel(x_label)\n",
    "    plt.legend(legend_descriptors, loc=\"upper left\")\n",
    "\n",
    "    figure_dir = os.path.join(os.curdir, figure_dir_path)\n",
    "    _create_dirs_if_not_exists(figure_dir_path)\n",
    "\n",
    "    plt.savefig(os.path.join(figure_dir, figure_filename))\n",
    "    plt.show()"
   ]
  },
  {
   "cell_type": "code",
   "execution_count": 36,
   "id": "cc068cb6",
   "metadata": {},
   "outputs": [
    {
     "data": {
      "image/png": "[encoded data removed]",
      "text/plain": [
       "<Figure size 640x480 with 1 Axes>"
      ]
     },
     "metadata": {},
     "output_type": "display_data"
    },
    {
     "data": {
      "image/png": "[encoded data removed]",
      "text/plain": [
       "<Figure size 640x480 with 1 Axes>"
      ]
     },
     "metadata": {},
     "output_type": "display_data"
    },
    {
     "data": {
      "image/png": "[encoded data removed]",
      "text/plain": [
       "<Figure size 640x480 with 1 Axes>"
      ]
     },
     "metadata": {},
     "output_type": "display_data"
    },
    {
     "data": {
      "image/png": "[encoded data removed]",
      "text/plain": [
       "<Figure size 640x480 with 1 Axes>"
      ]
     },
     "metadata": {},
     "output_type": "display_data"
    },
    {
     "data": {
      "image/png": "[encoded data removed]",
      "text/plain": [
       "<Figure size 640x480 with 1 Axes>"
      ]
     },
     "metadata": {},
     "output_type": "display_data"
    }
   ],
   "source": [
    "plot_and_save_fig_from_history(\n",
    "    history,\n",
    "    attributes=[\"start_logits_accuracy\", \"val_start_logits_accuracy\"],\n",
    "    title=\"Model start logits accuracy\",\n",
    "    y_label=\"Accuracy\",\n",
    "    x_label=\"Epoch\",\n",
    "    legend_descriptors=[\"Train\", \"Val\"],\n",
    "    figure_dir_path=figures_dir,\n",
    "    figure_filename=f\"{full_model_name}_start_accuracy.png\",\n",
    ")\n",
    "\n",
    "plot_and_save_fig_from_history(\n",
    "    history,\n",
    "    attributes=[\"end_logits_accuracy\", \"val_end_logits_accuracy\"],\n",
    "    title=\"Model end logits accuracy\",\n",
    "    y_label=\"Accuracy\",\n",
    "    x_label=\"Epoch\",\n",
    "    legend_descriptors=[\"Train\", \"Val\"],\n",
    "    figure_dir_path=figures_dir,\n",
    "    figure_filename=f\"{full_model_name}_end_accuracy.png\",\n",
    ")\n",
    "\n",
    "plot_and_save_fig_from_history(\n",
    "    history,\n",
    "    attributes=[\"loss\", \"val_loss\"],\n",
    "    title=\"Model loss\",\n",
    "    y_label=\"Loss\",\n",
    "    x_label=\"Epoch\",\n",
    "    legend_descriptors=[\"Train\", \"Val\"],\n",
    "    figure_dir_path=figures_dir,\n",
    "    figure_filename=f\"{full_model_name}_loss.png\",\n",
    ")\n",
    "\n",
    "plot_and_save_fig_from_history(\n",
    "    history,\n",
    "    attributes=[\"start_logits_loss\", \"val_start_logits_loss\"],\n",
    "    title=\"Model start logits loss\",\n",
    "    y_label=\"Loss\",\n",
    "    x_label=\"Epoch\",\n",
    "    legend_descriptors=[\"Train\", \"Val\"],\n",
    "    figure_dir_path=figures_dir,\n",
    "    figure_filename=f\"{full_model_name}_start_loss.png\",\n",
    ")\n",
    "\n",
    "plot_and_save_fig_from_history(\n",
    "    history,\n",
    "    attributes=[\"end_logits_loss\", \"val_end_logits_loss\"],\n",
    "    title=\"Model end logits loss\",\n",
    "    y_label=\"Loss\",\n",
    "    x_label=\"Epoch\",\n",
    "    legend_descriptors=[\"Train\", \"Val\"],\n",
    "    figure_dir_path=figures_dir,\n",
    "    figure_filename=f\"{full_model_name}_end_loss.png\",\n",
    ")"
   ]
  },
  {
   "cell_type": "code",
   "execution_count": 65,
   "id": "ae07f9e9",
   "metadata": {},
   "outputs": [],
   "source": [
    "import sklearn.metrics as skmetrics\n",
    "\n",
    "def get_classification_evaluation_metrics(class_actual, class_preds, average='binary'):\n",
    "    precision = skmetrics.precision_score(class_actual, class_preds, average=average)\n",
    "    recall = skmetrics.recall_score(class_actual, class_preds, average=average)\n",
    "    f1 = skmetrics.f1_score(class_actual, class_preds, average=average)\n",
    "    return precision, recall, f1"
   ]
  },
  {
   "cell_type": "code",
   "execution_count": 40,
   "id": "b4a61d2a",
   "metadata": {},
   "outputs": [
    {
     "name": "stdout",
     "output_type": "stream",
     "text": [
      "1819/1819 [==============================] - 151s 82ms/step\n"
     ]
    }
   ],
   "source": [
    "model_preds = best_model.predict(tf_test_dataset)"
   ]
  },
  {
   "cell_type": "code",
   "execution_count": 47,
   "id": "4b9d8bc1",
   "metadata": {},
   "outputs": [],
   "source": [
    "import numpy as np\n",
    "\n",
    "def get_class_preds(predictions, type='start_logits', return_classes=True, model_returns_logits=True):\n",
    "    predictions = predictions[type]\n",
    "    probabilities = tf.nn.softmax(predictions)\n",
    "    if return_classes:\n",
    "        return np.argmax(probabilities, axis=1)\n",
    "    else:\n",
    "        return probabilities.numpy()"
   ]
  },
  {
   "cell_type": "code",
   "execution_count": 66,
   "id": "8b891316",
   "metadata": {},
   "outputs": [],
   "source": [
    "start_preds = get_class_preds(predictions=model_preds, type='start_logits')\n",
    "end_preds = get_class_preds(predictions=model_preds, type='end_logits')"
   ]
  },
  {
   "cell_type": "code",
   "execution_count": 67,
   "id": "2a4adef0",
   "metadata": {},
   "outputs": [
    {
     "data": {
      "text/plain": [
       "Dataset({\n",
       "    features: ['input_ids', 'token_type_ids', 'attention_mask', 'start_positions', 'end_positions'],\n",
       "    num_rows: 14552\n",
       "})"
      ]
     },
     "execution_count": 67,
     "metadata": {},
     "output_type": "execute_result"
    }
   ],
   "source": [
    "tokenized_test_dataset"
   ]
  },
  {
   "cell_type": "code",
   "execution_count": 68,
   "id": "06a24da4",
   "metadata": {},
   "outputs": [
    {
     "name": "stdout",
     "output_type": "stream",
     "text": [
      "Precision score:  0.6921385376580539\n",
      "Recall score:  0.6921385376580539\n",
      "F1 score:  0.6921385376580539\n"
     ]
    }
   ],
   "source": [
    "start_precision, start_recall, start_f1 = get_classification_evaluation_metrics(\n",
    "    class_actual=tokenized_test_dataset['start_positions'],\n",
    "    class_preds=start_preds,\n",
    "    average='micro'\n",
    ")\n",
    "\n",
    "print(f\"Precision score: \", start_precision)\n",
    "print(f\"Recall score: \", start_recall)\n",
    "print(f\"F1 score: \", start_f1)"
   ]
  },
  {
   "cell_type": "code",
   "execution_count": 69,
   "id": "965931db",
   "metadata": {},
   "outputs": [
    {
     "name": "stdout",
     "output_type": "stream",
     "text": [
      "Precision score:  0.7335074216602528\n",
      "Recall score:  0.7335074216602528\n",
      "F1 score:  0.7335074216602528\n"
     ]
    }
   ],
   "source": [
    "end_precision, end_recall, end_f1 = get_classification_evaluation_metrics(\n",
    "    class_actual=tokenized_test_dataset['end_positions'],\n",
    "    class_preds=end_preds,\n",
    "    average='micro'\n",
    ")\n",
    "\n",
    "print(f\"Precision score: \", end_precision)\n",
    "print(f\"Recall score: \", end_recall)\n",
    "print(f\"F1 score: \", end_f1)"
   ]
  },
  {
   "cell_type": "code",
   "execution_count": 57,
   "id": "4e913c4f",
   "metadata": {},
   "outputs": [
    {
     "data": {
      "application/vnd.jupyter.widget-view+json": {
       "model_id": "434350028c3a4a9e8c46cefc1cf2c612",
       "version_major": 2,
       "version_minor": 0
      },
      "text/plain": [
       "Downloading builder script:   0%|          | 0.00/5.67k [00:00<?, ?B/s]"
      ]
     },
     "metadata": {},
     "output_type": "display_data"
    }
   ],
   "source": [
    "from evaluate import load\n",
    "\n",
    "exact_match_metric = load(\"exact_match\")"
   ]
  },
  {
   "cell_type": "code",
   "execution_count": 71,
   "id": "1d7f4f1c",
   "metadata": {},
   "outputs": [
    {
     "data": {
      "text/plain": [
       "14552"
      ]
     },
     "execution_count": 71,
     "metadata": {},
     "output_type": "execute_result"
    }
   ],
   "source": [
    "len(start_preds)"
   ]
  },
  {
   "cell_type": "code",
   "execution_count": 72,
   "id": "7a7ae60c",
   "metadata": {},
   "outputs": [
    {
     "data": {
      "text/plain": [
       "14552"
      ]
     },
     "execution_count": 72,
     "metadata": {},
     "output_type": "execute_result"
    }
   ],
   "source": [
    "len(end_preds)"
   ]
  },
  {
   "cell_type": "code",
   "execution_count": 77,
   "id": "bc67139d",
   "metadata": {},
   "outputs": [
    {
     "data": {
      "text/plain": [
       "{'index': 0,\n",
       " 'id': '5733a8ffd058e614000b5f9f',\n",
       " 'context': \"Despite the calamity and huge death toll, Lisbon suffered no epidemics and within less than one year was already being rebuilt. The new city centre of Lisbon was designed to resist subsequent earthquakes. Architectural models were built for tests, and the effects of an earthquake were simulated by marching troops around the models. The buildings and big squares of the Pombaline City Centre still remain as one of Lisbon's tourist attractions. Sebastião de Melo also made an important contribution to the study of seismology by designing an inquiry that was sent to every parish in the country.\",\n",
       " 'question': 'Did Lisbon suffer any epidemics from the calamity?',\n",
       " 'answer_text': 'Lisbon suffered no epidemics',\n",
       " 'answer_start': 42}"
      ]
     },
     "execution_count": 77,
     "metadata": {},
     "output_type": "execute_result"
    }
   ],
   "source": [
    "filtered_test_dataset[0]"
   ]
  },
  {
   "cell_type": "code",
   "execution_count": 82,
   "id": "e0b981a0",
   "metadata": {},
   "outputs": [
    {
     "data": {
      "text/plain": [
       "{'input_ids': [101,\n",
       "  2106,\n",
       "  11929,\n",
       "  9015,\n",
       "  2151,\n",
       "  16311,\n",
       "  2015,\n",
       "  2013,\n",
       "  1996,\n",
       "  10250,\n",
       "  10631,\n",
       "  3723,\n",
       "  1029,\n",
       "  102,\n",
       "  2750,\n",
       "  1996,\n",
       "  10250,\n",
       "  10631,\n",
       "  3723,\n",
       "  1998,\n",
       "  4121,\n",
       "  2331,\n",
       "  9565,\n",
       "  1010,\n",
       "  11929,\n",
       "  4265,\n",
       "  2053,\n",
       "  16311,\n",
       "  2015,\n",
       "  1998,\n",
       "  2306,\n",
       "  2625,\n",
       "  2084,\n",
       "  2028,\n",
       "  2095,\n",
       "  2001,\n",
       "  2525,\n",
       "  2108,\n",
       "  7183,\n",
       "  1012,\n",
       "  1996,\n",
       "  2047,\n",
       "  2103,\n",
       "  2803,\n",
       "  1997,\n",
       "  11929,\n",
       "  2001,\n",
       "  2881,\n",
       "  2000,\n",
       "  9507,\n",
       "  4745,\n",
       "  17932,\n",
       "  1012,\n",
       "  6549,\n",
       "  4275,\n",
       "  2020,\n",
       "  2328,\n",
       "  2005,\n",
       "  5852,\n",
       "  1010,\n",
       "  1998,\n",
       "  1996,\n",
       "  3896,\n",
       "  1997,\n",
       "  2019,\n",
       "  8372,\n",
       "  2020,\n",
       "  23599,\n",
       "  2011,\n",
       "  10998,\n",
       "  3629,\n",
       "  2105,\n",
       "  1996,\n",
       "  4275,\n",
       "  1012,\n",
       "  1996,\n",
       "  3121,\n",
       "  1998,\n",
       "  2502,\n",
       "  14320,\n",
       "  1997,\n",
       "  1996,\n",
       "  13433,\n",
       "  11201,\n",
       "  4179,\n",
       "  2103,\n",
       "  2803,\n",
       "  2145,\n",
       "  3961,\n",
       "  2004,\n",
       "  2028,\n",
       "  1997,\n",
       "  11929,\n",
       "  1005,\n",
       "  1055,\n",
       "  7538,\n",
       "  13051,\n",
       "  1012,\n",
       "  7367,\n",
       "  22083,\n",
       "  10711,\n",
       "  2080,\n",
       "  2139,\n",
       "  11463,\n",
       "  2080,\n",
       "  2036,\n",
       "  2081,\n",
       "  2019,\n",
       "  2590,\n",
       "  6691,\n",
       "  2000,\n",
       "  1996,\n",
       "  2817,\n",
       "  1997,\n",
       "  7367,\n",
       "  2964,\n",
       "  6779,\n",
       "  2011,\n",
       "  12697,\n",
       "  2019,\n",
       "  9934,\n",
       "  2008,\n",
       "  2001,\n",
       "  2741,\n",
       "  2000,\n",
       "  2296,\n",
       "  3583,\n",
       "  1999,\n",
       "  1996,\n",
       "  2406,\n",
       "  1012,\n",
       "  102,\n",
       "  0,\n",
       "  0,\n",
       "  0,\n",
       "  0,\n",
       "  0,\n",
       "  0,\n",
       "  0,\n",
       "  0,\n",
       "  0,\n",
       "  0,\n",
       "  0,\n",
       "  0,\n",
       "  0,\n",
       "  0,\n",
       "  0,\n",
       "  0,\n",
       "  0,\n",
       "  0,\n",
       "  0,\n",
       "  0,\n",
       "  0,\n",
       "  0,\n",
       "  0,\n",
       "  0,\n",
       "  0,\n",
       "  0,\n",
       "  0,\n",
       "  0,\n",
       "  0,\n",
       "  0,\n",
       "  0,\n",
       "  0,\n",
       "  0,\n",
       "  0,\n",
       "  0,\n",
       "  0,\n",
       "  0,\n",
       "  0,\n",
       "  0,\n",
       "  0,\n",
       "  0,\n",
       "  0,\n",
       "  0,\n",
       "  0,\n",
       "  0,\n",
       "  0,\n",
       "  0,\n",
       "  0,\n",
       "  0,\n",
       "  0,\n",
       "  0,\n",
       "  0,\n",
       "  0,\n",
       "  0,\n",
       "  0,\n",
       "  0,\n",
       "  0,\n",
       "  0,\n",
       "  0,\n",
       "  0,\n",
       "  0,\n",
       "  0,\n",
       "  0,\n",
       "  0,\n",
       "  0,\n",
       "  0,\n",
       "  0,\n",
       "  0,\n",
       "  0,\n",
       "  0,\n",
       "  0,\n",
       "  0,\n",
       "  0,\n",
       "  0,\n",
       "  0,\n",
       "  0,\n",
       "  0,\n",
       "  0,\n",
       "  0,\n",
       "  0,\n",
       "  0,\n",
       "  0,\n",
       "  0,\n",
       "  0,\n",
       "  0,\n",
       "  0,\n",
       "  0,\n",
       "  0,\n",
       "  0,\n",
       "  0,\n",
       "  0,\n",
       "  0,\n",
       "  0,\n",
       "  0,\n",
       "  0,\n",
       "  0,\n",
       "  0,\n",
       "  0,\n",
       "  0,\n",
       "  0,\n",
       "  0,\n",
       "  0,\n",
       "  0,\n",
       "  0,\n",
       "  0,\n",
       "  0,\n",
       "  0,\n",
       "  0,\n",
       "  0,\n",
       "  0,\n",
       "  0,\n",
       "  0,\n",
       "  0,\n",
       "  0,\n",
       "  0,\n",
       "  0,\n",
       "  0,\n",
       "  0,\n",
       "  0,\n",
       "  0,\n",
       "  0,\n",
       "  0,\n",
       "  0,\n",
       "  0,\n",
       "  0,\n",
       "  0,\n",
       "  0,\n",
       "  0,\n",
       "  0,\n",
       "  0,\n",
       "  0,\n",
       "  0,\n",
       "  0,\n",
       "  0,\n",
       "  0,\n",
       "  0,\n",
       "  0,\n",
       "  0,\n",
       "  0,\n",
       "  0,\n",
       "  0,\n",
       "  0,\n",
       "  0,\n",
       "  0,\n",
       "  0,\n",
       "  0,\n",
       "  0,\n",
       "  0,\n",
       "  0,\n",
       "  0,\n",
       "  0,\n",
       "  0,\n",
       "  0,\n",
       "  0,\n",
       "  0,\n",
       "  0,\n",
       "  0,\n",
       "  0,\n",
       "  0,\n",
       "  0,\n",
       "  0,\n",
       "  0,\n",
       "  0,\n",
       "  0,\n",
       "  0,\n",
       "  0,\n",
       "  0,\n",
       "  0,\n",
       "  0,\n",
       "  0,\n",
       "  0,\n",
       "  0,\n",
       "  0,\n",
       "  0,\n",
       "  0,\n",
       "  0,\n",
       "  0,\n",
       "  0,\n",
       "  0,\n",
       "  0,\n",
       "  0,\n",
       "  0,\n",
       "  0,\n",
       "  0,\n",
       "  0,\n",
       "  0,\n",
       "  0,\n",
       "  0,\n",
       "  0,\n",
       "  0,\n",
       "  0,\n",
       "  0,\n",
       "  0,\n",
       "  0,\n",
       "  0,\n",
       "  0,\n",
       "  0,\n",
       "  0,\n",
       "  0,\n",
       "  0,\n",
       "  0,\n",
       "  0,\n",
       "  0,\n",
       "  0,\n",
       "  0,\n",
       "  0,\n",
       "  0,\n",
       "  0,\n",
       "  0,\n",
       "  0,\n",
       "  0,\n",
       "  0,\n",
       "  0,\n",
       "  0,\n",
       "  0,\n",
       "  0,\n",
       "  0,\n",
       "  0,\n",
       "  0,\n",
       "  0,\n",
       "  0,\n",
       "  0,\n",
       "  0,\n",
       "  0,\n",
       "  0,\n",
       "  0,\n",
       "  0,\n",
       "  0,\n",
       "  0,\n",
       "  0,\n",
       "  0,\n",
       "  0,\n",
       "  0,\n",
       "  0,\n",
       "  0,\n",
       "  0,\n",
       "  0,\n",
       "  0,\n",
       "  0,\n",
       "  0,\n",
       "  0,\n",
       "  0,\n",
       "  0,\n",
       "  0,\n",
       "  0,\n",
       "  0,\n",
       "  0,\n",
       "  0,\n",
       "  0,\n",
       "  0,\n",
       "  0,\n",
       "  0],\n",
       " 'token_type_ids': [0,\n",
       "  0,\n",
       "  0,\n",
       "  0,\n",
       "  0,\n",
       "  0,\n",
       "  0,\n",
       "  0,\n",
       "  0,\n",
       "  0,\n",
       "  0,\n",
       "  0,\n",
       "  0,\n",
       "  0,\n",
       "  1,\n",
       "  1,\n",
       "  1,\n",
       "  1,\n",
       "  1,\n",
       "  1,\n",
       "  1,\n",
       "  1,\n",
       "  1,\n",
       "  1,\n",
       "  1,\n",
       "  1,\n",
       "  1,\n",
       "  1,\n",
       "  1,\n",
       "  1,\n",
       "  1,\n",
       "  1,\n",
       "  1,\n",
       "  1,\n",
       "  1,\n",
       "  1,\n",
       "  1,\n",
       "  1,\n",
       "  1,\n",
       "  1,\n",
       "  1,\n",
       "  1,\n",
       "  1,\n",
       "  1,\n",
       "  1,\n",
       "  1,\n",
       "  1,\n",
       "  1,\n",
       "  1,\n",
       "  1,\n",
       "  1,\n",
       "  1,\n",
       "  1,\n",
       "  1,\n",
       "  1,\n",
       "  1,\n",
       "  1,\n",
       "  1,\n",
       "  1,\n",
       "  1,\n",
       "  1,\n",
       "  1,\n",
       "  1,\n",
       "  1,\n",
       "  1,\n",
       "  1,\n",
       "  1,\n",
       "  1,\n",
       "  1,\n",
       "  1,\n",
       "  1,\n",
       "  1,\n",
       "  1,\n",
       "  1,\n",
       "  1,\n",
       "  1,\n",
       "  1,\n",
       "  1,\n",
       "  1,\n",
       "  1,\n",
       "  1,\n",
       "  1,\n",
       "  1,\n",
       "  1,\n",
       "  1,\n",
       "  1,\n",
       "  1,\n",
       "  1,\n",
       "  1,\n",
       "  1,\n",
       "  1,\n",
       "  1,\n",
       "  1,\n",
       "  1,\n",
       "  1,\n",
       "  1,\n",
       "  1,\n",
       "  1,\n",
       "  1,\n",
       "  1,\n",
       "  1,\n",
       "  1,\n",
       "  1,\n",
       "  1,\n",
       "  1,\n",
       "  1,\n",
       "  1,\n",
       "  1,\n",
       "  1,\n",
       "  1,\n",
       "  1,\n",
       "  1,\n",
       "  1,\n",
       "  1,\n",
       "  1,\n",
       "  1,\n",
       "  1,\n",
       "  1,\n",
       "  1,\n",
       "  1,\n",
       "  1,\n",
       "  1,\n",
       "  1,\n",
       "  1,\n",
       "  1,\n",
       "  1,\n",
       "  1,\n",
       "  1,\n",
       "  1,\n",
       "  1,\n",
       "  1,\n",
       "  1,\n",
       "  0,\n",
       "  0,\n",
       "  0,\n",
       "  0,\n",
       "  0,\n",
       "  0,\n",
       "  0,\n",
       "  0,\n",
       "  0,\n",
       "  0,\n",
       "  0,\n",
       "  0,\n",
       "  0,\n",
       "  0,\n",
       "  0,\n",
       "  0,\n",
       "  0,\n",
       "  0,\n",
       "  0,\n",
       "  0,\n",
       "  0,\n",
       "  0,\n",
       "  0,\n",
       "  0,\n",
       "  0,\n",
       "  0,\n",
       "  0,\n",
       "  0,\n",
       "  0,\n",
       "  0,\n",
       "  0,\n",
       "  0,\n",
       "  0,\n",
       "  0,\n",
       "  0,\n",
       "  0,\n",
       "  0,\n",
       "  0,\n",
       "  0,\n",
       "  0,\n",
       "  0,\n",
       "  0,\n",
       "  0,\n",
       "  0,\n",
       "  0,\n",
       "  0,\n",
       "  0,\n",
       "  0,\n",
       "  0,\n",
       "  0,\n",
       "  0,\n",
       "  0,\n",
       "  0,\n",
       "  0,\n",
       "  0,\n",
       "  0,\n",
       "  0,\n",
       "  0,\n",
       "  0,\n",
       "  0,\n",
       "  0,\n",
       "  0,\n",
       "  0,\n",
       "  0,\n",
       "  0,\n",
       "  0,\n",
       "  0,\n",
       "  0,\n",
       "  0,\n",
       "  0,\n",
       "  0,\n",
       "  0,\n",
       "  0,\n",
       "  0,\n",
       "  0,\n",
       "  0,\n",
       "  0,\n",
       "  0,\n",
       "  0,\n",
       "  0,\n",
       "  0,\n",
       "  0,\n",
       "  0,\n",
       "  0,\n",
       "  0,\n",
       "  0,\n",
       "  0,\n",
       "  0,\n",
       "  0,\n",
       "  0,\n",
       "  0,\n",
       "  0,\n",
       "  0,\n",
       "  0,\n",
       "  0,\n",
       "  0,\n",
       "  0,\n",
       "  0,\n",
       "  0,\n",
       "  0,\n",
       "  0,\n",
       "  0,\n",
       "  0,\n",
       "  0,\n",
       "  0,\n",
       "  0,\n",
       "  0,\n",
       "  0,\n",
       "  0,\n",
       "  0,\n",
       "  0,\n",
       "  0,\n",
       "  0,\n",
       "  0,\n",
       "  0,\n",
       "  0,\n",
       "  0,\n",
       "  0,\n",
       "  0,\n",
       "  0,\n",
       "  0,\n",
       "  0,\n",
       "  0,\n",
       "  0,\n",
       "  0,\n",
       "  0,\n",
       "  0,\n",
       "  0,\n",
       "  0,\n",
       "  0,\n",
       "  0,\n",
       "  0,\n",
       "  0,\n",
       "  0,\n",
       "  0,\n",
       "  0,\n",
       "  0,\n",
       "  0,\n",
       "  0,\n",
       "  0,\n",
       "  0,\n",
       "  0,\n",
       "  0,\n",
       "  0,\n",
       "  0,\n",
       "  0,\n",
       "  0,\n",
       "  0,\n",
       "  0,\n",
       "  0,\n",
       "  0,\n",
       "  0,\n",
       "  0,\n",
       "  0,\n",
       "  0,\n",
       "  0,\n",
       "  0,\n",
       "  0,\n",
       "  0,\n",
       "  0,\n",
       "  0,\n",
       "  0,\n",
       "  0,\n",
       "  0,\n",
       "  0,\n",
       "  0,\n",
       "  0,\n",
       "  0,\n",
       "  0,\n",
       "  0,\n",
       "  0,\n",
       "  0,\n",
       "  0,\n",
       "  0,\n",
       "  0,\n",
       "  0,\n",
       "  0,\n",
       "  0,\n",
       "  0,\n",
       "  0,\n",
       "  0,\n",
       "  0,\n",
       "  0,\n",
       "  0,\n",
       "  0,\n",
       "  0,\n",
       "  0,\n",
       "  0,\n",
       "  0,\n",
       "  0,\n",
       "  0,\n",
       "  0,\n",
       "  0,\n",
       "  0,\n",
       "  0,\n",
       "  0,\n",
       "  0,\n",
       "  0,\n",
       "  0,\n",
       "  0,\n",
       "  0,\n",
       "  0,\n",
       "  0,\n",
       "  0,\n",
       "  0,\n",
       "  0,\n",
       "  0,\n",
       "  0,\n",
       "  0,\n",
       "  0,\n",
       "  0,\n",
       "  0,\n",
       "  0,\n",
       "  0,\n",
       "  0,\n",
       "  0,\n",
       "  0,\n",
       "  0,\n",
       "  0,\n",
       "  0,\n",
       "  0,\n",
       "  0,\n",
       "  0,\n",
       "  0,\n",
       "  0,\n",
       "  0,\n",
       "  0,\n",
       "  0,\n",
       "  0,\n",
       "  0,\n",
       "  0,\n",
       "  0,\n",
       "  0,\n",
       "  0,\n",
       "  0,\n",
       "  0,\n",
       "  0,\n",
       "  0,\n",
       "  0,\n",
       "  0,\n",
       "  0,\n",
       "  0,\n",
       "  0,\n",
       "  0,\n",
       "  0,\n",
       "  0,\n",
       "  0,\n",
       "  0,\n",
       "  0,\n",
       "  0,\n",
       "  0,\n",
       "  0],\n",
       " 'attention_mask': [1,\n",
       "  1,\n",
       "  1,\n",
       "  1,\n",
       "  1,\n",
       "  1,\n",
       "  1,\n",
       "  1,\n",
       "  1,\n",
       "  1,\n",
       "  1,\n",
       "  1,\n",
       "  1,\n",
       "  1,\n",
       "  1,\n",
       "  1,\n",
       "  1,\n",
       "  1,\n",
       "  1,\n",
       "  1,\n",
       "  1,\n",
       "  1,\n",
       "  1,\n",
       "  1,\n",
       "  1,\n",
       "  1,\n",
       "  1,\n",
       "  1,\n",
       "  1,\n",
       "  1,\n",
       "  1,\n",
       "  1,\n",
       "  1,\n",
       "  1,\n",
       "  1,\n",
       "  1,\n",
       "  1,\n",
       "  1,\n",
       "  1,\n",
       "  1,\n",
       "  1,\n",
       "  1,\n",
       "  1,\n",
       "  1,\n",
       "  1,\n",
       "  1,\n",
       "  1,\n",
       "  1,\n",
       "  1,\n",
       "  1,\n",
       "  1,\n",
       "  1,\n",
       "  1,\n",
       "  1,\n",
       "  1,\n",
       "  1,\n",
       "  1,\n",
       "  1,\n",
       "  1,\n",
       "  1,\n",
       "  1,\n",
       "  1,\n",
       "  1,\n",
       "  1,\n",
       "  1,\n",
       "  1,\n",
       "  1,\n",
       "  1,\n",
       "  1,\n",
       "  1,\n",
       "  1,\n",
       "  1,\n",
       "  1,\n",
       "  1,\n",
       "  1,\n",
       "  1,\n",
       "  1,\n",
       "  1,\n",
       "  1,\n",
       "  1,\n",
       "  1,\n",
       "  1,\n",
       "  1,\n",
       "  1,\n",
       "  1,\n",
       "  1,\n",
       "  1,\n",
       "  1,\n",
       "  1,\n",
       "  1,\n",
       "  1,\n",
       "  1,\n",
       "  1,\n",
       "  1,\n",
       "  1,\n",
       "  1,\n",
       "  1,\n",
       "  1,\n",
       "  1,\n",
       "  1,\n",
       "  1,\n",
       "  1,\n",
       "  1,\n",
       "  1,\n",
       "  1,\n",
       "  1,\n",
       "  1,\n",
       "  1,\n",
       "  1,\n",
       "  1,\n",
       "  1,\n",
       "  1,\n",
       "  1,\n",
       "  1,\n",
       "  1,\n",
       "  1,\n",
       "  1,\n",
       "  1,\n",
       "  1,\n",
       "  1,\n",
       "  1,\n",
       "  1,\n",
       "  1,\n",
       "  1,\n",
       "  1,\n",
       "  1,\n",
       "  1,\n",
       "  1,\n",
       "  1,\n",
       "  1,\n",
       "  1,\n",
       "  1,\n",
       "  0,\n",
       "  0,\n",
       "  0,\n",
       "  0,\n",
       "  0,\n",
       "  0,\n",
       "  0,\n",
       "  0,\n",
       "  0,\n",
       "  0,\n",
       "  0,\n",
       "  0,\n",
       "  0,\n",
       "  0,\n",
       "  0,\n",
       "  0,\n",
       "  0,\n",
       "  0,\n",
       "  0,\n",
       "  0,\n",
       "  0,\n",
       "  0,\n",
       "  0,\n",
       "  0,\n",
       "  0,\n",
       "  0,\n",
       "  0,\n",
       "  0,\n",
       "  0,\n",
       "  0,\n",
       "  0,\n",
       "  0,\n",
       "  0,\n",
       "  0,\n",
       "  0,\n",
       "  0,\n",
       "  0,\n",
       "  0,\n",
       "  0,\n",
       "  0,\n",
       "  0,\n",
       "  0,\n",
       "  0,\n",
       "  0,\n",
       "  0,\n",
       "  0,\n",
       "  0,\n",
       "  0,\n",
       "  0,\n",
       "  0,\n",
       "  0,\n",
       "  0,\n",
       "  0,\n",
       "  0,\n",
       "  0,\n",
       "  0,\n",
       "  0,\n",
       "  0,\n",
       "  0,\n",
       "  0,\n",
       "  0,\n",
       "  0,\n",
       "  0,\n",
       "  0,\n",
       "  0,\n",
       "  0,\n",
       "  0,\n",
       "  0,\n",
       "  0,\n",
       "  0,\n",
       "  0,\n",
       "  0,\n",
       "  0,\n",
       "  0,\n",
       "  0,\n",
       "  0,\n",
       "  0,\n",
       "  0,\n",
       "  0,\n",
       "  0,\n",
       "  0,\n",
       "  0,\n",
       "  0,\n",
       "  0,\n",
       "  0,\n",
       "  0,\n",
       "  0,\n",
       "  0,\n",
       "  0,\n",
       "  0,\n",
       "  0,\n",
       "  0,\n",
       "  0,\n",
       "  0,\n",
       "  0,\n",
       "  0,\n",
       "  0,\n",
       "  0,\n",
       "  0,\n",
       "  0,\n",
       "  0,\n",
       "  0,\n",
       "  0,\n",
       "  0,\n",
       "  0,\n",
       "  0,\n",
       "  0,\n",
       "  0,\n",
       "  0,\n",
       "  0,\n",
       "  0,\n",
       "  0,\n",
       "  0,\n",
       "  0,\n",
       "  0,\n",
       "  0,\n",
       "  0,\n",
       "  0,\n",
       "  0,\n",
       "  0,\n",
       "  0,\n",
       "  0,\n",
       "  0,\n",
       "  0,\n",
       "  0,\n",
       "  0,\n",
       "  0,\n",
       "  0,\n",
       "  0,\n",
       "  0,\n",
       "  0,\n",
       "  0,\n",
       "  0,\n",
       "  0,\n",
       "  0,\n",
       "  0,\n",
       "  0,\n",
       "  0,\n",
       "  0,\n",
       "  0,\n",
       "  0,\n",
       "  0,\n",
       "  0,\n",
       "  0,\n",
       "  0,\n",
       "  0,\n",
       "  0,\n",
       "  0,\n",
       "  0,\n",
       "  0,\n",
       "  0,\n",
       "  0,\n",
       "  0,\n",
       "  0,\n",
       "  0,\n",
       "  0,\n",
       "  0,\n",
       "  0,\n",
       "  0,\n",
       "  0,\n",
       "  0,\n",
       "  0,\n",
       "  0,\n",
       "  0,\n",
       "  0,\n",
       "  0,\n",
       "  0,\n",
       "  0,\n",
       "  0,\n",
       "  0,\n",
       "  0,\n",
       "  0,\n",
       "  0,\n",
       "  0,\n",
       "  0,\n",
       "  0,\n",
       "  0,\n",
       "  0,\n",
       "  0,\n",
       "  0,\n",
       "  0,\n",
       "  0,\n",
       "  0,\n",
       "  0,\n",
       "  0,\n",
       "  0,\n",
       "  0,\n",
       "  0,\n",
       "  0,\n",
       "  0,\n",
       "  0,\n",
       "  0,\n",
       "  0,\n",
       "  0,\n",
       "  0,\n",
       "  0,\n",
       "  0,\n",
       "  0,\n",
       "  0,\n",
       "  0,\n",
       "  0,\n",
       "  0,\n",
       "  0,\n",
       "  0,\n",
       "  0,\n",
       "  0,\n",
       "  0,\n",
       "  0,\n",
       "  0,\n",
       "  0,\n",
       "  0,\n",
       "  0,\n",
       "  0,\n",
       "  0,\n",
       "  0,\n",
       "  0,\n",
       "  0,\n",
       "  0,\n",
       "  0,\n",
       "  0,\n",
       "  0,\n",
       "  0,\n",
       "  0,\n",
       "  0,\n",
       "  0,\n",
       "  0,\n",
       "  0,\n",
       "  0,\n",
       "  0,\n",
       "  0,\n",
       "  0,\n",
       "  0,\n",
       "  0,\n",
       "  0,\n",
       "  0,\n",
       "  0,\n",
       "  0,\n",
       "  0,\n",
       "  0,\n",
       "  0,\n",
       "  0,\n",
       "  0,\n",
       "  0,\n",
       "  0,\n",
       "  0,\n",
       "  0,\n",
       "  0,\n",
       "  0,\n",
       "  0,\n",
       "  0,\n",
       "  0,\n",
       "  0],\n",
       " 'start_positions': 24,\n",
       " 'end_positions': 28}"
      ]
     },
     "execution_count": 82,
     "metadata": {},
     "output_type": "execute_result"
    }
   ],
   "source": [
    "tokenized_test_dataset[0]"
   ]
  },
  {
   "cell_type": "code",
   "execution_count": 81,
   "id": "a137a214",
   "metadata": {},
   "outputs": [
    {
     "data": {
      "text/plain": [
       "\"[CLS] did lisbon suffer any epidemics from the calamity? [SEP] despite the calamity and huge death toll, lisbon suffered no epidemics and within less than one year was already being rebuilt. the new city centre of lisbon was designed to resist subsequent earthquakes. architectural models were built for tests, and the effects of an earthquake were simulated by marching troops around the models. the buildings and big squares of the pombaline city centre still remain as one of lisbon's tourist attractions. sebastiao de melo also made an important contribution to the study of seismology by designing an inquiry that was sent to every parish in the country. [SEP] [PAD] [PAD] [PAD] [PAD] [PAD] [PAD] [PAD] [PAD] [PAD] [PAD] [PAD] [PAD] [PAD] [PAD] [PAD] [PAD] [PAD] [PAD] [PAD] [PAD] [PAD] [PAD] [PAD] [PAD] [PAD] [PAD] [PAD] [PAD] [PAD] [PAD] [PAD] [PAD] [PAD] [PAD] [PAD] [PAD] [PAD] [PAD] [PAD] [PAD] [PAD] [PAD] [PAD] [PAD] [PAD] [PAD] [PAD] [PAD] [PAD] [PAD] [PAD] [PAD] [PAD] [PAD] [PAD] [PAD] [PAD] [PAD] [PAD] [PAD] [PAD] [PAD] [PAD] [PAD] [PAD] [PAD] [PAD] [PAD] [PAD] [PAD] [PAD] [PAD] [PAD] [PAD] [PAD] [PAD] [PAD] [PAD] [PAD] [PAD] [PAD] [PAD] [PAD] [PAD] [PAD] [PAD] [PAD] [PAD] [PAD] [PAD] [PAD] [PAD] [PAD] [PAD] [PAD] [PAD] [PAD] [PAD] [PAD] [PAD] [PAD] [PAD] [PAD] [PAD] [PAD] [PAD] [PAD] [PAD] [PAD] [PAD] [PAD] [PAD] [PAD] [PAD] [PAD] [PAD] [PAD] [PAD] [PAD] [PAD] [PAD] [PAD] [PAD] [PAD] [PAD] [PAD] [PAD] [PAD] [PAD] [PAD] [PAD] [PAD] [PAD] [PAD] [PAD] [PAD] [PAD] [PAD] [PAD] [PAD] [PAD] [PAD] [PAD] [PAD] [PAD] [PAD] [PAD] [PAD] [PAD] [PAD] [PAD] [PAD] [PAD] [PAD] [PAD] [PAD] [PAD] [PAD] [PAD] [PAD] [PAD] [PAD] [PAD] [PAD] [PAD] [PAD] [PAD] [PAD] [PAD] [PAD] [PAD] [PAD] [PAD] [PAD] [PAD] [PAD] [PAD] [PAD] [PAD] [PAD] [PAD] [PAD] [PAD] [PAD] [PAD] [PAD] [PAD] [PAD] [PAD] [PAD] [PAD] [PAD] [PAD] [PAD] [PAD] [PAD] [PAD] [PAD] [PAD] [PAD] [PAD] [PAD] [PAD] [PAD] [PAD] [PAD] [PAD] [PAD] [PAD] [PAD] [PAD] [PAD] [PAD] [PAD] [PAD] [PAD] [PAD] [PAD] [PAD] [PAD] [PAD] [PAD] [PAD] [PAD] [PAD] [PAD] [PAD] [PAD] [PAD] [PAD] [PAD] [PAD] [PAD] [PAD] [PAD] [PAD] [PAD] [PAD] [PAD] [PAD] [PAD] [PAD] [PAD] [PAD] [PAD] [PAD] [PAD] [PAD] [PAD] [PAD] [PAD] [PAD]\""
      ]
     },
     "execution_count": 81,
     "metadata": {},
     "output_type": "execute_result"
    }
   ],
   "source": [
    "tokenizer.decode(tokenized_test_dataset[0]['input_ids'])"
   ]
  },
  {
   "cell_type": "code",
   "execution_count": 86,
   "id": "df1edad8",
   "metadata": {},
   "outputs": [
    {
     "data": {
      "text/plain": [
       "'lisbon suffered no epidemic'"
      ]
     },
     "execution_count": 86,
     "metadata": {},
     "output_type": "execute_result"
    }
   ],
   "source": [
    "tokenizer.decode(tokenized_test_dataset[0]['input_ids'][24:28])"
   ]
  },
  {
   "cell_type": "code",
   "execution_count": 88,
   "id": "1870f8dd",
   "metadata": {},
   "outputs": [
    {
     "data": {
      "text/plain": [
       "['Lisbon suffered no epidemics',\n",
       " 'Hispanic',\n",
       " \"Beijing was captured by Li Zicheng's peasant rebels\",\n",
       " 'Tate Britain',\n",
       " 'thirteen',\n",
       " 'Ariel Sharon',\n",
       " 'Operation Serval',\n",
       " '$45 million',\n",
       " 'Constantinople',\n",
       " 'water',\n",
       " 'crimson and royal blue',\n",
       " '70,500',\n",
       " 'in 1876',\n",
       " 'Tracy Hall',\n",
       " 'King Evander',\n",
       " 'U.S. and South Sudan',\n",
       " 'early 1980s',\n",
       " 'mixed polarization',\n",
       " 'New York City',\n",
       " 'Dionysus',\n",
       " 'Oktoberfest of Blumenau',\n",
       " 'during the Belle Époque',\n",
       " 'in fonts',\n",
       " 'October 31, 1916',\n",
       " 'the Napoleonic Code',\n",
       " 'At over 5 million, Puerto Ricans are easily the 2nd largest Hispanic group. Of all major Hispanic groups',\n",
       " 'three',\n",
       " 'Khagan',\n",
       " '$100 \"perpetual scholarships\"',\n",
       " 'medieval Muslim world',\n",
       " 'early 19th century',\n",
       " 'Premier League',\n",
       " '1967',\n",
       " 'Georgia',\n",
       " 'attend anti-union meetings',\n",
       " \"the group's underlying set\",\n",
       " 'Santo Domingo',\n",
       " 'New Russia',\n",
       " 'steam turbines',\n",
       " '10th century',\n",
       " 'spiritual',\n",
       " 'feed aggregator',\n",
       " 'resin',\n",
       " '\"always crescendo to a high note\"',\n",
       " 'Ögedei Khan',\n",
       " 'saloon',\n",
       " 'they had received an anonymous call warning that the Kerry lines would be cut',\n",
       " '11',\n",
       " 'The foundation, based in Seattle, Washington',\n",
       " 'first century',\n",
       " 'films and biographies',\n",
       " 'accepted or speculative Masons',\n",
       " 'Biafra',\n",
       " 'the Grand Service',\n",
       " 'incessant cavalry charges',\n",
       " 'hieroglyphics',\n",
       " 'Lighting or illumination',\n",
       " 'the national anthem',\n",
       " '28.8%',\n",
       " '17',\n",
       " 'justice',\n",
       " '1985',\n",
       " 'Diego Maradona',\n",
       " 'FAT32',\n",
       " 'Bernard de Fontenelle',\n",
       " 'four public charter schools',\n",
       " 'favorable',\n",
       " '22 minutes',\n",
       " 'Uralic peoples',\n",
       " \"the Apostles' Creed\",\n",
       " '20th-century',\n",
       " \"Genghis Khan's children\",\n",
       " 'Mabee-Gerrer Museum of Art in Shawnee',\n",
       " 'Maryam',\n",
       " 'the emir, Nuh II',\n",
       " '9 MetroTech Center',\n",
       " '15',\n",
       " 'documentaries',\n",
       " 'American',\n",
       " 'adopted into the tribe by an adult male',\n",
       " '1950',\n",
       " 'mammalian',\n",
       " 'Low Middle Ages',\n",
       " \"A pencil was inserted into a person's hair to determine if the hair was kinky enough to hold the pencil\",\n",
       " 'the Stone age',\n",
       " 'Timothy McVeigh and Terry Nichols',\n",
       " 'Cardinal',\n",
       " 'The Seattle Times',\n",
       " 'fifteen',\n",
       " 'Burgh',\n",
       " 'consumption of carcinogenic preserved foods',\n",
       " 'Indian reservations',\n",
       " '29 October 1778',\n",
       " 'child health',\n",
       " 'New Jersey Casino Control Commission and the New Jersey Division of Gaming Enforcement',\n",
       " 'genetic researchers who have done extensive population mapping studies',\n",
       " 'Goodison Park',\n",
       " 'the affected s',\n",
       " 'October 2014',\n",
       " 'seizing prey, biting off pieces of vegetation, or grasping dead and decaying matter',\n",
       " 'The Cosmos Rocks',\n",
       " 'when city centres were devastated through the loss of administrative offices, utilities and transport.',\n",
       " 'that guesses based on face photos perform better than chance',\n",
       " 'the hip hop era',\n",
       " 'The Purple',\n",
       " 'corn',\n",
       " 'cities',\n",
       " 'Field Marshal Helmuth von Moltke',\n",
       " 'King Charles III',\n",
       " 'multivendor',\n",
       " 'gurukulas',\n",
       " 'Qin Shi Huangdi',\n",
       " 'fix carbon from the air',\n",
       " 'Cajmere',\n",
       " 'Richard III',\n",
       " 'drawn strip',\n",
       " 'silver and gold',\n",
       " '1995',\n",
       " 'regal vestments',\n",
       " 'the \"off\" output is limited to leakage currents too small to affect connected circuitry',\n",
       " 'Jim McMahon',\n",
       " 'International Organization for Standardization',\n",
       " 'Napoleon',\n",
       " 'Alfred Stevens',\n",
       " 'January 27, 2010',\n",
       " '28',\n",
       " 'up to $2000',\n",
       " 'vis et voluntas',\n",
       " 'Constitutional Court',\n",
       " 'The Arsenal Stadium Mystery',\n",
       " 'a nonphotosynthetic eukaryote engulfed a chloroplast-containing alga but failed to digest it',\n",
       " 'his recent Greek conquests',\n",
       " '268 U.S. 510',\n",
       " 'Ivan Gazidis',\n",
       " 'pigs',\n",
       " 'the European Parliament and the Council of the European Union',\n",
       " 'very high bandwidth',\n",
       " 'Portal 2',\n",
       " 'disruption of the species composition in the intestinal flora',\n",
       " 'hexagonal',\n",
       " 'residency registration',\n",
       " 'highest counts of animal and plant species that appear on the endangered species list',\n",
       " 'current',\n",
       " 'a place where learning and studying take place',\n",
       " 'Syriac',\n",
       " 'two',\n",
       " \"Switzerland's isolation from the rest of Europe\",\n",
       " 'The Copyright Act',\n",
       " 'temporary',\n",
       " 'Powder House Day',\n",
       " 'Anton Freissler',\n",
       " 'liberal',\n",
       " 'Black Death',\n",
       " 'international students',\n",
       " 'ApocalyPS3',\n",
       " 'oceanic coastline',\n",
       " 'soil erosion',\n",
       " 'Alex Welch',\n",
       " 'Humanae vitae',\n",
       " 'a crackdown on or repression of all opposition parties',\n",
       " 'ritualised displays',\n",
       " 'DFAC buildings',\n",
       " 'Freemasonry',\n",
       " 'west',\n",
       " 'colored paddles',\n",
       " 'available energy',\n",
       " 'Reggie Lucas of Warner Bros',\n",
       " 'Europe',\n",
       " 'four',\n",
       " 'the mayor, city controller and 16 members of the Houston City Council',\n",
       " '9th century',\n",
       " 'Germanic paganism',\n",
       " 'the plant cell nucleus',\n",
       " 'Fort Le Boeuf (present-day Waterford, Pennsylvania',\n",
       " 'empire-builders',\n",
       " \"The transmission of genes to an organism's offspring\",\n",
       " '50',\n",
       " 'Jews',\n",
       " '−1.0%',\n",
       " 'bodily states',\n",
       " '2016',\n",
       " 'the Cleveland Indians',\n",
       " 'Serbian and Croatian',\n",
       " '2010',\n",
       " 'the Sarmatian, Hun and Gothic empires',\n",
       " 'automotive, chemical, power generation, aerospace, and telecommunications',\n",
       " 'PBS',\n",
       " '30 mi',\n",
       " '11',\n",
       " '130',\n",
       " 'by regenerative braking',\n",
       " 'Subutai and Jebe',\n",
       " 'pollution',\n",
       " 'mostly Christian',\n",
       " 'Higher molecular weight gasses have lower thermal conductivity',\n",
       " '1842',\n",
       " 'ternary alloy',\n",
       " 'Planned diversity',\n",
       " 'Brazil',\n",
       " 'Wang and Nyima',\n",
       " 'General MacArthur',\n",
       " 'Netflix and Windows Media Center HTPC streaming capabilities, and the Zune marketplace',\n",
       " '52 personnel and citizens',\n",
       " 'German',\n",
       " 'Britonia',\n",
       " 'Longmen Shan Fault System',\n",
       " 'Southern Connecticut State University',\n",
       " 'Mary Leakey and Louis Leakey',\n",
       " 'Sony Ericsson and Nokia',\n",
       " 'lines',\n",
       " '8888 Uprising',\n",
       " 'Apsara Dance',\n",
       " 'Venice, Milan, Naples, Paris and Constantinople',\n",
       " 'Qing',\n",
       " 'the regular seasonal movement, often north and south along a flyway, between breeding and wintering grounds',\n",
       " 'Rio de Plata region',\n",
       " 'Washington Commandos',\n",
       " '1990s',\n",
       " 'semisynthetic modifications',\n",
       " '59',\n",
       " 'Tigranes the Great',\n",
       " 'constitutional impasse',\n",
       " 'In November 2009',\n",
       " 'standing wave ratio',\n",
       " 'replace its aging fleet',\n",
       " 'tanks',\n",
       " 'Herbert Brownell',\n",
       " 'Larry Ellison',\n",
       " 'Diana DeGarmo',\n",
       " 'Syllabus',\n",
       " 'division of bacterial cells',\n",
       " '770,477',\n",
       " 'pseudonyms',\n",
       " 'Peterbilt 281 tanker',\n",
       " 'Randalls Island',\n",
       " 'threaten the well-being of other species',\n",
       " 'freight and passenger traffic',\n",
       " 'loss of sleep',\n",
       " 'Jewish and early Christian writings',\n",
       " 'Sheahon Zenger',\n",
       " 'evolved into an imperial chancery',\n",
       " 'as the same language',\n",
       " 'the 1980s',\n",
       " 'finance',\n",
       " 'Vyākaraṇa',\n",
       " 'bacterial functions or growth processes',\n",
       " 'efficiency',\n",
       " 'hawks or larger mammalian predators',\n",
       " 'Soha Ali Khan',\n",
       " 'six',\n",
       " 'special authorized (by the database owner) personnel',\n",
       " 'the St.GIGA satellite radio station',\n",
       " 'Melbourne Airport',\n",
       " 'massive power failure',\n",
       " 'space-like, light-like, or time-like',\n",
       " 'Clay Aiken',\n",
       " 'alcohol',\n",
       " 'Dusty Baker',\n",
       " '30 percent',\n",
       " 'create and disclose their work',\n",
       " 'Ferranti Mark 1',\n",
       " 'two hours',\n",
       " 'Central Powers',\n",
       " 'Yagi-Uda',\n",
       " 'proportionally control the power to the field windings',\n",
       " 'six',\n",
       " \"his mother's genetics and influence\",\n",
       " 'whether the organelle carries out the last leg of the pathway or if it happens in the cytosol',\n",
       " 'International Crops Research Institute for the Semi-Arid Tropics (ICRISAT)',\n",
       " 'Sitka',\n",
       " \"over Stone's cigar\",\n",
       " 'British Isles',\n",
       " 'identity confusion',\n",
       " 'inhospitable swamps',\n",
       " \"Miami Modern, which can be seen in areas such as Miami's MiMo Historic District.\",\n",
       " 'a general architecture for a large-scale, distributed, survivable communications network',\n",
       " 'Manchurian Strategic Offensive Operation',\n",
       " 'Warsaw City Council',\n",
       " 'Formerly huge gene pools of various wild and indigenous breeds have collapsed causing widespread genetic erosion',\n",
       " '1974',\n",
       " 'Creon, the current King of Thebes',\n",
       " 'Hulagu Khan',\n",
       " 'Supplemental oxygen',\n",
       " 'seasoned butter and spices',\n",
       " '52%',\n",
       " 'two Lorenz beams',\n",
       " 'the new structure would enable school drop-outs at all levels either to be self-employed or to secure employment in the informal sector',\n",
       " 'direct effect or indirect effect',\n",
       " 'motorway',\n",
       " 'environmental concerns',\n",
       " '2010',\n",
       " 'cognitive sciences',\n",
       " 'February 2015',\n",
       " 'nine months',\n",
       " '870',\n",
       " 'North Carolina',\n",
       " 'its genome',\n",
       " 'goal of pursuing personal political objectives that were often at odds with France’s publicly stated policies',\n",
       " 'About 8–15 days of snowfall is typical',\n",
       " '1987',\n",
       " \"they don't have to be relayed through a central point\",\n",
       " 'the Eastern Alps',\n",
       " '16',\n",
       " 'alleles',\n",
       " '1830s',\n",
       " 'HCR 1024',\n",
       " 'reason',\n",
       " '£0.4 million',\n",
       " '1862–63',\n",
       " 'The fundamental theorem of arithmetic',\n",
       " '24 January',\n",
       " 'the Russian Federation',\n",
       " 'businesses, individuals, and enterprises',\n",
       " 'The Arsacid Kingdom of Armenia',\n",
       " 'domestic affairs',\n",
       " 'Michiru Ōshima',\n",
       " 'Pineapple Express',\n",
       " 'worldwide partnership',\n",
       " 'Zelda',\n",
       " 'early 1938',\n",
       " 'The doctrine of anattā (Sanskrit anātman)',\n",
       " 'the Gaussian integers Z[i]',\n",
       " \"Drake's Island\",\n",
       " 'Thermographic',\n",
       " 'Cortegada',\n",
       " 'three',\n",
       " 'his observation of fossil animal shells',\n",
       " 'the Kingdom of Prussia',\n",
       " 'Latin animalis',\n",
       " 'Yangzhou',\n",
       " '1950s',\n",
       " 'Anglican-Roman Catholic International Commission',\n",
       " 'Endosymbiotic gene transfer',\n",
       " 'in 2003',\n",
       " '1990',\n",
       " '16th and 17th centuries',\n",
       " '2001',\n",
       " 'Richard Hoggart, E. P. Thompson, and Raymond Williams, and later that of Stuart Hall',\n",
       " 'United Nations Peacekeeping operations',\n",
       " 'September 1979',\n",
       " '10,979',\n",
       " 'Kichwa',\n",
       " 'rabbit',\n",
       " 'circularly polarized',\n",
       " 'blindfold',\n",
       " 'Synthetic Cubism',\n",
       " 'the oil industry',\n",
       " 'promise to track down and fire the responsible employee',\n",
       " 'In India, the matches are broadcast live on STAR Sports. In China',\n",
       " 'infinite',\n",
       " \"B'Day\",\n",
       " 'liquid',\n",
       " '1958',\n",
       " 'exclusion',\n",
       " 'MidState Medical Center',\n",
       " 'Interpretatio graeca',\n",
       " 'a fleet',\n",
       " 'late archaic period',\n",
       " 'Yerevan',\n",
       " 'Pan-Somalism',\n",
       " 'launched a new design',\n",
       " 'as a structural force',\n",
       " 'tricks',\n",
       " 'five',\n",
       " 'British colony of Tuvalu',\n",
       " 'Robert Guiscard',\n",
       " 'man',\n",
       " 'knurled roller(s)',\n",
       " 'Suzerainty of Serbia',\n",
       " 'a sin',\n",
       " 'Eli Lilly',\n",
       " 'Ein neues Lied wir heben an',\n",
       " 'Man Parrish, Soul Sonic Force',\n",
       " '39',\n",
       " 'about 37%',\n",
       " 'Warsaw',\n",
       " 'allowing smoking',\n",
       " '1994',\n",
       " 'In the 2000s, more Venezuelans opposing the economic and political policies of president Hugo Chávez migrated to the United States',\n",
       " 'the Spanish Empire',\n",
       " '1986 Berlin discotheque bombing',\n",
       " 'The Swiss cities',\n",
       " 'Tribhuwan',\n",
       " 'Albatrosses nesting in the Southern Ocean',\n",
       " 'United States has no de jure official language, English is the dominant language',\n",
       " 'since the 19th century',\n",
       " '14',\n",
       " '96.5%',\n",
       " 'two',\n",
       " 'the voting system',\n",
       " '14.6%',\n",
       " 'the Dean and four canons residentiary',\n",
       " '42,000',\n",
       " '16th century',\n",
       " 'Reading Terminal',\n",
       " '\"Nanjing 1912\"',\n",
       " 'special language',\n",
       " 'Madison Square Garden, as well as football stadiums',\n",
       " 'Kara DioGuardi',\n",
       " 'the English East India Company',\n",
       " 'a dual party-government system',\n",
       " 'Pedieos River',\n",
       " 'hops',\n",
       " '1.9 billion',\n",
       " 'E.B. Havell',\n",
       " 'Red Wings',\n",
       " '1895',\n",
       " 'glaciation',\n",
       " 'variability',\n",
       " 'live USB versions of Windows',\n",
       " '67.9',\n",
       " 'US$118 billion',\n",
       " '300,000',\n",
       " 'possibly another 25',\n",
       " 'Pangaea',\n",
       " '5',\n",
       " 'to form light of different colors',\n",
       " 'shofar',\n",
       " 'in the late 1980s',\n",
       " '1922',\n",
       " 'Etta James',\n",
       " \"A non-EU player applying for the permit must have played for his country in at least 75 per cent of its competitive 'A' team matches\",\n",
       " 'safety',\n",
       " 'Jesus',\n",
       " '10,000',\n",
       " '80%',\n",
       " 'Dr. T.R.M. Howard',\n",
       " 'asocial',\n",
       " '1600',\n",
       " '1066',\n",
       " 'pagan',\n",
       " 'Coppel and Elektra',\n",
       " 'Julia Butterfly Hill',\n",
       " 'chilangos',\n",
       " '339',\n",
       " 'present and living',\n",
       " 'suburbs',\n",
       " 'problems with interoperability',\n",
       " 'United Empire Loyalists',\n",
       " '1838',\n",
       " 'Festivals can be held on a grand scale.',\n",
       " 'a record five',\n",
       " '784',\n",
       " 'Gulf of Mexico',\n",
       " 'REM sleep',\n",
       " 'Friends of Falun Gong',\n",
       " 'Muawiyah I',\n",
       " 'dozens',\n",
       " 'Libya',\n",
       " 'investigating airplane crashes',\n",
       " 'the Pontifical University of Saint Thomas Aquinas, Angelicum',\n",
       " 'insei',\n",
       " 'Arab Socialist Union',\n",
       " 'field science',\n",
       " 'Emmett Till',\n",
       " 'a Buddha',\n",
       " 'Allies',\n",
       " \"the Communist Party's\",\n",
       " 'hard pines',\n",
       " 'electronics, software, computerized systems',\n",
       " 'abdication of his brother',\n",
       " 'turmoil',\n",
       " 'Huguang Province',\n",
       " 'South Carolina',\n",
       " 'Anatolian Alevis (Qizilbash)',\n",
       " 'Somali Post',\n",
       " 'safe harbor',\n",
       " '48%',\n",
       " 'American Civil War',\n",
       " '120',\n",
       " 'Sir Aston Webb',\n",
       " '5:3',\n",
       " 'Sputum',\n",
       " 'when material is linked to the learning context,',\n",
       " 'New words',\n",
       " 'over 100 genes',\n",
       " 'Senussi',\n",
       " 'ending the war',\n",
       " 'northwest across Europe',\n",
       " '1225',\n",
       " 'military instructor and procurer of weapons',\n",
       " 'Ports were easier to find',\n",
       " 'two',\n",
       " 'mirror-like',\n",
       " 'San Diego',\n",
       " 'seeds, insects, and other small invertebrates.',\n",
       " 'Mahasanghika',\n",
       " 'the life cycle',\n",
       " 'Ajahn Sucitto',\n",
       " 'rationalism, empiricism, structuralism, poststructuralism, and phenomenology.',\n",
       " 'skin depth',\n",
       " '2030',\n",
       " 'vassal states',\n",
       " 'Muhammad bin Qasim',\n",
       " 'American Idol',\n",
       " 'German journal',\n",
       " '2000',\n",
       " '1890–1930',\n",
       " 'mammals, reptiles, amphibians, mollusks and crustaceans',\n",
       " 'Pope Pius IX',\n",
       " 'a registration process',\n",
       " 'Information Management System (IMS)',\n",
       " 'the Soviet Union',\n",
       " 'William H. Baxter',\n",
       " 'revolutionary',\n",
       " 'China',\n",
       " 'central banks',\n",
       " '$18.8 million',\n",
       " 'Foucault',\n",
       " 'Grover Cleveland',\n",
       " 'seismic zone-IV',\n",
       " 'Olmstead v. United States',\n",
       " 'ruined and had to be taken down',\n",
       " 'fighting hand-to-hand in the streets',\n",
       " 'unmarried',\n",
       " 'Thomas Commerford Martin',\n",
       " 'Sherif Hetata',\n",
       " 'Britain, France and the Soviet Union',\n",
       " \"on the BBC's mainstream BBC One channel\",\n",
       " 'It diffuses the light emitted from the filament',\n",
       " 'Peru',\n",
       " 'Ray Kassar',\n",
       " 'natural selection acting on particular loci',\n",
       " 'the resistance of the filament',\n",
       " '1997',\n",
       " 'Fertile Crescent',\n",
       " 'Le Monde and Le Figaro',\n",
       " 'overheat',\n",
       " 'Parliamentary proclamation',\n",
       " 'The group ended up creating a new USB version',\n",
       " 'the Orthodox Church',\n",
       " 'khalifat rasul Allah',\n",
       " '200 BC',\n",
       " 'applying a to the first equality yields the second',\n",
       " 'Cerberus',\n",
       " 'C-value paradox',\n",
       " 'Bermuda Triangle',\n",
       " 'Jonathan Sallet',\n",
       " '48,000',\n",
       " '1963',\n",
       " 'Pima Community College East Campus',\n",
       " 'Milan',\n",
       " 'Great Fire of 1901',\n",
       " 'negative DST',\n",
       " '1908',\n",
       " '30',\n",
       " '183',\n",
       " 'troops',\n",
       " 'Over 20 countries',\n",
       " 'achieve strategic, operational, and tactical objectives',\n",
       " '7 July',\n",
       " 'Jacksonville',\n",
       " 'higher',\n",
       " 'After 1800',\n",
       " 'increase in tea drinking',\n",
       " 'March 2011',\n",
       " 'text in computers, communications equipment, and other devices that use text',\n",
       " 'similar to Antarctic',\n",
       " 'coal',\n",
       " 'Fylde Folk Festival',\n",
       " 'strip pubs',\n",
       " '34,000',\n",
       " 'Roone Arledge',\n",
       " 'Free Tibet',\n",
       " 'Camisards',\n",
       " 'three',\n",
       " 'Ptahhotep',\n",
       " 'sitting-room',\n",
       " 'Abd al-Azim Ramadan',\n",
       " 'time',\n",
       " 'A-style',\n",
       " 'Marshall Jefferson',\n",
       " 'October 2011',\n",
       " 'Montgomery County and Robertson County',\n",
       " 'fractal compression',\n",
       " 'Board of Regents',\n",
       " 'they hibernate underground',\n",
       " 'the visa will have ceased',\n",
       " 'cultural affinity and common heritage',\n",
       " 'the 19th century',\n",
       " 'dignified exit',\n",
       " 'ethanol',\n",
       " 'the mayor',\n",
       " '55,000',\n",
       " 'end of the war',\n",
       " 'Sahara',\n",
       " \"Moody's and S&P\",\n",
       " 'New Delhi Municipal Council',\n",
       " 'Haredi',\n",
       " '1958',\n",
       " 'Kara DioGuardi',\n",
       " '42 Commando of the Royal Marines',\n",
       " 'on the pretext of use as a floating casino',\n",
       " 'cattle and herdsmen',\n",
       " 'My tragedy',\n",
       " 'tuna purse seine fishing',\n",
       " 'May 2011',\n",
       " '\"pagan\" emperors',\n",
       " 'Foxy Brown',\n",
       " 'New Delhi',\n",
       " 'the marginal cost of production',\n",
       " 'bruits',\n",
       " 'the Yangtze Delta',\n",
       " 'segmented bodies',\n",
       " 'Soviet',\n",
       " 'tianguis',\n",
       " '\"Variations of Snow and Ice in the past and at present on a Global and Regional Scale\"',\n",
       " 'late 19th century',\n",
       " 'Enisa Kafadar',\n",
       " 'variable',\n",
       " 'analysis of algorithms',\n",
       " 'General MacMahon',\n",
       " 'April 1523',\n",
       " 'a six membraned chloroplast',\n",
       " 'Benjamin Huntsman',\n",
       " 'cathedrals and great churches',\n",
       " 'frigatebird',\n",
       " 'Additives',\n",
       " 'education of children as Catholics',\n",
       " 'Nepal',\n",
       " 'political tension between France and Britain',\n",
       " '36,125',\n",
       " 'Gaussian elimination',\n",
       " 'disquietude',\n",
       " 'Pure Land',\n",
       " 'the Soviet war in Afghanistan',\n",
       " 'Osman Yusuf Kenadid',\n",
       " 'Migratory Bird Conservation Commission',\n",
       " 'the Laas Geel complex',\n",
       " 'with an offensive amount of pomp and ceremony',\n",
       " 'at least 50%',\n",
       " 'Time Warner',\n",
       " 'Christian',\n",
       " 'Universities',\n",
       " 'The mixed-race children of female slaves and Arab owners',\n",
       " 'students',\n",
       " 'patients and not in healthy controls',\n",
       " \"Schuylkill Valley Metro to Wyomissing, PA, and extension of the Media/Elwyn line back to Wawa, PA. SEPTA's Airport Regional Rail Line Regional Rail\",\n",
       " 'United States, which was already home to over 10,000 Salvadorans, making Salvadorans Americans the fourth-largest Hispanic and Latino American group',\n",
       " '342/1 BCE',\n",
       " 'video',\n",
       " 'molecular genetics and epigenetics',\n",
       " 'Paris and Brussels',\n",
       " 'Miyamoto',\n",
       " 'the nearest high-bandwidth capable hub receives a SPLIT token followed by one or two USB packets at high bandwidth',\n",
       " 'ANTEL Telecommunication Tower',\n",
       " '1908',\n",
       " 'music education',\n",
       " 'non-overlapping magisteria',\n",
       " 'more than 4,000',\n",
       " 'Bohemia (today Czech Republic',\n",
       " 'sight-reading',\n",
       " 'Somerset has 30 state and 17 independent secondary schools',\n",
       " 'Boll Weevil Eradication Program',\n",
       " 'Orthodox',\n",
       " 'compacts',\n",
       " 'trees and fresh water.',\n",
       " 'Chihuahua',\n",
       " 'has been a net oil importer since 2008',\n",
       " 'United States and the Soviet Union.',\n",
       " 'Princess Beatrice',\n",
       " 'Russian',\n",
       " '1905',\n",
       " 'about 600,329',\n",
       " 'Murray Gold and Ben Foster',\n",
       " 'different phenotype traits',\n",
       " 'the intended use',\n",
       " 'Akira Himekawa',\n",
       " 'its nucleomorph and outermost two membranes',\n",
       " '7:35 pm',\n",
       " 'Monsanto',\n",
       " 'Larry Roberts',\n",
       " '2006',\n",
       " '1977',\n",
       " 'Ezra Stiles',\n",
       " 'transport',\n",
       " 'Luzon',\n",
       " '625 BC',\n",
       " 'the Japanese lost some 150,000 men in Burma',\n",
       " '1788',\n",
       " '18.5',\n",
       " 'nurse their young with milk',\n",
       " 'University of London',\n",
       " 'Seattle Transgender Film Festival',\n",
       " 'Sultanate of Rum',\n",
       " 'March 2006',\n",
       " 'docks',\n",
       " 'prior to 15 October 1582',\n",
       " 'Vienna and Philadelphia',\n",
       " 'Cancer',\n",
       " 'Everyman',\n",
       " 'Hanoi and Ho Chi Minh City.',\n",
       " '(2000',\n",
       " 'Place Louis Lépine on the Île de la Cité',\n",
       " 'Historic Atlantic City Convention Hall',\n",
       " 'Department of Pre-Professional Studies',\n",
       " 'Party of the Democratic Revolution (PRD)',\n",
       " 'Civil strife',\n",
       " 'over 1,000',\n",
       " '17 September 1991',\n",
       " 'late 11th century',\n",
       " 'the non-penalized team',\n",
       " 'Newcastle College',\n",
       " 'about 300–600 nanometers in diameter',\n",
       " 'Iowa Barnstormers',\n",
       " 'seven out of ten',\n",
       " 'the Supreme Court',\n",
       " 'formalized aspects of police information exchange across the territory of the European Union',\n",
       " 'natural gas',\n",
       " 'sound scholar',\n",
       " 'two months',\n",
       " 'lieutenant général de police',\n",
       " '1889–1913',\n",
       " 'Helvetic',\n",
       " 'mountains and hills',\n",
       " 'balcony',\n",
       " 'air-to-air combat',\n",
       " 'Ernst Haeckel',\n",
       " 'Southern',\n",
       " 'Rijn',\n",
       " 'Solid electrolyte tantalum capacitors',\n",
       " 'rainwater harvesting',\n",
       " 'reduction',\n",
       " 'When their migratory movements ended',\n",
       " '1911',\n",
       " 'genus Mycoplasma',\n",
       " 'Xbox 360 Core',\n",
       " 'Lord Aberdeen',\n",
       " 'Muslim and Chinese',\n",
       " '\"Single Ladies (Put a Ring on It)\"',\n",
       " 'the French',\n",
       " 'desert',\n",
       " 'many middle eastern scientists',\n",
       " 'kills and eats another living thing',\n",
       " 'Great Britain lost Minorca in the Mediterranean to the French in 1756',\n",
       " 'Pope John XXIII',\n",
       " 'Per the 1850 U.S. census, fewer than 16,000 Texans were of Mexican descent, and nearly all were Spanish-speaking people',\n",
       " 'it would soon start to rot and decay',\n",
       " 'kanon',\n",
       " 'Spatial measurements',\n",
       " '1873',\n",
       " 'Christian Unity',\n",
       " 'Ten',\n",
       " 'four',\n",
       " 'Floyd Norris',\n",
       " 'federal funds rate',\n",
       " 'indium tin oxide',\n",
       " 'through reliance on an indigenous, inexhaustible and mostly import-independent resource',\n",
       " 'Italy',\n",
       " 'New Yawk',\n",
       " 'the United States and Israel',\n",
       " 'the late 19th century',\n",
       " 'US$99',\n",
       " 'Canada',\n",
       " 'allowed for the encoding of many historic scripts',\n",
       " 'to choose their own church',\n",
       " 'monist ontology',\n",
       " 'The Ministers and Chiefs of the Defence Staff',\n",
       " 'Divine',\n",
       " 'to become Under-Secretary-General for Political and General Assembly Affairs at the United Nations',\n",
       " 'about 300',\n",
       " '007',\n",
       " 'Fujiwara, Minamoto, or Taira clans',\n",
       " 'institutional architecture',\n",
       " 'Cabaret Voltaire and Throbbing Gristle',\n",
       " 'Florio, the Ducrot, the Rutelli, the Sandron, the Whitaker, the Utveggio',\n",
       " 'nearly $40 per barrel',\n",
       " '2,024',\n",
       " '20th Century',\n",
       " 'Afro-Asiatic',\n",
       " '2,000',\n",
       " '30',\n",
       " 'not signed by a music label',\n",
       " 'three',\n",
       " '$100',\n",
       " 'positive benefit-risk',\n",
       " 'doing multiplication and division.',\n",
       " 'Creative Technology',\n",
       " 'instrumental',\n",
       " '1963',\n",
       " 'thirteenth',\n",
       " '10−8 per nucleotide per replication',\n",
       " '1 May 2003',\n",
       " 'five',\n",
       " 'dysentery',\n",
       " 'World War II',\n",
       " 'Cotton linters',\n",
       " 'zip\" the mouth shut when the animal is not feeding,',\n",
       " 'music reproduction',\n",
       " 'in series through hubs',\n",
       " '1895',\n",
       " '1999',\n",
       " 'cylinders and valve gear',\n",
       " 'enlisted airmen, non-commissioned officers, and commissioned officers',\n",
       " 'Westminster Standards',\n",
       " '\"formal\"',\n",
       " 'southern',\n",
       " 'Portus Cale',\n",
       " 'Iraq War',\n",
       " 'Pittsburgh Gladiators',\n",
       " '13.8%',\n",
       " '2002',\n",
       " 'A miracle',\n",
       " '1959',\n",
       " 'surge of Republicanism',\n",
       " '64',\n",
       " 'DNA replication',\n",
       " '218',\n",
       " 'Ladbroke Grove',\n",
       " '1313',\n",
       " 'first-person',\n",
       " 'Greek and Turkish',\n",
       " 'local African rulers',\n",
       " 'the parahydrogen/orthohydrogen ratio',\n",
       " 'over five billion species',\n",
       " 'February 29, 2012',\n",
       " 'Art Library',\n",
       " 'communications',\n",
       " 'hopeful behavioural monster',\n",
       " 'Puyi',\n",
       " '169 hectares',\n",
       " 'Internet suites',\n",
       " 'a nominally civilian government',\n",
       " 'Europe',\n",
       " 'Kensington System',\n",
       " 'Phillip Phillips',\n",
       " 'biostratigraphers',\n",
       " '14,000',\n",
       " 'irregular',\n",
       " '1873',\n",
       " 'Digestive juices',\n",
       " 'Alexander Bard and Jan Söderqvist',\n",
       " 'die',\n",
       " 'over 15 million',\n",
       " 'appointed by the head of government of the Federal District',\n",
       " '1538',\n",
       " 'Lahore',\n",
       " 'great feasts',\n",
       " 'New Haven Historic Commission',\n",
       " 'the muddy ones',\n",
       " 'NBC Sports',\n",
       " 'Điếu Cày',\n",
       " 'Harry Skinner',\n",
       " 'New Zealand',\n",
       " 'Carmen: A Hip Hopera',\n",
       " 'feminist economics',\n",
       " 'UK, Germany',\n",
       " 'Britain was at war',\n",
       " '1,700–3,000',\n",
       " '4 September',\n",
       " 'Plymouth Colony',\n",
       " 'Quantico, Virginia',\n",
       " 'Aphex Twin',\n",
       " 'Septuagint Greek',\n",
       " 'Padrón Real',\n",
       " 'he is regarded as one of the giants of modern mathematics',\n",
       " 'San Diego International Airport',\n",
       " 'Chronic obstructive pulmonary disease',\n",
       " 'Pamir Mountains',\n",
       " 'Art Deco',\n",
       " 'World War II',\n",
       " 'one fifth',\n",
       " 'Joseph Ratzinger',\n",
       " 'in a street dedicated to a certain type of good',\n",
       " 'the old part of the city',\n",
       " 'July 1863',\n",
       " '100 miles',\n",
       " 'Tytus Woyciechowski',\n",
       " 'those experiences go on to change the way God interacts with the world',\n",
       " 'Captain Beefheart and David Bowie',\n",
       " 'loss of public utilities',\n",
       " 'the late period of Shang dynasty',\n",
       " 'old king',\n",
       " 'Galileo Ferraris',\n",
       " 'this complex process',\n",
       " 'CEO of the Southern Christian Leadership Conference',\n",
       " 'between 1961 and 1968',\n",
       " 'Nazarenes',\n",
       " 'annual stamp purchase by all hunters over the age of sixteen',\n",
       " 'a higher-income demographic',\n",
       " '1914',\n",
       " 'violence',\n",
       " 'United Kingdom',\n",
       " 'to differentiate between directions',\n",
       " 'furniture',\n",
       " 'British bacteriologist J. F. D. Shrewsbury',\n",
       " 'Archival Research Catalog (ARC)',\n",
       " 'Lombardy',\n",
       " 'American Conference and National Conference',\n",
       " 'prosecuted via the criminal justice system',\n",
       " 'Moors',\n",
       " 'his health began to deteriorate',\n",
       " 'triumph',\n",
       " '130,000',\n",
       " 'ownership of private industries',\n",
       " 'a + bi',\n",
       " 'Madonna',\n",
       " 'Āndhra',\n",
       " 'southeast United States',\n",
       " 'English and Australian',\n",
       " 'Steve Earle',\n",
       " 'main reception rooms',\n",
       " 'include original sin as well as actual. Thus in the first five centuries such epithets as \"',\n",
       " 'The Dogs of War',\n",
       " \"he believed that the Torah, the Qur'an, and the Bible all share a fundamental story\",\n",
       " 'Air safety',\n",
       " 'four',\n",
       " 'mild and also wet',\n",
       " 'less willing to travel or relocate',\n",
       " 'Derby',\n",
       " 'the German Faust books',\n",
       " '11th century',\n",
       " 'judiciary',\n",
       " 'eastern',\n",
       " 'Psalm 130',\n",
       " 'mid-2006',\n",
       " 'East Smithfield',\n",
       " 'Trousers',\n",
       " '50 AD',\n",
       " 'achieve immortality',\n",
       " 'Einstein',\n",
       " '11',\n",
       " 'Paula Abdul',\n",
       " 'a meaningful and useful social convention',\n",
       " 'male parental care',\n",
       " 'Uptown District',\n",
       " 'Dublin, Ireland',\n",
       " 'commodity prices fell',\n",
       " '13,000',\n",
       " 'Big Machine Records',\n",
       " 'performed ceremonies',\n",
       " 'US$1.95 billion',\n",
       " 'where prior learning disrupts recall of new information',\n",
       " 'plant pathogens, weeds, mollusks',\n",
       " 'Isle of Man',\n",
       " 'Greek historians',\n",
       " 'Pannerdens Kanaal',\n",
       " 'in the condenser',\n",
       " \"Vatican's State Department\",\n",
       " 'Upanishads',\n",
       " 'Homeric hymn',\n",
       " 'Tennessee River',\n",
       " 'human cosmonauts',\n",
       " 'radio stations and online portals',\n",
       " \"the tone's frequency content\",\n",
       " 'Adam Mickiewicz',\n",
       " 'litter',\n",
       " \"The European Club Association is responsible for electing three members to UEFA's Club Competitions Committee\",\n",
       " 'footnote',\n",
       " 'family settings and casual conversation',\n",
       " 'Charles Bradlaugh',\n",
       " 'Carnegie Foundation for the Advancement of Teaching',\n",
       " '2005',\n",
       " 'exotic pet trade',\n",
       " 'April 3',\n",
       " '35 per 1,000 live births',\n",
       " 'Lake Vostok',\n",
       " 'Plugd Records',\n",
       " '30',\n",
       " 'transcendental',\n",
       " \"one's social relations during development\",\n",
       " 'HIPPO',\n",
       " 'Cicero',\n",
       " 'seafloor spreading',\n",
       " 'Alfred Wilm',\n",
       " 'Operation Moshtarak',\n",
       " 'College of the Marshall Islands',\n",
       " \"St. John's\",\n",
       " 'Jan Lokpal Bill',\n",
       " 'the findings of field naturalists studying biogeography and ecology, including Joseph Dalton Hooker in 1860, and Asa Gray in 1862',\n",
       " 'the grant would allow the IJM to \"create a replicable model for combating sex trafficking and slavery',\n",
       " 'New York Giants',\n",
       " 'Deutsche Universal-Film AG',\n",
       " '22,338,618 decimal digits',\n",
       " '2004',\n",
       " 'jazz and big band',\n",
       " '1999',\n",
       " 'The ethnic Kru',\n",
       " 'Holy Roman Empire',\n",
       " 'in commerce, schooling and government',\n",
       " 'instantaneous',\n",
       " 'impeachment',\n",
       " 'Back to the Future Part III',\n",
       " 'views distasteful to them',\n",
       " 'cheated',\n",
       " 'Anthropologists',\n",
       " 'Nikita Khrushchev',\n",
       " 'programming languages',\n",
       " 'Taraborrelli,',\n",
       " 'light and oxygen',\n",
       " 'an isolated testing environment',\n",
       " 'peace in Northern Ireland',\n",
       " 'an infection of the intestines',\n",
       " 'two',\n",
       " 'deaths of two friends',\n",
       " 'susceptibility to addiction',\n",
       " '35.6',\n",
       " 'East',\n",
       " 'mortgaging his own home to lend the money to his campaign',\n",
       " '240 km long',\n",
       " ...]"
      ]
     },
     "execution_count": 88,
     "metadata": {},
     "output_type": "execute_result"
    }
   ],
   "source": [
    "filtered_test_dataset['answer_text']"
   ]
  },
  {
   "cell_type": "code",
   "execution_count": 90,
   "id": "9fb40e0c",
   "metadata": {},
   "outputs": [
    {
     "ename": "AttributeError",
     "evalue": "'list' object has no attribute 'map'",
     "output_type": "error",
     "traceback": [
      "\u001b[1;31m---------------------------------------------------------------------------\u001b[0m",
      "\u001b[1;31mAttributeError\u001b[0m                            Traceback (most recent call last)",
      "\u001b[1;32me:\\STUDIA\\IPS\\question-answering\\extractive-qa\\notebooks\\squad_bert_uncased.ipynb Cell 50\u001b[0m line \u001b[0;36m1\n\u001b[1;32m----> <a href='vscode-notebook-cell:/e%3A/STUDIA/IPS/question-answering/extractive-qa/notebooks/squad_bert_uncased.ipynb#Y113sZmlsZQ%3D%3D?line=0'>1</a>\u001b[0m decoded_model_answer_texts \u001b[39m=\u001b[39m tokenized_test_dataset[\u001b[39m'\u001b[39;49m\u001b[39minput_ids\u001b[39;49m\u001b[39m'\u001b[39;49m]\u001b[39m.\u001b[39;49mmap(\n\u001b[0;32m      <a href='vscode-notebook-cell:/e%3A/STUDIA/IPS/question-answering/extractive-qa/notebooks/squad_bert_uncased.ipynb#Y113sZmlsZQ%3D%3D?line=1'>2</a>\u001b[0m     tokenizer\u001b[39m.\u001b[39mdecode,\n\u001b[0;32m      <a href='vscode-notebook-cell:/e%3A/STUDIA/IPS/question-answering/extractive-qa/notebooks/squad_bert_uncased.ipynb#Y113sZmlsZQ%3D%3D?line=2'>3</a>\u001b[0m     batched\u001b[39m=\u001b[39m\u001b[39mTrue\u001b[39;00m,\n\u001b[0;32m      <a href='vscode-notebook-cell:/e%3A/STUDIA/IPS/question-answering/extractive-qa/notebooks/squad_bert_uncased.ipynb#Y113sZmlsZQ%3D%3D?line=3'>4</a>\u001b[0m )\n",
      "\u001b[1;31mAttributeError\u001b[0m: 'list' object has no attribute 'map'"
     ]
    }
   ],
   "source": [
    "decoded_model_answer_texts = tokenized_test_dataset['input_ids'].map(\n",
    "    tokenizer.decode,\n",
    "    batched=True,\n",
    ")"
   ]
  },
  {
   "cell_type": "code",
   "execution_count": 92,
   "id": "ba297d7d",
   "metadata": {},
   "outputs": [
    {
     "data": {
      "text/plain": [
       "datasets.arrow_dataset.Dataset"
      ]
     },
     "execution_count": 92,
     "metadata": {},
     "output_type": "execute_result"
    }
   ],
   "source": [
    "type(tokenized_test_dataset)"
   ]
  },
  {
   "cell_type": "code",
   "execution_count": 96,
   "id": "326ecd04",
   "metadata": {},
   "outputs": [],
   "source": [
    "def decode_input_ids(input_ids_list):\n",
    "    return tokenizer.decode(input_ids_list['input_ids'])"
   ]
  },
  {
   "cell_type": "code",
   "execution_count": 98,
   "id": "27424d3a",
   "metadata": {},
   "outputs": [
    {
     "data": {
      "text/plain": [
       "Dataset({\n",
       "    features: ['index', 'id', 'context', 'question', 'answer_text', 'answer_start'],\n",
       "    num_rows: 67964\n",
       "})"
      ]
     },
     "execution_count": 98,
     "metadata": {},
     "output_type": "execute_result"
    }
   ],
   "source": [
    "filtered_train_dataset"
   ]
  },
  {
   "cell_type": "code",
   "execution_count": 103,
   "id": "4d0c9f70",
   "metadata": {},
   "outputs": [
    {
     "data": {
      "text/plain": [
       "\"[CLS] did lisbon suffer any epidemics from the calamity? [SEP] despite the calamity and huge death toll, lisbon suffered no epidemics and within less than one year was already being rebuilt. the new city centre of lisbon was designed to resist subsequent earthquakes. architectural models were built for tests, and the effects of an earthquake were simulated by marching troops around the models. the buildings and big squares of the pombaline city centre still remain as one of lisbon's tourist attractions. sebastiao de melo also made an important contribution to the study of seismology by designing an inquiry that was sent to every parish in the country. [SEP] [PAD] [PAD] [PAD] [PAD] [PAD] [PAD] [PAD] [PAD] [PAD] [PAD] [PAD] [PAD] [PAD] [PAD] [PAD] [PAD] [PAD] [PAD] [PAD] [PAD] [PAD] [PAD] [PAD] [PAD] [PAD] [PAD] [PAD] [PAD] [PAD] [PAD] [PAD] [PAD] [PAD] [PAD] [PAD] [PAD] [PAD] [PAD] [PAD] [PAD] [PAD] [PAD] [PAD] [PAD] [PAD] [PAD] [PAD] [PAD] [PAD] [PAD] [PAD] [PAD] [PAD] [PAD] [PAD] [PAD] [PAD] [PAD] [PAD] [PAD] [PAD] [PAD] [PAD] [PAD] [PAD] [PAD] [PAD] [PAD] [PAD] [PAD] [PAD] [PAD] [PAD] [PAD] [PAD] [PAD] [PAD] [PAD] [PAD] [PAD] [PAD] [PAD] [PAD] [PAD] [PAD] [PAD] [PAD] [PAD] [PAD] [PAD] [PAD] [PAD] [PAD] [PAD] [PAD] [PAD] [PAD] [PAD] [PAD] [PAD] [PAD] [PAD] [PAD] [PAD] [PAD] [PAD] [PAD] [PAD] [PAD] [PAD] [PAD] [PAD] [PAD] [PAD] [PAD] [PAD] [PAD] [PAD] [PAD] [PAD] [PAD] [PAD] [PAD] [PAD] [PAD] [PAD] [PAD] [PAD] [PAD] [PAD] [PAD] [PAD] [PAD] [PAD] [PAD] [PAD] [PAD] [PAD] [PAD] [PAD] [PAD] [PAD] [PAD] [PAD] [PAD] [PAD] [PAD] [PAD] [PAD] [PAD] [PAD] [PAD] [PAD] [PAD] [PAD] [PAD] [PAD] [PAD] [PAD] [PAD] [PAD] [PAD] [PAD] [PAD] [PAD] [PAD] [PAD] [PAD] [PAD] [PAD] [PAD] [PAD] [PAD] [PAD] [PAD] [PAD] [PAD] [PAD] [PAD] [PAD] [PAD] [PAD] [PAD] [PAD] [PAD] [PAD] [PAD] [PAD] [PAD] [PAD] [PAD] [PAD] [PAD] [PAD] [PAD] [PAD] [PAD] [PAD] [PAD] [PAD] [PAD] [PAD] [PAD] [PAD] [PAD] [PAD] [PAD] [PAD] [PAD] [PAD] [PAD] [PAD] [PAD] [PAD] [PAD] [PAD] [PAD] [PAD] [PAD] [PAD] [PAD] [PAD] [PAD] [PAD] [PAD] [PAD] [PAD] [PAD] [PAD] [PAD] [PAD] [PAD] [PAD] [PAD] [PAD] [PAD] [PAD] [PAD] [PAD] [PAD] [PAD] [PAD] [PAD] [PAD] [PAD] [PAD] [PAD] [PAD] [PAD] [PAD] [PAD] [PAD]\""
      ]
     },
     "execution_count": 103,
     "metadata": {},
     "output_type": "execute_result"
    }
   ],
   "source": [
    "tokenizer.decode(tokenized_test_dataset[0]['input_ids'])"
   ]
  },
  {
   "cell_type": "code",
   "execution_count": 104,
   "id": "e65b1bba",
   "metadata": {},
   "outputs": [
    {
     "data": {
      "text/plain": [
       "Dataset({\n",
       "    features: ['input_ids', 'token_type_ids', 'attention_mask', 'start_positions', 'end_positions'],\n",
       "    num_rows: 14552\n",
       "})"
      ]
     },
     "execution_count": 104,
     "metadata": {},
     "output_type": "execute_result"
    }
   ],
   "source": [
    "tokenized_test_dataset"
   ]
  },
  {
   "cell_type": "code",
   "execution_count": 106,
   "id": "23c1e383",
   "metadata": {},
   "outputs": [
    {
     "data": {
      "text/plain": [
       "28"
      ]
     },
     "execution_count": 106,
     "metadata": {},
     "output_type": "execute_result"
    }
   ],
   "source": [
    "tokenized_test_dataset[0]['end_positions']"
   ]
  },
  {
   "cell_type": "code",
   "execution_count": 128,
   "id": "5d732b33",
   "metadata": {},
   "outputs": [],
   "source": [
    "def extract_answer_tokens(tokenized_dataset_row):\n",
    "    start = tokenized_dataset_row['start_positions']\n",
    "    end = tokenized_dataset_row['end_positions']\n",
    "    tokenized_dataset_row['answer_tokens'] = tokenized_dataset_row['input_ids'][start:end]\n",
    "    return tokenized_dataset_row"
   ]
  },
  {
   "cell_type": "code",
   "execution_count": 129,
   "id": "d3731518",
   "metadata": {},
   "outputs": [
    {
     "data": {
      "application/vnd.jupyter.widget-view+json": {
       "model_id": "258482167c78430ba8cd81333327cc13",
       "version_major": 2,
       "version_minor": 0
      },
      "text/plain": [
       "Map:   0%|          | 0/14552 [00:00<?, ? examples/s]"
      ]
     },
     "metadata": {},
     "output_type": "display_data"
    }
   ],
   "source": [
    "model_answer_tokens = tokenized_test_dataset.map(extract_answer_tokens)"
   ]
  },
  {
   "cell_type": "code",
   "execution_count": 118,
   "id": "cd01a3b0",
   "metadata": {},
   "outputs": [
    {
     "data": {
      "application/vnd.jupyter.widget-view+json": {
       "model_id": "cb3feb9b9cca4b64ae6e036e1ca50074",
       "version_major": 2,
       "version_minor": 0
      },
      "text/plain": [
       "Map:   0%|          | 0/14552 [00:00<?, ? examples/s]"
      ]
     },
     "metadata": {},
     "output_type": "display_data"
    }
   ],
   "source": [
    "model_answer_tokens = tokenized_test_dataset.map(lambda row: {\"answer_tokens\": extract_answer_tokens(row)})"
   ]
  },
  {
   "cell_type": "code",
   "execution_count": 121,
   "id": "3c5750ca",
   "metadata": {},
   "outputs": [
    {
     "data": {
      "text/plain": [
       "24"
      ]
     },
     "execution_count": 121,
     "metadata": {},
     "output_type": "execute_result"
    }
   ],
   "source": [
    "tokenized_test_dataset[0]['start_positions']"
   ]
  },
  {
   "cell_type": "code",
   "execution_count": 126,
   "id": "277db3e5",
   "metadata": {},
   "outputs": [
    {
     "data": {
      "text/plain": [
       "[11929, 4265, 2053, 16311]"
      ]
     },
     "execution_count": 126,
     "metadata": {},
     "output_type": "execute_result"
    }
   ],
   "source": [
    "tokenized_test_dataset[0]['input_ids'][24:28]"
   ]
  },
  {
   "cell_type": "code",
   "execution_count": null,
   "id": "04d213cc",
   "metadata": {},
   "outputs": [],
   "source": [
    "extract_answer_tokens(tokenized_test_dataset[0])"
   ]
  },
  {
   "cell_type": "code",
   "execution_count": 135,
   "id": "6995de12",
   "metadata": {},
   "outputs": [
    {
     "data": {
      "text/plain": [
       "int"
      ]
     },
     "execution_count": 135,
     "metadata": {},
     "output_type": "execute_result"
    }
   ],
   "source": [
    "type(model_answer_tokens[0]['answer_tokens'][0])"
   ]
  },
  {
   "cell_type": "code",
   "execution_count": 132,
   "id": "564bdbdc",
   "metadata": {},
   "outputs": [],
   "source": [
    "def decode_answer_tokens(tokenized_dataset_row):\n",
    "    tokens = tokenized_dataset_row['answer_tokens']\n",
    "    answer = tokenizer.decode(tokens)\n",
    "    return answer"
   ]
  },
  {
   "cell_type": "code",
   "execution_count": 138,
   "id": "4ddca8ef",
   "metadata": {},
   "outputs": [
    {
     "data": {
      "text/plain": [
       "Dataset({\n",
       "    features: ['input_ids', 'token_type_ids', 'attention_mask', 'start_positions', 'end_positions'],\n",
       "    num_rows: 14552\n",
       "})"
      ]
     },
     "execution_count": 138,
     "metadata": {},
     "output_type": "execute_result"
    }
   ],
   "source": [
    "tokenized_test_dataset"
   ]
  },
  {
   "cell_type": "code",
   "execution_count": 144,
   "id": "82f984b2",
   "metadata": {},
   "outputs": [
    {
     "data": {
      "application/vnd.jupyter.widget-view+json": {
       "model_id": "dd32238c2cd242efa29c3279d713da0a",
       "version_major": 2,
       "version_minor": 0
      },
      "text/plain": [
       "Map:   0%|          | 0/14552 [00:00<?, ? examples/s]"
      ]
     },
     "metadata": {},
     "output_type": "display_data"
    }
   ],
   "source": [
    "answers = model_answer_tokens.map(lambda row: {\"answer\": decode_answer_tokens(row)}, remove_columns=model_answer_tokens.column_names)\n",
    "#     decode_answer_tokens,\n",
    "#     batched=True,\n",
    "#     remove_columns=model_answer_tokens.column_names,\n",
    "# )"
   ]
  },
  {
   "cell_type": "code",
   "execution_count": 147,
   "id": "35c17207",
   "metadata": {},
   "outputs": [
    {
     "data": {
      "text/plain": [
       "Dataset({\n",
       "    features: ['answer'],\n",
       "    num_rows: 14552\n",
       "})"
      ]
     },
     "execution_count": 147,
     "metadata": {},
     "output_type": "execute_result"
    }
   ],
   "source": [
    "answers"
   ]
  },
  {
   "cell_type": "code",
   "execution_count": 149,
   "id": "747b2961",
   "metadata": {},
   "outputs": [
    {
     "data": {
      "text/plain": [
       "Dataset({\n",
       "    features: ['index', 'id', 'context', 'question', 'answer_text', 'answer_start'],\n",
       "    num_rows: 14552\n",
       "})"
      ]
     },
     "execution_count": 149,
     "metadata": {},
     "output_type": "execute_result"
    }
   ],
   "source": [
    "filtered_test_dataset"
   ]
  },
  {
   "cell_type": "code",
   "execution_count": 154,
   "id": "ad847364",
   "metadata": {},
   "outputs": [
    {
     "data": {
      "text/plain": [
       "({'index': [0],\n",
       "  'id': ['5733a8ffd058e614000b5f9f'],\n",
       "  'context': [\"Despite the calamity and huge death toll, Lisbon suffered no epidemics and within less than one year was already being rebuilt. The new city centre of Lisbon was designed to resist subsequent earthquakes. Architectural models were built for tests, and the effects of an earthquake were simulated by marching troops around the models. The buildings and big squares of the Pombaline City Centre still remain as one of Lisbon's tourist attractions. Sebastião de Melo also made an important contribution to the study of seismology by designing an inquiry that was sent to every parish in the country.\"],\n",
       "  'question': ['Did Lisbon suffer any epidemics from the calamity?'],\n",
       "  'answer_text': ['Lisbon suffered no epidemics'],\n",
       "  'answer_start': [42]},\n",
       " {'answer': ['lisbon suffered no epidemic']})"
      ]
     },
     "execution_count": 154,
     "metadata": {},
     "output_type": "execute_result"
    }
   ],
   "source": [
    "a = filtered_test_dataset[0:1]\n",
    "b = answers[0:1]\n",
    "a,b"
   ]
  },
  {
   "cell_type": "code",
   "execution_count": 151,
   "id": "2342de45",
   "metadata": {},
   "outputs": [
    {
     "data": {
      "text/plain": [
       "{'exact_match': 0.0005497526113249038}"
      ]
     },
     "execution_count": 151,
     "metadata": {},
     "output_type": "execute_result"
    }
   ],
   "source": [
    "results = exact_match_metric.compute(predictions=filtered_test_dataset['answer_text'], references=answers['answer'])\n",
    "results"
   ]
  },
  {
   "cell_type": "code",
   "execution_count": 155,
   "id": "70d37bc0",
   "metadata": {},
   "outputs": [
    {
     "data": {
      "text/plain": [
       "{'exact_match': 0.0}"
      ]
     },
     "execution_count": 155,
     "metadata": {},
     "output_type": "execute_result"
    }
   ],
   "source": [
    "results = exact_match_metric.compute(predictions=a['answer_text'], references=b['answer'])\n",
    "results"
   ]
  },
  {
   "cell_type": "code",
   "execution_count": 156,
   "id": "012c4077",
   "metadata": {},
   "outputs": [],
   "source": [
    "squad = load(\"squad\")"
   ]
  },
  {
   "cell_type": "code",
   "execution_count": 157,
   "id": "64197595",
   "metadata": {},
   "outputs": [
    {
     "ename": "ValueError",
     "evalue": "Predictions and/or references don't match the expected format.\nExpected format: {'predictions': {'id': Value(dtype='string', id=None), 'prediction_text': Value(dtype='string', id=None)}, 'references': {'id': Value(dtype='string', id=None), 'answers': Sequence(feature={'text': Value(dtype='string', id=None), 'answer_start': Value(dtype='int32', id=None)}, length=-1, id=None)}},\nInput predictions: ['Lisbon suffered no epidemics'],\nInput references: ['lisbon suffered no epidemic']",
     "output_type": "error",
     "traceback": [
      "\u001b[1;31m---------------------------------------------------------------------------\u001b[0m",
      "\u001b[1;31mValueError\u001b[0m                                Traceback (most recent call last)",
      "\u001b[1;32me:\\STUDIA\\IPS\\question-answering\\extractive-qa\\notebooks\\squad_bert_uncased.ipynb Cell 73\u001b[0m line \u001b[0;36m1\n\u001b[1;32m----> <a href='vscode-notebook-cell:/e%3A/STUDIA/IPS/question-answering/extractive-qa/notebooks/squad_bert_uncased.ipynb#Y152sZmlsZQ%3D%3D?line=0'>1</a>\u001b[0m results \u001b[39m=\u001b[39m squad\u001b[39m.\u001b[39;49mcompute(predictions\u001b[39m=\u001b[39;49ma[\u001b[39m'\u001b[39;49m\u001b[39manswer_text\u001b[39;49m\u001b[39m'\u001b[39;49m], references\u001b[39m=\u001b[39;49mb[\u001b[39m'\u001b[39;49m\u001b[39manswer\u001b[39;49m\u001b[39m'\u001b[39;49m])\n",
      "File \u001b[1;32mc:\\Users\\Artur\\.conda\\envs\\question_answering\\lib\\site-packages\\evaluate\\module.py:450\u001b[0m, in \u001b[0;36mEvaluationModule.compute\u001b[1;34m(self, predictions, references, **kwargs)\u001b[0m\n\u001b[0;32m    447\u001b[0m compute_kwargs \u001b[39m=\u001b[39m {k: kwargs[k] \u001b[39mfor\u001b[39;00m k \u001b[39min\u001b[39;00m kwargs \u001b[39mif\u001b[39;00m k \u001b[39mnot\u001b[39;00m \u001b[39min\u001b[39;00m \u001b[39mself\u001b[39m\u001b[39m.\u001b[39m_feature_names()}\n\u001b[0;32m    449\u001b[0m \u001b[39mif\u001b[39;00m \u001b[39many\u001b[39m(v \u001b[39mis\u001b[39;00m \u001b[39mnot\u001b[39;00m \u001b[39mNone\u001b[39;00m \u001b[39mfor\u001b[39;00m v \u001b[39min\u001b[39;00m inputs\u001b[39m.\u001b[39mvalues()):\n\u001b[1;32m--> 450\u001b[0m     \u001b[39mself\u001b[39m\u001b[39m.\u001b[39madd_batch(\u001b[39m*\u001b[39m\u001b[39m*\u001b[39minputs)\n\u001b[0;32m    451\u001b[0m \u001b[39mself\u001b[39m\u001b[39m.\u001b[39m_finalize()\n\u001b[0;32m    453\u001b[0m \u001b[39mself\u001b[39m\u001b[39m.\u001b[39mcache_file_name \u001b[39m=\u001b[39m \u001b[39mNone\u001b[39;00m\n",
      "File \u001b[1;32mc:\\Users\\Artur\\.conda\\envs\\question_answering\\lib\\site-packages\\evaluate\\module.py:541\u001b[0m, in \u001b[0;36mEvaluationModule.add_batch\u001b[1;34m(self, predictions, references, **kwargs)\u001b[0m\n\u001b[0;32m    534\u001b[0m \u001b[39melse\u001b[39;00m:\n\u001b[0;32m    535\u001b[0m     error_msg \u001b[39m=\u001b[39m (\n\u001b[0;32m    536\u001b[0m         \u001b[39mf\u001b[39m\u001b[39m\"\u001b[39m\u001b[39mPredictions and/or references don\u001b[39m\u001b[39m'\u001b[39m\u001b[39mt match the expected format.\u001b[39m\u001b[39m\\n\u001b[39;00m\u001b[39m\"\u001b[39m\n\u001b[0;32m    537\u001b[0m         \u001b[39mf\u001b[39m\u001b[39m\"\u001b[39m\u001b[39mExpected format: \u001b[39m\u001b[39m{\u001b[39;00m\u001b[39mself\u001b[39m\u001b[39m.\u001b[39mselected_feature_format\u001b[39m \u001b[39m\u001b[39m}\u001b[39;00m\u001b[39m,\u001b[39m\u001b[39m\\n\u001b[39;00m\u001b[39m\"\u001b[39m\n\u001b[0;32m    538\u001b[0m         \u001b[39mf\u001b[39m\u001b[39m\"\u001b[39m\u001b[39mInput predictions: \u001b[39m\u001b[39m{\u001b[39;00msummarize_if_long_list(predictions)\u001b[39m}\u001b[39;00m\u001b[39m,\u001b[39m\u001b[39m\\n\u001b[39;00m\u001b[39m\"\u001b[39m\n\u001b[0;32m    539\u001b[0m         \u001b[39mf\u001b[39m\u001b[39m\"\u001b[39m\u001b[39mInput references: \u001b[39m\u001b[39m{\u001b[39;00msummarize_if_long_list(references)\u001b[39m}\u001b[39;00m\u001b[39m\"\u001b[39m\n\u001b[0;32m    540\u001b[0m     )\n\u001b[1;32m--> 541\u001b[0m \u001b[39mraise\u001b[39;00m \u001b[39mValueError\u001b[39;00m(error_msg) \u001b[39mfrom\u001b[39;00m \u001b[39mNone\u001b[39;00m\n",
      "\u001b[1;31mValueError\u001b[0m: Predictions and/or references don't match the expected format.\nExpected format: {'predictions': {'id': Value(dtype='string', id=None), 'prediction_text': Value(dtype='string', id=None)}, 'references': {'id': Value(dtype='string', id=None), 'answers': Sequence(feature={'text': Value(dtype='string', id=None), 'answer_start': Value(dtype='int32', id=None)}, length=-1, id=None)}},\nInput predictions: ['Lisbon suffered no epidemics'],\nInput references: ['lisbon suffered no epidemic']"
     ]
    }
   ],
   "source": [
    "results = squad.compute(predictions=a['answer_text'], references=b['answer'])"
   ]
  },
  {
   "cell_type": "markdown",
   "id": "d1920982",
   "metadata": {},
   "source": []
  }
 ],
 "metadata": {
  "kernelspec": {
   "display_name": "question_answering",
   "language": "python",
   "name": "python3"
  },
  "language_info": {
   "codemirror_mode": {
    "name": "ipython",
    "version": 3
   },
   "file_extension": ".py",
   "mimetype": "text/x-python",
   "name": "python",
   "nbconvert_exporter": "python",
   "pygments_lexer": "ipython3",
   "version": "3.10.13"
  }
 },
 "nbformat": 4,
 "nbformat_minor": 5
}
