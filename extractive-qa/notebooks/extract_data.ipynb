{
 "cells": [
  {
   "cell_type": "code",
   "execution_count": 1,
   "metadata": {
    "collapsed": true,
    "ExecuteTime": {
     "end_time": "2023-10-28T09:27:47.037088700Z",
     "start_time": "2023-10-28T09:27:45.663272200Z"
    }
   },
   "outputs": [],
   "source": [
    "import datasets\n",
    "import pandas as pd\n",
    "import os\n",
    "from question_answering.paths import extractive_qa_paths\n",
    "\n",
    "datasets.logging.set_verbosity_error()\n",
    "datasets.logging.disable_progress_bar()"
   ]
  },
  {
   "cell_type": "code",
   "execution_count": 2,
   "metadata": {
    "collapsed": false,
    "ExecuteTime": {
     "end_time": "2023-10-28T09:27:47.067708800Z",
     "start_time": "2023-10-28T09:27:47.049073600Z"
    }
   },
   "outputs": [],
   "source": [
    "def save_medical_dataset_as_csv(dataset, set_type):\n",
    "    dataset = dataset.remove_columns(['document_id', 'is_impossible'])\n",
    "    \n",
    "    dataset_df = dataset.to_pandas()\n",
    "    dataset_df = dataset_df.dropna()\n",
    "\n",
    "    path = extractive_qa_paths.medical_dataset_dir\n",
    "    dir_exists = os.path.exists(path)\n",
    "    if not dir_exists:\n",
    "        os.makedirs(path)\n",
    "    dataset_df.to_csv(path / f\"{set_type}.csv\", index=True, index_label='index')\n",
    "\n",
    "\n",
    "def load_medical_dataset_and_save_as_csv():\n",
    "    medical_dataset = datasets.load_dataset('covid_qa_deepset')['train']\n",
    "    medical_dataset = medical_dataset.shuffle(seed=42)\n",
    "    train_valtest_dataset = medical_dataset.train_test_split(test_size =0.3, shuffle=False)\n",
    "    val_test_dataset = train_valtest_dataset['test'].train_test_split(test_size=0.5, shuffle=False)\n",
    "\n",
    "    train_dataset = train_valtest_dataset['train']\n",
    "    val_dataset = val_test_dataset['train']\n",
    "    test_dataset = val_test_dataset['test']\n",
    "\n",
    "    save_medical_dataset_as_csv(train_dataset, set_type='train')\n",
    "    save_medical_dataset_as_csv(val_dataset, set_type='val')\n",
    "    save_medical_dataset_as_csv(test_dataset, set_type='test')"
   ]
  },
  {
   "cell_type": "code",
   "execution_count": 3,
   "metadata": {
    "collapsed": false,
    "ExecuteTime": {
     "end_time": "2023-10-28T09:27:47.094543Z",
     "start_time": "2023-10-28T09:27:47.072709900Z"
    }
   },
   "outputs": [],
   "source": [
    "def preprocess_squad_dataset_sample(sample):\n",
    "    sample['answer_text'] = sample['answers']['text'][0]\n",
    "    sample['answer_start'] = sample['answers']['answer_start'][0]\n",
    "    \n",
    "    return sample\n",
    "\n",
    "\n",
    "def save_squad_dataset_as_csv(dataset, set_type):\n",
    "    dataset = dataset.map(preprocess_squad_dataset_sample)\n",
    "    dataset = dataset.remove_columns(['title', 'answers'])\n",
    "    \n",
    "    dataset_df = dataset.to_pandas()\n",
    "    dataset_df = dataset_df.dropna()\n",
    "\n",
    "    path = extractive_qa_paths.squad_dataset_dir\n",
    "    dir_exists = os.path.exists(path)\n",
    "    if not dir_exists:\n",
    "        os.makedirs(path)\n",
    "    dataset_df.to_csv(path / f\"{set_type}.csv\", index=True, index_label='index')\n",
    "    \n",
    "\n",
    "def load_squad_dataset_and_save_as_csv():\n",
    "    squad_dataset = datasets.load_dataset('squad')\n",
    "    train_temp_pd = squad_dataset['train'].to_pandas()\n",
    "    validation_temp_pd = squad_dataset['validation'].to_pandas()\n",
    "    combined_temp_pd = pd.concat((train_temp_pd, validation_temp_pd))\n",
    "    squad_dataset = datasets.Dataset.from_pandas(combined_temp_pd, preserve_index=False)\n",
    "    squad_dataset = squad_dataset.shuffle(seed=42)\n",
    "    train_valtest_dataset = squad_dataset.train_test_split(test_size =0.3, shuffle=False)\n",
    "    val_test_dataset = train_valtest_dataset['test'].train_test_split(test_size=0.5, shuffle=False)\n",
    "\n",
    "    train_dataset = train_valtest_dataset['train']\n",
    "    val_dataset = val_test_dataset['train']\n",
    "    test_dataset = val_test_dataset['test']\n",
    "\n",
    "    save_squad_dataset_as_csv(train_dataset, set_type='train')\n",
    "    save_squad_dataset_as_csv(val_dataset, set_type='val')\n",
    "    save_squad_dataset_as_csv(test_dataset, set_type='test')"
   ]
  },
  {
   "cell_type": "code",
   "execution_count": 4,
   "metadata": {
    "collapsed": false,
    "ExecuteTime": {
     "end_time": "2023-10-28T09:27:56.233449400Z",
     "start_time": "2023-10-28T09:27:51.459049900Z"
    }
   },
   "outputs": [],
   "source": [
    "load_medical_dataset_and_save_as_csv()"
   ]
  },
  {
   "cell_type": "code",
   "execution_count": 5,
   "metadata": {
    "collapsed": false,
    "ExecuteTime": {
     "end_time": "2023-10-28T09:28:33.587710900Z",
     "start_time": "2023-10-28T09:27:56.239450200Z"
    }
   },
   "outputs": [],
   "source": [
    "load_squad_dataset_and_save_as_csv()"
   ]
  },
  {
   "cell_type": "code",
   "execution_count": null,
   "metadata": {
    "collapsed": false
   },
   "outputs": [],
   "source": []
  }
 ],
 "metadata": {
  "kernelspec": {
   "display_name": "Python 3",
   "language": "python",
   "name": "python3"
  },
  "language_info": {
   "codemirror_mode": {
    "name": "ipython",
    "version": 3
   },
   "file_extension": ".py",
   "mimetype": "text/x-python",
   "name": "python",
   "nbconvert_exporter": "python",
   "pygments_lexer": "ipython3",
   "version": "3.9.18"
  }
 },
 "nbformat": 4,
 "nbformat_minor": 0
}
