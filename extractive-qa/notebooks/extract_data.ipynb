{
 "cells": [
  {
   "cell_type": "code",
   "execution_count": 1,
   "metadata": {
    "collapsed": true,
    "ExecuteTime": {
     "end_time": "2023-11-15T11:48:52.256875500Z",
     "start_time": "2023-11-15T11:48:50.831576500Z"
    }
   },
   "outputs": [],
   "source": [
    "import datasets\n",
    "import pandas as pd\n",
    "import os\n",
    "from question_answering.paths import extractive_qa_paths\n",
    "\n",
    "datasets.logging.set_verbosity_error()\n",
    "datasets.logging.disable_progress_bar()"
   ]
  },
  {
   "cell_type": "code",
   "execution_count": 2,
   "metadata": {
    "collapsed": false,
    "ExecuteTime": {
     "end_time": "2023-11-15T11:48:52.317876Z",
     "start_time": "2023-11-15T11:48:52.282928500Z"
    }
   },
   "outputs": [],
   "source": [
    "def preprocess_medical_dataset_sample(sample):\n",
    "    sample[\"answer_text\"] = sample[\"answers\"][\"text\"][0]\n",
    "    sample[\"answer_start\"] = sample[\"answers\"][\"answer_start\"][0]\n",
    "\n",
    "    return sample\n",
    "\n",
    "\n",
    "def save_medical_dataset_as_csv(dataset, set_type):\n",
    "    dataset = dataset.map(preprocess_medical_dataset_sample)\n",
    "    dataset = dataset.remove_columns([\"document_id\", \"answers\"])\n",
    "\n",
    "    dataset_df = dataset.to_pandas()\n",
    "    dataset_df = dataset_df.dropna()\n",
    "\n",
    "    path = extractive_qa_paths.medical_dataset_dir\n",
    "    dir_exists = os.path.exists(path)\n",
    "    if not dir_exists:\n",
    "        os.makedirs(path)\n",
    "    dataset_df.to_csv(path / f\"{set_type}.csv\", index=True, index_label=\"index\")\n",
    "\n",
    "\n",
    "def load_medical_dataset_and_save_as_csv():\n",
    "    medical_dataset = datasets.load_dataset(\"covid_qa_deepset\")[\"train\"]\n",
    "    medical_dataset = medical_dataset.shuffle(seed=42)\n",
    "    train_valtest_dataset = medical_dataset.train_test_split(\n",
    "        test_size=0.3, shuffle=False\n",
    "    )\n",
    "    val_test_dataset = train_valtest_dataset[\"test\"].train_test_split(\n",
    "        test_size=0.5, shuffle=False\n",
    "    )\n",
    "\n",
    "    train_dataset = train_valtest_dataset[\"train\"]\n",
    "    val_dataset = val_test_dataset[\"train\"]\n",
    "    test_dataset = val_test_dataset[\"test\"]\n",
    "\n",
    "    save_medical_dataset_as_csv(train_dataset, set_type=\"train\")\n",
    "    save_medical_dataset_as_csv(val_dataset, set_type=\"val\")\n",
    "    save_medical_dataset_as_csv(test_dataset, set_type=\"test\")"
   ]
  },
  {
   "cell_type": "code",
   "execution_count": 3,
   "metadata": {
    "collapsed": false,
    "ExecuteTime": {
     "end_time": "2023-11-15T11:48:52.318877600Z",
     "start_time": "2023-11-15T11:48:52.309871Z"
    }
   },
   "outputs": [],
   "source": [
    "def preprocess_squad_dataset_sample(sample):\n",
    "    sample[\"answer_text\"] = sample[\"answers\"][\"text\"][0]\n",
    "    sample[\"answer_start\"] = sample[\"answers\"][\"answer_start\"][0]\n",
    "\n",
    "    return sample\n",
    "\n",
    "\n",
    "def save_squad_dataset_as_csv(dataset, set_type):\n",
    "    dataset = dataset.map(preprocess_squad_dataset_sample)\n",
    "    dataset = dataset.remove_columns([\"title\", \"answers\"])\n",
    "\n",
    "    dataset_df = dataset.to_pandas()\n",
    "    dataset_df = dataset_df.dropna()\n",
    "\n",
    "    path = extractive_qa_paths.squad_dataset_dir\n",
    "    dir_exists = os.path.exists(path)\n",
    "    if not dir_exists:\n",
    "        os.makedirs(path)\n",
    "    dataset_df.to_csv(path / f\"{set_type}.csv\", index=True, index_label=\"index\")\n",
    "\n",
    "\n",
    "def load_squad_dataset_and_save_as_csv():\n",
    "    squad_dataset = datasets.load_dataset(\"squad\")\n",
    "    train_temp_pd = squad_dataset[\"train\"].to_pandas()\n",
    "    validation_temp_pd = squad_dataset[\"validation\"].to_pandas()\n",
    "    combined_temp_pd = pd.concat((train_temp_pd, validation_temp_pd))\n",
    "    squad_dataset = datasets.Dataset.from_pandas(combined_temp_pd, preserve_index=False)\n",
    "    squad_dataset = squad_dataset.shuffle(seed=42)\n",
    "    train_valtest_dataset = squad_dataset.train_test_split(test_size=0.3, shuffle=False)\n",
    "    val_test_dataset = train_valtest_dataset[\"test\"].train_test_split(\n",
    "        test_size=0.5, shuffle=False\n",
    "    )\n",
    "\n",
    "    train_dataset = train_valtest_dataset[\"train\"]\n",
    "    val_dataset = val_test_dataset[\"train\"]\n",
    "    test_dataset = val_test_dataset[\"test\"]\n",
    "\n",
    "    save_squad_dataset_as_csv(train_dataset, set_type=\"train\")\n",
    "    save_squad_dataset_as_csv(val_dataset, set_type=\"val\")\n",
    "    save_squad_dataset_as_csv(test_dataset, set_type=\"test\")"
   ]
  },
  {
   "cell_type": "code",
   "execution_count": 4,
   "metadata": {
    "collapsed": false,
    "ExecuteTime": {
     "end_time": "2023-11-15T11:48:58.371359Z",
     "start_time": "2023-11-15T11:48:52.314871200Z"
    }
   },
   "outputs": [],
   "source": [
    "load_medical_dataset_and_save_as_csv()"
   ]
  },
  {
   "cell_type": "code",
   "execution_count": 5,
   "metadata": {
    "collapsed": false,
    "ExecuteTime": {
     "end_time": "2023-11-15T11:49:00.289248Z",
     "start_time": "2023-11-15T11:48:59.244650200Z"
    }
   },
   "outputs": [
    {
     "ename": "FileNotFoundError",
     "evalue": "No (supported) data files or dataset script found in squad. ",
     "output_type": "error",
     "traceback": [
      "\u001b[1;31m---------------------------------------------------------------------------\u001b[0m",
      "\u001b[1;31mFileNotFoundError\u001b[0m                         Traceback (most recent call last)",
      "Cell \u001b[1;32mIn[5], line 1\u001b[0m\n\u001b[1;32m----> 1\u001b[0m \u001b[43mload_squad_dataset_and_save_as_csv\u001b[49m\u001b[43m(\u001b[49m\u001b[43m)\u001b[49m\n",
      "Cell \u001b[1;32mIn[3], line 23\u001b[0m, in \u001b[0;36mload_squad_dataset_and_save_as_csv\u001b[1;34m()\u001b[0m\n\u001b[0;32m     22\u001b[0m \u001b[38;5;28;01mdef\u001b[39;00m \u001b[38;5;21mload_squad_dataset_and_save_as_csv\u001b[39m():\n\u001b[1;32m---> 23\u001b[0m     squad_dataset \u001b[38;5;241m=\u001b[39m \u001b[43mdatasets\u001b[49m\u001b[38;5;241;43m.\u001b[39;49m\u001b[43mload_dataset\u001b[49m\u001b[43m(\u001b[49m\u001b[38;5;124;43m\"\u001b[39;49m\u001b[38;5;124;43msquad\u001b[39;49m\u001b[38;5;124;43m\"\u001b[39;49m\u001b[43m)\u001b[49m\n\u001b[0;32m     24\u001b[0m     train_temp_pd \u001b[38;5;241m=\u001b[39m squad_dataset[\u001b[38;5;124m\"\u001b[39m\u001b[38;5;124mtrain\u001b[39m\u001b[38;5;124m\"\u001b[39m]\u001b[38;5;241m.\u001b[39mto_pandas()\n\u001b[0;32m     25\u001b[0m     validation_temp_pd \u001b[38;5;241m=\u001b[39m squad_dataset[\u001b[38;5;124m\"\u001b[39m\u001b[38;5;124mvalidation\u001b[39m\u001b[38;5;124m\"\u001b[39m]\u001b[38;5;241m.\u001b[39mto_pandas()\n",
      "File \u001b[1;32m~\\miniconda3\\envs\\question_answering\\lib\\site-packages\\datasets\\load.py:2129\u001b[0m, in \u001b[0;36mload_dataset\u001b[1;34m(path, name, data_dir, data_files, split, cache_dir, features, download_config, download_mode, verification_mode, ignore_verifications, keep_in_memory, save_infos, revision, token, use_auth_token, task, streaming, num_proc, storage_options, **config_kwargs)\u001b[0m\n\u001b[0;32m   2124\u001b[0m verification_mode \u001b[38;5;241m=\u001b[39m VerificationMode(\n\u001b[0;32m   2125\u001b[0m     (verification_mode \u001b[38;5;129;01mor\u001b[39;00m VerificationMode\u001b[38;5;241m.\u001b[39mBASIC_CHECKS) \u001b[38;5;28;01mif\u001b[39;00m \u001b[38;5;129;01mnot\u001b[39;00m save_infos \u001b[38;5;28;01melse\u001b[39;00m VerificationMode\u001b[38;5;241m.\u001b[39mALL_CHECKS\n\u001b[0;32m   2126\u001b[0m )\n\u001b[0;32m   2128\u001b[0m \u001b[38;5;66;03m# Create a dataset builder\u001b[39;00m\n\u001b[1;32m-> 2129\u001b[0m builder_instance \u001b[38;5;241m=\u001b[39m load_dataset_builder(\n\u001b[0;32m   2130\u001b[0m     path\u001b[38;5;241m=\u001b[39mpath,\n\u001b[0;32m   2131\u001b[0m     name\u001b[38;5;241m=\u001b[39mname,\n\u001b[0;32m   2132\u001b[0m     data_dir\u001b[38;5;241m=\u001b[39mdata_dir,\n\u001b[0;32m   2133\u001b[0m     data_files\u001b[38;5;241m=\u001b[39mdata_files,\n\u001b[0;32m   2134\u001b[0m     cache_dir\u001b[38;5;241m=\u001b[39mcache_dir,\n\u001b[0;32m   2135\u001b[0m     features\u001b[38;5;241m=\u001b[39mfeatures,\n\u001b[0;32m   2136\u001b[0m     download_config\u001b[38;5;241m=\u001b[39mdownload_config,\n\u001b[0;32m   2137\u001b[0m     download_mode\u001b[38;5;241m=\u001b[39mdownload_mode,\n\u001b[0;32m   2138\u001b[0m     revision\u001b[38;5;241m=\u001b[39mrevision,\n\u001b[0;32m   2139\u001b[0m     token\u001b[38;5;241m=\u001b[39mtoken,\n\u001b[0;32m   2140\u001b[0m     storage_options\u001b[38;5;241m=\u001b[39mstorage_options,\n\u001b[0;32m   2141\u001b[0m     \u001b[38;5;241m*\u001b[39m\u001b[38;5;241m*\u001b[39mconfig_kwargs,\n\u001b[0;32m   2142\u001b[0m )\n\u001b[0;32m   2144\u001b[0m \u001b[38;5;66;03m# Return iterable dataset in case of streaming\u001b[39;00m\n\u001b[0;32m   2145\u001b[0m \u001b[38;5;28;01mif\u001b[39;00m streaming:\n",
      "File \u001b[1;32m~\\miniconda3\\envs\\question_answering\\lib\\site-packages\\datasets\\load.py:1815\u001b[0m, in \u001b[0;36mload_dataset_builder\u001b[1;34m(path, name, data_dir, data_files, cache_dir, features, download_config, download_mode, revision, token, use_auth_token, storage_options, **config_kwargs)\u001b[0m\n\u001b[0;32m   1813\u001b[0m     download_config \u001b[38;5;241m=\u001b[39m download_config\u001b[38;5;241m.\u001b[39mcopy() \u001b[38;5;28;01mif\u001b[39;00m download_config \u001b[38;5;28;01melse\u001b[39;00m DownloadConfig()\n\u001b[0;32m   1814\u001b[0m     download_config\u001b[38;5;241m.\u001b[39mstorage_options\u001b[38;5;241m.\u001b[39mupdate(storage_options)\n\u001b[1;32m-> 1815\u001b[0m dataset_module \u001b[38;5;241m=\u001b[39m \u001b[43mdataset_module_factory\u001b[49m\u001b[43m(\u001b[49m\n\u001b[0;32m   1816\u001b[0m \u001b[43m    \u001b[49m\u001b[43mpath\u001b[49m\u001b[43m,\u001b[49m\n\u001b[0;32m   1817\u001b[0m \u001b[43m    \u001b[49m\u001b[43mrevision\u001b[49m\u001b[38;5;241;43m=\u001b[39;49m\u001b[43mrevision\u001b[49m\u001b[43m,\u001b[49m\n\u001b[0;32m   1818\u001b[0m \u001b[43m    \u001b[49m\u001b[43mdownload_config\u001b[49m\u001b[38;5;241;43m=\u001b[39;49m\u001b[43mdownload_config\u001b[49m\u001b[43m,\u001b[49m\n\u001b[0;32m   1819\u001b[0m \u001b[43m    \u001b[49m\u001b[43mdownload_mode\u001b[49m\u001b[38;5;241;43m=\u001b[39;49m\u001b[43mdownload_mode\u001b[49m\u001b[43m,\u001b[49m\n\u001b[0;32m   1820\u001b[0m \u001b[43m    \u001b[49m\u001b[43mdata_dir\u001b[49m\u001b[38;5;241;43m=\u001b[39;49m\u001b[43mdata_dir\u001b[49m\u001b[43m,\u001b[49m\n\u001b[0;32m   1821\u001b[0m \u001b[43m    \u001b[49m\u001b[43mdata_files\u001b[49m\u001b[38;5;241;43m=\u001b[39;49m\u001b[43mdata_files\u001b[49m\u001b[43m,\u001b[49m\n\u001b[0;32m   1822\u001b[0m \u001b[43m\u001b[49m\u001b[43m)\u001b[49m\n\u001b[0;32m   1823\u001b[0m \u001b[38;5;66;03m# Get dataset builder class from the processing script\u001b[39;00m\n\u001b[0;32m   1824\u001b[0m builder_kwargs \u001b[38;5;241m=\u001b[39m dataset_module\u001b[38;5;241m.\u001b[39mbuilder_kwargs\n",
      "File \u001b[1;32m~\\miniconda3\\envs\\question_answering\\lib\\site-packages\\datasets\\load.py:1446\u001b[0m, in \u001b[0;36mdataset_module_factory\u001b[1;34m(path, revision, download_config, download_mode, dynamic_modules_path, data_dir, data_files, **download_kwargs)\u001b[0m\n\u001b[0;32m   1440\u001b[0m     \u001b[38;5;28;01mreturn\u001b[39;00m LocalDatasetModuleFactoryWithScript(\n\u001b[0;32m   1441\u001b[0m         combined_path, download_mode\u001b[38;5;241m=\u001b[39mdownload_mode, dynamic_modules_path\u001b[38;5;241m=\u001b[39mdynamic_modules_path\n\u001b[0;32m   1442\u001b[0m     )\u001b[38;5;241m.\u001b[39mget_module()\n\u001b[0;32m   1443\u001b[0m \u001b[38;5;28;01melif\u001b[39;00m os\u001b[38;5;241m.\u001b[39mpath\u001b[38;5;241m.\u001b[39misdir(path):\n\u001b[0;32m   1444\u001b[0m     \u001b[38;5;28;01mreturn\u001b[39;00m \u001b[43mLocalDatasetModuleFactoryWithoutScript\u001b[49m\u001b[43m(\u001b[49m\n\u001b[0;32m   1445\u001b[0m \u001b[43m        \u001b[49m\u001b[43mpath\u001b[49m\u001b[43m,\u001b[49m\u001b[43m \u001b[49m\u001b[43mdata_dir\u001b[49m\u001b[38;5;241;43m=\u001b[39;49m\u001b[43mdata_dir\u001b[49m\u001b[43m,\u001b[49m\u001b[43m \u001b[49m\u001b[43mdata_files\u001b[49m\u001b[38;5;241;43m=\u001b[39;49m\u001b[43mdata_files\u001b[49m\u001b[43m,\u001b[49m\u001b[43m \u001b[49m\u001b[43mdownload_mode\u001b[49m\u001b[38;5;241;43m=\u001b[39;49m\u001b[43mdownload_mode\u001b[49m\n\u001b[1;32m-> 1446\u001b[0m \u001b[43m    \u001b[49m\u001b[43m)\u001b[49m\u001b[38;5;241;43m.\u001b[39;49m\u001b[43mget_module\u001b[49m\u001b[43m(\u001b[49m\u001b[43m)\u001b[49m\n\u001b[0;32m   1447\u001b[0m \u001b[38;5;66;03m# Try remotely\u001b[39;00m\n\u001b[0;32m   1448\u001b[0m \u001b[38;5;28;01melif\u001b[39;00m is_relative_path(path) \u001b[38;5;129;01mand\u001b[39;00m path\u001b[38;5;241m.\u001b[39mcount(\u001b[38;5;124m\"\u001b[39m\u001b[38;5;124m/\u001b[39m\u001b[38;5;124m\"\u001b[39m) \u001b[38;5;241m<\u001b[39m\u001b[38;5;241m=\u001b[39m \u001b[38;5;241m1\u001b[39m:\n",
      "File \u001b[1;32m~\\miniconda3\\envs\\question_answering\\lib\\site-packages\\datasets\\load.py:865\u001b[0m, in \u001b[0;36mLocalDatasetModuleFactoryWithoutScript.get_module\u001b[1;34m(self)\u001b[0m\n\u001b[0;32m    859\u001b[0m     patterns \u001b[38;5;241m=\u001b[39m get_data_patterns(base_path)\n\u001b[0;32m    860\u001b[0m data_files \u001b[38;5;241m=\u001b[39m DataFilesDict\u001b[38;5;241m.\u001b[39mfrom_patterns(\n\u001b[0;32m    861\u001b[0m     patterns,\n\u001b[0;32m    862\u001b[0m     base_path\u001b[38;5;241m=\u001b[39mbase_path,\n\u001b[0;32m    863\u001b[0m     allowed_extensions\u001b[38;5;241m=\u001b[39mALL_ALLOWED_EXTENSIONS,\n\u001b[0;32m    864\u001b[0m )\n\u001b[1;32m--> 865\u001b[0m module_name, default_builder_kwargs \u001b[38;5;241m=\u001b[39m \u001b[43minfer_module_for_data_files\u001b[49m\u001b[43m(\u001b[49m\n\u001b[0;32m    866\u001b[0m \u001b[43m    \u001b[49m\u001b[43mdata_files\u001b[49m\u001b[38;5;241;43m=\u001b[39;49m\u001b[43mdata_files\u001b[49m\u001b[43m,\u001b[49m\n\u001b[0;32m    867\u001b[0m \u001b[43m    \u001b[49m\u001b[43mpath\u001b[49m\u001b[38;5;241;43m=\u001b[39;49m\u001b[38;5;28;43mself\u001b[39;49m\u001b[38;5;241;43m.\u001b[39;49m\u001b[43mpath\u001b[49m\u001b[43m,\u001b[49m\n\u001b[0;32m    868\u001b[0m \u001b[43m\u001b[49m\u001b[43m)\u001b[49m\n\u001b[0;32m    869\u001b[0m data_files \u001b[38;5;241m=\u001b[39m data_files\u001b[38;5;241m.\u001b[39mfilter_extensions(_MODULE_TO_EXTENSIONS[module_name])\n\u001b[0;32m    870\u001b[0m \u001b[38;5;66;03m# Collect metadata files if the module supports them\u001b[39;00m\n",
      "File \u001b[1;32m~\\miniconda3\\envs\\question_answering\\lib\\site-packages\\datasets\\load.py:516\u001b[0m, in \u001b[0;36minfer_module_for_data_files\u001b[1;34m(data_files, path, download_config)\u001b[0m\n\u001b[0;32m    514\u001b[0m \u001b[38;5;28;01mif\u001b[39;00m \u001b[38;5;129;01mnot\u001b[39;00m module_name:\n\u001b[0;32m    515\u001b[0m     path \u001b[38;5;241m=\u001b[39m \u001b[38;5;124mf\u001b[39m\u001b[38;5;124m\"\u001b[39m\u001b[38;5;124m in \u001b[39m\u001b[38;5;132;01m{\u001b[39;00mpath\u001b[38;5;132;01m}\u001b[39;00m\u001b[38;5;124m. \u001b[39m\u001b[38;5;124m\"\u001b[39m \u001b[38;5;28;01mif\u001b[39;00m path \u001b[38;5;28;01melse\u001b[39;00m \u001b[38;5;124m\"\u001b[39m\u001b[38;5;124m. \u001b[39m\u001b[38;5;124m\"\u001b[39m\n\u001b[1;32m--> 516\u001b[0m     \u001b[38;5;28;01mraise\u001b[39;00m \u001b[38;5;167;01mFileNotFoundError\u001b[39;00m(\u001b[38;5;124mf\u001b[39m\u001b[38;5;124m\"\u001b[39m\u001b[38;5;124mNo (supported) data files or dataset script found\u001b[39m\u001b[38;5;132;01m{\u001b[39;00mpath\u001b[38;5;132;01m}\u001b[39;00m\u001b[38;5;124m\"\u001b[39m)\n\u001b[0;32m    517\u001b[0m \u001b[38;5;28;01mreturn\u001b[39;00m module_name, default_builder_kwargs\n",
      "\u001b[1;31mFileNotFoundError\u001b[0m: No (supported) data files or dataset script found in squad. "
     ]
    }
   ],
   "source": [
    "load_squad_dataset_and_save_as_csv()"
   ]
  },
  {
   "cell_type": "code",
   "execution_count": null,
   "metadata": {
    "collapsed": false
   },
   "outputs": [],
   "source": []
  }
 ],
 "metadata": {
  "kernelspec": {
   "display_name": "Python 3",
   "language": "python",
   "name": "python3"
  },
  "language_info": {
   "codemirror_mode": {
    "name": "ipython",
    "version": 3
   },
   "file_extension": ".py",
   "mimetype": "text/x-python",
   "name": "python",
   "nbconvert_exporter": "python",
   "pygments_lexer": "ipython3",
   "version": "3.9.18"
  }
 },
 "nbformat": 4,
 "nbformat_minor": 0
}
