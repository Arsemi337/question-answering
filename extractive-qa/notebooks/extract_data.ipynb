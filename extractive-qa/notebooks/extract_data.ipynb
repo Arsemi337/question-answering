{
 "cells": [
  {
   "cell_type": "code",
   "execution_count": 3,
   "metadata": {
    "collapsed": true,
    "ExecuteTime": {
     "end_time": "2023-11-14T19:52:19.343590200Z",
     "start_time": "2023-11-14T19:52:19.311533900Z"
    }
   },
   "outputs": [],
   "source": [
    "import datasets\n",
    "import pandas as pd\n",
    "import os\n",
    "from question_answering.paths import extractive_qa_paths\n",
    "\n",
    "datasets.logging.set_verbosity_error()\n",
    "datasets.logging.disable_progress_bar()"
   ]
  },
  {
   "cell_type": "code",
   "execution_count": 4,
   "metadata": {
    "collapsed": false,
    "ExecuteTime": {
     "end_time": "2023-11-14T19:52:22.733051300Z",
     "start_time": "2023-11-14T19:52:22.714407300Z"
    }
   },
   "outputs": [],
   "source": [
    "def preprocess_medical_dataset_sample(sample):\n",
    "    sample[\"answer_text\"] = sample[\"answers\"][\"text\"][0]\n",
    "    sample[\"answer_start\"] = sample[\"answers\"][\"answer_start\"][0]\n",
    "    \n",
    "    return sample\n",
    "\n",
    "def save_medical_dataset_as_csv(dataset, set_type):\n",
    "    dataset = dataset.map(preprocess_medical_dataset_sample)\n",
    "    dataset = dataset.remove_columns([\"document_id\", \"answers\"])\n",
    "\n",
    "    dataset_df = dataset.to_pandas()\n",
    "    dataset_df = dataset_df.dropna()\n",
    "\n",
    "    path = extractive_qa_paths.medical_dataset_dir\n",
    "    dir_exists = os.path.exists(path)\n",
    "    if not dir_exists:\n",
    "        os.makedirs(path)\n",
    "    dataset_df.to_csv(path / f\"{set_type}.csv\", index=True, index_label=\"index\")\n",
    "\n",
    "\n",
    "def load_medical_dataset_and_save_as_csv():\n",
    "    medical_dataset = datasets.load_dataset(\"covid_qa_deepset\")[\"train\"]\n",
    "    medical_dataset = medical_dataset.shuffle(seed=42)\n",
    "    train_valtest_dataset = medical_dataset.train_test_split(\n",
    "        test_size=0.3, shuffle=False\n",
    "    )\n",
    "    val_test_dataset = train_valtest_dataset[\"test\"].train_test_split(\n",
    "        test_size=0.5, shuffle=False\n",
    "    )\n",
    "\n",
    "    train_dataset = train_valtest_dataset[\"train\"]\n",
    "    val_dataset = val_test_dataset[\"train\"]\n",
    "    test_dataset = val_test_dataset[\"test\"]\n",
    "\n",
    "    save_medical_dataset_as_csv(train_dataset, set_type=\"train\")\n",
    "    save_medical_dataset_as_csv(val_dataset, set_type=\"val\")\n",
    "    save_medical_dataset_as_csv(test_dataset, set_type=\"test\")"
   ]
  },
  {
   "cell_type": "code",
   "execution_count": 5,
   "metadata": {
    "collapsed": false,
    "ExecuteTime": {
     "end_time": "2023-11-14T19:52:24.446984300Z",
     "start_time": "2023-11-14T19:52:24.426727400Z"
    }
   },
   "outputs": [],
   "source": [
    "def preprocess_squad_dataset_sample(sample):\n",
    "    sample[\"answer_text\"] = sample[\"answers\"][\"text\"][0]\n",
    "    sample[\"answer_start\"] = sample[\"answers\"][\"answer_start\"][0]\n",
    "\n",
    "    return sample\n",
    "\n",
    "\n",
    "def save_squad_dataset_as_csv(dataset, set_type):\n",
    "    dataset = dataset.map(preprocess_squad_dataset_sample)\n",
    "    dataset = dataset.remove_columns([\"title\", \"answers\"])\n",
    "\n",
    "    dataset_df = dataset.to_pandas()\n",
    "    dataset_df = dataset_df.dropna()\n",
    "\n",
    "    path = extractive_qa_paths.squad_dataset_dir\n",
    "    dir_exists = os.path.exists(path)\n",
    "    if not dir_exists:\n",
    "        os.makedirs(path)\n",
    "    dataset_df.to_csv(path / f\"{set_type}.csv\", index=True, index_label=\"index\")\n",
    "\n",
    "\n",
    "def load_squad_dataset_and_save_as_csv():\n",
    "    squad_dataset = datasets.load_dataset(\"squad\")\n",
    "    train_temp_pd = squad_dataset[\"train\"].to_pandas()\n",
    "    validation_temp_pd = squad_dataset[\"validation\"].to_pandas()\n",
    "    combined_temp_pd = pd.concat((train_temp_pd, validation_temp_pd))\n",
    "    squad_dataset = datasets.Dataset.from_pandas(combined_temp_pd, preserve_index=False)\n",
    "    squad_dataset = squad_dataset.shuffle(seed=42)\n",
    "    train_valtest_dataset = squad_dataset.train_test_split(test_size=0.3, shuffle=False)\n",
    "    val_test_dataset = train_valtest_dataset[\"test\"].train_test_split(\n",
    "        test_size=0.5, shuffle=False\n",
    "    )\n",
    "\n",
    "    train_dataset = train_valtest_dataset[\"train\"]\n",
    "    val_dataset = val_test_dataset[\"train\"]\n",
    "    test_dataset = val_test_dataset[\"test\"]\n",
    "\n",
    "    save_squad_dataset_as_csv(train_dataset, set_type=\"train\")\n",
    "    save_squad_dataset_as_csv(val_dataset, set_type=\"val\")\n",
    "    save_squad_dataset_as_csv(test_dataset, set_type=\"test\")"
   ]
  },
  {
   "cell_type": "code",
   "execution_count": 6,
   "metadata": {
    "collapsed": false,
    "ExecuteTime": {
     "end_time": "2023-11-14T19:52:31.105007500Z",
     "start_time": "2023-11-14T19:52:25.891708Z"
    }
   },
   "outputs": [],
   "source": [
    "load_medical_dataset_and_save_as_csv()"
   ]
  },
  {
   "cell_type": "code",
   "execution_count": 5,
   "metadata": {
    "collapsed": false,
    "ExecuteTime": {
     "end_time": "2023-11-09T07:32:48.311276600Z",
     "start_time": "2023-11-09T07:32:47.412812700Z"
    }
   },
   "outputs": [
    {
     "ename": "FileNotFoundError",
     "evalue": "No (supported) data files or dataset script found in squad. ",
     "output_type": "error",
     "traceback": [
      "\u001B[1;31m---------------------------------------------------------------------------\u001B[0m",
      "\u001B[1;31mFileNotFoundError\u001B[0m                         Traceback (most recent call last)",
      "Cell \u001B[1;32mIn[5], line 1\u001B[0m\n\u001B[1;32m----> 1\u001B[0m \u001B[43mload_squad_dataset_and_save_as_csv\u001B[49m\u001B[43m(\u001B[49m\u001B[43m)\u001B[49m\n",
      "Cell \u001B[1;32mIn[3], line 23\u001B[0m, in \u001B[0;36mload_squad_dataset_and_save_as_csv\u001B[1;34m()\u001B[0m\n\u001B[0;32m     22\u001B[0m \u001B[38;5;28;01mdef\u001B[39;00m \u001B[38;5;21mload_squad_dataset_and_save_as_csv\u001B[39m():\n\u001B[1;32m---> 23\u001B[0m     squad_dataset \u001B[38;5;241m=\u001B[39m \u001B[43mdatasets\u001B[49m\u001B[38;5;241;43m.\u001B[39;49m\u001B[43mload_dataset\u001B[49m\u001B[43m(\u001B[49m\u001B[38;5;124;43m\"\u001B[39;49m\u001B[38;5;124;43msquad\u001B[39;49m\u001B[38;5;124;43m\"\u001B[39;49m\u001B[43m)\u001B[49m\n\u001B[0;32m     24\u001B[0m     train_temp_pd \u001B[38;5;241m=\u001B[39m squad_dataset[\u001B[38;5;124m\"\u001B[39m\u001B[38;5;124mtrain\u001B[39m\u001B[38;5;124m\"\u001B[39m]\u001B[38;5;241m.\u001B[39mto_pandas()\n\u001B[0;32m     25\u001B[0m     validation_temp_pd \u001B[38;5;241m=\u001B[39m squad_dataset[\u001B[38;5;124m\"\u001B[39m\u001B[38;5;124mvalidation\u001B[39m\u001B[38;5;124m\"\u001B[39m]\u001B[38;5;241m.\u001B[39mto_pandas()\n",
      "File \u001B[1;32mD:\\Programy\\Anaconda\\envs\\question_answering\\lib\\site-packages\\datasets\\load.py:2129\u001B[0m, in \u001B[0;36mload_dataset\u001B[1;34m(path, name, data_dir, data_files, split, cache_dir, features, download_config, download_mode, verification_mode, ignore_verifications, keep_in_memory, save_infos, revision, token, use_auth_token, task, streaming, num_proc, storage_options, **config_kwargs)\u001B[0m\n\u001B[0;32m   2124\u001B[0m verification_mode \u001B[38;5;241m=\u001B[39m VerificationMode(\n\u001B[0;32m   2125\u001B[0m     (verification_mode \u001B[38;5;129;01mor\u001B[39;00m VerificationMode\u001B[38;5;241m.\u001B[39mBASIC_CHECKS) \u001B[38;5;28;01mif\u001B[39;00m \u001B[38;5;129;01mnot\u001B[39;00m save_infos \u001B[38;5;28;01melse\u001B[39;00m VerificationMode\u001B[38;5;241m.\u001B[39mALL_CHECKS\n\u001B[0;32m   2126\u001B[0m )\n\u001B[0;32m   2128\u001B[0m \u001B[38;5;66;03m# Create a dataset builder\u001B[39;00m\n\u001B[1;32m-> 2129\u001B[0m builder_instance \u001B[38;5;241m=\u001B[39m load_dataset_builder(\n\u001B[0;32m   2130\u001B[0m     path\u001B[38;5;241m=\u001B[39mpath,\n\u001B[0;32m   2131\u001B[0m     name\u001B[38;5;241m=\u001B[39mname,\n\u001B[0;32m   2132\u001B[0m     data_dir\u001B[38;5;241m=\u001B[39mdata_dir,\n\u001B[0;32m   2133\u001B[0m     data_files\u001B[38;5;241m=\u001B[39mdata_files,\n\u001B[0;32m   2134\u001B[0m     cache_dir\u001B[38;5;241m=\u001B[39mcache_dir,\n\u001B[0;32m   2135\u001B[0m     features\u001B[38;5;241m=\u001B[39mfeatures,\n\u001B[0;32m   2136\u001B[0m     download_config\u001B[38;5;241m=\u001B[39mdownload_config,\n\u001B[0;32m   2137\u001B[0m     download_mode\u001B[38;5;241m=\u001B[39mdownload_mode,\n\u001B[0;32m   2138\u001B[0m     revision\u001B[38;5;241m=\u001B[39mrevision,\n\u001B[0;32m   2139\u001B[0m     token\u001B[38;5;241m=\u001B[39mtoken,\n\u001B[0;32m   2140\u001B[0m     storage_options\u001B[38;5;241m=\u001B[39mstorage_options,\n\u001B[0;32m   2141\u001B[0m     \u001B[38;5;241m*\u001B[39m\u001B[38;5;241m*\u001B[39mconfig_kwargs,\n\u001B[0;32m   2142\u001B[0m )\n\u001B[0;32m   2144\u001B[0m \u001B[38;5;66;03m# Return iterable dataset in case of streaming\u001B[39;00m\n\u001B[0;32m   2145\u001B[0m \u001B[38;5;28;01mif\u001B[39;00m streaming:\n",
      "File \u001B[1;32mD:\\Programy\\Anaconda\\envs\\question_answering\\lib\\site-packages\\datasets\\load.py:1815\u001B[0m, in \u001B[0;36mload_dataset_builder\u001B[1;34m(path, name, data_dir, data_files, cache_dir, features, download_config, download_mode, revision, token, use_auth_token, storage_options, **config_kwargs)\u001B[0m\n\u001B[0;32m   1813\u001B[0m     download_config \u001B[38;5;241m=\u001B[39m download_config\u001B[38;5;241m.\u001B[39mcopy() \u001B[38;5;28;01mif\u001B[39;00m download_config \u001B[38;5;28;01melse\u001B[39;00m DownloadConfig()\n\u001B[0;32m   1814\u001B[0m     download_config\u001B[38;5;241m.\u001B[39mstorage_options\u001B[38;5;241m.\u001B[39mupdate(storage_options)\n\u001B[1;32m-> 1815\u001B[0m dataset_module \u001B[38;5;241m=\u001B[39m \u001B[43mdataset_module_factory\u001B[49m\u001B[43m(\u001B[49m\n\u001B[0;32m   1816\u001B[0m \u001B[43m    \u001B[49m\u001B[43mpath\u001B[49m\u001B[43m,\u001B[49m\n\u001B[0;32m   1817\u001B[0m \u001B[43m    \u001B[49m\u001B[43mrevision\u001B[49m\u001B[38;5;241;43m=\u001B[39;49m\u001B[43mrevision\u001B[49m\u001B[43m,\u001B[49m\n\u001B[0;32m   1818\u001B[0m \u001B[43m    \u001B[49m\u001B[43mdownload_config\u001B[49m\u001B[38;5;241;43m=\u001B[39;49m\u001B[43mdownload_config\u001B[49m\u001B[43m,\u001B[49m\n\u001B[0;32m   1819\u001B[0m \u001B[43m    \u001B[49m\u001B[43mdownload_mode\u001B[49m\u001B[38;5;241;43m=\u001B[39;49m\u001B[43mdownload_mode\u001B[49m\u001B[43m,\u001B[49m\n\u001B[0;32m   1820\u001B[0m \u001B[43m    \u001B[49m\u001B[43mdata_dir\u001B[49m\u001B[38;5;241;43m=\u001B[39;49m\u001B[43mdata_dir\u001B[49m\u001B[43m,\u001B[49m\n\u001B[0;32m   1821\u001B[0m \u001B[43m    \u001B[49m\u001B[43mdata_files\u001B[49m\u001B[38;5;241;43m=\u001B[39;49m\u001B[43mdata_files\u001B[49m\u001B[43m,\u001B[49m\n\u001B[0;32m   1822\u001B[0m \u001B[43m\u001B[49m\u001B[43m)\u001B[49m\n\u001B[0;32m   1823\u001B[0m \u001B[38;5;66;03m# Get dataset builder class from the processing script\u001B[39;00m\n\u001B[0;32m   1824\u001B[0m builder_kwargs \u001B[38;5;241m=\u001B[39m dataset_module\u001B[38;5;241m.\u001B[39mbuilder_kwargs\n",
      "File \u001B[1;32mD:\\Programy\\Anaconda\\envs\\question_answering\\lib\\site-packages\\datasets\\load.py:1446\u001B[0m, in \u001B[0;36mdataset_module_factory\u001B[1;34m(path, revision, download_config, download_mode, dynamic_modules_path, data_dir, data_files, **download_kwargs)\u001B[0m\n\u001B[0;32m   1440\u001B[0m     \u001B[38;5;28;01mreturn\u001B[39;00m LocalDatasetModuleFactoryWithScript(\n\u001B[0;32m   1441\u001B[0m         combined_path, download_mode\u001B[38;5;241m=\u001B[39mdownload_mode, dynamic_modules_path\u001B[38;5;241m=\u001B[39mdynamic_modules_path\n\u001B[0;32m   1442\u001B[0m     )\u001B[38;5;241m.\u001B[39mget_module()\n\u001B[0;32m   1443\u001B[0m \u001B[38;5;28;01melif\u001B[39;00m os\u001B[38;5;241m.\u001B[39mpath\u001B[38;5;241m.\u001B[39misdir(path):\n\u001B[0;32m   1444\u001B[0m     \u001B[38;5;28;01mreturn\u001B[39;00m \u001B[43mLocalDatasetModuleFactoryWithoutScript\u001B[49m\u001B[43m(\u001B[49m\n\u001B[0;32m   1445\u001B[0m \u001B[43m        \u001B[49m\u001B[43mpath\u001B[49m\u001B[43m,\u001B[49m\u001B[43m \u001B[49m\u001B[43mdata_dir\u001B[49m\u001B[38;5;241;43m=\u001B[39;49m\u001B[43mdata_dir\u001B[49m\u001B[43m,\u001B[49m\u001B[43m \u001B[49m\u001B[43mdata_files\u001B[49m\u001B[38;5;241;43m=\u001B[39;49m\u001B[43mdata_files\u001B[49m\u001B[43m,\u001B[49m\u001B[43m \u001B[49m\u001B[43mdownload_mode\u001B[49m\u001B[38;5;241;43m=\u001B[39;49m\u001B[43mdownload_mode\u001B[49m\n\u001B[1;32m-> 1446\u001B[0m \u001B[43m    \u001B[49m\u001B[43m)\u001B[49m\u001B[38;5;241;43m.\u001B[39;49m\u001B[43mget_module\u001B[49m\u001B[43m(\u001B[49m\u001B[43m)\u001B[49m\n\u001B[0;32m   1447\u001B[0m \u001B[38;5;66;03m# Try remotely\u001B[39;00m\n\u001B[0;32m   1448\u001B[0m \u001B[38;5;28;01melif\u001B[39;00m is_relative_path(path) \u001B[38;5;129;01mand\u001B[39;00m path\u001B[38;5;241m.\u001B[39mcount(\u001B[38;5;124m\"\u001B[39m\u001B[38;5;124m/\u001B[39m\u001B[38;5;124m\"\u001B[39m) \u001B[38;5;241m<\u001B[39m\u001B[38;5;241m=\u001B[39m \u001B[38;5;241m1\u001B[39m:\n",
      "File \u001B[1;32mD:\\Programy\\Anaconda\\envs\\question_answering\\lib\\site-packages\\datasets\\load.py:865\u001B[0m, in \u001B[0;36mLocalDatasetModuleFactoryWithoutScript.get_module\u001B[1;34m(self)\u001B[0m\n\u001B[0;32m    859\u001B[0m     patterns \u001B[38;5;241m=\u001B[39m get_data_patterns(base_path)\n\u001B[0;32m    860\u001B[0m data_files \u001B[38;5;241m=\u001B[39m DataFilesDict\u001B[38;5;241m.\u001B[39mfrom_patterns(\n\u001B[0;32m    861\u001B[0m     patterns,\n\u001B[0;32m    862\u001B[0m     base_path\u001B[38;5;241m=\u001B[39mbase_path,\n\u001B[0;32m    863\u001B[0m     allowed_extensions\u001B[38;5;241m=\u001B[39mALL_ALLOWED_EXTENSIONS,\n\u001B[0;32m    864\u001B[0m )\n\u001B[1;32m--> 865\u001B[0m module_name, default_builder_kwargs \u001B[38;5;241m=\u001B[39m \u001B[43minfer_module_for_data_files\u001B[49m\u001B[43m(\u001B[49m\n\u001B[0;32m    866\u001B[0m \u001B[43m    \u001B[49m\u001B[43mdata_files\u001B[49m\u001B[38;5;241;43m=\u001B[39;49m\u001B[43mdata_files\u001B[49m\u001B[43m,\u001B[49m\n\u001B[0;32m    867\u001B[0m \u001B[43m    \u001B[49m\u001B[43mpath\u001B[49m\u001B[38;5;241;43m=\u001B[39;49m\u001B[38;5;28;43mself\u001B[39;49m\u001B[38;5;241;43m.\u001B[39;49m\u001B[43mpath\u001B[49m\u001B[43m,\u001B[49m\n\u001B[0;32m    868\u001B[0m \u001B[43m\u001B[49m\u001B[43m)\u001B[49m\n\u001B[0;32m    869\u001B[0m data_files \u001B[38;5;241m=\u001B[39m data_files\u001B[38;5;241m.\u001B[39mfilter_extensions(_MODULE_TO_EXTENSIONS[module_name])\n\u001B[0;32m    870\u001B[0m \u001B[38;5;66;03m# Collect metadata files if the module supports them\u001B[39;00m\n",
      "File \u001B[1;32mD:\\Programy\\Anaconda\\envs\\question_answering\\lib\\site-packages\\datasets\\load.py:516\u001B[0m, in \u001B[0;36minfer_module_for_data_files\u001B[1;34m(data_files, path, download_config)\u001B[0m\n\u001B[0;32m    514\u001B[0m \u001B[38;5;28;01mif\u001B[39;00m \u001B[38;5;129;01mnot\u001B[39;00m module_name:\n\u001B[0;32m    515\u001B[0m     path \u001B[38;5;241m=\u001B[39m \u001B[38;5;124mf\u001B[39m\u001B[38;5;124m\"\u001B[39m\u001B[38;5;124m in \u001B[39m\u001B[38;5;132;01m{\u001B[39;00mpath\u001B[38;5;132;01m}\u001B[39;00m\u001B[38;5;124m. \u001B[39m\u001B[38;5;124m\"\u001B[39m \u001B[38;5;28;01mif\u001B[39;00m path \u001B[38;5;28;01melse\u001B[39;00m \u001B[38;5;124m\"\u001B[39m\u001B[38;5;124m. \u001B[39m\u001B[38;5;124m\"\u001B[39m\n\u001B[1;32m--> 516\u001B[0m     \u001B[38;5;28;01mraise\u001B[39;00m \u001B[38;5;167;01mFileNotFoundError\u001B[39;00m(\u001B[38;5;124mf\u001B[39m\u001B[38;5;124m\"\u001B[39m\u001B[38;5;124mNo (supported) data files or dataset script found\u001B[39m\u001B[38;5;132;01m{\u001B[39;00mpath\u001B[38;5;132;01m}\u001B[39;00m\u001B[38;5;124m\"\u001B[39m)\n\u001B[0;32m    517\u001B[0m \u001B[38;5;28;01mreturn\u001B[39;00m module_name, default_builder_kwargs\n",
      "\u001B[1;31mFileNotFoundError\u001B[0m: No (supported) data files or dataset script found in squad. "
     ]
    }
   ],
   "source": [
    "load_squad_dataset_and_save_as_csv()"
   ]
  },
  {
   "cell_type": "code",
   "execution_count": null,
   "metadata": {
    "collapsed": false
   },
   "outputs": [],
   "source": []
  }
 ],
 "metadata": {
  "kernelspec": {
   "display_name": "Python 3",
   "language": "python",
   "name": "python3"
  },
  "language_info": {
   "codemirror_mode": {
    "name": "ipython",
    "version": 3
   },
   "file_extension": ".py",
   "mimetype": "text/x-python",
   "name": "python",
   "nbconvert_exporter": "python",
   "pygments_lexer": "ipython3",
   "version": "3.9.18"
  }
 },
 "nbformat": 4,
 "nbformat_minor": 0
}
