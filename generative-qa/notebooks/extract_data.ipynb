{
 "cells": [
  {
   "cell_type": "code",
   "execution_count": 10,
   "metadata": {
    "ExecuteTime": {
     "end_time": "2023-11-03T19:24:51.459303800Z",
     "start_time": "2023-11-03T19:24:51.037959800Z"
    },
    "collapsed": false
   },
   "outputs": [],
   "source": [
    "import pandas as pd\n",
    "from question_answering.paths import generative_qa_paths"
   ]
  },
  {
   "cell_type": "code",
   "execution_count": 11,
   "metadata": {
    "ExecuteTime": {
     "end_time": "2023-11-03T19:24:51.490807700Z",
     "start_time": "2023-11-03T19:24:51.452759600Z"
    },
    "collapsed": false
   },
   "outputs": [],
   "source": [
    "def read_feature_file_as_list(filename: str):\n",
    "    feature_file = open(filename, \"r\", encoding=\"utf-8\")\n",
    "    features = [line.strip() for line in feature_file.readlines()]\n",
    "    return features\n",
    "\n",
    "\n",
    "def extract_data(original_set_type_name: str, final_set_type_name: str, language: str):\n",
    "    base_path = generative_qa_paths.code_qa_data_dir / language\n",
    "    base_features_path = base_path / original_set_type_name\n",
    "\n",
    "    questions = read_feature_file_as_list(base_features_path / f\"{original_set_type_name}.question\")\n",
    "    answers = read_feature_file_as_list(base_features_path / f\"{original_set_type_name}.answer\")\n",
    "    code = read_feature_file_as_list(base_features_path / f\"{original_set_type_name}.code\")\n",
    "    original_code = read_feature_file_as_list(base_features_path / f\"{original_set_type_name}.code.original\")\n",
    "\n",
    "    df = pd.DataFrame(\n",
    "        {\n",
    "            \"questions\": questions,\n",
    "            \"answers\": answers,\n",
    "            \"code\": code,\n",
    "            \"original_code\": original_code,\n",
    "        }\n",
    "    )\n",
    "    \n",
    "    save_path = generative_qa_paths.code_qa_dataset_dir / language\n",
    "    \n",
    "    if not save_path.exists():\n",
    "        save_path.mkdir(parents=True)\n",
    "    df.to_csv(save_path / f\"{final_set_type_name}.csv\", index=True, index_label=\"index\", escapechar='\\\\')\n",
    "    \n",
    "    \n",
    "def extract_java_data():\n",
    "    extract_data(original_set_type_name=\"train\", final_set_type_name=\"train\", language=\"java\")\n",
    "    extract_data(original_set_type_name=\"dev\", final_set_type_name=\"val\", language=\"java\")\n",
    "    extract_data(original_set_type_name=\"test\", final_set_type_name=\"test\", language=\"java\")\n",
    "\n",
    "\n",
    "def extract_python_data():\n",
    "    extract_data(original_set_type_name=\"train\", final_set_type_name=\"train\", language=\"python\")\n",
    "    extract_data(original_set_type_name=\"dev\", final_set_type_name=\"val\", language=\"python\")\n",
    "    extract_data(original_set_type_name=\"test\", final_set_type_name=\"test\", language=\"python\")"
   ]
  },
  {
   "cell_type": "code",
   "execution_count": 12,
   "metadata": {
    "ExecuteTime": {
     "end_time": "2023-11-03T19:24:53.894692500Z",
     "start_time": "2023-11-03T19:24:51.838091700Z"
    },
    "collapsed": false
   },
   "outputs": [],
   "source": [
    "extract_java_data()"
   ]
  },
  {
   "cell_type": "code",
   "execution_count": 13,
   "metadata": {
    "ExecuteTime": {
     "end_time": "2023-11-03T19:24:54.617377800Z",
     "start_time": "2023-11-03T19:24:53.897756200Z"
    },
    "collapsed": false
   },
   "outputs": [],
   "source": [
    "extract_python_data()"
   ]
  },
  {
   "cell_type": "code",
   "execution_count": null,
   "metadata": {
    "collapsed": false
   },
   "outputs": [],
   "source": []
  }
 ],
 "metadata": {
  "kernelspec": {
   "display_name": "Python 3",
   "language": "python",
   "name": "python3"
  },
  "language_info": {
   "codemirror_mode": {
    "name": "ipython",
    "version": 3
   },
   "file_extension": ".py",
   "mimetype": "text/x-python",
   "name": "python",
   "nbconvert_exporter": "python",
   "pygments_lexer": "ipython3",
   "version": "3.10.13"
  }
 },
 "nbformat": 4,
 "nbformat_minor": 0
}
