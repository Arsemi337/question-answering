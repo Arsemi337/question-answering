{
 "cells": [
  {
   "cell_type": "code",
   "execution_count": 1,
   "metadata": {
    "ExecuteTime": {
     "end_time": "2023-10-17T17:30:44.983177Z",
     "start_time": "2023-10-17T17:30:44.556027800Z"
    },
    "collapsed": false
   },
   "outputs": [],
   "source": [
    "import pandas as pd\n",
    "import os"
   ]
  },
  {
   "cell_type": "code",
   "execution_count": 2,
   "metadata": {
    "ExecuteTime": {
     "end_time": "2023-10-17T17:30:45.651298Z",
     "start_time": "2023-10-17T17:30:45.639788300Z"
    },
    "collapsed": false
   },
   "outputs": [],
   "source": [
    "def read_feature_file_as_list(filename: str):\n",
    "    feature_file = open(filename, 'r', encoding='utf-8')\n",
    "    features = [line.strip() for line in feature_file.readlines()]\n",
    "    return features\n",
    "\n",
    "\n",
    "def extract_data(set_type, language):\n",
    "    base_path = f'./../data/{language}'\n",
    "    base_features_path = f'{base_path}/{set_type}/{set_type}'\n",
    "\n",
    "    questions = read_feature_file_as_list(f'{base_features_path}.question')\n",
    "    answers = read_feature_file_as_list(f'{base_features_path}.answer')\n",
    "    code = read_feature_file_as_list(f'{base_features_path}.code')\n",
    "    original_code = read_feature_file_as_list(f'{base_features_path}.code.original')\n",
    "\n",
    "    df = pd.DataFrame(\n",
    "        {\n",
    "            'questions': questions,\n",
    "            'answers': answers,\n",
    "            'code': code,\n",
    "            'original_code': original_code\n",
    "        }\n",
    "    )\n",
    "\n",
    "    path = f'{base_path}/datasets'\n",
    "    dir_exists = os.path.exists(path)\n",
    "    if not dir_exists:\n",
    "        os.makedirs(path)\n",
    "    df.to_csv(f'{path}/{set_type}.csv')"
   ]
  },
  {
   "cell_type": "code",
   "execution_count": 3,
   "metadata": {
    "ExecuteTime": {
     "end_time": "2023-10-17T17:30:49.020517600Z",
     "start_time": "2023-10-17T17:30:46.198446500Z"
    },
    "collapsed": false
   },
   "outputs": [],
   "source": [
    "# Java\n",
    "extract_data(set_type=\"train\", language=\"java\")\n",
    "extract_data(set_type=\"dev\", language=\"java\")\n",
    "extract_data(set_type=\"test\", language=\"java\")\n",
    "\n",
    "# Python\n",
    "extract_data(set_type=\"train\", language=\"python\")\n",
    "extract_data(set_type=\"dev\", language=\"python\")\n",
    "extract_data(set_type=\"test\", language=\"python\")"
   ]
  },
  {
   "cell_type": "code",
   "execution_count": null,
   "metadata": {
    "collapsed": false
   },
   "outputs": [],
   "source": []
  }
 ],
 "metadata": {
  "kernelspec": {
   "display_name": "Python 3",
   "language": "python",
   "name": "python3"
  },
  "language_info": {
   "codemirror_mode": {
    "name": "ipython",
    "version": 3
   },
   "file_extension": ".py",
   "mimetype": "text/x-python",
   "name": "python",
   "nbconvert_exporter": "python",
   "pygments_lexer": "ipython3",
   "version": "3.9.18"
  }
 },
 "nbformat": 4,
 "nbformat_minor": 0
}
