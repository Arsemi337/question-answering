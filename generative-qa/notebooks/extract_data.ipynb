{
 "cells": [
  {
   "cell_type": "code",
   "execution_count": 6,
   "metadata": {
    "collapsed": false,
    "ExecuteTime": {
     "end_time": "2023-11-03T18:39:54.553494700Z",
     "start_time": "2023-11-03T18:39:54.539996400Z"
    }
   },
   "outputs": [],
   "source": [
    "import pandas as pd\n",
    "from question_answering.paths import generative_qa_paths"
   ]
  },
  {
   "cell_type": "code",
   "execution_count": 7,
   "metadata": {
    "collapsed": false,
    "ExecuteTime": {
     "end_time": "2023-11-03T18:39:54.928407Z",
     "start_time": "2023-11-03T18:39:54.924893300Z"
    }
   },
   "outputs": [],
   "source": [
    "def read_feature_file_as_list(filename: str):\n",
    "    feature_file = open(filename, \"r\", encoding=\"utf-8\")\n",
    "    features = [line.strip() for line in feature_file.readlines()]\n",
    "    return features\n",
    "\n",
    "\n",
    "def extract_data(set_type: str, language: str):\n",
    "    base_path = generative_qa_paths.code_qa_data_dir / language\n",
    "    base_features_path = base_path / set_type\n",
    "\n",
    "    questions = read_feature_file_as_list(base_features_path / f\"{set_type}.question\")\n",
    "    answers = read_feature_file_as_list(base_features_path / f\"{set_type}.answer\")\n",
    "    code = read_feature_file_as_list(base_features_path / f\"{set_type}.code\")\n",
    "    original_code = read_feature_file_as_list(base_features_path / f\"{set_type}.code.original\")\n",
    "\n",
    "    df = pd.DataFrame(\n",
    "        {\n",
    "            \"questions\": questions,\n",
    "            \"answers\": answers,\n",
    "            \"code\": code,\n",
    "            \"original_code\": original_code,\n",
    "        }\n",
    "    )\n",
    "    \n",
    "    save_path = generative_qa_paths.code_qa_dataset_dir / language\n",
    "    \n",
    "    if not save_path.exists():\n",
    "        save_path.mkdir(parents=True)\n",
    "    df.to_csv(save_path / f\"{set_type}.csv\", index=True, index_label=\"index\", escapechar='\\\\')"
   ]
  },
  {
   "cell_type": "code",
   "execution_count": 8,
   "metadata": {
    "collapsed": false,
    "ExecuteTime": {
     "end_time": "2023-11-03T18:39:58.078416600Z",
     "start_time": "2023-11-03T18:39:55.431778300Z"
    }
   },
   "outputs": [],
   "source": [
    "# Java\n",
    "extract_data(set_type=\"train\", language=\"java\")\n",
    "extract_data(set_type=\"val\", language=\"java\")\n",
    "extract_data(set_type=\"test\", language=\"java\")\n",
    "\n",
    "# Python\n",
    "extract_data(set_type=\"train\", language=\"python\")\n",
    "extract_data(set_type=\"val\", language=\"python\")\n",
    "extract_data(set_type=\"test\", language=\"python\")"
   ]
  },
  {
   "cell_type": "code",
   "execution_count": null,
   "metadata": {
    "collapsed": false
   },
   "outputs": [],
   "source": []
  }
 ],
 "metadata": {
  "kernelspec": {
   "display_name": "Python 3",
   "language": "python",
   "name": "python3"
  },
  "language_info": {
   "codemirror_mode": {
    "name": "ipython",
    "version": 3
   },
   "file_extension": ".py",
   "mimetype": "text/x-python",
   "name": "python",
   "nbconvert_exporter": "python",
   "pygments_lexer": "ipython3",
   "version": "3.9.18"
  }
 },
 "nbformat": 4,
 "nbformat_minor": 0
}
