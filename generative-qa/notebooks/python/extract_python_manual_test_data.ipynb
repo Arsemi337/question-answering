{
 "cells": [
  {
   "cell_type": "code",
   "execution_count": 1,
   "metadata": {},
   "outputs": [],
   "source": [
    "import pandas as pd\n",
    "from question_answering.paths import generative_qa_paths\n",
    "from random import sample "
   ]
  },
  {
   "cell_type": "code",
   "execution_count": 2,
   "metadata": {},
   "outputs": [],
   "source": [
    "df_test = pd.read_csv(generative_qa_paths.python_dataset_dir / 'test.csv').dropna()"
   ]
  },
  {
   "cell_type": "code",
   "execution_count": 3,
   "metadata": {},
   "outputs": [],
   "source": [
    "questions = df_test['questions']"
   ]
  },
  {
   "cell_type": "code",
   "execution_count": 4,
   "metadata": {},
   "outputs": [],
   "source": [
    "whats = list(filter(lambda x: x.startswith('What'), questions))\n",
    "\n",
    "wheres = list(filter(lambda x: x.startswith('Where'), questions))\n",
    "\n",
    "hows = list(filter(lambda x: x.startswith('How'), questions))\n",
    "\n",
    "for_whats = list(filter(lambda x: x.startswith('For what'), questions))\n",
    "\n",
    "whens= list(filter(lambda x: x.startswith('When'), questions))\n",
    "\n",
    "closed = df_test[\n",
    "    (df_test['answers'] == 'Yes') | \n",
    "    (df_test['answers'] == 'No')].reset_index(drop=True)\n",
    "closed = [question for question in closed['questions']]\n",
    "\n",
    "already_taken = whats + wheres + hows + for_whats + whens + closed\n",
    "others = [item for item in questions if item not in already_taken]"
   ]
  },
  {
   "cell_type": "code",
   "execution_count": 5,
   "metadata": {},
   "outputs": [],
   "source": [
    "def present_dataset_sample(questions: list):\n",
    "    question = sample(questions, 1)\n",
    "\n",
    "    dataset_sample = df_test.loc[df_test['questions'] == question[0]].drop(columns=['index'])\n",
    "    return dataset_sample"
   ]
  },
  {
   "cell_type": "code",
   "execution_count": 175,
   "metadata": {},
   "outputs": [
    {
     "data": {
      "text/html": [
       "<div>\n",
       "<style scoped>\n",
       "    .dataframe tbody tr th:only-of-type {\n",
       "        vertical-align: middle;\n",
       "    }\n",
       "\n",
       "    .dataframe tbody tr th {\n",
       "        vertical-align: top;\n",
       "    }\n",
       "\n",
       "    .dataframe thead th {\n",
       "        text-align: right;\n",
       "    }\n",
       "</style>\n",
       "<table border=\"1\" class=\"dataframe\">\n",
       "  <thead>\n",
       "    <tr style=\"text-align: right;\">\n",
       "      <th></th>\n",
       "      <th>questions</th>\n",
       "      <th>answers</th>\n",
       "      <th>code</th>\n",
       "      <th>original_code</th>\n",
       "    </tr>\n",
       "  </thead>\n",
       "  <tbody>\n",
       "    <tr>\n",
       "      <th>213</th>\n",
       "      <td>Did the code set a keys time to live in seconds ?</td>\n",
       "      <td>Yes</td>\n",
       "      <td>def expire key seconds host None port None db ...</td>\n",
       "      <td>def expire key seconds host None port None db ...</td>\n",
       "    </tr>\n",
       "  </tbody>\n",
       "</table>\n",
       "</div>"
      ],
      "text/plain": [
       "                                             questions answers  \\\n",
       "213  Did the code set a keys time to live in seconds ?     Yes   \n",
       "\n",
       "                                                  code  \\\n",
       "213  def expire key seconds host None port None db ...   \n",
       "\n",
       "                                         original_code  \n",
       "213  def expire key seconds host None port None db ...  "
      ]
     },
     "execution_count": 175,
     "metadata": {},
     "output_type": "execute_result"
    }
   ],
   "source": [
    "# df_temp = present_dataset_sample(whats)\n",
    "# df_temp = present_dataset_sample(wheres)\n",
    "# df_temp = present_dataset_sample(hows)\n",
    "# df_temp = present_dataset_sample(for_whats)\n",
    "# df_temp = present_dataset_sample(whens)\n",
    "df_temp = present_dataset_sample(closed)\n",
    "# df_temp = present_dataset_sample(others)\n",
    "df_temp"
   ]
  },
  {
   "cell_type": "code",
   "execution_count": 27,
   "metadata": {},
   "outputs": [
    {
     "data": {
      "text/plain": [
       "'def find_repeats arr return RepeatedResults *_find_repeats np array arr dtype np float64'"
      ]
     },
     "execution_count": 27,
     "metadata": {},
     "output_type": "execute_result"
    }
   ],
   "source": [
    "# df_temp.iloc[0]['questions']\n",
    "# df_temp.iloc[1]['answers']\n",
    "# df_temp.iloc[0]['code']\n",
    "df_temp.iloc[6]['original_code']"
   ]
  },
  {
   "cell_type": "code",
   "execution_count": 135,
   "metadata": {},
   "outputs": [
    {
     "data": {
      "text/plain": [
       "'Where does the code remove multiple whitespaces and whitespaces ?'"
      ]
     },
     "execution_count": 135,
     "metadata": {},
     "output_type": "execute_result"
    }
   ],
   "source": [
    "df_test.iloc[2464]['questions']"
   ]
  },
  {
   "cell_type": "code",
   "execution_count": 163,
   "metadata": {},
   "outputs": [
    {
     "data": {
      "text/plain": [
       "'def mask_color clip color [0 0 0] thr 0 s 1 hill lambda x 1 0 * x 0 if thr 0 else x ** s / thr ** s + x ** s color np array color flim lambda im hill np sqrt im - color ** 2 sum axis 2 mask clip fl_image flim mask ismask Truenewclip clip set_mask mask return newclip'"
      ]
     },
     "execution_count": 163,
     "metadata": {},
     "output_type": "execute_result"
    }
   ],
   "source": [
    "df_test.iloc[109]['original_code']"
   ]
  },
  {
   "cell_type": "code",
   "execution_count": 9,
   "metadata": {},
   "outputs": [],
   "source": [
    "what_ids = [99, 166, 1652, 1762, 1853]\n",
    "where_ids = [463, 953, 959, 2288, 2464]\n",
    "how_ids = [664, 835, 1382, 1423, 2005]\n",
    "for_what_ids = [332, 411, 625, 1401, 2336]\n",
    "when_ids = [715, 471, 1668, 1855, 1999]\n",
    "closed_ids = [109, 164, 179, 213, 1003]\n",
    "others_ids = [565, 591, 718, 1885, 2143]\n",
    "\n",
    "id_lists = [what_ids, where_ids, how_ids, for_what_ids, when_ids, closed_ids, others_ids]\n",
    "df = pd.DataFrame()\n",
    "dataset_path = generative_qa_paths.code_qa_dataset_dir / 'python'\n",
    "\n",
    "for id_list in id_lists:\n",
    "    for id in id_list:\n",
    "\n",
    "        df = pd.concat([df, df_test.iloc[[id]]], ignore_index=True)\n",
    "\n",
    "df = df.drop(columns=['index'])\n",
    "df.to_csv(dataset_path / \"manual_test.csv\", index=True, index_label=\"index\", escapechar='\\\\')"
   ]
  }
 ],
 "metadata": {
  "kernelspec": {
   "display_name": "question_answering",
   "language": "python",
   "name": "python3"
  },
  "language_info": {
   "codemirror_mode": {
    "name": "ipython",
    "version": 3
   },
   "file_extension": ".py",
   "mimetype": "text/x-python",
   "name": "python",
   "nbconvert_exporter": "python",
   "pygments_lexer": "ipython3",
   "version": "3.10.13"
  }
 },
 "nbformat": 4,
 "nbformat_minor": 2
}
