{
 "cells": [
  {
   "cell_type": "code",
   "execution_count": 1,
   "metadata": {},
   "outputs": [],
   "source": [
    "import pandas as pd\n",
    "from question_answering.paths import generative_qa_paths\n",
    "from random import sample "
   ]
  },
  {
   "cell_type": "code",
   "execution_count": 2,
   "metadata": {},
   "outputs": [],
   "source": [
    "df_test = pd.read_csv(generative_qa_paths.java_dataset_dir / 'test.csv').dropna()"
   ]
  },
  {
   "cell_type": "code",
   "execution_count": 3,
   "metadata": {},
   "outputs": [],
   "source": [
    "questions = df_test['questions']"
   ]
  },
  {
   "cell_type": "code",
   "execution_count": 4,
   "metadata": {},
   "outputs": [],
   "source": [
    "whats = list(filter(lambda x: x.startswith('What'), questions))\n",
    "\n",
    "wheres = list(filter(lambda x: x.startswith('Where'), questions))\n",
    "\n",
    "hows = list(filter(lambda x: x.startswith('How'), questions))\n",
    "\n",
    "for_whats = list(filter(lambda x: x.startswith('For what'), questions))\n",
    "\n",
    "whens= list(filter(lambda x: x.startswith('When'), questions))\n",
    "\n",
    "closed = df_test[\n",
    "    (df_test['answers'] == 'Yes') | \n",
    "    (df_test['answers'] == 'No')].reset_index(drop=True)\n",
    "closed = [question for question in closed['questions']]\n",
    "\n",
    "already_taken = whats + wheres + hows + for_whats + whens + closed\n",
    "others = [item for item in questions if item not in already_taken]"
   ]
  },
  {
   "cell_type": "code",
   "execution_count": 5,
   "metadata": {},
   "outputs": [],
   "source": [
    "def present_dataset_sample(questions: list):\n",
    "    question = sample(questions, 1)\n",
    "\n",
    "    dataset_sample = df_test.loc[df_test['questions'] == question[0]].drop(columns=['index'])\n",
    "    return dataset_sample"
   ]
  },
  {
   "cell_type": "code",
   "execution_count": 241,
   "metadata": {},
   "outputs": [
    {
     "data": {
      "text/html": [
       "<div>\n",
       "<style scoped>\n",
       "    .dataframe tbody tr th:only-of-type {\n",
       "        vertical-align: middle;\n",
       "    }\n",
       "\n",
       "    .dataframe tbody tr th {\n",
       "        vertical-align: top;\n",
       "    }\n",
       "\n",
       "    .dataframe thead th {\n",
       "        text-align: right;\n",
       "    }\n",
       "</style>\n",
       "<table border=\"1\" class=\"dataframe\">\n",
       "  <thead>\n",
       "    <tr style=\"text-align: right;\">\n",
       "      <th></th>\n",
       "      <th>questions</th>\n",
       "      <th>answers</th>\n",
       "      <th>code</th>\n",
       "      <th>original_code</th>\n",
       "    </tr>\n",
       "  </thead>\n",
       "  <tbody>\n",
       "    <tr>\n",
       "      <th>692</th>\n",
       "      <td>Why is a linkedblockingdeque used ?</td>\n",
       "      <td>because of its concurrent nature and the fact ...</td>\n",
       "      <td>public T add ( T e ) { T old E = null ; while ...</td>\n",
       "      <td>public T add ( T e ) { T oldE = null ; while (...</td>\n",
       "    </tr>\n",
       "  </tbody>\n",
       "</table>\n",
       "</div>"
      ],
      "text/plain": [
       "                               questions  \\\n",
       "692  Why is a linkedblockingdeque used ?   \n",
       "\n",
       "                                               answers  \\\n",
       "692  because of its concurrent nature and the fact ...   \n",
       "\n",
       "                                                  code  \\\n",
       "692  public T add ( T e ) { T old E = null ; while ...   \n",
       "\n",
       "                                         original_code  \n",
       "692  public T add ( T e ) { T oldE = null ; while (...  "
      ]
     },
     "execution_count": 241,
     "metadata": {},
     "output_type": "execute_result"
    }
   ],
   "source": [
    "# df_temp = present_dataset_sample(whats)\n",
    "# df_temp = present_dataset_sample(wheres)\n",
    "# df_temp = present_dataset_sample(hows)\n",
    "# df_temp = present_dataset_sample(for_whats)\n",
    "# df_temp = present_dataset_sample(whens)\n",
    "# df_temp = present_dataset_sample(closed)\n",
    "df_temp = present_dataset_sample(others)\n",
    "df_temp"
   ]
  },
  {
   "cell_type": "code",
   "execution_count": 193,
   "metadata": {},
   "outputs": [
    {
     "data": {
      "text/plain": [
       "'private static final int [ ] findLineAndColumn ( final int idx , final String message ) { int [ ] val = { - _NUM , - _NUM , message . length ( ) } ; int beginIndex = message . indexOf ( STRING , idx ) ; int offset = _NUM ; if ( beginIndex != idx ) { beginIndex = - _NUM ; } if ( beginIndex == - _NUM ) { beginIndex = message . indexOf ( STRING , idx ) ; offset = _NUM ; } if ( beginIndex != - _NUM ) { beginIndex = beginIndex + offset ; while ( ( beginIndex < message . length ( ) ) && ! Character . isDigit ( message . charAt ( beginIndex ) ) ) { beginIndex ++ ; } int endIndex = beginIndex + _NUM ; while ( ( endIndex < message . length ( ) ) && Character . isDigit ( message . charAt ( endIndex ) ) ) { endIndex ++ ; } if ( beginIndex < message . length ( ) ) { try { val [ _NUM ] = Integer . parseInt ( message . substring ( beginIndex , endIndex ) ) ; } catch ( Exception e ) { val [ _NUM ] = - _NUM ; } beginIndex = message . indexOf ( STRING , endIndex ) ; int colOffset = _NUM ; if ( beginIndex != - _NUM ) { colOffset = _NUM ; } int otherIndex = message . indexOf ( STRING , endIndex ) ; if ( ( otherIndex != - _NUM ) && ( ( beginIndex == - _NUM ) || ( otherIndex < beginIndex ) ) ) { beginIndex = otherIndex ; colOffset = _NUM ; } if ( beginIndex != - _NUM ) { beginIndex = beginIndex + colOffset ; while ( ( beginIndex < message . length ( ) ) && ! Character . isDigit ( message . charAt ( beginIndex ) ) ) { beginIndex ++ ; } endIndex = beginIndex + _NUM ; while ( ( endIndex < message . length ( ) ) && Character . isDigit ( message . charAt ( endIndex ) ) ) { endIndex ++ ; } if ( beginIndex < message . length ( ) ) { try { val [ _NUM ] = Integer . parseInt ( message . substring ( beginIndex , endIndex ) ) ; } catch ( Exception e ) { val [ _NUM ] = - _NUM ; } val [ _NUM ] = endIndex ; } } } } return val ; }'"
      ]
     },
     "execution_count": 193,
     "metadata": {},
     "output_type": "execute_result"
    }
   ],
   "source": [
    "# df_temp.iloc[0]['questions']\n",
    "# df_temp.iloc[1]['answers']\n",
    "# df_temp.iloc[0]['code']\n",
    "df_temp.iloc[0]['original_code']"
   ]
  },
  {
   "cell_type": "code",
   "execution_count": 169,
   "metadata": {},
   "outputs": [
    {
     "data": {
      "text/plain": [
       "'How is the query result calculated to reflect this then ?'"
      ]
     },
     "execution_count": 169,
     "metadata": {},
     "output_type": "execute_result"
    }
   ],
   "source": [
    "df_temp.iloc[0]['questions']"
   ]
  },
  {
   "cell_type": "code",
   "execution_count": 163,
   "metadata": {},
   "outputs": [
    {
     "data": {
      "text/plain": [
       "'on the processed result'"
      ]
     },
     "execution_count": 163,
     "metadata": {},
     "output_type": "execute_result"
    }
   ],
   "source": [
    "df_temp.iloc[0]['answers']"
   ]
  },
  {
   "cell_type": "code",
   "execution_count": 158,
   "metadata": {},
   "outputs": [
    {
     "data": {
      "text/plain": [
       "'public IIndex findIndex ( String name ) { return findIndex ( name , _BOOL ) ; }'"
      ]
     },
     "execution_count": 158,
     "metadata": {},
     "output_type": "execute_result"
    }
   ],
   "source": [
    "df_test.iloc[0]['original_code']"
   ]
  },
  {
   "cell_type": "code",
   "execution_count": 242,
   "metadata": {},
   "outputs": [],
   "source": [
    "what_ids = [59, 444, 811, 1687, 2228]\n",
    "where_ids = [860, 875, 1153, 1670, 2084]\n",
    "how_ids = [27, 1227, 1355, 1901, 2039]\n",
    "for_what_ids = [315, 1165, 1455, 1607, 1744]\n",
    "when_ids = [641, 648, 727, 1274, 2025]\n",
    "closed_ids = [104, 386, 419, 764, 2023]\n",
    "others_ids = [179, 679, 692, 952, 1204]\n",
    "\n",
    "id_lists = [what_ids, where_ids, how_ids, for_what_ids, when_ids, closed_ids, others_ids]\n",
    "df = pd.DataFrame()\n",
    "dataset_path = generative_qa_paths.code_qa_dataset_dir / 'java'\n",
    "\n",
    "for id_list in id_lists:\n",
    "    for id in id_list:\n",
    "\n",
    "        df = pd.concat([df, df_test.iloc[[id]]], ignore_index=True)\n",
    "\n",
    "df = df.drop(columns=['index'])\n",
    "df.to_csv(dataset_path / \"manual_test.csv\", index=True, index_label=\"index\", escapechar='\\\\')"
   ]
  },
  {
   "cell_type": "code",
   "execution_count": null,
   "metadata": {},
   "outputs": [],
   "source": []
  }
 ],
 "metadata": {
  "kernelspec": {
   "display_name": "question_answering",
   "language": "python",
   "name": "python3"
  },
  "language_info": {
   "codemirror_mode": {
    "name": "ipython",
    "version": 3
   },
   "file_extension": ".py",
   "mimetype": "text/x-python",
   "name": "python",
   "nbconvert_exporter": "python",
   "pygments_lexer": "ipython3",
   "version": "3.10.13"
  }
 },
 "nbformat": 4,
 "nbformat_minor": 2
}
