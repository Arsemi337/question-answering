{
 "cells": [
  {
   "cell_type": "code",
   "execution_count": 2,
   "outputs": [],
   "source": [
    "import pandas as pd"
   ],
   "metadata": {
    "collapsed": false,
    "ExecuteTime": {
     "end_time": "2023-10-09T19:50:10.043865400Z",
     "start_time": "2023-10-09T19:50:09.610673500Z"
    }
   }
  },
  {
   "cell_type": "code",
   "execution_count": 3,
   "outputs": [],
   "source": [
    "def read_feature_file_as_list(filename: str):\n",
    "    feature_file = open(filename, 'r', encoding='utf-8')\n",
    "    features = [line.strip() for line in feature_file.readlines()]\n",
    "    return features"
   ],
   "metadata": {
    "collapsed": false,
    "ExecuteTime": {
     "end_time": "2023-10-09T19:50:10.102929300Z",
     "start_time": "2023-10-09T19:50:10.076894600Z"
    }
   }
  },
  {
   "cell_type": "code",
   "execution_count": 26,
   "metadata": {
    "collapsed": true,
    "ExecuteTime": {
     "end_time": "2023-10-09T19:38:39.323725500Z",
     "start_time": "2023-10-09T19:38:38.724731Z"
    }
   },
   "outputs": [],
   "source": [
    "# Train\n",
    "train_questions = read_feature_file_as_list('./data/train/train.question')\n",
    "train_answers = read_feature_file_as_list('./data/train/train.answer')\n",
    "train_code = read_feature_file_as_list('./data/train/train.code')\n",
    "train_original_code = read_feature_file_as_list('./data/train/train.code.original')\n",
    "\n",
    "train_pd = pd.DataFrame(\n",
    "    {\n",
    "        'questions': train_questions,\n",
    "        'answers': train_answers,\n",
    "        'code': train_code,\n",
    "        'original_code': train_original_code\n",
    "    }\n",
    ")\n",
    "\n",
    "train_pd.to_csv('./data/train/dataset.csv')"
   ]
  },
  {
   "cell_type": "code",
   "execution_count": 28,
   "outputs": [],
   "source": [
    "# Validate\n",
    "dev_questions = read_feature_file_as_list('./data/dev/dev.question')\n",
    "dev_answers = read_feature_file_as_list('./data/dev/dev.answer')\n",
    "dev_code = read_feature_file_as_list('./data/dev/dev.code')\n",
    "dev_original_code = read_feature_file_as_list('./data/dev/dev.code.original')\n",
    "\n",
    "dev_pd = pd.DataFrame(\n",
    "    {\n",
    "        'questions': dev_questions,\n",
    "        'answers': dev_answers,\n",
    "        'code': dev_code,\n",
    "        'original_code': dev_original_code\n",
    "    }\n",
    ")\n",
    "\n",
    "dev_pd.to_csv('./data/dev/dataset.csv')"
   ],
   "metadata": {
    "collapsed": false,
    "ExecuteTime": {
     "end_time": "2023-10-09T19:44:03.492929300Z",
     "start_time": "2023-10-09T19:44:03.394196800Z"
    }
   }
  },
  {
   "cell_type": "code",
   "execution_count": 29,
   "outputs": [],
   "source": [
    "# Test\n",
    "test_questions = read_feature_file_as_list('./data/test/test.question')\n",
    "test_answers = read_feature_file_as_list('./data/test/test.answer')\n",
    "test_code = read_feature_file_as_list('./data/test/test.code')\n",
    "test_original_code = read_feature_file_as_list('./data/test/test.code.original')\n",
    "\n",
    "test_pd = pd.DataFrame(\n",
    "    {\n",
    "        'questions': test_questions,\n",
    "        'answers': test_answers,\n",
    "        'code': test_code,\n",
    "        'original_code': test_original_code\n",
    "    }\n",
    ")\n",
    "\n",
    "test_pd.to_csv('./data/test/dataset.csv')"
   ],
   "metadata": {
    "collapsed": false,
    "ExecuteTime": {
     "end_time": "2023-10-09T19:45:19.893052200Z",
     "start_time": "2023-10-09T19:45:19.815031200Z"
    }
   }
  },
  {
   "cell_type": "code",
   "execution_count": 1,
   "outputs": [],
   "source": [
    "# JAVA"
   ],
   "metadata": {
    "collapsed": false,
    "ExecuteTime": {
     "end_time": "2023-10-09T19:50:04.853505100Z",
     "start_time": "2023-10-09T19:50:04.842995400Z"
    }
   }
  },
  {
   "cell_type": "code",
   "execution_count": 5,
   "outputs": [],
   "source": [
    "# Train\n",
    "train_java_questions = read_feature_file_as_list('./data/java/train/train.question')\n",
    "train_java_answers = read_feature_file_as_list('./data/java/train/train.answer')\n",
    "train_java_code = read_feature_file_as_list('./data/java/train/train.code')\n",
    "train_java_original_code = read_feature_file_as_list('./data/java/train/train.code.original')\n",
    "\n",
    "train_java_pd = pd.DataFrame(\n",
    "    {\n",
    "        'questions': train_java_questions,\n",
    "        'answers': train_java_answers,\n",
    "        'code': train_java_code,\n",
    "        'original_code': train_java_original_code\n",
    "    }\n",
    ")\n",
    "\n",
    "train_java_pd.to_csv('./data/java/train/dataset.csv')"
   ],
   "metadata": {
    "collapsed": false,
    "ExecuteTime": {
     "end_time": "2023-10-09T19:52:14.032048600Z",
     "start_time": "2023-10-09T19:52:12.450418600Z"
    }
   }
  },
  {
   "cell_type": "code",
   "execution_count": 6,
   "outputs": [],
   "source": [
    "# Validate\n",
    "dev_java_questions = read_feature_file_as_list('./data/java/dev/dev.question')\n",
    "dev_java_answers = read_feature_file_as_list('./data/java/dev/dev.answer')\n",
    "dev_java_code = read_feature_file_as_list('./data/java/dev/dev.code')\n",
    "dev_java_original_code = read_feature_file_as_list('./data/java/dev/dev.code.original')\n",
    "\n",
    "dev_java_pd = pd.DataFrame(\n",
    "    {\n",
    "        'questions': dev_java_questions,\n",
    "        'answers': dev_java_answers,\n",
    "        'code': dev_java_code,\n",
    "        'original_code': dev_java_original_code\n",
    "    }\n",
    ")\n",
    "\n",
    "dev_java_pd.to_csv('./data/java/dev/dataset.csv')"
   ],
   "metadata": {
    "collapsed": false,
    "ExecuteTime": {
     "end_time": "2023-10-09T19:53:26.963673700Z",
     "start_time": "2023-10-09T19:53:26.760640100Z"
    }
   }
  },
  {
   "cell_type": "code",
   "execution_count": 7,
   "outputs": [],
   "source": [
    "# Test\n",
    "test_java_questions = read_feature_file_as_list('./data/java/test/test.question')\n",
    "test_java_answers = read_feature_file_as_list('./data/java/test/test.answer')\n",
    "test_java_code = read_feature_file_as_list('./data/java/test/test.code')\n",
    "test_java_original_code = read_feature_file_as_list('./data/java/test/test.code.original')\n",
    "\n",
    "test_java_pd = pd.DataFrame(\n",
    "    {\n",
    "        'questions': test_java_questions,\n",
    "        'answers': test_java_answers,\n",
    "        'code': test_java_code,\n",
    "        'original_code': test_java_original_code\n",
    "    }\n",
    ")\n",
    "\n",
    "test_java_pd.to_csv('./data/java/test/dataset.csv')"
   ],
   "metadata": {
    "collapsed": false,
    "ExecuteTime": {
     "end_time": "2023-10-09T19:54:17.093977300Z",
     "start_time": "2023-10-09T19:54:16.897009500Z"
    }
   }
  },
  {
   "cell_type": "code",
   "execution_count": null,
   "outputs": [],
   "source": [],
   "metadata": {
    "collapsed": false
   }
  }
 ],
 "metadata": {
  "kernelspec": {
   "display_name": "Python 3",
   "language": "python",
   "name": "python3"
  },
  "language_info": {
   "codemirror_mode": {
    "name": "ipython",
    "version": 2
   },
   "file_extension": ".py",
   "mimetype": "text/x-python",
   "name": "python",
   "nbconvert_exporter": "python",
   "pygments_lexer": "ipython2",
   "version": "2.7.6"
  }
 },
 "nbformat": 4,
 "nbformat_minor": 0
}
